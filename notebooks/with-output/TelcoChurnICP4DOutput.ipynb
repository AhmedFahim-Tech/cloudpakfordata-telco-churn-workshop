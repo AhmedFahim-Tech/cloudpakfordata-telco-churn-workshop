{
 "cells": [
  {
   "cell_type": "markdown",
   "metadata": {},
   "source": [
    "# Telco Customer Churn for ICP4D"
   ]
  },
  {
   "cell_type": "markdown",
   "metadata": {},
   "source": [
    "We'll use this notebook to create a machine learning model to predict customer churn."
   ]
  },
  {
   "cell_type": "markdown",
   "metadata": {},
   "source": [
    "# 1.0 Install required packages"
   ]
  },
  {
   "cell_type": "code",
   "execution_count": 1,
   "metadata": {},
   "outputs": [
    {
     "name": "stdout",
     "output_type": "stream",
     "text": [
      "absl-py==0.7.1\n",
      "alabaster==0.7.12\n",
      "anaconda-client==1.7.2\n",
      "anaconda-navigator==1.9.7\n",
      "anaconda-project==0.8.2\n",
      "asn1crypto==0.24.0\n",
      "astor==0.8.0\n",
      "astroid==2.2.5\n",
      "astropy==3.1.2\n",
      "astunparse==1.6.2\n",
      "atomicwrites==1.3.0\n",
      "attrs==19.1.0\n",
      "autovizwidget==0.12.9\n",
      "Babel==2.7.0\n",
      "backcall==0.1.0\n",
      "backports.os==0.1.1\n",
      "backports.shutil-get-terminal-size==1.0.0\n",
      "beautifulsoup4==4.7.1\n",
      "bitarray==0.9.3\n",
      "bkcharts==0.2\n",
      "blaze==0.11.3\n",
      "bleach==3.1.0\n",
      "blinker==1.4\n",
      "bokeh==1.2.0\n",
      "boto==2.49.0\n",
      "boto3==1.9.163\n",
      "botocore==1.12.163\n",
      "Bottleneck==1.2.1\n",
      "brunel==2.6.2\n",
      "bz2file==0.98\n",
      "cdsax-jupyter-extensions==0.1\n",
      "certifi==2019.3.9\n",
      "cffi==1.12.3\n",
      "chardet==3.0.4\n",
      "Click==7.0\n",
      "clickclick==1.2.2\n",
      "cloudpickle==1.1.1\n",
      "clyent==1.2.2\n",
      "cognitive-assistant==1.0.30\n",
      "colorama==0.4.1\n",
      "colorlover==0.3.0\n",
      "colour==0.1.5\n",
      "conda==4.6.14\n",
      "conda-build==3.18.2\n",
      "conda-package-handling==0+unknown\n",
      "conda-verify==3.1.1\n",
      "connexion==2.2.0\n",
      "contextlib2==0.5.5\n",
      "coverage==4.5.3\n",
      "cryptography==2.7\n",
      "cufflinks==0.15\n",
      "cx-Oracle==7.1.3\n",
      "cycler==0.10.0\n",
      "Cython==0.29.10\n",
      "cytoolz==0.9.0.1\n",
      "dask==1.2.2\n",
      "datashape==0.5.4\n",
      "decorator==4.4.0\n",
      "defusedxml==0.5.0\n",
      "dist-keras==0.2.1\n",
      "distributed==1.28.1\n",
      "docutils==0.14\n",
      "dsnparse==0.1.12\n",
      "dsx-core-utils==0.1\n",
      "dsx-ml==0.1\n",
      "elasticsearch==7.0.2\n",
      "entrypoints==0.3\n",
      "et-xmlfile==1.0.1\n",
      "extension-utils==0.1.31\n",
      "fastcache==1.1.0\n",
      "filelock==3.0.10\n",
      "Flask==1.0.3\n",
      "Flask-Cors==3.0.7\n",
      "future==0.17.1\n",
      "gast==0.2.2\n",
      "gdbn==0.1\n",
      "gensim==3.7.3\n",
      "geojson==2.4.1\n",
      "gevent==1.4.0\n",
      "Ghost.py==0.2.3\n",
      "gitdb2==2.0.5\n",
      "GitPython==2.1.11\n",
      "glob2==0.6\n",
      "gmpy2==2.0.8\n",
      "gnumpy==0.2\n",
      "graphviz==0.8.4\n",
      "greenlet==0.4.15\n",
      "grpcio==1.21.1\n",
      "h2o==3.14.0.6\n",
      "h5py==2.9.0\n",
      "hdijupyterutils==0.12.9\n",
      "heapdict==1.0.0\n",
      "html5lib==1.0.1\n",
      "ibm-cos-sdk==2.5.2\n",
      "ibm-cos-sdk-core==2.5.2\n",
      "ibm-cos-sdk-s3transfer==2.5.2\n",
      "ibm-db==2.0.8a0\n",
      "ibm-db-sa==0.3.5\n",
      "ibm-db-sa-py3==0.3.1.post1\n",
      "ibmdbpy==0.1.5\n",
      "idna==2.8\n",
      "imageio==2.5.0\n",
      "imagesize==1.1.0\n",
      "importlib-metadata==0.17\n",
      "inflection==0.3.1\n",
      "influxdb==5.2.2\n",
      "invoke==1.2.0\n",
      "ipydatawidgets==4.0.0\n",
      "ipykernel==5.1.1\n",
      "ipython==7.5.0\n",
      "ipython-genutils==0.2.0\n",
      "ipyvolume==0.5.1\n",
      "ipywebrtc==0.4.3\n",
      "ipywidgets==7.4.2\n",
      "isort==4.3.20\n",
      "itsdangerous==1.1.0\n",
      "JayDeBeApi==1.1.1\n",
      "jdcal==1.4.1\n",
      "jedi==0.13.3\n",
      "jeepney==0.4\n",
      "Jinja2==2.10.1\n",
      "jmespath==0.9.4\n",
      "joblib==0.13.2\n",
      "JPype1==0.6.3\n",
      "jsonschema==2.6.0\n",
      "jupyter==1.0.0\n",
      "jupyter-client==5.2.4\n",
      "jupyter-console==6.0.0\n",
      "jupyter-core==4.4.0\n",
      "jupyter-pip==0.3.1\n",
      "jupyterlab==0.35.6\n",
      "jupyterlab-launcher==0.13.1\n",
      "jupyterlab-server==0.2.0\n",
      "jwcrypto==0.6.0\n",
      "Keras==2.2.4\n",
      "Keras-Applications==1.0.8\n",
      "Keras-Preprocessing==1.1.0\n",
      "keyring==19.0.2\n",
      "kiwisolver==1.1.0\n",
      "Lasagne==0.2.dev1\n",
      "lazy==1.4\n",
      "lazy-object-proxy==1.4.1\n",
      "libarchive-c==2.8\n",
      "lief==0.9.0\n",
      "lightgbm==2.2.3\n",
      "llvmlite==0.28.0\n",
      "locket==0.2.0\n",
      "lomond==0.3.3\n",
      "lxml==4.3.3\n",
      "Markdown==3.1.1\n",
      "MarkupSafe==1.1.1\n",
      "matplotlib==3.1.0\n",
      "maven-artifact==0.2.0\n",
      "mccabe==0.6.1\n",
      "mistune==0.8.4\n",
      "mkl-fft==1.0.13\n",
      "mkl-random==1.0.4\n",
      "mkl-service==2.1.0\n",
      "ml-algorithms==0.1.0.post201704250259\n",
      "mock==3.0.5\n",
      "more-itertools==4.3.0\n",
      "mpld3==0.3\n",
      "mpmath==1.1.0\n",
      "msgpack==0.6.1\n",
      "multipledispatch==0.6.0\n",
      "mxnet==1.4.1\n",
      "navigator-updater==0.2.1\n",
      "nbbrowserpdf==0.2.0\n",
      "nbconvert==5.5.0\n",
      "nbdime==1.0.6\n",
      "nbformat==4.4.0\n",
      "-e git+https://github.com/jupyter/nbviewer.git@c1a65f15443b832aa96811c8003577a25d53f315#egg=nbviewer\n",
      "networkx==2.3\n",
      "newrelic==4.20.0.120\n",
      "nltk==3.2.5\n",
      "nolearn==0.6.0\n",
      "nose==1.3.7\n",
      "notebook==5.7.0\n",
      "numba==0.43.1\n",
      "numexpr==2.6.9\n",
      "numpy==1.14.6\n",
      "numpydoc==0.9.1\n",
      "oauthlib==3.0.1\n",
      "odo==0.5.1\n",
      "olefile==0.46\n",
      "openapi-spec-validator==0.2.7\n",
      "openpyxl==2.6.1\n",
      "packaging==19.0\n",
      "pandas==0.24.2\n",
      "pandocfilters==1.4.2\n",
      "parso==0.4.0\n",
      "partd==0.3.10\n",
      "path.py==12.0.1\n",
      "pathlib2==2.3.3\n",
      "patsy==0.5.1\n",
      "pep8==1.7.1\n",
      "percentcoding==0.1\n",
      "pexpect==4.7.0\n",
      "pickleshare==0.7.5\n",
      "Pillow==6.0.0\n",
      "pipeline==0.1.264\n",
      "pixiedust==1.1.17\n",
      "pkginfo==1.5.0.1\n",
      "plotly==3.10.0\n",
      "pluggy==0.12.0\n",
      "ply==3.11\n",
      "prometheus-client==0.6.0\n",
      "prompt-toolkit==2.0.9\n",
      "protobuf==3.8.0\n",
      "psutil==5.6.2\n",
      "ptyprocess==0.6.0\n",
      "py==1.8.0\n",
      "py4j==0.10.7\n",
      "pycodestyle==2.5.0\n",
      "pycosat==0.6.3\n",
      "pycparser==2.19\n",
      "pycrypto==2.6.1\n",
      "pycryptodome==3.8.2\n",
      "pycurl==7.43.0.2\n",
      "pyflakes==2.1.1\n",
      "Pygments==2.4.2\n",
      "PyJWT==1.7.1\n",
      "pykerberos==1.2.1\n",
      "pylibmc==1.6.0\n",
      "pylint==2.3.1\n",
      "pylru==1.2.0\n",
      "pymssql==2.1.4\n",
      "pyodbc==4.0.24\n",
      "pyOpenSSL==19.0.0\n",
      "pyparsing==2.4.0\n",
      "PyPDF2==1.26.0\n",
      "pypyodbc==1.3.4\n",
      "pyrsistent==0.15.2\n",
      "PySocks==1.7.0\n",
      "pyspark==2.3.2\n",
      "pytest==4.6.2\n",
      "pytest-arraydiff==0.3\n",
      "pytest-astropy==0.5.0\n",
      "pytest-doctestplus==0.3.0\n",
      "pytest-openfiles==0.3.1\n",
      "pytest-remotedata==0.3.1\n",
      "python-crfsuite==0.9.6\n",
      "python-dateutil==2.8.0\n",
      "pythreejs==2.0.2\n",
      "pytz==2019.1\n",
      "PyWavelets==1.0.3\n",
      "pywebhdfs==0.4.2.dev14\n",
      "PyYAML==5.1\n",
      "pyzmq==18.0.1\n",
      "QtAwesome==0.5.7\n",
      "qtconsole==4.5.1\n",
      "QtPy==1.7.1\n",
      "repository==0.1.999.post201709061126\n",
      "requests==2.22.0\n",
      "requests-kerberos==0.12.0\n",
      "requests-oauthlib==1.2.0\n",
      "retrying==1.3.3\n",
      "rope==0.14.0\n",
      "ruamel-yaml==0.15.71\n",
      "s3transfer==0.2.1\n",
      "scikit-image==0.15.0\n",
      "scikit-learn==0.21.2\n",
      "scipy==1.3.0\n",
      "seaborn==0.9.0\n",
      "SecretStorage==3.1.1\n",
      "Send2Trash==1.5.0\n",
      "simplegeneric==0.8.1\n",
      "singledispatch==3.4.0.3\n",
      "six==1.12.0\n",
      "sklearn-pandas==1.8.0\n",
      "smart-open==1.8.4\n",
      "smmap2==2.0.5\n",
      "snowballstemmer==1.2.1\n",
      "sortedcollections==1.1.2\n",
      "sortedcontainers==2.1.0\n",
      "soupsieve==1.9.1\n",
      "sparkmagic==0.12.9\n",
      "sparkts==0.2.0\n",
      "Sphinx==2.1.0\n",
      "sphinxcontrib-applehelp==1.0.1\n",
      "sphinxcontrib-devhelp==1.0.1\n",
      "sphinxcontrib-htmlhelp==1.0.2\n",
      "sphinxcontrib-jsmath==1.0.1\n",
      "sphinxcontrib-qthelp==1.0.2\n",
      "sphinxcontrib-serializinghtml==1.1.1\n",
      "sphinxcontrib-websupport==1.1.2\n",
      "spyder==3.3.4\n",
      "spyder-kernels==0.4.4\n",
      "SQLAlchemy==1.3.4\n",
      "statsd==3.3.0\n",
      "statsmodels==0.9.0\n",
      "sympy==1.4\n",
      "tables==3.5.2\n",
      "tabulate==0.8.3\n",
      "tblib==1.4.0\n",
      "tensorboard==1.13.1\n",
      "tensorflow==1.13.1\n",
      "tensorflow-estimator==1.13.0\n",
      "termcolor==1.1.0\n",
      "terminado==0.8.2\n",
      "testpath==0.4.2\n",
      "Theano==1.0.4\n",
      "tinydb==3.13.0\n",
      "tinyrecord==0.1.5\n",
      "toolz==0.9.0\n",
      "tornado==5.1.1\n",
      "tqdm==4.32.1\n",
      "traitlets==4.3.2\n",
      "traittypes==0.2.1\n",
      "transformation==0.1.28\n",
      "twython==3.7.0\n",
      "typed-ast==1.3.5\n",
      "typing==3.6.4\n",
      "unicodecsv==0.14.1\n",
      "urllib3==1.24.3\n",
      "util==0.1.25\n",
      "watson-machine-learning-client==1.0.371\n",
      "wcwidth==0.1.7\n",
      "webencodings==0.5.1\n",
      "Werkzeug==0.15.4\n",
      "widgetsnbextension==3.4.2\n",
      "wrapt==1.11.1\n",
      "wurlitzer==1.0.2\n",
      "xgboost==0.90\n",
      "xlrd==1.2.0\n",
      "XlsxWriter==1.1.8\n",
      "xlwt==1.3.0\n",
      "xmltodict==0.12.0\n",
      "zict==0.1.4\n",
      "zipp==0.5.1\n"
     ]
    }
   ],
   "source": [
    "!pip freeze"
   ]
  },
  {
   "cell_type": "code",
   "execution_count": 2,
   "metadata": {},
   "outputs": [
    {
     "name": "stdout",
     "output_type": "stream",
     "text": [
      "Successfully installed watson-machine-learning-client\r\n"
     ]
    }
   ],
   "source": [
    "!pip install --user watson-machine-learning-client --upgrade | tail -n 1"
   ]
  },
  {
   "cell_type": "markdown",
   "metadata": {},
   "source": [
    "# 2.0 Load and Clean data\n",
    "We'll load our data as a pandas data frame.\n",
    "\n",
    "* Highlight the cell below by clicking it.\n",
    "* Click the `10/01` \"Find data\" icon in the upper right of the notebook.\n",
    "* To load the virtualized data created in Exercise-1, choose the `Remote` tab.\n",
    "* Choose your virtualized data (i.e. User<xyz>.billingProductCustomers), click `Insert to code` and choose `Insert Pandas DataFrame`\n",
    "* The code to bring the data into the notebook environment and create a Pandas DataFrame will be added to the cell below.\n",
    "* Run the cell\n"
   ]
  },
  {
   "cell_type": "code",
   "execution_count": 4,
   "metadata": {},
   "outputs": [
    {
     "data": {
      "text/html": [
       "<div>\n",
       "<style scoped>\n",
       "    .dataframe tbody tr th:only-of-type {\n",
       "        vertical-align: middle;\n",
       "    }\n",
       "\n",
       "    .dataframe tbody tr th {\n",
       "        vertical-align: top;\n",
       "    }\n",
       "\n",
       "    .dataframe thead th {\n",
       "        text-align: right;\n",
       "    }\n",
       "</style>\n",
       "<table border=\"1\" class=\"dataframe\">\n",
       "  <thead>\n",
       "    <tr style=\"text-align: right;\">\n",
       "      <th></th>\n",
       "      <th>Churn</th>\n",
       "      <th>Contract</th>\n",
       "      <th>DeviceProtection</th>\n",
       "      <th>InternetService</th>\n",
       "      <th>MonthlyCharges</th>\n",
       "      <th>MultipleLines</th>\n",
       "      <th>OnlineBackup</th>\n",
       "      <th>OnlineSecurity</th>\n",
       "      <th>PaperlessBilling</th>\n",
       "      <th>PaymentMethod</th>\n",
       "      <th>...</th>\n",
       "      <th>StreamingMovies</th>\n",
       "      <th>StreamingTV</th>\n",
       "      <th>TechSupport</th>\n",
       "      <th>TotalCharges</th>\n",
       "      <th>customerID</th>\n",
       "      <th>Dependents</th>\n",
       "      <th>Partner</th>\n",
       "      <th>SeniorCitizen</th>\n",
       "      <th>gender</th>\n",
       "      <th>tenure</th>\n",
       "    </tr>\n",
       "  </thead>\n",
       "  <tbody>\n",
       "    <tr>\n",
       "      <th>0</th>\n",
       "      <td>No</td>\n",
       "      <td>One year</td>\n",
       "      <td>No internet service</td>\n",
       "      <td>No</td>\n",
       "      <td>19.30</td>\n",
       "      <td>No</td>\n",
       "      <td>No internet service</td>\n",
       "      <td>No internet service</td>\n",
       "      <td>No</td>\n",
       "      <td>Credit card (automatic)</td>\n",
       "      <td>...</td>\n",
       "      <td>No internet service</td>\n",
       "      <td>No internet service</td>\n",
       "      <td>No internet service</td>\n",
       "      <td>486.20</td>\n",
       "      <td>9347-AERRL</td>\n",
       "      <td>No</td>\n",
       "      <td>Yes</td>\n",
       "      <td>0</td>\n",
       "      <td>Male</td>\n",
       "      <td>23</td>\n",
       "    </tr>\n",
       "    <tr>\n",
       "      <th>1</th>\n",
       "      <td>Yes</td>\n",
       "      <td>Month-to-month</td>\n",
       "      <td>Yes</td>\n",
       "      <td>Fiber optic</td>\n",
       "      <td>104.50</td>\n",
       "      <td>Yes</td>\n",
       "      <td>Yes</td>\n",
       "      <td>No</td>\n",
       "      <td>Yes</td>\n",
       "      <td>Credit card (automatic)</td>\n",
       "      <td>...</td>\n",
       "      <td>Yes</td>\n",
       "      <td>Yes</td>\n",
       "      <td>No</td>\n",
       "      <td>4036.85</td>\n",
       "      <td>0093-XWZFY</td>\n",
       "      <td>No</td>\n",
       "      <td>No</td>\n",
       "      <td>0</td>\n",
       "      <td>Male</td>\n",
       "      <td>40</td>\n",
       "    </tr>\n",
       "    <tr>\n",
       "      <th>2</th>\n",
       "      <td>No</td>\n",
       "      <td>Two year</td>\n",
       "      <td>Yes</td>\n",
       "      <td>DSL</td>\n",
       "      <td>63.10</td>\n",
       "      <td>No phone service</td>\n",
       "      <td>Yes</td>\n",
       "      <td>Yes</td>\n",
       "      <td>Yes</td>\n",
       "      <td>Bank transfer (automatic)</td>\n",
       "      <td>...</td>\n",
       "      <td>Yes</td>\n",
       "      <td>Yes</td>\n",
       "      <td>Yes</td>\n",
       "      <td>4685.55</td>\n",
       "      <td>2274-XUATA</td>\n",
       "      <td>No</td>\n",
       "      <td>Yes</td>\n",
       "      <td>1</td>\n",
       "      <td>Male</td>\n",
       "      <td>72</td>\n",
       "    </tr>\n",
       "    <tr>\n",
       "      <th>3</th>\n",
       "      <td>Yes</td>\n",
       "      <td>Month-to-month</td>\n",
       "      <td>No</td>\n",
       "      <td>Fiber optic</td>\n",
       "      <td>75.05</td>\n",
       "      <td>Yes</td>\n",
       "      <td>No</td>\n",
       "      <td>No</td>\n",
       "      <td>Yes</td>\n",
       "      <td>Credit card (automatic)</td>\n",
       "      <td>...</td>\n",
       "      <td>No</td>\n",
       "      <td>No</td>\n",
       "      <td>No</td>\n",
       "      <td>256.25</td>\n",
       "      <td>1980-KXVPM</td>\n",
       "      <td>No</td>\n",
       "      <td>No</td>\n",
       "      <td>1</td>\n",
       "      <td>Female</td>\n",
       "      <td>3</td>\n",
       "    </tr>\n",
       "    <tr>\n",
       "      <th>4</th>\n",
       "      <td>Yes</td>\n",
       "      <td>Month-to-month</td>\n",
       "      <td>Yes</td>\n",
       "      <td>Fiber optic</td>\n",
       "      <td>81.00</td>\n",
       "      <td>Yes</td>\n",
       "      <td>No</td>\n",
       "      <td>No</td>\n",
       "      <td>Yes</td>\n",
       "      <td>Electronic check</td>\n",
       "      <td>...</td>\n",
       "      <td>No</td>\n",
       "      <td>No</td>\n",
       "      <td>No</td>\n",
       "      <td>1917.10</td>\n",
       "      <td>7703-ZEKEF</td>\n",
       "      <td>No</td>\n",
       "      <td>No</td>\n",
       "      <td>0</td>\n",
       "      <td>Male</td>\n",
       "      <td>23</td>\n",
       "    </tr>\n",
       "  </tbody>\n",
       "</table>\n",
       "<p>5 rows × 21 columns</p>\n",
       "</div>"
      ],
      "text/plain": [
       "  Churn        Contract     DeviceProtection InternetService  MonthlyCharges  \\\n",
       "0    No        One year  No internet service              No           19.30   \n",
       "1   Yes  Month-to-month                  Yes     Fiber optic          104.50   \n",
       "2    No        Two year                  Yes             DSL           63.10   \n",
       "3   Yes  Month-to-month                   No     Fiber optic           75.05   \n",
       "4   Yes  Month-to-month                  Yes     Fiber optic           81.00   \n",
       "\n",
       "      MultipleLines         OnlineBackup       OnlineSecurity  \\\n",
       "0                No  No internet service  No internet service   \n",
       "1               Yes                  Yes                   No   \n",
       "2  No phone service                  Yes                  Yes   \n",
       "3               Yes                   No                   No   \n",
       "4               Yes                   No                   No   \n",
       "\n",
       "  PaperlessBilling              PaymentMethod  ...      StreamingMovies  \\\n",
       "0               No    Credit card (automatic)  ...  No internet service   \n",
       "1              Yes    Credit card (automatic)  ...                  Yes   \n",
       "2              Yes  Bank transfer (automatic)  ...                  Yes   \n",
       "3              Yes    Credit card (automatic)  ...                   No   \n",
       "4              Yes           Electronic check  ...                   No   \n",
       "\n",
       "           StreamingTV          TechSupport TotalCharges  customerID  \\\n",
       "0  No internet service  No internet service       486.20  9347-AERRL   \n",
       "1                  Yes                   No      4036.85  0093-XWZFY   \n",
       "2                  Yes                  Yes      4685.55  2274-XUATA   \n",
       "3                   No                   No       256.25  1980-KXVPM   \n",
       "4                   No                   No      1917.10  7703-ZEKEF   \n",
       "\n",
       "  Dependents Partner SeniorCitizen  gender tenure  \n",
       "0         No     Yes             0    Male     23  \n",
       "1         No      No             0    Male     40  \n",
       "2         No     Yes             1    Male     72  \n",
       "3         No      No             1  Female      3  \n",
       "4         No      No             0    Male     23  \n",
       "\n",
       "[5 rows x 21 columns]"
      ]
     },
     "execution_count": 4,
     "metadata": {},
     "output_type": "execute_result"
    }
   ],
   "source": [
    "# Place cursor below and insert the Pandas DataFrame for the Telco churn data\n",
    "\n",
    "import dsx_core_utils, requests, jaydebeapi, os, io, sys\n",
    "from pyspark.sql import SparkSession\n",
    "import pandas as pd\n",
    "df2 = None\n",
    "dataSet = dsx_core_utils.get_remote_data_set_info('USER999.billing+products+customer')\n",
    "dataSource = dsx_core_utils.get_data_source_info(dataSet['datasource'])\n",
    "if (sys.version_info >= (3, 0)):\n",
    "  conn = jaydebeapi.connect(dataSource['driver_class'], dataSource['URL'], [dataSource['user'], dataSource['password']])\n",
    "else:\n",
    "  conn = jaydebeapi.connect(dataSource['driver_class'], [dataSource['URL'], dataSource['user'], dataSource['password']])\n",
    "query = 'select * from \"' + (dataSet['schema'] + '\".\"' if (len(dataSet['schema'].strip()) != 0) else '') +  dataSet['table'] + '\"'\n",
    "\n",
    "if (dataSet['query']):\n",
    "    query = dataSet['query']\n",
    "df2 = pd.read_sql(query, con=conn)\n",
    "df2.head()\n",
    "\n",
    "\n"
   ]
  },
  {
   "cell_type": "markdown",
   "metadata": {},
   "source": [
    "We'll use the Pandas naming convention `df` for our DataFrame.  Make sure that the cell below uses the name for the dataframe used above, i.e df1, df2,... dfX."
   ]
  },
  {
   "cell_type": "code",
   "execution_count": 5,
   "metadata": {},
   "outputs": [],
   "source": [
    "df = df2"
   ]
  },
  {
   "cell_type": "markdown",
   "metadata": {},
   "source": [
    "### 2.1 Drop CustomerID feature (column)"
   ]
  },
  {
   "cell_type": "code",
   "execution_count": 6,
   "metadata": {},
   "outputs": [
    {
     "data": {
      "text/html": [
       "<div>\n",
       "<style scoped>\n",
       "    .dataframe tbody tr th:only-of-type {\n",
       "        vertical-align: middle;\n",
       "    }\n",
       "\n",
       "    .dataframe tbody tr th {\n",
       "        vertical-align: top;\n",
       "    }\n",
       "\n",
       "    .dataframe thead th {\n",
       "        text-align: right;\n",
       "    }\n",
       "</style>\n",
       "<table border=\"1\" class=\"dataframe\">\n",
       "  <thead>\n",
       "    <tr style=\"text-align: right;\">\n",
       "      <th></th>\n",
       "      <th>Churn</th>\n",
       "      <th>Contract</th>\n",
       "      <th>DeviceProtection</th>\n",
       "      <th>InternetService</th>\n",
       "      <th>MonthlyCharges</th>\n",
       "      <th>MultipleLines</th>\n",
       "      <th>OnlineBackup</th>\n",
       "      <th>OnlineSecurity</th>\n",
       "      <th>PaperlessBilling</th>\n",
       "      <th>PaymentMethod</th>\n",
       "      <th>PhoneService</th>\n",
       "      <th>StreamingMovies</th>\n",
       "      <th>StreamingTV</th>\n",
       "      <th>TechSupport</th>\n",
       "      <th>TotalCharges</th>\n",
       "      <th>Dependents</th>\n",
       "      <th>Partner</th>\n",
       "      <th>SeniorCitizen</th>\n",
       "      <th>gender</th>\n",
       "      <th>tenure</th>\n",
       "    </tr>\n",
       "  </thead>\n",
       "  <tbody>\n",
       "    <tr>\n",
       "      <th>0</th>\n",
       "      <td>No</td>\n",
       "      <td>One year</td>\n",
       "      <td>No internet service</td>\n",
       "      <td>No</td>\n",
       "      <td>19.30</td>\n",
       "      <td>No</td>\n",
       "      <td>No internet service</td>\n",
       "      <td>No internet service</td>\n",
       "      <td>No</td>\n",
       "      <td>Credit card (automatic)</td>\n",
       "      <td>Yes</td>\n",
       "      <td>No internet service</td>\n",
       "      <td>No internet service</td>\n",
       "      <td>No internet service</td>\n",
       "      <td>486.20</td>\n",
       "      <td>No</td>\n",
       "      <td>Yes</td>\n",
       "      <td>0</td>\n",
       "      <td>Male</td>\n",
       "      <td>23</td>\n",
       "    </tr>\n",
       "    <tr>\n",
       "      <th>1</th>\n",
       "      <td>Yes</td>\n",
       "      <td>Month-to-month</td>\n",
       "      <td>Yes</td>\n",
       "      <td>Fiber optic</td>\n",
       "      <td>104.50</td>\n",
       "      <td>Yes</td>\n",
       "      <td>Yes</td>\n",
       "      <td>No</td>\n",
       "      <td>Yes</td>\n",
       "      <td>Credit card (automatic)</td>\n",
       "      <td>Yes</td>\n",
       "      <td>Yes</td>\n",
       "      <td>Yes</td>\n",
       "      <td>No</td>\n",
       "      <td>4036.85</td>\n",
       "      <td>No</td>\n",
       "      <td>No</td>\n",
       "      <td>0</td>\n",
       "      <td>Male</td>\n",
       "      <td>40</td>\n",
       "    </tr>\n",
       "    <tr>\n",
       "      <th>2</th>\n",
       "      <td>No</td>\n",
       "      <td>Two year</td>\n",
       "      <td>Yes</td>\n",
       "      <td>DSL</td>\n",
       "      <td>63.10</td>\n",
       "      <td>No phone service</td>\n",
       "      <td>Yes</td>\n",
       "      <td>Yes</td>\n",
       "      <td>Yes</td>\n",
       "      <td>Bank transfer (automatic)</td>\n",
       "      <td>No</td>\n",
       "      <td>Yes</td>\n",
       "      <td>Yes</td>\n",
       "      <td>Yes</td>\n",
       "      <td>4685.55</td>\n",
       "      <td>No</td>\n",
       "      <td>Yes</td>\n",
       "      <td>1</td>\n",
       "      <td>Male</td>\n",
       "      <td>72</td>\n",
       "    </tr>\n",
       "    <tr>\n",
       "      <th>3</th>\n",
       "      <td>Yes</td>\n",
       "      <td>Month-to-month</td>\n",
       "      <td>No</td>\n",
       "      <td>Fiber optic</td>\n",
       "      <td>75.05</td>\n",
       "      <td>Yes</td>\n",
       "      <td>No</td>\n",
       "      <td>No</td>\n",
       "      <td>Yes</td>\n",
       "      <td>Credit card (automatic)</td>\n",
       "      <td>Yes</td>\n",
       "      <td>No</td>\n",
       "      <td>No</td>\n",
       "      <td>No</td>\n",
       "      <td>256.25</td>\n",
       "      <td>No</td>\n",
       "      <td>No</td>\n",
       "      <td>1</td>\n",
       "      <td>Female</td>\n",
       "      <td>3</td>\n",
       "    </tr>\n",
       "    <tr>\n",
       "      <th>4</th>\n",
       "      <td>Yes</td>\n",
       "      <td>Month-to-month</td>\n",
       "      <td>Yes</td>\n",
       "      <td>Fiber optic</td>\n",
       "      <td>81.00</td>\n",
       "      <td>Yes</td>\n",
       "      <td>No</td>\n",
       "      <td>No</td>\n",
       "      <td>Yes</td>\n",
       "      <td>Electronic check</td>\n",
       "      <td>Yes</td>\n",
       "      <td>No</td>\n",
       "      <td>No</td>\n",
       "      <td>No</td>\n",
       "      <td>1917.10</td>\n",
       "      <td>No</td>\n",
       "      <td>No</td>\n",
       "      <td>0</td>\n",
       "      <td>Male</td>\n",
       "      <td>23</td>\n",
       "    </tr>\n",
       "  </tbody>\n",
       "</table>\n",
       "</div>"
      ],
      "text/plain": [
       "  Churn        Contract     DeviceProtection InternetService  MonthlyCharges  \\\n",
       "0    No        One year  No internet service              No           19.30   \n",
       "1   Yes  Month-to-month                  Yes     Fiber optic          104.50   \n",
       "2    No        Two year                  Yes             DSL           63.10   \n",
       "3   Yes  Month-to-month                   No     Fiber optic           75.05   \n",
       "4   Yes  Month-to-month                  Yes     Fiber optic           81.00   \n",
       "\n",
       "      MultipleLines         OnlineBackup       OnlineSecurity  \\\n",
       "0                No  No internet service  No internet service   \n",
       "1               Yes                  Yes                   No   \n",
       "2  No phone service                  Yes                  Yes   \n",
       "3               Yes                   No                   No   \n",
       "4               Yes                   No                   No   \n",
       "\n",
       "  PaperlessBilling              PaymentMethod PhoneService  \\\n",
       "0               No    Credit card (automatic)          Yes   \n",
       "1              Yes    Credit card (automatic)          Yes   \n",
       "2              Yes  Bank transfer (automatic)           No   \n",
       "3              Yes    Credit card (automatic)          Yes   \n",
       "4              Yes           Electronic check          Yes   \n",
       "\n",
       "       StreamingMovies          StreamingTV          TechSupport  \\\n",
       "0  No internet service  No internet service  No internet service   \n",
       "1                  Yes                  Yes                   No   \n",
       "2                  Yes                  Yes                  Yes   \n",
       "3                   No                   No                   No   \n",
       "4                   No                   No                   No   \n",
       "\n",
       "   TotalCharges Dependents Partner  SeniorCitizen  gender  tenure  \n",
       "0        486.20         No     Yes              0    Male      23  \n",
       "1       4036.85         No      No              0    Male      40  \n",
       "2       4685.55         No     Yes              1    Male      72  \n",
       "3        256.25         No      No              1  Female       3  \n",
       "4       1917.10         No      No              0    Male      23  "
      ]
     },
     "execution_count": 6,
     "metadata": {},
     "output_type": "execute_result"
    }
   ],
   "source": [
    "df = df.drop('customerID', axis=1)\n",
    "df.head(5)"
   ]
  },
  {
   "cell_type": "markdown",
   "metadata": {},
   "source": [
    "### 2.2 Examine the data types of the features"
   ]
  },
  {
   "cell_type": "code",
   "execution_count": 7,
   "metadata": {},
   "outputs": [
    {
     "name": "stdout",
     "output_type": "stream",
     "text": [
      "<class 'pandas.core.frame.DataFrame'>\n",
      "RangeIndex: 7043 entries, 0 to 7042\n",
      "Data columns (total 20 columns):\n",
      "Churn               7043 non-null object\n",
      "Contract            7043 non-null object\n",
      "DeviceProtection    7043 non-null object\n",
      "InternetService     7043 non-null object\n",
      "MonthlyCharges      7043 non-null float64\n",
      "MultipleLines       7043 non-null object\n",
      "OnlineBackup        7043 non-null object\n",
      "OnlineSecurity      7043 non-null object\n",
      "PaperlessBilling    7043 non-null object\n",
      "PaymentMethod       7043 non-null object\n",
      "PhoneService        7043 non-null object\n",
      "StreamingMovies     7043 non-null object\n",
      "StreamingTV         7043 non-null object\n",
      "TechSupport         7043 non-null object\n",
      "TotalCharges        7032 non-null float64\n",
      "Dependents          7043 non-null object\n",
      "Partner             7043 non-null object\n",
      "SeniorCitizen       7043 non-null int64\n",
      "gender              7043 non-null object\n",
      "tenure              7043 non-null int64\n",
      "dtypes: float64(2), int64(2), object(16)\n",
      "memory usage: 1.1+ MB\n"
     ]
    }
   ],
   "source": [
    "df.info()"
   ]
  },
  {
   "cell_type": "markdown",
   "metadata": {},
   "source": [
    "### 2.3 Any NaN values should be removed to create a more accurate model. Prior examination shows NaN values for `TotalCharges`"
   ]
  },
  {
   "cell_type": "code",
   "execution_count": 8,
   "metadata": {},
   "outputs": [
    {
     "data": {
      "text/plain": [
       "True"
      ]
     },
     "execution_count": 8,
     "metadata": {},
     "output_type": "execute_result"
    }
   ],
   "source": [
    "# Check if we have any NaN values\n",
    "df.isnull().values.any()"
   ]
  },
  {
   "cell_type": "markdown",
   "metadata": {},
   "source": [
    "Set `nan_column` to the column number for TotalCharges (starting at 0)."
   ]
  },
  {
   "cell_type": "code",
   "execution_count": 9,
   "metadata": {},
   "outputs": [
    {
     "name": "stdout",
     "output_type": "stream",
     "text": [
      "14\n"
     ]
    }
   ],
   "source": [
    "nan_column = df.columns.get_loc(\"TotalCharges\")\n",
    "print(nan_column)"
   ]
  },
  {
   "cell_type": "code",
   "execution_count": 10,
   "metadata": {},
   "outputs": [],
   "source": [
    "# Handle missing values for nan_column (TotalCharges)\n",
    "\n",
    "from sklearn.preprocessing import Imputer\n",
    "\n",
    "imp = Imputer(missing_values=\"NaN\", strategy=\"mean\")\n",
    "\n",
    "df.iloc[:, nan_column] = imp.fit_transform(df.iloc[:, nan_column].values.reshape(-1, 1))\n",
    "df.iloc[:, nan_column] = pd.Series(df.iloc[:, nan_column])"
   ]
  },
  {
   "cell_type": "code",
   "execution_count": 11,
   "metadata": {},
   "outputs": [
    {
     "data": {
      "text/plain": [
       "False"
      ]
     },
     "execution_count": 11,
     "metadata": {},
     "output_type": "execute_result"
    }
   ],
   "source": [
    "# Check if we have any NaN values\n",
    "df.isnull().values.any()"
   ]
  },
  {
   "cell_type": "markdown",
   "metadata": {},
   "source": [
    "# 3.0 Create a model"
   ]
  },
  {
   "cell_type": "code",
   "execution_count": 12,
   "metadata": {},
   "outputs": [
    {
     "data": {
      "text/plain": [
       "Row(Churn='No', Contract='One year', DeviceProtection='No internet service', InternetService='No', MonthlyCharges=19.3, MultipleLines='No', OnlineBackup='No internet service', OnlineSecurity='No internet service', PaperlessBilling='No', PaymentMethod='Credit card (automatic)', PhoneService='Yes', StreamingMovies='No internet service', StreamingTV='No internet service', TechSupport='No internet service', TotalCharges=486.2, Dependents='No', Partner='Yes', SeniorCitizen=0, gender='Male', tenure=23)"
      ]
     },
     "execution_count": 12,
     "metadata": {},
     "output_type": "execute_result"
    }
   ],
   "source": [
    "from pyspark.sql import SparkSession\n",
    "import pandas as pd\n",
    "import json\n",
    "\n",
    "spark = SparkSession.builder.getOrCreate()\n",
    "df_data = spark.createDataFrame(df)\n",
    "df_data.head()"
   ]
  },
  {
   "cell_type": "markdown",
   "metadata": {},
   "source": [
    "### 3.1 Split the data into training and test sets"
   ]
  },
  {
   "cell_type": "code",
   "execution_count": 13,
   "metadata": {},
   "outputs": [
    {
     "name": "stdout",
     "output_type": "stream",
     "text": [
      "Number of records for training: 5631\n",
      "Number of records for evaluation: 1412\n"
     ]
    }
   ],
   "source": [
    "spark_df = df_data\n",
    "(train_data, test_data) = spark_df.randomSplit([0.8, 0.2], 24)\n",
    "\n",
    "print(\"Number of records for training: \" + str(train_data.count()))\n",
    "print(\"Number of records for evaluation: \" + str(test_data.count()))"
   ]
  },
  {
   "cell_type": "markdown",
   "metadata": {},
   "source": [
    "### 3.2 Examine the Spark DataFrame Schema\n",
    "Look at the data types to determine requirements for feature engineering"
   ]
  },
  {
   "cell_type": "code",
   "execution_count": 14,
   "metadata": {},
   "outputs": [
    {
     "name": "stdout",
     "output_type": "stream",
     "text": [
      "root\n",
      " |-- Churn: string (nullable = true)\n",
      " |-- Contract: string (nullable = true)\n",
      " |-- DeviceProtection: string (nullable = true)\n",
      " |-- InternetService: string (nullable = true)\n",
      " |-- MonthlyCharges: double (nullable = true)\n",
      " |-- MultipleLines: string (nullable = true)\n",
      " |-- OnlineBackup: string (nullable = true)\n",
      " |-- OnlineSecurity: string (nullable = true)\n",
      " |-- PaperlessBilling: string (nullable = true)\n",
      " |-- PaymentMethod: string (nullable = true)\n",
      " |-- PhoneService: string (nullable = true)\n",
      " |-- StreamingMovies: string (nullable = true)\n",
      " |-- StreamingTV: string (nullable = true)\n",
      " |-- TechSupport: string (nullable = true)\n",
      " |-- TotalCharges: double (nullable = true)\n",
      " |-- Dependents: string (nullable = true)\n",
      " |-- Partner: string (nullable = true)\n",
      " |-- SeniorCitizen: long (nullable = true)\n",
      " |-- gender: string (nullable = true)\n",
      " |-- tenure: long (nullable = true)\n",
      "\n"
     ]
    }
   ],
   "source": [
    "spark_df.printSchema()"
   ]
  },
  {
   "cell_type": "markdown",
   "metadata": {},
   "source": [
    "### 3.3 Use StringIndexer to encodes a string column of labels to a column of label indices"
   ]
  },
  {
   "cell_type": "code",
   "execution_count": 15,
   "metadata": {},
   "outputs": [],
   "source": [
    "from pyspark.ml.classification import RandomForestClassifier\n",
    "from pyspark.ml.feature import StringIndexer, IndexToString, VectorAssembler\n",
    "from pyspark.ml.evaluation import BinaryClassificationEvaluator\n",
    "from pyspark.ml import Pipeline, Model\n",
    "\n",
    "\n",
    "si_gender = StringIndexer(inputCol = 'gender', outputCol = 'gender_IX')\n",
    "si_Partner = StringIndexer(inputCol = 'Partner', outputCol = 'Partner_IX')\n",
    "si_Dependents = StringIndexer(inputCol = 'Dependents', outputCol = 'Dependents_IX')\n",
    "si_PhoneService = StringIndexer(inputCol = 'PhoneService', outputCol = 'PhoneService_IX')\n",
    "si_MultipleLines = StringIndexer(inputCol = 'MultipleLines', outputCol = 'MultipleLines_IX')\n",
    "si_InternetService = StringIndexer(inputCol = 'InternetService', outputCol = 'InternetService_IX')\n",
    "si_OnlineSecurity = StringIndexer(inputCol = 'OnlineSecurity', outputCol = 'OnlineSecurity_IX')\n",
    "si_OnlineBackup = StringIndexer(inputCol = 'OnlineBackup', outputCol = 'OnlineBackup_IX')\n",
    "si_DeviceProtection = StringIndexer(inputCol = 'DeviceProtection', outputCol = 'DeviceProtection_IX')\n",
    "si_TechSupport = StringIndexer(inputCol = 'TechSupport', outputCol = 'TechSupport_IX')\n",
    "si_StreamingTV = StringIndexer(inputCol = 'StreamingTV', outputCol = 'StreamingTV_IX')\n",
    "si_StreamingMovies = StringIndexer(inputCol = 'StreamingMovies', outputCol = 'StreamingMovies_IX')\n",
    "si_Contract = StringIndexer(inputCol = 'Contract', outputCol = 'Contract_IX')\n",
    "si_PaperlessBilling = StringIndexer(inputCol = 'PaperlessBilling', outputCol = 'PaperlessBilling_IX')\n",
    "si_PaymentMethod = StringIndexer(inputCol = 'PaymentMethod', outputCol = 'PaymentMethod_IX')\n"
   ]
  },
  {
   "cell_type": "code",
   "execution_count": 16,
   "metadata": {},
   "outputs": [],
   "source": [
    "si_Label = StringIndexer(inputCol=\"Churn\", outputCol=\"label\").fit(spark_df)\n",
    "label_converter = IndexToString(inputCol=\"prediction\", outputCol=\"predictedLabel\", labels=si_Label.labels)"
   ]
  },
  {
   "cell_type": "markdown",
   "metadata": {},
   "source": [
    "### 3.4 Create a single vector"
   ]
  },
  {
   "cell_type": "code",
   "execution_count": 17,
   "metadata": {},
   "outputs": [],
   "source": [
    "va_features = VectorAssembler(inputCols=['gender_IX',  'SeniorCitizen', 'Partner_IX', 'Dependents_IX', 'PhoneService_IX', 'MultipleLines_IX', 'InternetService_IX', \\\n",
    "                                         'OnlineSecurity_IX', 'OnlineBackup_IX', 'DeviceProtection_IX', 'TechSupport_IX', 'StreamingTV_IX', 'StreamingMovies_IX', \\\n",
    "                                         'Contract_IX', 'PaperlessBilling_IX', 'PaymentMethod_IX', 'TotalCharges', 'MonthlyCharges'], outputCol=\"features\")"
   ]
  },
  {
   "cell_type": "markdown",
   "metadata": {},
   "source": [
    "### 3.5 Create a pipeline, and fit a model using RandomForestClassifier \n",
    "Assemble all the stages into a pipeline. We don't expect a clean linear regression, so we'll use RandomForestClassifier to find the best decision tree for the data."
   ]
  },
  {
   "cell_type": "code",
   "execution_count": 18,
   "metadata": {},
   "outputs": [],
   "source": [
    "classifier = RandomForestClassifier(featuresCol=\"features\")\n",
    "\n",
    "pipeline = Pipeline(stages=[si_gender, si_Partner, si_Dependents, si_PhoneService, si_MultipleLines, si_InternetService, si_OnlineSecurity, si_OnlineBackup, si_DeviceProtection, \\\n",
    "                            si_TechSupport, si_StreamingTV, si_StreamingMovies, si_Contract, si_PaperlessBilling, si_PaymentMethod, si_Label, va_features, \\\n",
    "                            classifier, label_converter])\n",
    "\n",
    "model = pipeline.fit(train_data)"
   ]
  },
  {
   "cell_type": "code",
   "execution_count": 19,
   "metadata": {},
   "outputs": [
    {
     "name": "stdout",
     "output_type": "stream",
     "text": [
      "areaUnderROC = 0.680748\n"
     ]
    }
   ],
   "source": [
    "predictions = model.transform(test_data)\n",
    "evaluatorDT = BinaryClassificationEvaluator(rawPredictionCol=\"prediction\")\n",
    "area_under_curve = evaluatorDT.evaluate(predictions)\n",
    "\n",
    "#default evaluation is areaUnderROC\n",
    "print(\"areaUnderROC = %g\" % area_under_curve)"
   ]
  },
  {
   "cell_type": "markdown",
   "metadata": {},
   "source": [
    "# 4.0 Save test data"
   ]
  },
  {
   "cell_type": "markdown",
   "metadata": {},
   "source": [
    "Add a unique name for MODEL_NAME and DEPLOYMENT_NAME"
   ]
  },
  {
   "cell_type": "code",
   "execution_count": 20,
   "metadata": {},
   "outputs": [],
   "source": [
    "MODEL_NAME = \"my_name telco churn model\"\n",
    "DEPLOYMENT_NAME = \"my_name deployment\""
   ]
  },
  {
   "cell_type": "markdown",
   "metadata": {},
   "source": [
    "### 4.1 Write the test data without label to a .csv so that we can later use it for batch scoring"
   ]
  },
  {
   "cell_type": "code",
   "execution_count": 21,
   "metadata": {},
   "outputs": [],
   "source": [
    "write_score_CSV=test_data.toPandas().drop(['Churn'], axis=1)\n",
    "write_score_CSV.to_csv('../datasets/TelcoCustomerSparkMLBatchScore.csv', sep=',', index=False)"
   ]
  },
  {
   "cell_type": "markdown",
   "metadata": {},
   "source": [
    "### 4.2 Write the test data to a .csv so that we can later use it for evaluation"
   ]
  },
  {
   "cell_type": "code",
   "execution_count": 22,
   "metadata": {},
   "outputs": [],
   "source": [
    "write_eval_CSV=test_data.toPandas()\n",
    "write_eval_CSV.to_csv('../datasets/TelcoCustomerSparkMLEval.csv', sep=',', index=False)"
   ]
  },
  {
   "cell_type": "markdown",
   "metadata": {},
   "source": [
    "# 5.0 Deploy the model to Watson Machine Learning"
   ]
  },
  {
   "cell_type": "markdown",
   "metadata": {},
   "source": [
    "### 5.1 Set up Watson Machine Learning client to communicate with Cloud Pak for Data"
   ]
  },
  {
   "cell_type": "code",
   "execution_count": 23,
   "metadata": {},
   "outputs": [],
   "source": [
    "from watson_machine_learning_client import WatsonMachineLearningAPIClient"
   ]
  },
  {
   "cell_type": "code",
   "execution_count": 25,
   "metadata": {},
   "outputs": [
    {
     "name": "stdout",
     "output_type": "stream",
     "text": [
      "<watson_machine_learning_client.client.WatsonMachineLearningAPIClient object at 0x7f9eb1a134a8>\n"
     ]
    }
   ],
   "source": [
    "wml_credentials = {\n",
    "  \"url\": \"https://w.x.y.z\",\n",
    "  \"instance_id\": \"icp\",\n",
    "  \"username\": \"uname\",\n",
    "  \"password\": \"password\"\n",
    "}\n",
    "\n",
    "client = WatsonMachineLearningAPIClient(wml_credentials)\n",
    "print(client)"
   ]
  },
  {
   "cell_type": "markdown",
   "metadata": {},
   "source": [
    "## 5.2 List existing deployments and models"
   ]
  },
  {
   "cell_type": "code",
   "execution_count": 26,
   "metadata": {},
   "outputs": [
    {
     "name": "stdout",
     "output_type": "stream",
     "text": [
      "------------------------------------  ------------------------  ------------------------  ---------\n",
      "GUID                                  NAME                      CREATED                   FRAMEWORK\n",
      "dc4ebfa4-5b58-4567-8936-2291e0b022e0  telco churn model         2019-09-16T15:08:57.382Z  mllib-2.3\n",
      "82eaa056-5cb2-421b-866f-1b15f1d5a6db  GermanCreditRiskModelICP  2019-09-12T15:54:52.494Z  mllib-2.3\n",
      "------------------------------------  ------------------------  ------------------------  ---------\n",
      "------------------------------------  ----------------------------  ------  --------------  ------------------------  ---------  -------------\n",
      "GUID                                  NAME                          TYPE    STATE           CREATED                   FRAMEWORK  ARTIFACT TYPE\n",
      "f8e6e947-4088-48fa-82d8-dd6c9832b39b  telco churn model deployment  online  DEPLOY_SUCCESS  2019-09-16T15:10:26.736Z  mllib-2.3  model\n",
      "4f74117f-d8be-4df6-b874-b57f5a5ea8e0  GermanCreditRiskModelICP      online  DEPLOY_SUCCESS  2019-09-12T15:54:59.360Z  mllib-2.3  model\n",
      "------------------------------------  ----------------------------  ------  --------------  ------------------------  ---------  -------------\n"
     ]
    }
   ],
   "source": [
    "client.repository.list_models()\n",
    "client.deployments.list()"
   ]
  },
  {
   "cell_type": "markdown",
   "metadata": {},
   "source": [
    "### 5.3 Save model to Watson Machine Learning client"
   ]
  },
  {
   "cell_type": "code",
   "execution_count": 27,
   "metadata": {},
   "outputs": [],
   "source": [
    "model_props = {client.repository.ModelMetaNames.AUTHOR_NAME: \"IBM\",\n",
    "               client.repository.ModelMetaNames.NAME: MODEL_NAME}\n",
    "stored_model = client.repository.store_model(model=model, pipeline=pipeline, meta_props=model_props, training_data=train_data)"
   ]
  },
  {
   "cell_type": "markdown",
   "metadata": {},
   "source": [
    "### 5.4 Deploy the model to Watson Machine Learning"
   ]
  },
  {
   "cell_type": "code",
   "execution_count": 28,
   "metadata": {},
   "outputs": [
    {
     "name": "stdout",
     "output_type": "stream",
     "text": [
      "16d70431-920e-4f8e-b042-eece5aeab428\n"
     ]
    }
   ],
   "source": [
    "model_uid = client.repository.get_model_uid(stored_model)\n",
    "print(model_uid)"
   ]
  },
  {
   "cell_type": "code",
   "execution_count": 29,
   "metadata": {},
   "outputs": [
    {
     "name": "stdout",
     "output_type": "stream",
     "text": [
      "\n",
      "\n",
      "#######################################################################################\n",
      "\n",
      "Synchronous deployment creation for uid: '16d70431-920e-4f8e-b042-eece5aeab428' started\n",
      "\n",
      "#######################################################################################\n",
      "\n",
      "\n",
      "INITIALIZING\n",
      "DEPLOY_IN_PROGRESS\n",
      "DEPLOY_SUCCESS\n",
      "\n",
      "\n",
      "------------------------------------------------------------------------------------------------\n",
      "Successfully finished deployment creation, deployment_uid='99c87329-eb48-4a61-b50b-c174280d8c84'\n",
      "------------------------------------------------------------------------------------------------\n",
      "\n",
      "\n",
      "------------------------------------  -------------------------  ------------------------  ---------\n",
      "GUID                                  NAME                       CREATED                   FRAMEWORK\n",
      "16d70431-920e-4f8e-b042-eece5aeab428  scottda telco churn model  2019-09-16T20:13:36.496Z  mllib-2.3\n",
      "dc4ebfa4-5b58-4567-8936-2291e0b022e0  telco churn model          2019-09-16T15:08:57.382Z  mllib-2.3\n",
      "82eaa056-5cb2-421b-866f-1b15f1d5a6db  GermanCreditRiskModelICP   2019-09-12T15:54:52.494Z  mllib-2.3\n",
      "------------------------------------  -------------------------  ------------------------  ---------\n",
      "------------------------------------  ------------------------------------  ------  --------------  ------------------------  ---------  -------------\n",
      "GUID                                  NAME                                  TYPE    STATE           CREATED                   FRAMEWORK  ARTIFACT TYPE\n",
      "99c87329-eb48-4a61-b50b-c174280d8c84  scottda telco churn model deployment  online  DEPLOY_SUCCESS  2019-09-16T20:14:10.920Z  mllib-2.3  model\n",
      "f8e6e947-4088-48fa-82d8-dd6c9832b39b  telco churn model deployment          online  DEPLOY_SUCCESS  2019-09-16T15:10:26.736Z  mllib-2.3  model\n",
      "4f74117f-d8be-4df6-b874-b57f5a5ea8e0  GermanCreditRiskModelICP              online  DEPLOY_SUCCESS  2019-09-12T15:54:59.360Z  mllib-2.3  model\n",
      "------------------------------------  ------------------------------------  ------  --------------  ------------------------  ---------  -------------\n"
     ]
    }
   ],
   "source": [
    "created_deployment = client.deployments.create(model_uid, name=MODEL_NAME + \" deployment\")\n",
    "client.repository.list_models()\n",
    "client.deployments.list()"
   ]
  },
  {
   "cell_type": "markdown",
   "metadata": {},
   "source": [
    "## Congratulations, you have created a model based on customer churn data, and deployed it to Watson Machine Learning!"
   ]
  }
 ],
 "metadata": {
  "kernelspec": {
   "display_name": "Python3.6",
   "language": "python",
   "name": "python3"
  },
  "language_info": {
   "codemirror_mode": {
    "name": "ipython",
    "version": 3
   },
   "file_extension": ".py",
   "mimetype": "text/x-python",
   "name": "python",
   "nbconvert_exporter": "python",
   "pygments_lexer": "ipython3",
   "version": "3.6.7"
  }
 },
 "nbformat": 4,
 "nbformat_minor": 1
}
