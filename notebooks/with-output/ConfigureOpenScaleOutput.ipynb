{
 "cells": [
  {
   "cell_type": "markdown",
   "metadata": {},
   "source": [
    "<img src=\"https://github.com/pmservice/ai-openscale-tutorials/raw/master/notebooks/images/banner.png\" align=\"left\" alt=\"banner\">"
   ]
  },
  {
   "cell_type": "markdown",
   "metadata": {},
   "source": [
    "# Working with Watson Machine Learning"
   ]
  },
  {
   "cell_type": "markdown",
   "metadata": {},
   "source": [
    "The notebook will train, create and deploy a Credit Risk model, configure OpenScale to monitor that deployment, and inject seven days' worth of historical records and measurements for viewing in the OpenScale Insights dashboard."
   ]
  },
  {
   "cell_type": "markdown",
   "metadata": {},
   "source": [
    "### Contents\n",
    "\n",
    "- [Setup](#setup)\n",
    "- [Model building and deployment](#model)\n",
    "- [OpenScale configuration](#openscale)\n",
    "- [Quality monitor and feedback logging](#quality)\n",
    "- [Fairness monitoring and explanations](#fairness)\n",
    "- [Custom monitors and metrics](#custom)\n",
    "- [Payload analytics](#analytics)\n",
    "- [Historical data](#historical)"
   ]
  },
  {
   "cell_type": "markdown",
   "metadata": {},
   "source": [
    "# 1.0 Setup <a name=\"setup\"></a>"
   ]
  },
  {
   "cell_type": "markdown",
   "metadata": {
    "collapsed": true
   },
   "source": [
    "## 1.1 Package installation"
   ]
  },
  {
   "cell_type": "code",
   "execution_count": 1,
   "metadata": {},
   "outputs": [
    {
     "name": "stdout",
     "output_type": "stream",
     "text": [
      "Requirement already satisfied, skipping upgrade: idna<2.9,>=2.5 in /opt/conda3/lib/python3.6/site-packages (from requests->ibm-ai-openscale) (2.8)\r\n"
     ]
    }
   ],
   "source": [
    "!pip install --upgrade ibm-ai-openscale --no-cache --user | tail -n 1"
   ]
  },
  {
   "cell_type": "markdown",
   "metadata": {},
   "source": [
    "### Action: restart the kernel!"
   ]
  },
  {
   "cell_type": "markdown",
   "metadata": {},
   "source": [
    "## 1.2 Configure credentials"
   ]
  },
  {
   "cell_type": "markdown",
   "metadata": {
    "scrolled": true
   },
   "source": [
    "- WOS_CREDENTIALS (ICP)\n",
    "- WML_CREDENTIALS (ICP)\n",
    "- DATABASE_CREDENTIALS (DB2 on ICP)\n",
    "- SCHEMA_NAME"
   ]
  },
  {
   "cell_type": "markdown",
   "metadata": {},
   "source": [
    "Set the url to that of your IPC cluster. Make sure to use `https://` and leave the port as `:31843`. Use your own `username` and `password`."
   ]
  },
  {
   "cell_type": "code",
   "execution_count": 2,
   "metadata": {},
   "outputs": [],
   "source": [
    "WOS_CREDENTIALS = {\n",
    "    \"url\": \"https://w.x.y.z:31843\",\n",
    "    \"username\": \"uname\",\n",
    "    \"password\": \"password\"\n",
    "}"
   ]
  },
  {
   "cell_type": "code",
   "execution_count": 3,
   "metadata": {},
   "outputs": [],
   "source": [
    "WML_CREDENTIALS = WOS_CREDENTIALS.copy()\n",
    "WML_CREDENTIALS['instance_id']='icp'\n",
    "WML_CREDENTIALS['url'] = ':'.join(WOS_CREDENTIALS['url'].split(':')[0:-1]) if WOS_CREDENTIALS['url'].count(':') == 2 else WOS_CREDENTIALS['url']"
   ]
  },
  {
   "cell_type": "markdown",
   "metadata": {},
   "source": [
    "## Run the notebook\n",
    "\n",
    "At this point, the notebook is ready to run. You can either run the cells one at a time, or click the **Kernel** option above and select **Restart and Run All** to run all the cells."
   ]
  },
  {
   "cell_type": "markdown",
   "metadata": {},
   "source": [
    "# 2.0 Model building and deployment <a name=\"model\"></a>"
   ]
  },
  {
   "cell_type": "markdown",
   "metadata": {},
   "source": [
    "In this section you will learn how to train Spark MLLib model and next deploy it as web-service using Watson Machine Learning service."
   ]
  },
  {
   "cell_type": "markdown",
   "metadata": {},
   "source": [
    "## 2.1 Load the training data "
   ]
  },
  {
   "cell_type": "code",
   "execution_count": 4,
   "metadata": {},
   "outputs": [
    {
     "name": "stdout",
     "output_type": "stream",
     "text": [
      "--2019-09-17 21:59:03--  https://raw.githubusercontent.com/pmservice/ai-openscale-tutorials/master/assets/historical_data/german_credit_risk/wml/german_credit_data_biased_training.csv\n",
      "Resolving raw.githubusercontent.com (raw.githubusercontent.com)... 199.232.8.133\n",
      "Connecting to raw.githubusercontent.com (raw.githubusercontent.com)|199.232.8.133|:443... connected.\n",
      "HTTP request sent, awaiting response... 200 OK\n",
      "Length: 689622 (673K) [text/plain]\n",
      "Saving to: ‘german_credit_data_biased_training.csv’\n",
      "\n",
      "100%[======================================>] 689,622     --.-K/s   in 0.02s   \n",
      "\n",
      "2019-09-17 21:59:03 (36.8 MB/s) - ‘german_credit_data_biased_training.csv’ saved [689622/689622]\n",
      "\n"
     ]
    }
   ],
   "source": [
    "!rm german_credit_data_biased_training.csv\n",
    "!wget https://raw.githubusercontent.com/pmservice/ai-openscale-tutorials/master/assets/historical_data/german_credit_risk/wml/german_credit_data_biased_training.csv"
   ]
  },
  {
   "cell_type": "code",
   "execution_count": 5,
   "metadata": {},
   "outputs": [
    {
     "data": {
      "text/plain": [
       "Row(CheckingStatus='0_to_200', LoanDuration=31, CreditHistory='credits_paid_to_date', LoanPurpose='other', LoanAmount=1889, ExistingSavings='100_to_500', EmploymentDuration='less_1', InstallmentPercent=3, Sex='female', OthersOnLoan='none', CurrentResidenceDuration=3, OwnsProperty='savings_insurance', Age=32, InstallmentPlans='none', Housing='own', ExistingCreditsCount=1, Job='skilled', Dependents=1, Telephone='none', ForeignWorker='yes', Risk='No Risk')"
      ]
     },
     "execution_count": 5,
     "metadata": {},
     "output_type": "execute_result"
    }
   ],
   "source": [
    "from pyspark.sql import SparkSession\n",
    "import pandas as pd\n",
    "import json\n",
    "\n",
    "spark = SparkSession.builder.getOrCreate()\n",
    "pd_data = pd.read_csv(\"german_credit_data_biased_training.csv\", sep=\",\", header=0)\n",
    "df_data = spark.read.csv(path=\"german_credit_data_biased_training.csv\", sep=\",\", header=True, inferSchema=True)\n",
    "df_data.head()"
   ]
  },
  {
   "cell_type": "markdown",
   "metadata": {},
   "source": [
    "## 2.2 Explore data"
   ]
  },
  {
   "cell_type": "code",
   "execution_count": 6,
   "metadata": {
    "scrolled": true
   },
   "outputs": [
    {
     "name": "stdout",
     "output_type": "stream",
     "text": [
      "root\n",
      " |-- CheckingStatus: string (nullable = true)\n",
      " |-- LoanDuration: integer (nullable = true)\n",
      " |-- CreditHistory: string (nullable = true)\n",
      " |-- LoanPurpose: string (nullable = true)\n",
      " |-- LoanAmount: integer (nullable = true)\n",
      " |-- ExistingSavings: string (nullable = true)\n",
      " |-- EmploymentDuration: string (nullable = true)\n",
      " |-- InstallmentPercent: integer (nullable = true)\n",
      " |-- Sex: string (nullable = true)\n",
      " |-- OthersOnLoan: string (nullable = true)\n",
      " |-- CurrentResidenceDuration: integer (nullable = true)\n",
      " |-- OwnsProperty: string (nullable = true)\n",
      " |-- Age: integer (nullable = true)\n",
      " |-- InstallmentPlans: string (nullable = true)\n",
      " |-- Housing: string (nullable = true)\n",
      " |-- ExistingCreditsCount: integer (nullable = true)\n",
      " |-- Job: string (nullable = true)\n",
      " |-- Dependents: integer (nullable = true)\n",
      " |-- Telephone: string (nullable = true)\n",
      " |-- ForeignWorker: string (nullable = true)\n",
      " |-- Risk: string (nullable = true)\n",
      "\n"
     ]
    }
   ],
   "source": [
    "df_data.printSchema()"
   ]
  },
  {
   "cell_type": "code",
   "execution_count": 7,
   "metadata": {
    "scrolled": true
   },
   "outputs": [
    {
     "name": "stdout",
     "output_type": "stream",
     "text": [
      "Number of records: 5000\n"
     ]
    }
   ],
   "source": [
    "print(\"Number of records: \" + str(df_data.count()))"
   ]
  },
  {
   "cell_type": "markdown",
   "metadata": {},
   "source": [
    "## 2.3 Create a model"
   ]
  },
  {
   "cell_type": "markdown",
   "metadata": {},
   "source": [
    "Give a unique name to `MODEL_NAME` and `DEPLOYMENT_NAME`"
   ]
  },
  {
   "cell_type": "code",
   "execution_count": 8,
   "metadata": {},
   "outputs": [],
   "source": [
    "MODEL_NAME = \"my_nameCredit Risk Model\"\n",
    "DEPLOYMENT_NAME = \"my_name Credit Risk Deployment - Final\""
   ]
  },
  {
   "cell_type": "code",
   "execution_count": 9,
   "metadata": {
    "scrolled": true
   },
   "outputs": [
    {
     "name": "stdout",
     "output_type": "stream",
     "text": [
      "Number of records for training: 4016\n",
      "Number of records for evaluation: 984\n",
      "root\n",
      " |-- CheckingStatus: string (nullable = true)\n",
      " |-- LoanDuration: integer (nullable = true)\n",
      " |-- CreditHistory: string (nullable = true)\n",
      " |-- LoanPurpose: string (nullable = true)\n",
      " |-- LoanAmount: integer (nullable = true)\n",
      " |-- ExistingSavings: string (nullable = true)\n",
      " |-- EmploymentDuration: string (nullable = true)\n",
      " |-- InstallmentPercent: integer (nullable = true)\n",
      " |-- Sex: string (nullable = true)\n",
      " |-- OthersOnLoan: string (nullable = true)\n",
      " |-- CurrentResidenceDuration: integer (nullable = true)\n",
      " |-- OwnsProperty: string (nullable = true)\n",
      " |-- Age: integer (nullable = true)\n",
      " |-- InstallmentPlans: string (nullable = true)\n",
      " |-- Housing: string (nullable = true)\n",
      " |-- ExistingCreditsCount: integer (nullable = true)\n",
      " |-- Job: string (nullable = true)\n",
      " |-- Dependents: integer (nullable = true)\n",
      " |-- Telephone: string (nullable = true)\n",
      " |-- ForeignWorker: string (nullable = true)\n",
      " |-- Risk: string (nullable = true)\n",
      "\n"
     ]
    }
   ],
   "source": [
    "spark_df = df_data\n",
    "(train_data, test_data) = spark_df.randomSplit([0.8, 0.2], 24)\n",
    "\n",
    "print(\"Number of records for training: \" + str(train_data.count()))\n",
    "print(\"Number of records for evaluation: \" + str(test_data.count()))\n",
    "\n",
    "spark_df.printSchema()"
   ]
  },
  {
   "cell_type": "markdown",
   "metadata": {},
   "source": [
    "The code below creates a Random Forest Classifier with Spark, setting up string indexers for the categorical features and the label column. Finally, this notebook creates a pipeline including the indexers and the model, and does an initial Area Under ROC evaluation of the model."
   ]
  },
  {
   "cell_type": "code",
   "execution_count": 10,
   "metadata": {
    "scrolled": true
   },
   "outputs": [],
   "source": [
    "from pyspark.ml.feature import OneHotEncoder, StringIndexer, IndexToString, VectorAssembler\n",
    "from pyspark.ml.evaluation import BinaryClassificationEvaluator\n",
    "from pyspark.ml import Pipeline, Model\n",
    "\n",
    "si_CheckingStatus = StringIndexer(inputCol = 'CheckingStatus', outputCol = 'CheckingStatus_IX')\n",
    "si_CreditHistory = StringIndexer(inputCol = 'CreditHistory', outputCol = 'CreditHistory_IX')\n",
    "si_LoanPurpose = StringIndexer(inputCol = 'LoanPurpose', outputCol = 'LoanPurpose_IX')\n",
    "si_ExistingSavings = StringIndexer(inputCol = 'ExistingSavings', outputCol = 'ExistingSavings_IX')\n",
    "si_EmploymentDuration = StringIndexer(inputCol = 'EmploymentDuration', outputCol = 'EmploymentDuration_IX')\n",
    "si_Sex = StringIndexer(inputCol = 'Sex', outputCol = 'Sex_IX')\n",
    "si_OthersOnLoan = StringIndexer(inputCol = 'OthersOnLoan', outputCol = 'OthersOnLoan_IX')\n",
    "si_OwnsProperty = StringIndexer(inputCol = 'OwnsProperty', outputCol = 'OwnsProperty_IX')\n",
    "si_InstallmentPlans = StringIndexer(inputCol = 'InstallmentPlans', outputCol = 'InstallmentPlans_IX')\n",
    "si_Housing = StringIndexer(inputCol = 'Housing', outputCol = 'Housing_IX')\n",
    "si_Job = StringIndexer(inputCol = 'Job', outputCol = 'Job_IX')\n",
    "si_Telephone = StringIndexer(inputCol = 'Telephone', outputCol = 'Telephone_IX')\n",
    "si_ForeignWorker = StringIndexer(inputCol = 'ForeignWorker', outputCol = 'ForeignWorker_IX')"
   ]
  },
  {
   "cell_type": "code",
   "execution_count": 11,
   "metadata": {
    "scrolled": true
   },
   "outputs": [],
   "source": [
    "si_Label = StringIndexer(inputCol=\"Risk\", outputCol=\"label\").fit(spark_df)\n",
    "label_converter = IndexToString(inputCol=\"prediction\", outputCol=\"predictedLabel\", labels=si_Label.labels)"
   ]
  },
  {
   "cell_type": "code",
   "execution_count": 12,
   "metadata": {
    "scrolled": true
   },
   "outputs": [],
   "source": [
    "va_features = VectorAssembler(inputCols=[\"CheckingStatus_IX\", \"CreditHistory_IX\", \"LoanPurpose_IX\", \"ExistingSavings_IX\", \"EmploymentDuration_IX\", \"Sex_IX\", \\\n",
    "                                         \"OthersOnLoan_IX\", \"OwnsProperty_IX\", \"InstallmentPlans_IX\", \"Housing_IX\", \"Job_IX\", \"Telephone_IX\", \"ForeignWorker_IX\", \\\n",
    "                                         \"LoanDuration\", \"LoanAmount\", \"InstallmentPercent\", \"CurrentResidenceDuration\", \"LoanDuration\", \"Age\", \"ExistingCreditsCount\", \\\n",
    "                                         \"Dependents\"], outputCol=\"features\")"
   ]
  },
  {
   "cell_type": "code",
   "execution_count": 13,
   "metadata": {
    "scrolled": true
   },
   "outputs": [],
   "source": [
    "from pyspark.ml.classification import RandomForestClassifier\n",
    "classifier = RandomForestClassifier(featuresCol=\"features\")\n",
    "\n",
    "pipeline = Pipeline(stages=[si_CheckingStatus, si_CreditHistory, si_EmploymentDuration, si_ExistingSavings, si_ForeignWorker, si_Housing, si_InstallmentPlans, si_Job, si_LoanPurpose, si_OthersOnLoan,\\\n",
    "                               si_OwnsProperty, si_Sex, si_Telephone, si_Label, va_features, classifier, label_converter])\n",
    "model = pipeline.fit(train_data)"
   ]
  },
  {
   "cell_type": "code",
   "execution_count": 14,
   "metadata": {
    "scrolled": true
   },
   "outputs": [
    {
     "name": "stdout",
     "output_type": "stream",
     "text": [
      "areaUnderROC = 0.702079\n"
     ]
    }
   ],
   "source": [
    "predictions = model.transform(test_data)\n",
    "evaluatorDT = BinaryClassificationEvaluator(rawPredictionCol=\"prediction\")\n",
    "area_under_curve = evaluatorDT.evaluate(predictions)\n",
    "\n",
    "#default evaluation is areaUnderROC\n",
    "print(\"areaUnderROC = %g\" % area_under_curve)"
   ]
  },
  {
   "cell_type": "markdown",
   "metadata": {},
   "source": [
    "## 2.4 Publish the model"
   ]
  },
  {
   "cell_type": "markdown",
   "metadata": {},
   "source": [
    "In this section, the notebook uses Watson Machine Learning to save the model (including the pipeline) to the WML instance. Previous versions of the model are removed so that the notebook can be run again, resetting all data for another demo."
   ]
  },
  {
   "cell_type": "code",
   "execution_count": 15,
   "metadata": {
    "scrolled": true
   },
   "outputs": [
    {
     "name": "stderr",
     "output_type": "stream",
     "text": [
      "/opt/conda/lib/python3.6/site-packages/sklearn/externals/joblib/__init__.py:15: DeprecationWarning: sklearn.externals.joblib is deprecated in 0.21 and will be removed in 0.23. Please import this functionality directly from joblib, which can be installed with: pip install joblib. If this warning is raised when loading pickled models, you may need to re-serialize those models with scikit-learn 0.21+.\n",
      "  warnings.warn(msg, category=DeprecationWarning)\n"
     ]
    }
   ],
   "source": [
    "from watson_machine_learning_client import WatsonMachineLearningAPIClient\n",
    "import json\n",
    "\n",
    "wml_client = WatsonMachineLearningAPIClient(WML_CREDENTIALS)"
   ]
  },
  {
   "cell_type": "code",
   "execution_count": 16,
   "metadata": {},
   "outputs": [
    {
     "data": {
      "text/plain": [
       "'1.0.375'"
      ]
     },
     "execution_count": 16,
     "metadata": {},
     "output_type": "execute_result"
    }
   ],
   "source": [
    "wml_client.version"
   ]
  },
  {
   "cell_type": "markdown",
   "metadata": {},
   "source": [
    "### 2.4.1 Remove existing model and deployment"
   ]
  },
  {
   "cell_type": "code",
   "execution_count": 17,
   "metadata": {
    "scrolled": true
   },
   "outputs": [
    {
     "name": "stdout",
     "output_type": "stream",
     "text": [
      "Deleting deployment id 57cbe59e-7cd0-4fe0-bbc2-5d1f8587acbb\n",
      "Deleting model id 0a513dd8-ba77-453f-9e16-00d3fdfc4c59\n",
      "------------------------------------  -------------------------  ------------------------  ---------\n",
      "GUID                                  NAME                       CREATED                   FRAMEWORK\n",
      "c86dbff0-f996-46bc-bee9-afc2c518b883  scottda Credit Risk Model  2019-09-16T22:11:00.796Z  mllib-2.3\n",
      "16d70431-920e-4f8e-b042-eece5aeab428  scottda telco churn model  2019-09-16T20:13:36.496Z  mllib-2.3\n",
      "dc4ebfa4-5b58-4567-8936-2291e0b022e0  telco churn model          2019-09-16T15:08:57.382Z  mllib-2.3\n",
      "82eaa056-5cb2-421b-866f-1b15f1d5a6db  GermanCreditRiskModelICP   2019-09-12T15:54:52.494Z  mllib-2.3\n",
      "------------------------------------  -------------------------  ------------------------  ---------\n"
     ]
    }
   ],
   "source": [
    "model_deployment_ids = wml_client.deployments.get_uids()\n",
    "for deployment_id in model_deployment_ids:\n",
    "    deployment = wml_client.deployments.get_details(deployment_id)\n",
    "    model_id = deployment['entity']['deployable_asset']['guid']\n",
    "    if deployment['entity']['name'] == DEPLOYMENT_NAME:\n",
    "        print('Deleting deployment id', deployment_id)\n",
    "        wml_client.deployments.delete(deployment_id)\n",
    "        print('Deleting model id', model_id)\n",
    "        wml_client.repository.delete(model_id)\n",
    "wml_client.repository.list_models()"
   ]
  },
  {
   "cell_type": "code",
   "execution_count": 18,
   "metadata": {
    "scrolled": true
   },
   "outputs": [],
   "source": [
    "model_props = {\n",
    "    wml_client.repository.ModelMetaNames.NAME: \"{}\".format(MODEL_NAME),\n",
    "    wml_client.repository.ModelMetaNames.EVALUATION_METHOD: \"binary\",\n",
    "    wml_client.repository.ModelMetaNames.EVALUATION_METRICS: [\n",
    "        {\n",
    "           \"name\": \"areaUnderROC\",\n",
    "           \"value\": area_under_curve,\n",
    "           \"threshold\": 0.7\n",
    "        }\n",
    "    ]\n",
    "}"
   ]
  },
  {
   "cell_type": "code",
   "execution_count": 19,
   "metadata": {
    "scrolled": true
   },
   "outputs": [
    {
     "name": "stdout",
     "output_type": "stream",
     "text": [
      "Storing model ...\n",
      "Done\n"
     ]
    }
   ],
   "source": [
    "wml_models = wml_client.repository.get_model_details()\n",
    "model_uid = None\n",
    "\n",
    "for model_in in wml_models['resources']:\n",
    "    if MODEL_NAME == model_in['entity']['name']:\n",
    "        model_uid = model_in['metadata']['guid']\n",
    "        break\n",
    "\n",
    "if model_uid is None:\n",
    "    print(\"Storing model ...\")\n",
    "\n",
    "    published_model_details = wml_client.repository.store_model(model=model, meta_props=model_props, training_data=train_data, pipeline=pipeline)\n",
    "    model_uid = wml_client.repository.get_model_uid(published_model_details)\n",
    "    print(\"Done\")"
   ]
  },
  {
   "cell_type": "code",
   "execution_count": 20,
   "metadata": {
    "scrolled": true
   },
   "outputs": [
    {
     "data": {
      "text/plain": [
       "'8e6bfe5d-85ee-46ca-8af0-5d2558bc5fad'"
      ]
     },
     "execution_count": 20,
     "metadata": {},
     "output_type": "execute_result"
    }
   ],
   "source": [
    "model_uid"
   ]
  },
  {
   "cell_type": "markdown",
   "metadata": {},
   "source": [
    "## 2.5 Deploy the model"
   ]
  },
  {
   "cell_type": "markdown",
   "metadata": {},
   "source": [
    "The next section of the notebook deploys the model as a RESTful web service in Watson Machine Learning. The deployed model will have a scoring URL you can use to send data to the model for predictions."
   ]
  },
  {
   "cell_type": "code",
   "execution_count": 21,
   "metadata": {
    "scrolled": true
   },
   "outputs": [
    {
     "name": "stdout",
     "output_type": "stream",
     "text": [
      "Deploying model...\n",
      "\n",
      "\n",
      "#######################################################################################\n",
      "\n",
      "Synchronous deployment creation for uid: '8e6bfe5d-85ee-46ca-8af0-5d2558bc5fad' started\n",
      "\n",
      "#######################################################################################\n",
      "\n",
      "\n",
      "INITIALIZING\n",
      "DEPLOY_SUCCESS\n",
      "\n",
      "\n",
      "------------------------------------------------------------------------------------------------\n",
      "Successfully finished deployment creation, deployment_uid='1a5394df-4560-4e16-b21a-093269a5cc9d'\n",
      "------------------------------------------------------------------------------------------------\n",
      "\n",
      "\n",
      "Model id: 8e6bfe5d-85ee-46ca-8af0-5d2558bc5fad\n",
      "Deployment id: 1a5394df-4560-4e16-b21a-093269a5cc9d\n"
     ]
    }
   ],
   "source": [
    "wml_deployments = wml_client.deployments.get_details()\n",
    "deployment_uid = None\n",
    "for deployment in wml_deployments['resources']:\n",
    "    if DEPLOYMENT_NAME == deployment['entity']['name']:\n",
    "        deployment_uid = deployment['metadata']['guid']\n",
    "        break\n",
    "\n",
    "if deployment_uid is None:\n",
    "    print(\"Deploying model...\")\n",
    "\n",
    "    deployment = wml_client.deployments.create(artifact_uid=model_uid, name=DEPLOYMENT_NAME, asynchronous=False)\n",
    "    deployment_uid = wml_client.deployments.get_uid(deployment)\n",
    "    \n",
    "print(\"Model id: {}\".format(model_uid))\n",
    "print(\"Deployment id: {}\".format(deployment_uid))"
   ]
  },
  {
   "cell_type": "markdown",
   "metadata": {},
   "source": [
    "# 3.0 Configure OpenScale <a name=\"openscale\"></a>"
   ]
  },
  {
   "cell_type": "markdown",
   "metadata": {},
   "source": [
    "The notebook will now import the necessary libraries and set up a Python OpenScale client."
   ]
  },
  {
   "cell_type": "code",
   "execution_count": 22,
   "metadata": {
    "scrolled": true
   },
   "outputs": [],
   "source": [
    "from ibm_ai_openscale import APIClient4ICP\n",
    "from ibm_ai_openscale.engines import *\n",
    "from ibm_ai_openscale.utils import *\n",
    "from ibm_ai_openscale.supporting_classes import PayloadRecord, Feature\n",
    "from ibm_ai_openscale.supporting_classes.enums import *"
   ]
  },
  {
   "cell_type": "code",
   "execution_count": 23,
   "metadata": {
    "scrolled": true
   },
   "outputs": [
    {
     "data": {
      "text/plain": [
       "'2.1.16'"
      ]
     },
     "execution_count": 23,
     "metadata": {},
     "output_type": "execute_result"
    }
   ],
   "source": [
    "ai_client = APIClient4ICP(WOS_CREDENTIALS)\n",
    "ai_client.version"
   ]
  },
  {
   "cell_type": "markdown",
   "metadata": {},
   "source": [
    "## 3.1 Create datamart"
   ]
  },
  {
   "cell_type": "markdown",
   "metadata": {},
   "source": [
    "### 3.1.1 Set up datamart"
   ]
  },
  {
   "cell_type": "markdown",
   "metadata": {},
   "source": [
    "Watson OpenScale uses a database to store payload logs and calculated metrics. If an OpenScale datamart already exists, the existing datamart will be used and no data will be overwritten.\n",
    "\n",
    "Prior instances of the Credit model will be removed from OpenScale monitoring."
   ]
  },
  {
   "cell_type": "code",
   "execution_count": 24,
   "metadata": {},
   "outputs": [
    {
     "name": "stdout",
     "output_type": "stream",
     "text": [
      "Using existing external datamart\n"
     ]
    }
   ],
   "source": [
    "try:\n",
    "    data_mart_details = ai_client.data_mart.get_details()\n",
    "    print('Using existing external datamart')\n",
    "except:\n",
    "    print('Setting up external datamart')\n",
    "    ai_client.data_mart.setup(db_credentials=DATABASE_CREDENTIALS, schema=SCHEMA_NAME)"
   ]
  },
  {
   "cell_type": "code",
   "execution_count": 25,
   "metadata": {
    "scrolled": true
   },
   "outputs": [],
   "source": [
    "data_mart_details = ai_client.data_mart.get_details()"
   ]
  },
  {
   "cell_type": "markdown",
   "metadata": {},
   "source": [
    "## 3.2 Bind machine learning engines"
   ]
  },
  {
   "cell_type": "markdown",
   "metadata": {},
   "source": [
    "Watson OpenScale needs to be bound to the Watson Machine Learning instance to capture payload data into and out of the model. If this binding already exists, this code will output a warning message and use the existing binding."
   ]
  },
  {
   "cell_type": "code",
   "execution_count": 26,
   "metadata": {
    "scrolled": false
   },
   "outputs": [
    {
     "name": "stdout",
     "output_type": "stream",
     "text": [
      "Warning during bind instance.\n",
      "Status code: 409, body: {\"errors\":[{\"code\":\"AIQCS0010W\",\"message\":\"Service Binding with this id is already defined\"}],\"trace\":\"YjNlZWVjZDUtOGRkYS00ZmIyLWIwZmUtMzcwNThkMjA5YzU0\"}\n"
     ]
    },
    {
     "data": {
      "text/html": [
       "<HTML>\n",
       "        <body>\n",
       "            <h3>Service bindings</h3>\n",
       "            <table style='border: 1px solid #dddddd; font-family: Courier'>\n",
       "                <th style='border: 1px solid #dddddd'>uid</th><th style='border: 1px solid #dddddd'>name</th><th style='border: 1px solid #dddddd'>service_type</th><th style='border: 1px solid #dddddd'>created</th>\n",
       "                <tr><td style='border: 1px solid #dddddd'>999</td><td style='border: 1px solid #dddddd'>ICP WML Instance</td><td style='border: 1px solid #dddddd'>watson_machine_learning</td><td style='border: 1px solid #dddddd'>2019-09-12T15:54:47.507Z</td></tr>\n",
       "            </table>\n",
       "        </body>\n",
       "        </HTML>"
      ],
      "text/plain": [
       "<IPython.core.display.HTML object>"
      ]
     },
     "metadata": {},
     "output_type": "display_data"
    }
   ],
   "source": [
    "binding_uid = ai_client.data_mart.bindings.add('WML instance', WatsonMachineLearningInstance4ICP())\n",
    "if binding_uid is None:\n",
    "    binding_uid = ai_client.data_mart.bindings.get_details()['service_bindings'][0]['metadata']['guid']\n",
    "bindings_details = ai_client.data_mart.bindings.get_details()\n",
    "ai_client.data_mart.bindings.list()"
   ]
  },
  {
   "cell_type": "code",
   "execution_count": 27,
   "metadata": {
    "scrolled": true
   },
   "outputs": [
    {
     "name": "stdout",
     "output_type": "stream",
     "text": [
      "999\n"
     ]
    }
   ],
   "source": [
    "print(binding_uid)"
   ]
  },
  {
   "cell_type": "code",
   "execution_count": 28,
   "metadata": {
    "scrolled": false
   },
   "outputs": [
    {
     "data": {
      "text/html": [
       "<HTML>\n",
       "        <body>\n",
       "            <h3>Available assets</h3>\n",
       "            <table style='border: 1px solid #dddddd; font-family: Courier'>\n",
       "                <th style='border: 1px solid #dddddd'>source_uid</th><th style='border: 1px solid #dddddd'>name</th><th style='border: 1px solid #dddddd'>created</th><th style='border: 1px solid #dddddd'>type</th><th style='border: 1px solid #dddddd'>frameworks</th><th style='border: 1px solid #dddddd'>binding_uid</th><th style='border: 1px solid #dddddd'>is_subscribed</th>\n",
       "                <tr><td style='border: 1px solid #dddddd'>8e6bfe5d-85ee-46ca-8af0-5d2558bc5fad</td><td style='border: 1px solid #dddddd'>my_nameCredit Risk Model</td><td style='border: 1px solid #dddddd'>2019-09-17T22:00:05.562Z</td><td style='border: 1px solid #dddddd'>model</td><td style='border: 1px solid #dddddd'>mllib-2.3</td><td style='border: 1px solid #dddddd'>999</td><td style='border: 1px solid #dddddd'>False</td></tr><tr><td style='border: 1px solid #dddddd'>c86dbff0-f996-46bc-bee9-afc2c518b883</td><td style='border: 1px solid #dddddd'>scottda Credit Risk Model</td><td style='border: 1px solid #dddddd'>2019-09-16T22:11:21.538Z</td><td style='border: 1px solid #dddddd'>model</td><td style='border: 1px solid #dddddd'>mllib-2.3</td><td style='border: 1px solid #dddddd'>999</td><td style='border: 1px solid #dddddd'>True</td></tr><tr><td style='border: 1px solid #dddddd'>16d70431-920e-4f8e-b042-eece5aeab428</td><td style='border: 1px solid #dddddd'>scottda telco churn model</td><td style='border: 1px solid #dddddd'>2019-09-16T20:14:10.785Z</td><td style='border: 1px solid #dddddd'>model</td><td style='border: 1px solid #dddddd'>mllib-2.3</td><td style='border: 1px solid #dddddd'>999</td><td style='border: 1px solid #dddddd'>False</td></tr><tr><td style='border: 1px solid #dddddd'>dc4ebfa4-5b58-4567-8936-2291e0b022e0</td><td style='border: 1px solid #dddddd'>telco churn model</td><td style='border: 1px solid #dddddd'>2019-09-16T15:10:26.677Z</td><td style='border: 1px solid #dddddd'>model</td><td style='border: 1px solid #dddddd'>mllib-2.3</td><td style='border: 1px solid #dddddd'>999</td><td style='border: 1px solid #dddddd'>False</td></tr><tr><td style='border: 1px solid #dddddd'>82eaa056-5cb2-421b-866f-1b15f1d5a6db</td><td style='border: 1px solid #dddddd'>GermanCreditRiskModelICP</td><td style='border: 1px solid #dddddd'>2019-09-12T15:54:59.177Z</td><td style='border: 1px solid #dddddd'>model</td><td style='border: 1px solid #dddddd'>mllib-2.3</td><td style='border: 1px solid #dddddd'>999</td><td style='border: 1px solid #dddddd'>True</td></tr>\n",
       "            </table>\n",
       "        </body>\n",
       "        </HTML>"
      ],
      "text/plain": [
       "<IPython.core.display.HTML object>"
      ]
     },
     "metadata": {},
     "output_type": "display_data"
    }
   ],
   "source": [
    "ai_client.data_mart.bindings.list_assets()"
   ]
  },
  {
   "cell_type": "markdown",
   "metadata": {},
   "source": [
    "## 3.3 Subscriptions"
   ]
  },
  {
   "cell_type": "markdown",
   "metadata": {},
   "source": [
    "### 3.3.1 Remove existing credit risk subscriptions"
   ]
  },
  {
   "cell_type": "markdown",
   "metadata": {},
   "source": [
    "This code removes previous subscriptions to the Credit model to refresh the monitors with the new model and new data."
   ]
  },
  {
   "cell_type": "code",
   "execution_count": 29,
   "metadata": {
    "scrolled": true
   },
   "outputs": [],
   "source": [
    "subscriptions_uids = ai_client.data_mart.subscriptions.get_uids()\n",
    "for subscription in subscriptions_uids:\n",
    "    sub_name = ai_client.data_mart.subscriptions.get_details(subscription)['entity']['asset']['name']\n",
    "    if sub_name == MODEL_NAME:\n",
    "        ai_client.data_mart.subscriptions.delete(subscription)\n",
    "        print('Deleted existing subscription for', MODEL_NAME)"
   ]
  },
  {
   "cell_type": "markdown",
   "metadata": {},
   "source": [
    "This code creates the model subscription in OpenScale using the Python client API. Note that we need to provide the model unique identifier, and some information about the model itself."
   ]
  },
  {
   "cell_type": "code",
   "execution_count": 30,
   "metadata": {
    "scrolled": false
   },
   "outputs": [],
   "source": [
    "subscription = ai_client.data_mart.subscriptions.add(WatsonMachineLearningAsset(\n",
    "    model_uid,\n",
    "    problem_type=ProblemType.BINARY_CLASSIFICATION,\n",
    "    input_data_type=InputDataType.STRUCTURED,\n",
    "    label_column='Risk',\n",
    "    prediction_column='predictedLabel',\n",
    "    probability_column='probability',\n",
    "    feature_columns = [\"CheckingStatus\",\"LoanDuration\",\"CreditHistory\",\"LoanPurpose\",\"LoanAmount\",\"ExistingSavings\",\"EmploymentDuration\",\"InstallmentPercent\",\"Sex\",\"OthersOnLoan\",\"CurrentResidenceDuration\",\"OwnsProperty\",\"Age\",\"InstallmentPlans\",\"Housing\",\"ExistingCreditsCount\",\"Job\",\"Dependents\",\"Telephone\",\"ForeignWorker\"],\n",
    "    categorical_columns = [\"CheckingStatus\",\"CreditHistory\",\"LoanPurpose\",\"ExistingSavings\",\"EmploymentDuration\",\"Sex\",\"OthersOnLoan\",\"OwnsProperty\",\"InstallmentPlans\",\"Housing\",\"Job\",\"Telephone\",\"ForeignWorker\"]\n",
    "))\n",
    "\n",
    "if subscription is None:\n",
    "    print('Subscription already exists; get the existing one')\n",
    "    subscriptions_uids = ai_client.data_mart.subscriptions.get_uids()\n",
    "    for sub in subscriptions_uids:\n",
    "        if ai_client.data_mart.subscriptions.get_details(sub)['entity']['asset']['name'] == MODEL_NAME:\n",
    "            subscription = ai_client.data_mart.subscriptions.get(sub)"
   ]
  },
  {
   "cell_type": "markdown",
   "metadata": {},
   "source": [
    "Get subscription list"
   ]
  },
  {
   "cell_type": "code",
   "execution_count": 31,
   "metadata": {
    "scrolled": true
   },
   "outputs": [
    {
     "data": {
      "text/html": [
       "<HTML>\n",
       "        <body>\n",
       "            <h3>Subscriptions</h3>\n",
       "            <table style='border: 1px solid #dddddd; font-family: Courier'>\n",
       "                <th style='border: 1px solid #dddddd'>uid</th><th style='border: 1px solid #dddddd'>name</th><th style='border: 1px solid #dddddd'>type</th><th style='border: 1px solid #dddddd'>binding_uid</th><th style='border: 1px solid #dddddd'>created</th>\n",
       "                <tr><td style='border: 1px solid #dddddd'>f44a976d-f6f7-4586-ad79-6fb91f36092b</td><td style='border: 1px solid #dddddd'>my_nameCredit Risk Model</td><td style='border: 1px solid #dddddd'>model</td><td style='border: 1px solid #dddddd'>999</td><td style='border: 1px solid #dddddd'>2019-09-17T22:00:15.846Z</td></tr><tr><td style='border: 1px solid #dddddd'>7106529b-7e5f-41c3-bcb2-9bb4929348ba</td><td style='border: 1px solid #dddddd'>scottda Credit Risk Model</td><td style='border: 1px solid #dddddd'>model</td><td style='border: 1px solid #dddddd'>999</td><td style='border: 1px solid #dddddd'>2019-09-16T22:19:23.200Z</td></tr><tr><td style='border: 1px solid #dddddd'>196e8ebb-c103-4383-990f-f18520f098e9</td><td style='border: 1px solid #dddddd'>GermanCreditRiskModelICP</td><td style='border: 1px solid #dddddd'>model</td><td style='border: 1px solid #dddddd'>999</td><td style='border: 1px solid #dddddd'>2019-09-12T15:55:31.480Z</td></tr>\n",
       "            </table>\n",
       "        </body>\n",
       "        </HTML>"
      ],
      "text/plain": [
       "<IPython.core.display.HTML object>"
      ]
     },
     "metadata": {},
     "output_type": "display_data"
    }
   ],
   "source": [
    "subscriptions_uids = ai_client.data_mart.subscriptions.get_uids()\n",
    "ai_client.data_mart.subscriptions.list()"
   ]
  },
  {
   "cell_type": "code",
   "execution_count": 32,
   "metadata": {
    "scrolled": false
   },
   "outputs": [],
   "source": [
    "subscription_details = subscription.get_details()"
   ]
  },
  {
   "cell_type": "markdown",
   "metadata": {},
   "source": [
    "### 3.3.2 Score the model so we can configure monitors"
   ]
  },
  {
   "cell_type": "markdown",
   "metadata": {},
   "source": [
    "Now that the WML service has been bound and the subscription has been created, we need to send a request to the model before we configure OpenScale. This allows OpenScale to create a payload log in the datamart with the correct schema, so it can capture data coming into and out of the model. First, the code gets the model deployment's endpoint URL, and then sends a few records for predictions."
   ]
  },
  {
   "cell_type": "code",
   "execution_count": 33,
   "metadata": {
    "scrolled": true
   },
   "outputs": [
    {
     "name": "stdout",
     "output_type": "stream",
     "text": [
      "1a5394df-4560-4e16-b21a-093269a5cc9d\n",
      "https://169.54.164.135:31843/v3/scoring/online/1a5394df-4560-4e16-b21a-093269a5cc9d\n"
     ]
    }
   ],
   "source": [
    "credit_risk_scoring_endpoint = None\n",
    "print(deployment_uid)\n",
    "\n",
    "for deployment in wml_client.deployments.get_details()['resources']:\n",
    "    if deployment_uid in deployment['metadata']['guid']:\n",
    "        credit_risk_scoring_endpoint = deployment['entity']['scoring_url']\n",
    "        \n",
    "print(credit_risk_scoring_endpoint)"
   ]
  },
  {
   "cell_type": "code",
   "execution_count": 34,
   "metadata": {
    "scrolled": true
   },
   "outputs": [
    {
     "name": "stdout",
     "output_type": "stream",
     "text": [
      "Single record scoring result: \n",
      " fields: ['CheckingStatus', 'LoanDuration', 'CreditHistory', 'LoanPurpose', 'LoanAmount', 'ExistingSavings', 'EmploymentDuration', 'InstallmentPercent', 'Sex', 'OthersOnLoan', 'CurrentResidenceDuration', 'OwnsProperty', 'Age', 'InstallmentPlans', 'Housing', 'ExistingCreditsCount', 'Job', 'Dependents', 'Telephone', 'ForeignWorker', 'CheckingStatus_IX', 'CreditHistory_IX', 'EmploymentDuration_IX', 'ExistingSavings_IX', 'ForeignWorker_IX', 'Housing_IX', 'InstallmentPlans_IX', 'Job_IX', 'LoanPurpose_IX', 'OthersOnLoan_IX', 'OwnsProperty_IX', 'Sex_IX', 'Telephone_IX', 'features', 'rawPrediction', 'probability', 'prediction', 'predictedLabel'] \n",
      " values:  ['no_checking', 13, 'credits_paid_to_date', 'car_new', 1343, '100_to_500', '1_to_4', 2, 'female', 'none', 3, 'savings_insurance', 46, 'none', 'own', 2, 'skilled', 1, 'none', 'yes', 0.0, 1.0, 0.0, 1.0, 0.0, 0.0, 0.0, 0.0, 0.0, 0.0, 0.0, 1.0, 0.0, [21, [1, 3, 5, 13, 14, 15, 16, 17, 18, 19, 20], [1.0, 1.0, 1.0, 13.0, 1343.0, 2.0, 3.0, 13.0, 46.0, 2.0, 1.0]], [13.472145349880225, 6.527854650119776], [0.6736072674940112, 0.3263927325059888], 0.0, 'No Risk']\n"
     ]
    }
   ],
   "source": [
    "fields = [\"CheckingStatus\",\"LoanDuration\",\"CreditHistory\",\"LoanPurpose\",\"LoanAmount\",\"ExistingSavings\",\"EmploymentDuration\",\"InstallmentPercent\",\"Sex\",\"OthersOnLoan\",\"CurrentResidenceDuration\",\"OwnsProperty\",\"Age\",\"InstallmentPlans\",\"Housing\",\"ExistingCreditsCount\",\"Job\",\"Dependents\",\"Telephone\",\"ForeignWorker\"]\n",
    "values = [\n",
    "  [\"no_checking\",13,\"credits_paid_to_date\",\"car_new\",1343,\"100_to_500\",\"1_to_4\",2,\"female\",\"none\",3,\"savings_insurance\",46,\"none\",\"own\",2,\"skilled\",1,\"none\",\"yes\"],\n",
    "  [\"no_checking\",24,\"prior_payments_delayed\",\"furniture\",4567,\"500_to_1000\",\"1_to_4\",4,\"male\",\"none\",4,\"savings_insurance\",36,\"none\",\"free\",2,\"management_self-employed\",1,\"none\",\"yes\"],\n",
    "  [\"0_to_200\",26,\"all_credits_paid_back\",\"car_new\",863,\"less_100\",\"less_1\",2,\"female\",\"co-applicant\",2,\"real_estate\",38,\"none\",\"own\",1,\"skilled\",1,\"none\",\"yes\"],\n",
    "  [\"0_to_200\",14,\"no_credits\",\"car_new\",2368,\"less_100\",\"1_to_4\",3,\"female\",\"none\",3,\"real_estate\",29,\"none\",\"own\",1,\"skilled\",1,\"none\",\"yes\"],\n",
    "  [\"0_to_200\",4,\"no_credits\",\"car_new\",250,\"less_100\",\"unemployed\",2,\"female\",\"none\",3,\"real_estate\",23,\"none\",\"rent\",1,\"management_self-employed\",1,\"none\",\"yes\"],\n",
    "  [\"no_checking\",17,\"credits_paid_to_date\",\"car_new\",832,\"100_to_500\",\"1_to_4\",2,\"male\",\"none\",2,\"real_estate\",42,\"none\",\"own\",1,\"skilled\",1,\"none\",\"yes\"],\n",
    "  [\"no_checking\",33,\"outstanding_credit\",\"appliances\",5696,\"unknown\",\"greater_7\",4,\"male\",\"co-applicant\",4,\"unknown\",54,\"none\",\"free\",2,\"skilled\",1,\"yes\",\"yes\"],\n",
    "  [\"0_to_200\",13,\"prior_payments_delayed\",\"retraining\",1375,\"100_to_500\",\"4_to_7\",3,\"male\",\"none\",3,\"real_estate\",37,\"none\",\"own\",2,\"management_self-employed\",1,\"none\",\"yes\"]\n",
    "]\n",
    "\n",
    "payload_scoring = {\"fields\": fields,\"values\": values}\n",
    "scoring_response = wml_client.deployments.score(credit_risk_scoring_endpoint, payload_scoring)\n",
    "\n",
    "print('Single record scoring result:', '\\n fields:', scoring_response['fields'], '\\n values: ', scoring_response['values'][0])"
   ]
  },
  {
   "cell_type": "markdown",
   "metadata": {},
   "source": [
    "# 4.0 Quality monitoring and feedback logging <a name=\"quality\"></a>"
   ]
  },
  {
   "cell_type": "markdown",
   "metadata": {},
   "source": [
    "## 4.1 Enable quality monitoring"
   ]
  },
  {
   "cell_type": "markdown",
   "metadata": {},
   "source": [
    "The code below waits ten seconds to allow the payload logging table to be set up before it begins enabling monitors. First, it turns on the quality (accuracy) monitor and sets an alert threshold of 70%. OpenScale will show an alert on the dashboard if the model accuracy measurement (area under the curve, in the case of a binary classifier) falls below this threshold.\n",
    "\n",
    "The second paramater supplied, min_records, specifies the minimum number of feedback records OpenScale needs before it calculates a new measurement. The quality monitor runs hourly, but the accuracy reading in the dashboard will not change until an additional 50 feedback records have been added, via the user interface, the Python client, or the supplied feedback endpoint."
   ]
  },
  {
   "cell_type": "code",
   "execution_count": 35,
   "metadata": {
    "scrolled": true
   },
   "outputs": [],
   "source": [
    "time.sleep(10)\n",
    "subscription.quality_monitoring.enable(threshold=0.7, min_records=50)"
   ]
  },
  {
   "cell_type": "markdown",
   "metadata": {},
   "source": [
    "## 4.2 Feedback logging"
   ]
  },
  {
   "cell_type": "markdown",
   "metadata": {},
   "source": [
    "The code below downloads and stores enough feedback data to meet the minimum threshold so that OpenScale can calculate a new accuracy measurement. It then kicks off the accuracy monitor. The monitors run hourly, or can be initiated via the Python API, the REST API, or the graphical user interface."
   ]
  },
  {
   "cell_type": "code",
   "execution_count": 36,
   "metadata": {},
   "outputs": [
    {
     "name": "stdout",
     "output_type": "stream",
     "text": [
      "--2019-09-17 22:00:32--  https://raw.githubusercontent.com/pmservice/ai-openscale-tutorials/master/assets/historical_data/german_credit_risk/wml/additional_feedback_data.json\n",
      "Resolving raw.githubusercontent.com (raw.githubusercontent.com)... 199.232.8.133\n",
      "Connecting to raw.githubusercontent.com (raw.githubusercontent.com)|199.232.8.133|:443... connected.\n",
      "HTTP request sent, awaiting response... 200 OK\n",
      "Length: 16506 (16K) [text/plain]\n",
      "Saving to: ‘additional_feedback_data.json’\n",
      "\n",
      "100%[======================================>] 16,506      --.-K/s   in 0.001s  \n",
      "\n",
      "2019-09-17 22:00:32 (12.2 MB/s) - ‘additional_feedback_data.json’ saved [16506/16506]\n",
      "\n"
     ]
    }
   ],
   "source": [
    "!rm additional_feedback_data.json\n",
    "!wget https://raw.githubusercontent.com/pmservice/ai-openscale-tutorials/master/assets/historical_data/german_credit_risk/wml/additional_feedback_data.json"
   ]
  },
  {
   "cell_type": "code",
   "execution_count": 37,
   "metadata": {},
   "outputs": [],
   "source": [
    "with open('additional_feedback_data.json') as feedback_file:\n",
    "    additional_feedback_data = json.load(feedback_file)\n",
    "subscription.feedback_logging.store(additional_feedback_data['data'])"
   ]
  },
  {
   "cell_type": "code",
   "execution_count": 38,
   "metadata": {
    "scrolled": true
   },
   "outputs": [
    {
     "data": {
      "text/html": [
       "<HTML>\n",
       "        <body>\n",
       "            <h3>Feedback_f44a976d-f6f7-4586-ad79-6fb91f36092b (binding_id=999, subscription_id=f44a976d-f6f7-4586-ad79-6fb91f36092b)</h3>\n",
       "            <table style='border: 1px solid #dddddd; font-family: Courier'>\n",
       "                <th style='border: 1px solid #dddddd'>CheckingStatus</th><th style='border: 1px solid #dddddd'>LoanDuration</th><th style='border: 1px solid #dddddd'>CreditHistory</th><th style='border: 1px solid #dddddd'>LoanPurpose</th><th style='border: 1px solid #dddddd'>LoanAmount</th><th style='border: 1px solid #dddddd'>ExistingSavings</th><th style='border: 1px solid #dddddd'>EmploymentDuration</th><th style='border: 1px solid #dddddd'>InstallmentPercent</th><th style='border: 1px solid #dddddd'>Sex</th><th style='border: 1px solid #dddddd'>OthersOnLoan</th><th style='border: 1px solid #dddddd'>CurrentResidenceDuration</th><th style='border: 1px solid #dddddd'>OwnsProperty</th><th style='border: 1px solid #dddddd'>Age</th><th style='border: 1px solid #dddddd'>InstallmentPlans</th><th style='border: 1px solid #dddddd'>Housing</th><th style='border: 1px solid #dddddd'>ExistingCreditsCount</th><th style='border: 1px solid #dddddd'>Job</th><th style='border: 1px solid #dddddd'>Dependents</th><th style='border: 1px solid #dddddd'>Telephone</th><th style='border: 1px solid #dddddd'>ForeignWorker</th><th style='border: 1px solid #dddddd'>Risk</th><th style='border: 1px solid #dddddd'>_training</th>\n",
       "                <tr><td style='border: 1px solid #dddddd'>less_0</td><td style='border: 1px solid #dddddd'>10</td><td style='border: 1px solid #dddddd'>all_credits_paid_back</td><td style='border: 1px solid #dddddd'>car_new</td><td style='border: 1px solid #dddddd'>250</td><td style='border: 1px solid #dddddd'>500_to_1000</td><td style='border: 1px solid #dddddd'>4_to_7</td><td style='border: 1px solid #dddddd'>3</td><td style='border: 1px solid #dddddd'>male</td><td style='border: 1px solid #dddddd'>none</td><td style='border: 1px solid #dddddd'>2</td><td style='border: 1px solid #dddddd'>real_estate</td><td style='border: 1px solid #dddddd'>23</td><td style='border: 1px solid #dddddd'>none</td><td style='border: 1px solid #dddddd'>rent</td><td style='border: 1px solid #dddddd'>1</td><td style='border: 1px solid #dddddd'>skilled</td><td style='border: 1px solid #dddddd'>1</td><td style='border: 1px solid #dddddd'>none</td><td style='border: 1px solid #dddddd'>yes</td><td style='border: 1px solid #dddddd'>No Risk</td><td style='border: 1px solid #dddddd'>2019-09-17 22:00:35.588743+00:00</td></tr><tr><td style='border: 1px solid #dddddd'>no_checking</td><td style='border: 1px solid #dddddd'>23</td><td style='border: 1px solid #dddddd'>prior_payments_delayed</td><td style='border: 1px solid #dddddd'>appliances</td><td style='border: 1px solid #dddddd'>6964</td><td style='border: 1px solid #dddddd'>100_to_500</td><td style='border: 1px solid #dddddd'>4_to_7</td><td style='border: 1px solid #dddddd'>4</td><td style='border: 1px solid #dddddd'>female</td><td style='border: 1px solid #dddddd'>none</td><td style='border: 1px solid #dddddd'>3</td><td style='border: 1px solid #dddddd'>car_other</td><td style='border: 1px solid #dddddd'>39</td><td style='border: 1px solid #dddddd'>none</td><td style='border: 1px solid #dddddd'>own</td><td style='border: 1px solid #dddddd'>1</td><td style='border: 1px solid #dddddd'>skilled</td><td style='border: 1px solid #dddddd'>1</td><td style='border: 1px solid #dddddd'>none</td><td style='border: 1px solid #dddddd'>yes</td><td style='border: 1px solid #dddddd'>Risk</td><td style='border: 1px solid #dddddd'>2019-09-17 22:00:35.588944+00:00</td></tr><tr><td style='border: 1px solid #dddddd'>0_to_200</td><td style='border: 1px solid #dddddd'>30</td><td style='border: 1px solid #dddddd'>outstanding_credit</td><td style='border: 1px solid #dddddd'>appliances</td><td style='border: 1px solid #dddddd'>3464</td><td style='border: 1px solid #dddddd'>100_to_500</td><td style='border: 1px solid #dddddd'>greater_7</td><td style='border: 1px solid #dddddd'>3</td><td style='border: 1px solid #dddddd'>male</td><td style='border: 1px solid #dddddd'>guarantor</td><td style='border: 1px solid #dddddd'>4</td><td style='border: 1px solid #dddddd'>savings_insurance</td><td style='border: 1px solid #dddddd'>51</td><td style='border: 1px solid #dddddd'>stores</td><td style='border: 1px solid #dddddd'>free</td><td style='border: 1px solid #dddddd'>1</td><td style='border: 1px solid #dddddd'>skilled</td><td style='border: 1px solid #dddddd'>1</td><td style='border: 1px solid #dddddd'>yes</td><td style='border: 1px solid #dddddd'>yes</td><td style='border: 1px solid #dddddd'>Risk</td><td style='border: 1px solid #dddddd'>2019-09-17 22:00:35.588988+00:00</td></tr><tr><td style='border: 1px solid #dddddd'>no_checking</td><td style='border: 1px solid #dddddd'>23</td><td style='border: 1px solid #dddddd'>outstanding_credit</td><td style='border: 1px solid #dddddd'>car_used</td><td style='border: 1px solid #dddddd'>2681</td><td style='border: 1px solid #dddddd'>500_to_1000</td><td style='border: 1px solid #dddddd'>greater_7</td><td style='border: 1px solid #dddddd'>4</td><td style='border: 1px solid #dddddd'>male</td><td style='border: 1px solid #dddddd'>none</td><td style='border: 1px solid #dddddd'>3</td><td style='border: 1px solid #dddddd'>car_other</td><td style='border: 1px solid #dddddd'>33</td><td style='border: 1px solid #dddddd'>stores</td><td style='border: 1px solid #dddddd'>free</td><td style='border: 1px solid #dddddd'>1</td><td style='border: 1px solid #dddddd'>unskilled</td><td style='border: 1px solid #dddddd'>1</td><td style='border: 1px solid #dddddd'>yes</td><td style='border: 1px solid #dddddd'>yes</td><td style='border: 1px solid #dddddd'>No Risk</td><td style='border: 1px solid #dddddd'>2019-09-17 22:00:35.589021+00:00</td></tr><tr><td style='border: 1px solid #dddddd'>0_to_200</td><td style='border: 1px solid #dddddd'>18</td><td style='border: 1px solid #dddddd'>prior_payments_delayed</td><td style='border: 1px solid #dddddd'>furniture</td><td style='border: 1px solid #dddddd'>1673</td><td style='border: 1px solid #dddddd'>less_100</td><td style='border: 1px solid #dddddd'>1_to_4</td><td style='border: 1px solid #dddddd'>2</td><td style='border: 1px solid #dddddd'>male</td><td style='border: 1px solid #dddddd'>none</td><td style='border: 1px solid #dddddd'>3</td><td style='border: 1px solid #dddddd'>car_other</td><td style='border: 1px solid #dddddd'>30</td><td style='border: 1px solid #dddddd'>none</td><td style='border: 1px solid #dddddd'>own</td><td style='border: 1px solid #dddddd'>2</td><td style='border: 1px solid #dddddd'>skilled</td><td style='border: 1px solid #dddddd'>1</td><td style='border: 1px solid #dddddd'>none</td><td style='border: 1px solid #dddddd'>yes</td><td style='border: 1px solid #dddddd'>Risk</td><td style='border: 1px solid #dddddd'>2019-09-17 22:00:35.589052+00:00</td></tr><tr><td style='border: 1px solid #dddddd'>no_checking</td><td style='border: 1px solid #dddddd'>44</td><td style='border: 1px solid #dddddd'>outstanding_credit</td><td style='border: 1px solid #dddddd'>radio_tv</td><td style='border: 1px solid #dddddd'>3476</td><td style='border: 1px solid #dddddd'>unknown</td><td style='border: 1px solid #dddddd'>greater_7</td><td style='border: 1px solid #dddddd'>4</td><td style='border: 1px solid #dddddd'>male</td><td style='border: 1px solid #dddddd'>co-applicant</td><td style='border: 1px solid #dddddd'>4</td><td style='border: 1px solid #dddddd'>unknown</td><td style='border: 1px solid #dddddd'>60</td><td style='border: 1px solid #dddddd'>none</td><td style='border: 1px solid #dddddd'>free</td><td style='border: 1px solid #dddddd'>2</td><td style='border: 1px solid #dddddd'>skilled</td><td style='border: 1px solid #dddddd'>2</td><td style='border: 1px solid #dddddd'>yes</td><td style='border: 1px solid #dddddd'>yes</td><td style='border: 1px solid #dddddd'>Risk</td><td style='border: 1px solid #dddddd'>2019-09-17 22:00:35.589082+00:00</td></tr><tr><td style='border: 1px solid #dddddd'>less_0</td><td style='border: 1px solid #dddddd'>8</td><td style='border: 1px solid #dddddd'>no_credits</td><td style='border: 1px solid #dddddd'>education</td><td style='border: 1px solid #dddddd'>803</td><td style='border: 1px solid #dddddd'>less_100</td><td style='border: 1px solid #dddddd'>unemployed</td><td style='border: 1px solid #dddddd'>1</td><td style='border: 1px solid #dddddd'>male</td><td style='border: 1px solid #dddddd'>none</td><td style='border: 1px solid #dddddd'>1</td><td style='border: 1px solid #dddddd'>savings_insurance</td><td style='border: 1px solid #dddddd'>19</td><td style='border: 1px solid #dddddd'>stores</td><td style='border: 1px solid #dddddd'>rent</td><td style='border: 1px solid #dddddd'>1</td><td style='border: 1px solid #dddddd'>skilled</td><td style='border: 1px solid #dddddd'>1</td><td style='border: 1px solid #dddddd'>none</td><td style='border: 1px solid #dddddd'>yes</td><td style='border: 1px solid #dddddd'>No Risk</td><td style='border: 1px solid #dddddd'>2019-09-17 22:00:35.589111+00:00</td></tr><tr><td style='border: 1px solid #dddddd'>0_to_200</td><td style='border: 1px solid #dddddd'>7</td><td style='border: 1px solid #dddddd'>all_credits_paid_back</td><td style='border: 1px solid #dddddd'>car_new</td><td style='border: 1px solid #dddddd'>250</td><td style='border: 1px solid #dddddd'>less_100</td><td style='border: 1px solid #dddddd'>unemployed</td><td style='border: 1px solid #dddddd'>1</td><td style='border: 1px solid #dddddd'>male</td><td style='border: 1px solid #dddddd'>none</td><td style='border: 1px solid #dddddd'>1</td><td style='border: 1px solid #dddddd'>real_estate</td><td style='border: 1px solid #dddddd'>19</td><td style='border: 1px solid #dddddd'>stores</td><td style='border: 1px solid #dddddd'>rent</td><td style='border: 1px solid #dddddd'>1</td><td style='border: 1px solid #dddddd'>skilled</td><td style='border: 1px solid #dddddd'>1</td><td style='border: 1px solid #dddddd'>none</td><td style='border: 1px solid #dddddd'>yes</td><td style='border: 1px solid #dddddd'>No Risk</td><td style='border: 1px solid #dddddd'>2019-09-17 22:00:35.589140+00:00</td></tr><tr><td style='border: 1px solid #dddddd'>0_to_200</td><td style='border: 1px solid #dddddd'>33</td><td style='border: 1px solid #dddddd'>credits_paid_to_date</td><td style='border: 1px solid #dddddd'>radio_tv</td><td style='border: 1px solid #dddddd'>3548</td><td style='border: 1px solid #dddddd'>100_to_500</td><td style='border: 1px solid #dddddd'>1_to_4</td><td style='border: 1px solid #dddddd'>3</td><td style='border: 1px solid #dddddd'>male</td><td style='border: 1px solid #dddddd'>none</td><td style='border: 1px solid #dddddd'>4</td><td style='border: 1px solid #dddddd'>car_other</td><td style='border: 1px solid #dddddd'>28</td><td style='border: 1px solid #dddddd'>none</td><td style='border: 1px solid #dddddd'>own</td><td style='border: 1px solid #dddddd'>2</td><td style='border: 1px solid #dddddd'>skilled</td><td style='border: 1px solid #dddddd'>1</td><td style='border: 1px solid #dddddd'>yes</td><td style='border: 1px solid #dddddd'>yes</td><td style='border: 1px solid #dddddd'>Risk</td><td style='border: 1px solid #dddddd'>2019-09-17 22:00:35.589169+00:00</td></tr><tr><td style='border: 1px solid #dddddd'>no_checking</td><td style='border: 1px solid #dddddd'>24</td><td style='border: 1px solid #dddddd'>prior_payments_delayed</td><td style='border: 1px solid #dddddd'>retraining</td><td style='border: 1px solid #dddddd'>4158</td><td style='border: 1px solid #dddddd'>100_to_500</td><td style='border: 1px solid #dddddd'>greater_7</td><td style='border: 1px solid #dddddd'>3</td><td style='border: 1px solid #dddddd'>female</td><td style='border: 1px solid #dddddd'>none</td><td style='border: 1px solid #dddddd'>2</td><td style='border: 1px solid #dddddd'>savings_insurance</td><td style='border: 1px solid #dddddd'>35</td><td style='border: 1px solid #dddddd'>stores</td><td style='border: 1px solid #dddddd'>own</td><td style='border: 1px solid #dddddd'>1</td><td style='border: 1px solid #dddddd'>unskilled</td><td style='border: 1px solid #dddddd'>2</td><td style='border: 1px solid #dddddd'>none</td><td style='border: 1px solid #dddddd'>yes</td><td style='border: 1px solid #dddddd'>Risk</td><td style='border: 1px solid #dddddd'>2019-09-17 22:00:35.589198+00:00</td></tr>\n",
       "            </table>\n",
       "        </body>\n",
       "        </HTML>"
      ],
      "text/plain": [
       "<IPython.core.display.HTML object>"
      ]
     },
     "metadata": {},
     "output_type": "display_data"
    }
   ],
   "source": [
    "subscription.feedback_logging.show_table()"
   ]
  },
  {
   "cell_type": "code",
   "execution_count": 39,
   "metadata": {
    "scrolled": true
   },
   "outputs": [
    {
     "name": "stdout",
     "output_type": "stream",
     "text": [
      "\n",
      "\n",
      "================================================================================\n",
      "\n",
      " Waiting for end of quality monitoring run e459aac3-3f43-430b-ba00-788688e4a7d4 \n",
      "\n",
      "================================================================================\n",
      "\n",
      "\n",
      "\n",
      "initializing\n",
      "completed\n",
      "\n",
      "---------------------------\n",
      " Successfully finished run \n",
      "---------------------------\n",
      "\n",
      "\n"
     ]
    }
   ],
   "source": [
    "run_details = subscription.quality_monitoring.run(background_mode=False)"
   ]
  },
  {
   "cell_type": "code",
   "execution_count": 40,
   "metadata": {
    "scrolled": true
   },
   "outputs": [
    {
     "data": {
      "text/html": [
       "<HTML>\n",
       "        <body>\n",
       "            <h3>QualityMetrics (binding_id=999, subscription_id=f44a976d-f6f7-4586-ad79-6fb91f36092b)</h3>\n",
       "            <table style='border: 1px solid #dddddd; font-family: Courier'>\n",
       "                <th style='border: 1px solid #dddddd'>ts</th><th style='border: 1px solid #dddddd'>id</th><th style='border: 1px solid #dddddd'>measurement_id</th><th style='border: 1px solid #dddddd'>value</th><th style='border: 1px solid #dddddd'>lower limit</th><th style='border: 1px solid #dddddd'>upper limit</th><th style='border: 1px solid #dddddd'>tags</th><th style='border: 1px solid #dddddd'>binding_id</th><th style='border: 1px solid #dddddd'>subscription_id</th><th style='border: 1px solid #dddddd'>deployment_id</th>\n",
       "                <tr><td style='border: 1px solid #dddddd'>2019-09-17 22:00:40.968000+00:00</td><td style='border: 1px solid #dddddd'>true_positive_rate</td><td style='border: 1px solid #dddddd'>7cc8c5fa-306f-408f-b89b-c3d9101a29b8</td><td style='border: 1px solid #dddddd'>0.42424242424242425</td><td style='border: 1px solid #dddddd'></td><td style='border: 1px solid #dddddd'></td><td style='border: 1px solid #dddddd'>model_type: original</td><td style='border: 1px solid #dddddd'>999</td><td style='border: 1px solid #dddddd'>f44a976d-f6f7-4586-ad79-6fb91f36092b</td><td style='border: 1px solid #dddddd'>1a5394df-4560-4e16-b21a-093269a5cc9d</td></tr><tr><td style='border: 1px solid #dddddd'>2019-09-17 22:00:40.968000+00:00</td><td style='border: 1px solid #dddddd'>area_under_roc</td><td style='border: 1px solid #dddddd'>7cc8c5fa-306f-408f-b89b-c3d9101a29b8</td><td style='border: 1px solid #dddddd'>0.689044289044289</td><td style='border: 1px solid #dddddd'>0.7</td><td style='border: 1px solid #dddddd'></td><td style='border: 1px solid #dddddd'>model_type: original</td><td style='border: 1px solid #dddddd'>999</td><td style='border: 1px solid #dddddd'>f44a976d-f6f7-4586-ad79-6fb91f36092b</td><td style='border: 1px solid #dddddd'>1a5394df-4560-4e16-b21a-093269a5cc9d</td></tr><tr><td style='border: 1px solid #dddddd'>2019-09-17 22:00:40.968000+00:00</td><td style='border: 1px solid #dddddd'>precision</td><td style='border: 1px solid #dddddd'>7cc8c5fa-306f-408f-b89b-c3d9101a29b8</td><td style='border: 1px solid #dddddd'>0.8235294117647058</td><td style='border: 1px solid #dddddd'></td><td style='border: 1px solid #dddddd'></td><td style='border: 1px solid #dddddd'>model_type: original</td><td style='border: 1px solid #dddddd'>999</td><td style='border: 1px solid #dddddd'>f44a976d-f6f7-4586-ad79-6fb91f36092b</td><td style='border: 1px solid #dddddd'>1a5394df-4560-4e16-b21a-093269a5cc9d</td></tr><tr><td style='border: 1px solid #dddddd'>2019-09-17 22:00:40.968000+00:00</td><td style='border: 1px solid #dddddd'>f1_measure</td><td style='border: 1px solid #dddddd'>7cc8c5fa-306f-408f-b89b-c3d9101a29b8</td><td style='border: 1px solid #dddddd'>0.5599999999999999</td><td style='border: 1px solid #dddddd'></td><td style='border: 1px solid #dddddd'></td><td style='border: 1px solid #dddddd'>model_type: original</td><td style='border: 1px solid #dddddd'>999</td><td style='border: 1px solid #dddddd'>f44a976d-f6f7-4586-ad79-6fb91f36092b</td><td style='border: 1px solid #dddddd'>1a5394df-4560-4e16-b21a-093269a5cc9d</td></tr><tr><td style='border: 1px solid #dddddd'>2019-09-17 22:00:40.968000+00:00</td><td style='border: 1px solid #dddddd'>accuracy</td><td style='border: 1px solid #dddddd'>7cc8c5fa-306f-408f-b89b-c3d9101a29b8</td><td style='border: 1px solid #dddddd'>0.7755102040816326</td><td style='border: 1px solid #dddddd'></td><td style='border: 1px solid #dddddd'></td><td style='border: 1px solid #dddddd'>model_type: original</td><td style='border: 1px solid #dddddd'>999</td><td style='border: 1px solid #dddddd'>f44a976d-f6f7-4586-ad79-6fb91f36092b</td><td style='border: 1px solid #dddddd'>1a5394df-4560-4e16-b21a-093269a5cc9d</td></tr><tr><td style='border: 1px solid #dddddd'>2019-09-17 22:00:40.968000+00:00</td><td style='border: 1px solid #dddddd'>log_loss</td><td style='border: 1px solid #dddddd'>7cc8c5fa-306f-408f-b89b-c3d9101a29b8</td><td style='border: 1px solid #dddddd'>0.42970919513286193</td><td style='border: 1px solid #dddddd'></td><td style='border: 1px solid #dddddd'></td><td style='border: 1px solid #dddddd'>model_type: original</td><td style='border: 1px solid #dddddd'>999</td><td style='border: 1px solid #dddddd'>f44a976d-f6f7-4586-ad79-6fb91f36092b</td><td style='border: 1px solid #dddddd'>1a5394df-4560-4e16-b21a-093269a5cc9d</td></tr><tr><td style='border: 1px solid #dddddd'>2019-09-17 22:00:40.968000+00:00</td><td style='border: 1px solid #dddddd'>false_positive_rate</td><td style='border: 1px solid #dddddd'>7cc8c5fa-306f-408f-b89b-c3d9101a29b8</td><td style='border: 1px solid #dddddd'>0.046153846153846156</td><td style='border: 1px solid #dddddd'></td><td style='border: 1px solid #dddddd'></td><td style='border: 1px solid #dddddd'>model_type: original</td><td style='border: 1px solid #dddddd'>999</td><td style='border: 1px solid #dddddd'>f44a976d-f6f7-4586-ad79-6fb91f36092b</td><td style='border: 1px solid #dddddd'>1a5394df-4560-4e16-b21a-093269a5cc9d</td></tr><tr><td style='border: 1px solid #dddddd'>2019-09-17 22:00:40.968000+00:00</td><td style='border: 1px solid #dddddd'>area_under_pr</td><td style='border: 1px solid #dddddd'>7cc8c5fa-306f-408f-b89b-c3d9101a29b8</td><td style='border: 1px solid #dddddd'>0.6833915384335552</td><td style='border: 1px solid #dddddd'></td><td style='border: 1px solid #dddddd'></td><td style='border: 1px solid #dddddd'>model_type: original</td><td style='border: 1px solid #dddddd'>999</td><td style='border: 1px solid #dddddd'>f44a976d-f6f7-4586-ad79-6fb91f36092b</td><td style='border: 1px solid #dddddd'>1a5394df-4560-4e16-b21a-093269a5cc9d</td></tr><tr><td style='border: 1px solid #dddddd'>2019-09-17 22:00:40.968000+00:00</td><td style='border: 1px solid #dddddd'>recall</td><td style='border: 1px solid #dddddd'>7cc8c5fa-306f-408f-b89b-c3d9101a29b8</td><td style='border: 1px solid #dddddd'>0.42424242424242425</td><td style='border: 1px solid #dddddd'></td><td style='border: 1px solid #dddddd'></td><td style='border: 1px solid #dddddd'>model_type: original</td><td style='border: 1px solid #dddddd'>999</td><td style='border: 1px solid #dddddd'>f44a976d-f6f7-4586-ad79-6fb91f36092b</td><td style='border: 1px solid #dddddd'>1a5394df-4560-4e16-b21a-093269a5cc9d</td></tr>\n",
       "            </table>\n",
       "        </body>\n",
       "        </HTML>"
      ],
      "text/plain": [
       "<IPython.core.display.HTML object>"
      ]
     },
     "metadata": {},
     "output_type": "display_data"
    }
   ],
   "source": [
    "subscription.quality_monitoring.show_table()"
   ]
  },
  {
   "cell_type": "code",
   "execution_count": 41,
   "metadata": {},
   "outputs": [
    {
     "data": {
      "image/png": "[encoded data removed]",
      "text/plain": [
       "<matplotlib.figure.Figure at 0x7f3069398c88>"
      ]
     },
     "metadata": {
      "needs_background": "light"
     },
     "output_type": "display_data"
    }
   ],
   "source": [
    "%matplotlib inline\n",
    "\n",
    "quality_pd = subscription.quality_monitoring.get_table_content(format='pandas')\n",
    "quality_pd.plot.barh(x='id', y='value');"
   ]
  },
  {
   "cell_type": "code",
   "execution_count": 42,
   "metadata": {
    "scrolled": true
   },
   "outputs": [
    {
     "data": {
      "text/plain": [
       "{'deployment_metrics': [{'asset': {'asset_id': '82eaa056-5cb2-421b-866f-1b15f1d5a6db',\n",
       "    'asset_type': 'model',\n",
       "    'created_at': '2019-09-12T15:54:59.177Z',\n",
       "    'name': 'GermanCreditRiskModelICP',\n",
       "    'url': 'http://ai-open-scale-ibm-aios-nginx-internal/v3/wml_instances/999/published_models/82eaa056-5cb2-421b-866f-1b15f1d5a6db'},\n",
       "   'deployment': {'created_at': '2019-09-12T15:54:59.360Z',\n",
       "    'deployment_id': '4f74117f-d8be-4df6-b874-b57f5a5ea8e0',\n",
       "    'deployment_rn': '',\n",
       "    'deployment_type': 'online',\n",
       "    'name': 'GermanCreditRiskModelICP',\n",
       "    'scoring_endpoint': {'request_headers': {'Content-Type': 'application/json'},\n",
       "     'url': 'http://ai-open-scale-ibm-aios-nginx-internal/v3/scoring/online/4f74117f-d8be-4df6-b874-b57f5a5ea8e0'},\n",
       "    'url': 'http://ai-open-scale-ibm-aios-nginx-internal/v3/wml_instances/999/deployments/4f74117f-d8be-4df6-b874-b57f5a5ea8e0'},\n",
       "   'metrics': [{'issues': 0,\n",
       "     'metric_type': 'performance',\n",
       "     'timestamp': '2019-09-12T15:01:03Z',\n",
       "     'value': {'records': 701.0, 'response_time': 103.37313906908854}},\n",
       "    {'issues': 1,\n",
       "     'metric_type': 'quality',\n",
       "     'timestamp': '2019-09-12T15:01:40Z',\n",
       "     'value': {'metrics': [{'name': 'auroc', 'threshold': 0.8, 'value': 0.77}],\n",
       "      'quality': 0.77,\n",
       "      'threshold': 0.8}},\n",
       "    {'issues': 1,\n",
       "     'metric_type': 'fairness',\n",
       "     'timestamp': '2019-09-17T21:57:11.388616Z',\n",
       "     'value': {'manual_labelling_store': 'Manual_Labeling_196e8ebb-c103-4383-990f-f18520f098e9',\n",
       "      'metrics': [{'bias_source': {'values': []},\n",
       "        'fairness_threshold': 0.98,\n",
       "        'feature': 'Age',\n",
       "        'majority': {'total_fav_percent': 75.0,\n",
       "         'total_rows_percent': 50.0,\n",
       "         'values': [{'distribution': {'[26, 27]': [{'count': 5,\n",
       "              'is_favourable': True,\n",
       "              'label': 'No Risk'}],\n",
       "            '[27, 28]': [{'count': 4,\n",
       "              'is_favourable': True,\n",
       "              'label': 'No Risk'}],\n",
       "            '[28, 29]': [{'count': 4,\n",
       "              'is_favourable': True,\n",
       "              'label': 'No Risk'}],\n",
       "            '[29, 30]': [{'count': 2,\n",
       "              'is_favourable': True,\n",
       "              'label': 'No Risk'}],\n",
       "            '[30, 31]': [{'count': 3,\n",
       "              'is_favourable': True,\n",
       "              'label': 'No Risk'}],\n",
       "            '[31, 32]': [{'count': 3,\n",
       "              'is_favourable': True,\n",
       "              'label': 'No Risk'},\n",
       "             {'count': 1, 'is_favourable': False, 'label': 'Risk'}],\n",
       "            '[32, 33]': [{'count': 1,\n",
       "              'is_favourable': True,\n",
       "              'label': 'No Risk'}],\n",
       "            '[33, 34]': [{'count': 3,\n",
       "              'is_favourable': True,\n",
       "              'label': 'No Risk'}],\n",
       "            '[34, 35]': [{'count': 1,\n",
       "              'is_favourable': True,\n",
       "              'label': 'No Risk'}],\n",
       "            '[35, 36]': [{'count': 3,\n",
       "              'is_favourable': True,\n",
       "              'label': 'No Risk'}],\n",
       "            '[36, 37]': [{'count': 1,\n",
       "              'is_favourable': True,\n",
       "              'label': 'No Risk'}],\n",
       "            '[37, 38]': [{'count': 8,\n",
       "              'is_favourable': True,\n",
       "              'label': 'No Risk'}],\n",
       "            '[38, 39]': [{'count': 3,\n",
       "              'is_favourable': True,\n",
       "              'label': 'No Risk'}],\n",
       "            '[39, 40]': [{'count': 2,\n",
       "              'is_favourable': True,\n",
       "              'label': 'No Risk'}],\n",
       "            '[40, 41]': [{'count': 5,\n",
       "              'is_favourable': True,\n",
       "              'label': 'No Risk'},\n",
       "             {'count': 1, 'is_favourable': False, 'label': 'Risk'}],\n",
       "            '[41, 42]': [{'count': 6,\n",
       "              'is_favourable': True,\n",
       "              'label': 'No Risk'},\n",
       "             {'count': 1, 'is_favourable': False, 'label': 'Risk'}],\n",
       "            '[42, 43]': [{'count': 1,\n",
       "              'is_favourable': True,\n",
       "              'label': 'No Risk'}],\n",
       "            '[43, 44]': [{'count': 3,\n",
       "              'is_favourable': True,\n",
       "              'label': 'No Risk'},\n",
       "             {'count': 1, 'is_favourable': False, 'label': 'Risk'}],\n",
       "            '[44, 45]': [{'count': 1,\n",
       "              'is_favourable': True,\n",
       "              'label': 'No Risk'}],\n",
       "            '[45, 46]': [{'count': 1,\n",
       "              'is_favourable': True,\n",
       "              'label': 'No Risk'}],\n",
       "            '[46, 47]': [{'count': 2,\n",
       "              'is_favourable': False,\n",
       "              'label': 'Risk'}],\n",
       "            '[47, 48]': [{'count': 2,\n",
       "              'is_favourable': False,\n",
       "              'label': 'Risk'}],\n",
       "            '[48, 49]': [{'count': 3,\n",
       "              'is_favourable': False,\n",
       "              'label': 'Risk'}],\n",
       "            '[50, 51]': [{'count': 4,\n",
       "              'is_favourable': False,\n",
       "              'label': 'Risk'}],\n",
       "            '[51, 52]': [{'count': 1,\n",
       "              'is_favourable': False,\n",
       "              'label': 'Risk'}],\n",
       "            '[52, 53]': [{'count': 2,\n",
       "              'is_favourable': False,\n",
       "              'label': 'Risk'}],\n",
       "            '[53, 54]': [{'count': 2,\n",
       "              'is_favourable': False,\n",
       "              'label': 'Risk'}],\n",
       "            '[54, 55]': [{'count': 1,\n",
       "              'is_favourable': False,\n",
       "              'label': 'Risk'}],\n",
       "            '[58, 59]': [{'count': 1,\n",
       "              'is_favourable': False,\n",
       "              'label': 'Risk'}],\n",
       "            '[59, 60]': [{'count': 2,\n",
       "              'is_favourable': False,\n",
       "              'label': 'Risk'}],\n",
       "            '[61, 62]': [{'count': 1,\n",
       "              'is_favourable': False,\n",
       "              'label': 'Risk'}]},\n",
       "           'distribution_ranges': {'[26, 27]': [26, 27],\n",
       "            '[27, 28]': [27, 28],\n",
       "            '[28, 29]': [28, 29],\n",
       "            '[29, 30]': [29, 30],\n",
       "            '[30, 31]': [30, 31],\n",
       "            '[31, 32]': [31, 32],\n",
       "            '[32, 33]': [32, 33],\n",
       "            '[33, 34]': [33, 34],\n",
       "            '[34, 35]': [34, 35],\n",
       "            '[35, 36]': [35, 36],\n",
       "            '[36, 37]': [36, 37],\n",
       "            '[37, 38]': [37, 38],\n",
       "            '[38, 39]': [38, 39],\n",
       "            '[39, 40]': [39, 40],\n",
       "            '[40, 41]': [40, 41],\n",
       "            '[41, 42]': [41, 42],\n",
       "            '[42, 43]': [42, 43],\n",
       "            '[43, 44]': [43, 44],\n",
       "            '[44, 45]': [44, 45],\n",
       "            '[45, 46]': [45, 46],\n",
       "            '[46, 47]': [46, 47],\n",
       "            '[47, 48]': [47, 48],\n",
       "            '[48, 49]': [48, 49],\n",
       "            '[49, 50]': [49, 50],\n",
       "            '[50, 51]': [50, 51],\n",
       "            '[51, 52]': [51, 52],\n",
       "            '[52, 53]': [52, 53],\n",
       "            '[53, 54]': [53, 54],\n",
       "            '[54, 55]': [54, 55],\n",
       "            '[58, 59]': [58, 59],\n",
       "            '[59, 60]': [59, 60],\n",
       "            '[61, 62]': [61, 62],\n",
       "            '[69, 70]': [69, 70],\n",
       "            '[70, 71]': [70, 71],\n",
       "            '[72, 73]': [72, 73],\n",
       "            '[74, 75]': [74, 75]},\n",
       "           'fav_class_percent': 75.0,\n",
       "           'payload_perturb_distribution': {'[26, 27]': [{'count': 5,\n",
       "              'is_favourable': True,\n",
       "              'label': 'No Risk'}],\n",
       "            '[27, 28]': [{'count': 4,\n",
       "              'is_favourable': True,\n",
       "              'label': 'No Risk'}],\n",
       "            '[28, 29]': [{'count': 4,\n",
       "              'is_favourable': True,\n",
       "              'label': 'No Risk'}],\n",
       "            '[29, 30]': [{'count': 2,\n",
       "              'is_favourable': True,\n",
       "              'label': 'No Risk'}],\n",
       "            '[30, 31]': [{'count': 3,\n",
       "              'is_favourable': True,\n",
       "              'label': 'No Risk'}],\n",
       "            '[31, 32]': [{'count': 3,\n",
       "              'is_favourable': True,\n",
       "              'label': 'No Risk'},\n",
       "             {'count': 1, 'is_favourable': False, 'label': 'Risk'}],\n",
       "            '[32, 33]': [{'count': 1,\n",
       "              'is_favourable': True,\n",
       "              'label': 'No Risk'}],\n",
       "            '[33, 34]': [{'count': 4,\n",
       "              'is_favourable': True,\n",
       "              'label': 'No Risk'}],\n",
       "            '[34, 35]': [{'count': 1,\n",
       "              'is_favourable': True,\n",
       "              'label': 'No Risk'}],\n",
       "            '[35, 36]': [{'count': 3,\n",
       "              'is_favourable': True,\n",
       "              'label': 'No Risk'}],\n",
       "            '[36, 37]': [{'count': 1,\n",
       "              'is_favourable': True,\n",
       "              'label': 'No Risk'}],\n",
       "            '[37, 38]': [{'count': 8,\n",
       "              'is_favourable': True,\n",
       "              'label': 'No Risk'}],\n",
       "            '[38, 39]': [{'count': 3,\n",
       "              'is_favourable': True,\n",
       "              'label': 'No Risk'}],\n",
       "            '[39, 40]': [{'count': 2,\n",
       "              'is_favourable': True,\n",
       "              'label': 'No Risk'}],\n",
       "            '[40, 41]': [{'count': 5,\n",
       "              'is_favourable': True,\n",
       "              'label': 'No Risk'},\n",
       "             {'count': 1, 'is_favourable': False, 'label': 'Risk'}],\n",
       "            '[41, 42]': [{'count': 6,\n",
       "              'is_favourable': True,\n",
       "              'label': 'No Risk'},\n",
       "             {'count': 1, 'is_favourable': False, 'label': 'Risk'}],\n",
       "            '[42, 43]': [{'count': 1,\n",
       "              'is_favourable': True,\n",
       "              'label': 'No Risk'}],\n",
       "            '[43, 44]': [{'count': 3,\n",
       "              'is_favourable': True,\n",
       "              'label': 'No Risk'},\n",
       "             {'count': 1, 'is_favourable': False, 'label': 'Risk'}],\n",
       "            '[44, 45]': [{'count': 1,\n",
       "              'is_favourable': True,\n",
       "              'label': 'No Risk'}],\n",
       "            '[45, 46]': [{'count': 1,\n",
       "              'is_favourable': True,\n",
       "              'label': 'No Risk'}],\n",
       "            '[46, 47]': [{'count': 2,\n",
       "              'is_favourable': False,\n",
       "              'label': 'Risk'}],\n",
       "            '[47, 48]': [{'count': 2,\n",
       "              'is_favourable': False,\n",
       "              'label': 'Risk'}],\n",
       "            '[48, 49]': [{'count': 3,\n",
       "              'is_favourable': False,\n",
       "              'label': 'Risk'}],\n",
       "            '[49, 50]': [{'count': 1,\n",
       "              'is_favourable': True,\n",
       "              'label': 'No Risk'}],\n",
       "            '[50, 51]': [{'count': 4,\n",
       "              'is_favourable': False,\n",
       "              'label': 'Risk'}],\n",
       "            '[51, 52]': [{'count': 1,\n",
       "              'is_favourable': False,\n",
       "              'label': 'Risk'}],\n",
       "            '[52, 53]': [{'count': 2,\n",
       "              'is_favourable': False,\n",
       "              'label': 'Risk'}],\n",
       "            '[53, 54]': [{'count': 2,\n",
       "              'is_favourable': False,\n",
       "              'label': 'Risk'}],\n",
       "            '[54, 55]': [{'count': 1,\n",
       "              'is_favourable': False,\n",
       "              'label': 'Risk'}],\n",
       "            '[58, 59]': [{'count': 1,\n",
       "              'is_favourable': False,\n",
       "              'label': 'Risk'}],\n",
       "            '[59, 60]': [{'count': 2,\n",
       "              'is_favourable': False,\n",
       "              'label': 'Risk'}],\n",
       "            '[61, 62]': [{'count': 1,\n",
       "              'is_favourable': False,\n",
       "              'label': 'Risk'}],\n",
       "            '[69, 70]': [{'count': 9,\n",
       "              'is_favourable': True,\n",
       "              'label': 'No Risk'}],\n",
       "            '[70, 71]': [{'count': 2,\n",
       "              'is_favourable': True,\n",
       "              'label': 'No Risk'}],\n",
       "            '[72, 73]': [{'count': 1,\n",
       "              'is_favourable': True,\n",
       "              'label': 'No Risk'}],\n",
       "            '[74, 75]': [{'count': 1,\n",
       "              'is_favourable': True,\n",
       "              'label': 'No Risk'}]},\n",
       "           'value': [26, 75]}]},\n",
       "        'minority': {'total_fav_percent': 79.0,\n",
       "         'total_rows_percent': 50.0,\n",
       "         'values': [{'distribution': {'[18, 19]': [{'count': 9,\n",
       "              'is_favourable': True,\n",
       "              'label': 'No Risk'}],\n",
       "            '[19, 20]': [{'count': 1,\n",
       "              'is_favourable': True,\n",
       "              'label': 'No Risk'}],\n",
       "            '[21, 22]': [{'count': 1,\n",
       "              'is_favourable': True,\n",
       "              'label': 'No Risk'}],\n",
       "            '[22, 23]': [{'count': 1,\n",
       "              'is_favourable': True,\n",
       "              'label': 'No Risk'}],\n",
       "            '[23, 24]': [{'count': 2,\n",
       "              'is_favourable': True,\n",
       "              'label': 'No Risk'}],\n",
       "            '[24, 25]': [{'count': 1,\n",
       "              'is_favourable': True,\n",
       "              'label': 'No Risk'}]},\n",
       "           'distribution_ranges': {'[18, 19]': [18, 19],\n",
       "            '[19, 20]': [19, 20],\n",
       "            '[20, 21]': [20, 21],\n",
       "            '[21, 22]': [21, 22],\n",
       "            '[22, 23]': [22, 23],\n",
       "            '[23, 24]': [23, 24],\n",
       "            '[24, 25]': [24, 25]},\n",
       "           'fairness_value': 1.053,\n",
       "           'fav_class_percent': 79.0,\n",
       "           'is_biased': False,\n",
       "           'payload_perturb_distribution': {'[18, 19]': [{'count': 33,\n",
       "              'is_favourable': True,\n",
       "              'label': 'No Risk'},\n",
       "             {'count': 5, 'is_favourable': False, 'label': 'Risk'}],\n",
       "            '[19, 20]': [{'count': 3,\n",
       "              'is_favourable': True,\n",
       "              'label': 'No Risk'},\n",
       "             {'count': 3, 'is_favourable': False, 'label': 'Risk'}],\n",
       "            '[20, 21]': [{'count': 5,\n",
       "              'is_favourable': True,\n",
       "              'label': 'No Risk'},\n",
       "             {'count': 6, 'is_favourable': False, 'label': 'Risk'}],\n",
       "            '[21, 22]': [{'count': 4,\n",
       "              'is_favourable': True,\n",
       "              'label': 'No Risk'},\n",
       "             {'count': 2, 'is_favourable': False, 'label': 'Risk'}],\n",
       "            '[22, 23]': [{'count': 9,\n",
       "              'is_favourable': True,\n",
       "              'label': 'No Risk'},\n",
       "             {'count': 3, 'is_favourable': False, 'label': 'Risk'}],\n",
       "            '[23, 24]': [{'count': 18,\n",
       "              'is_favourable': True,\n",
       "              'label': 'No Risk'},\n",
       "             {'count': 2, 'is_favourable': False, 'label': 'Risk'}],\n",
       "            '[24, 25]': [{'count': 7,\n",
       "              'is_favourable': True,\n",
       "              'label': 'No Risk'}]},\n",
       "           'value': [18, 25]}]},\n",
       "        'records_evaluated': {'additional_records': 0,\n",
       "         'newest_timestamp': '2019-09-12T16:10:11.452Z',\n",
       "         'number_of_records': 100,\n",
       "         'oldest_timestamp': '2019-09-12T16:09:32.327Z',\n",
       "         'perturbed_records': 100}},\n",
       "       {'fairness_threshold': 0.98,\n",
       "        'feature': 'Sex',\n",
       "        'majority': {'total_fav_percent': 77.0,\n",
       "         'total_rows_percent': 50.0,\n",
       "         'values': [{'distribution': {'male': [{'count': 52,\n",
       "              'is_favourable': True,\n",
       "              'label': 'No Risk'},\n",
       "             {'count': 20, 'is_favourable': False, 'label': 'Risk'}]},\n",
       "           'fav_class_percent': 77.0,\n",
       "           'payload_perturb_distribution': {'male': [{'count': 77,\n",
       "              'is_favourable': True,\n",
       "              'label': 'No Risk'},\n",
       "             {'count': 23, 'is_favourable': False, 'label': 'Risk'}]},\n",
       "           'value': 'male'}]},\n",
       "        'minority': {'total_fav_percent': 69.0,\n",
       "         'total_rows_percent': 50.0,\n",
       "         'values': [{'distribution': {'female': [{'count': 23,\n",
       "              'is_favourable': True,\n",
       "              'label': 'No Risk'},\n",
       "             {'count': 5, 'is_favourable': False, 'label': 'Risk'}]},\n",
       "           'fairness_value': 0.896,\n",
       "           'fav_class_percent': 69.0,\n",
       "           'is_biased': True,\n",
       "           'payload_perturb_distribution': {'female': [{'count': 69,\n",
       "              'is_favourable': True,\n",
       "              'label': 'No Risk'},\n",
       "             {'count': 31, 'is_favourable': False, 'label': 'Risk'}]},\n",
       "           'value': 'female'}]},\n",
       "        'records_evaluated': {'additional_records': 0,\n",
       "         'newest_timestamp': '2019-09-12T16:10:11.452Z',\n",
       "         'number_of_records': 100,\n",
       "         'oldest_timestamp': '2019-09-12T16:09:32.327Z',\n",
       "         'perturbed_records': 100}}],\n",
       "      'perturbed_data_size': 200,\n",
       "      'response_time': '1.598562',\n",
       "      'rows_analyzed': 100,\n",
       "      'score_type': 'desperate impact'}},\n",
       "    {'issues': 1,\n",
       "     'metric_type': 'debiased_fairness',\n",
       "     'timestamp': '2019-09-17T21:57:11.388616Z',\n",
       "     'value': {'corrected_records': 0,\n",
       "      'debiased': True,\n",
       "      'manual_labelling_store': 'Manual_Labeling_196e8ebb-c103-4383-990f-f18520f098e9',\n",
       "      'metrics': [{'bias_source': {'values': []},\n",
       "        'fairness_threshold': 0.98,\n",
       "        'feature': 'Age',\n",
       "        'majority': {'total_fav_percent': 75.0,\n",
       "         'total_rows_percent': 50.0,\n",
       "         'values': [{'distribution': {'[26, 27]': [{'count': 5,\n",
       "              'is_favourable': True,\n",
       "              'label': 'No Risk'}],\n",
       "            '[27, 28]': [{'count': 4,\n",
       "              'is_favourable': True,\n",
       "              'label': 'No Risk'}],\n",
       "            '[28, 29]': [{'count': 4,\n",
       "              'is_favourable': True,\n",
       "              'label': 'No Risk'}],\n",
       "            '[29, 30]': [{'count': 2,\n",
       "              'is_favourable': True,\n",
       "              'label': 'No Risk'}],\n",
       "            '[30, 31]': [{'count': 3,\n",
       "              'is_favourable': True,\n",
       "              'label': 'No Risk'}],\n",
       "            '[31, 32]': [{'count': 3,\n",
       "              'is_favourable': True,\n",
       "              'label': 'No Risk'},\n",
       "             {'count': 1, 'is_favourable': False, 'label': 'Risk'}],\n",
       "            '[32, 33]': [{'count': 1,\n",
       "              'is_favourable': True,\n",
       "              'label': 'No Risk'}],\n",
       "            '[33, 34]': [{'count': 4,\n",
       "              'is_favourable': True,\n",
       "              'label': 'No Risk'}],\n",
       "            '[34, 35]': [{'count': 1,\n",
       "              'is_favourable': True,\n",
       "              'label': 'No Risk'}],\n",
       "            '[35, 36]': [{'count': 3,\n",
       "              'is_favourable': True,\n",
       "              'label': 'No Risk'}],\n",
       "            '[36, 37]': [{'count': 1,\n",
       "              'is_favourable': True,\n",
       "              'label': 'No Risk'}],\n",
       "            '[37, 38]': [{'count': 8,\n",
       "              'is_favourable': True,\n",
       "              'label': 'No Risk'}],\n",
       "            '[38, 39]': [{'count': 3,\n",
       "              'is_favourable': True,\n",
       "              'label': 'No Risk'}],\n",
       "            '[39, 40]': [{'count': 2,\n",
       "              'is_favourable': True,\n",
       "              'label': 'No Risk'}],\n",
       "            '[40, 41]': [{'count': 5,\n",
       "              'is_favourable': True,\n",
       "              'label': 'No Risk'},\n",
       "             {'count': 1, 'is_favourable': False, 'label': 'Risk'}],\n",
       "            '[41, 42]': [{'count': 6,\n",
       "              'is_favourable': True,\n",
       "              'label': 'No Risk'},\n",
       "             {'count': 1, 'is_favourable': False, 'label': 'Risk'}],\n",
       "            '[42, 43]': [{'count': 1,\n",
       "              'is_favourable': True,\n",
       "              'label': 'No Risk'}],\n",
       "            '[43, 44]': [{'count': 3,\n",
       "              'is_favourable': True,\n",
       "              'label': 'No Risk'},\n",
       "             {'count': 1, 'is_favourable': False, 'label': 'Risk'}],\n",
       "            '[44, 45]': [{'count': 1,\n",
       "              'is_favourable': True,\n",
       "              'label': 'No Risk'}],\n",
       "            '[45, 46]': [{'count': 1,\n",
       "              'is_favourable': True,\n",
       "              'label': 'No Risk'}],\n",
       "            '[46, 47]': [{'count': 2,\n",
       "              'is_favourable': False,\n",
       "              'label': 'Risk'}],\n",
       "            '[47, 48]': [{'count': 2,\n",
       "              'is_favourable': False,\n",
       "              'label': 'Risk'}],\n",
       "            '[48, 49]': [{'count': 3,\n",
       "              'is_favourable': False,\n",
       "              'label': 'Risk'}],\n",
       "            '[49, 50]': [{'count': 1,\n",
       "              'is_favourable': True,\n",
       "              'label': 'No Risk'}],\n",
       "            '[50, 51]': [{'count': 4,\n",
       "              'is_favourable': False,\n",
       "              'label': 'Risk'}],\n",
       "            '[51, 52]': [{'count': 1,\n",
       "              'is_favourable': False,\n",
       "              'label': 'Risk'}],\n",
       "            '[52, 53]': [{'count': 2,\n",
       "              'is_favourable': False,\n",
       "              'label': 'Risk'}],\n",
       "            '[53, 54]': [{'count': 2,\n",
       "              'is_favourable': False,\n",
       "              'label': 'Risk'}],\n",
       "            '[54, 55]': [{'count': 1,\n",
       "              'is_favourable': False,\n",
       "              'label': 'Risk'}],\n",
       "            '[58, 59]': [{'count': 1,\n",
       "              'is_favourable': False,\n",
       "              'label': 'Risk'}],\n",
       "            '[59, 60]': [{'count': 2,\n",
       "              'is_favourable': False,\n",
       "              'label': 'Risk'}],\n",
       "            '[61, 62]': [{'count': 1,\n",
       "              'is_favourable': False,\n",
       "              'label': 'Risk'}],\n",
       "            '[69, 70]': [{'count': 9,\n",
       "              'is_favourable': True,\n",
       "              'label': 'No Risk'}],\n",
       "            '[70, 71]': [{'count': 2,\n",
       "              'is_favourable': True,\n",
       "              'label': 'No Risk'}],\n",
       "            '[72, 73]': [{'count': 1,\n",
       "              'is_favourable': True,\n",
       "              'label': 'No Risk'}],\n",
       "            '[74, 75]': [{'count': 1,\n",
       "              'is_favourable': True,\n",
       "              'label': 'No Risk'}]},\n",
       "           'distribution_ranges': {'[26, 27]': [26, 27],\n",
       "            '[27, 28]': [27, 28],\n",
       "            '[28, 29]': [28, 29],\n",
       "            '[29, 30]': [29, 30],\n",
       "            '[30, 31]': [30, 31],\n",
       "            '[31, 32]': [31, 32],\n",
       "            '[32, 33]': [32, 33],\n",
       "            '[33, 34]': [33, 34],\n",
       "            '[34, 35]': [34, 35],\n",
       "            '[35, 36]': [35, 36],\n",
       "            '[36, 37]': [36, 37],\n",
       "            '[37, 38]': [37, 38],\n",
       "            '[38, 39]': [38, 39],\n",
       "            '[39, 40]': [39, 40],\n",
       "            '[40, 41]': [40, 41],\n",
       "            '[41, 42]': [41, 42],\n",
       "            '[42, 43]': [42, 43],\n",
       "            '[43, 44]': [43, 44],\n",
       "            '[44, 45]': [44, 45],\n",
       "            '[45, 46]': [45, 46],\n",
       "            '[46, 47]': [46, 47],\n",
       "            '[47, 48]': [47, 48],\n",
       "            '[48, 49]': [48, 49],\n",
       "            '[49, 50]': [49, 50],\n",
       "            '[50, 51]': [50, 51],\n",
       "            '[51, 52]': [51, 52],\n",
       "            '[52, 53]': [52, 53],\n",
       "            '[53, 54]': [53, 54],\n",
       "            '[54, 55]': [54, 55],\n",
       "            '[58, 59]': [58, 59],\n",
       "            '[59, 60]': [59, 60],\n",
       "            '[61, 62]': [61, 62],\n",
       "            '[69, 70]': [69, 70],\n",
       "            '[70, 71]': [70, 71],\n",
       "            '[72, 73]': [72, 73],\n",
       "            '[74, 75]': [74, 75]},\n",
       "           'fav_class_percent': 75.0,\n",
       "           'value': [26, 75]}]},\n",
       "        'minority': {'total_fav_percent': 79.0,\n",
       "         'total_rows_percent': 50.0,\n",
       "         'values': [{'distribution': {'[18, 19]': [{'count': 33,\n",
       "              'is_favourable': True,\n",
       "              'label': 'No Risk'},\n",
       "             {'count': 5, 'is_favourable': False, 'label': 'Risk'}],\n",
       "            '[19, 20]': [{'count': 3,\n",
       "              'is_favourable': True,\n",
       "              'label': 'No Risk'},\n",
       "             {'count': 3, 'is_favourable': False, 'label': 'Risk'}],\n",
       "            '[20, 21]': [{'count': 5,\n",
       "              'is_favourable': True,\n",
       "              'label': 'No Risk'},\n",
       "             {'count': 6, 'is_favourable': False, 'label': 'Risk'}],\n",
       "            '[21, 22]': [{'count': 4,\n",
       "              'is_favourable': True,\n",
       "              'label': 'No Risk'},\n",
       "             {'count': 2, 'is_favourable': False, 'label': 'Risk'}],\n",
       "            '[22, 23]': [{'count': 9,\n",
       "              'is_favourable': True,\n",
       "              'label': 'No Risk'},\n",
       "             {'count': 3, 'is_favourable': False, 'label': 'Risk'}],\n",
       "            '[23, 24]': [{'count': 18,\n",
       "              'is_favourable': True,\n",
       "              'label': 'No Risk'},\n",
       "             {'count': 2, 'is_favourable': False, 'label': 'Risk'}],\n",
       "            '[24, 25]': [{'count': 7,\n",
       "              'is_favourable': True,\n",
       "              'label': 'No Risk'}]},\n",
       "           'distribution_ranges': {'[18, 19]': [18, 19],\n",
       "            '[19, 20]': [19, 20],\n",
       "            '[20, 21]': [20, 21],\n",
       "            '[21, 22]': [21, 22],\n",
       "            '[22, 23]': [22, 23],\n",
       "            '[23, 24]': [23, 24],\n",
       "            '[24, 25]': [24, 25]},\n",
       "           'fairness_value': 1.053,\n",
       "           'fav_class_percent': 79.0,\n",
       "           'is_biased': False,\n",
       "           'value': [18, 25]}]},\n",
       "        'records_evaluated': {'additional_records': 0,\n",
       "         'newest_timestamp': '2019-09-12T16:10:11.452Z',\n",
       "         'number_of_records': 100,\n",
       "         'oldest_timestamp': '2019-09-12T16:09:32.327Z',\n",
       "         'perturbed_records': 100}},\n",
       "       {'fairness_threshold': 0.98,\n",
       "        'feature': 'Sex',\n",
       "        'majority': {'total_fav_percent': 77.0,\n",
       "         'total_rows_percent': 50.0,\n",
       "         'values': [{'distribution': {'male': [{'count': 77,\n",
       "              'is_favourable': True,\n",
       "              'label': 'No Risk'},\n",
       "             {'count': 23, 'is_favourable': False, 'label': 'Risk'}]},\n",
       "           'fav_class_percent': 77.0,\n",
       "           'value': 'male'}]},\n",
       "        'minority': {'total_fav_percent': 69.0,\n",
       "         'total_rows_percent': 50.0,\n",
       "         'values': [{'distribution': {'female': [{'count': 69,\n",
       "              'is_favourable': True,\n",
       "              'label': 'No Risk'},\n",
       "             {'count': 31, 'is_favourable': False, 'label': 'Risk'}]},\n",
       "           'fairness_value': 0.896,\n",
       "           'fav_class_percent': 69.0,\n",
       "           'is_biased': True,\n",
       "           'value': 'female'}]},\n",
       "        'records_evaluated': {'additional_records': 0,\n",
       "         'newest_timestamp': '2019-09-12T16:10:11.452Z',\n",
       "         'number_of_records': 100,\n",
       "         'oldest_timestamp': '2019-09-12T16:09:32.327Z',\n",
       "         'perturbed_records': 100}}],\n",
       "      'perturbed_data_size': 200,\n",
       "      'response_time': '1.908316',\n",
       "      'rows_analyzed': 100,\n",
       "      'score_type': 'desperate impact'}},\n",
       "    {'issues': 1,\n",
       "     'metric_type': 'quality',\n",
       "     'timestamp': '2019-09-17T21:56:18.570Z',\n",
       "     'value': {'metrics': [{'name': 'true_positive_rate',\n",
       "        'value': 0.4444444444444444},\n",
       "       {'name': 'area_under_roc', 'value': 0.6899641577060932},\n",
       "       {'name': 'precision', 'value': 0.8},\n",
       "       {'name': 'f1_measure', 'value': 0.5714285714285714},\n",
       "       {'name': 'accuracy', 'value': 0.7551020408163265},\n",
       "       {'name': 'log_loss', 'value': 0.5431961331961215},\n",
       "       {'name': 'false_positive_rate', 'value': 0.06451612903225806},\n",
       "       {'name': 'area_under_pr', 'value': 0.6798185941043084},\n",
       "       {'name': 'recall', 'value': 0.4444444444444444}],\n",
       "      'quality': 0.6899641577060932,\n",
       "      'threshold': 0.95}},\n",
       "    {'issues': 1,\n",
       "     'metric_type': 'drift',\n",
       "     'timestamp': '2019-09-17T21:58:34.998930Z',\n",
       "     'value': {'metrics': [{'threshold': 0.05,\n",
       "        'name': 'drift_magnitude',\n",
       "        'value': 0.21000000000000008},\n",
       "       {'name': 'predicted_accuracy', 'value': 0.572}]}}],\n",
       "   'subscription': {'subscription_id': '196e8ebb-c103-4383-990f-f18520f098e9',\n",
       "    'url': '/v1/data_marts/00000000-0000-0000-0000-000000000000/service_bindings/999/subscriptions/196e8ebb-c103-4383-990f-f18520f098e9'}},\n",
       "  {'asset': {'asset_id': 'c86dbff0-f996-46bc-bee9-afc2c518b883',\n",
       "    'asset_type': 'model',\n",
       "    'created_at': '2019-09-16T22:11:21.538Z',\n",
       "    'name': 'scottda Credit Risk Model',\n",
       "    'url': 'http://ai-open-scale-ibm-aios-nginx-internal/v3/wml_instances/999/published_models/c86dbff0-f996-46bc-bee9-afc2c518b883'},\n",
       "   'deployment': {'created_at': '2019-09-16T22:11:21.609Z',\n",
       "    'deployment_id': '590e6413-f76f-4cd1-ba29-717d76b48283',\n",
       "    'deployment_rn': '',\n",
       "    'deployment_type': 'online',\n",
       "    'name': 'scottda Credit Risk Deployment - Final',\n",
       "    'scoring_endpoint': {'request_headers': {'Content-Type': 'application/json'},\n",
       "     'url': 'http://ai-open-scale-ibm-aios-nginx-internal/v3/scoring/online/590e6413-f76f-4cd1-ba29-717d76b48283'},\n",
       "    'url': 'http://ai-open-scale-ibm-aios-nginx-internal/v3/wml_instances/999/deployments/590e6413-f76f-4cd1-ba29-717d76b48283'},\n",
       "   'metrics': [{'issues': 0,\n",
       "     'metric_type': 'performance',\n",
       "     'timestamp': '2019-09-16T21:47:01Z',\n",
       "     'value': {'records': 240, 'response_time': 174.29416727807677}},\n",
       "    {'issues': 0,\n",
       "     'metric_type': 'quality',\n",
       "     'timestamp': '2019-09-16T21:37:42Z',\n",
       "     'value': {'metrics': [{'name': 'auroc', 'threshold': 0.7, 'value': 0.76}],\n",
       "      'quality': 0.76,\n",
       "      'threshold': 0.7}},\n",
       "    {'issues': 1,\n",
       "     'metric_type': 'debiased_fairness',\n",
       "     'timestamp': '2019-09-17T21:26:52.100516Z',\n",
       "     'value': {'corrected_records': 0,\n",
       "      'debiased': True,\n",
       "      'manual_labelling_store': 'Manual_Labeling_7106529b-7e5f-41c3-bcb2-9bb4929348ba',\n",
       "      'metrics': [{'fairness_threshold': 0.95,\n",
       "        'feature': 'Sex',\n",
       "        'majority': {'total_fav_percent': 80.5,\n",
       "         'total_rows_percent': 50.0,\n",
       "         'values': [{'distribution': {'male': [{'count': 161,\n",
       "              'is_favourable': True,\n",
       "              'label': 'No Risk'},\n",
       "             {'count': 39, 'is_favourable': False, 'label': 'Risk'}]},\n",
       "           'fav_class_percent': 80.5,\n",
       "           'value': 'male'}]},\n",
       "        'minority': {'total_fav_percent': 72.5,\n",
       "         'total_rows_percent': 50.0,\n",
       "         'values': [{'distribution': {'female': [{'count': 145,\n",
       "              'is_favourable': True,\n",
       "              'label': 'No Risk'},\n",
       "             {'count': 55, 'is_favourable': False, 'label': 'Risk'}]},\n",
       "           'fairness_value': 0.901,\n",
       "           'fav_class_percent': 72.5,\n",
       "           'is_biased': True,\n",
       "           'value': 'female'}]},\n",
       "        'records_evaluated': {'additional_records': 0,\n",
       "         'newest_timestamp': '2019-09-16T22:25:59.080Z',\n",
       "         'number_of_records': 200,\n",
       "         'oldest_timestamp': '2019-09-16T22:25:59.080Z',\n",
       "         'perturbed_records': 200}},\n",
       "       {'bias_source': {'values': []},\n",
       "        'fairness_threshold': 0.95,\n",
       "        'feature': 'Age',\n",
       "        'majority': {'total_fav_percent': 79.0,\n",
       "         'total_rows_percent': 50.0,\n",
       "         'values': [{'distribution': {'[26, 28]': [{'count': 25,\n",
       "              'is_favourable': True,\n",
       "              'label': 'No Risk'}],\n",
       "            '[28, 30]': [{'count': 10,\n",
       "              'is_favourable': True,\n",
       "              'label': 'No Risk'}],\n",
       "            '[30, 32]': [{'count': 9,\n",
       "              'is_favourable': True,\n",
       "              'label': 'No Risk'}],\n",
       "            '[32, 34]': [{'count': 14,\n",
       "              'is_favourable': True,\n",
       "              'label': 'No Risk'}],\n",
       "            '[34, 36]': [{'count': 13,\n",
       "              'is_favourable': True,\n",
       "              'label': 'No Risk'}],\n",
       "            '[36, 38]': [{'count': 9,\n",
       "              'is_favourable': True,\n",
       "              'label': 'No Risk'},\n",
       "             {'count': 2, 'is_favourable': False, 'label': 'Risk'}],\n",
       "            '[38, 40]': [{'count': 12,\n",
       "              'is_favourable': True,\n",
       "              'label': 'No Risk'},\n",
       "             {'count': 3, 'is_favourable': False, 'label': 'Risk'}],\n",
       "            '[40, 42]': [{'count': 11,\n",
       "              'is_favourable': True,\n",
       "              'label': 'No Risk'},\n",
       "             {'count': 4, 'is_favourable': False, 'label': 'Risk'}],\n",
       "            '[42, 44]': [{'count': 8,\n",
       "              'is_favourable': True,\n",
       "              'label': 'No Risk'},\n",
       "             {'count': 4, 'is_favourable': False, 'label': 'Risk'}],\n",
       "            '[44, 46]': [{'count': 5,\n",
       "              'is_favourable': True,\n",
       "              'label': 'No Risk'},\n",
       "             {'count': 6, 'is_favourable': False, 'label': 'Risk'}],\n",
       "            '[46, 48]': [{'count': 1,\n",
       "              'is_favourable': True,\n",
       "              'label': 'No Risk'},\n",
       "             {'count': 4, 'is_favourable': False, 'label': 'Risk'}],\n",
       "            '[48, 50]': [{'count': 8,\n",
       "              'is_favourable': True,\n",
       "              'label': 'No Risk'},\n",
       "             {'count': 4, 'is_favourable': False, 'label': 'Risk'}],\n",
       "            '[50, 52]': [{'count': 1,\n",
       "              'is_favourable': True,\n",
       "              'label': 'No Risk'},\n",
       "             {'count': 7, 'is_favourable': False, 'label': 'Risk'}],\n",
       "            '[52, 54]': [{'count': 2,\n",
       "              'is_favourable': False,\n",
       "              'label': 'Risk'}],\n",
       "            '[54, 56]': [{'count': 1,\n",
       "              'is_favourable': False,\n",
       "              'label': 'Risk'}],\n",
       "            '[56, 58]': [{'count': 1,\n",
       "              'is_favourable': False,\n",
       "              'label': 'Risk'}],\n",
       "            '[58, 60]': [{'count': 2,\n",
       "              'is_favourable': False,\n",
       "              'label': 'Risk'}],\n",
       "            '[62, 64]': [{'count': 1,\n",
       "              'is_favourable': False,\n",
       "              'label': 'Risk'}],\n",
       "            '[68, 70]': [{'count': 25,\n",
       "              'is_favourable': True,\n",
       "              'label': 'No Risk'},\n",
       "             {'count': 1, 'is_favourable': False, 'label': 'Risk'}],\n",
       "            '[70, 72]': [{'count': 3,\n",
       "              'is_favourable': True,\n",
       "              'label': 'No Risk'}],\n",
       "            '[74, 75]': [{'count': 4,\n",
       "              'is_favourable': True,\n",
       "              'label': 'No Risk'}]},\n",
       "           'distribution_ranges': {'[26, 28]': [26, 28],\n",
       "            '[28, 30]': [28, 30],\n",
       "            '[30, 32]': [30, 32],\n",
       "            '[32, 34]': [32, 34],\n",
       "            '[34, 36]': [34, 36],\n",
       "            '[36, 38]': [36, 38],\n",
       "            '[38, 40]': [38, 40],\n",
       "            '[40, 42]': [40, 42],\n",
       "            '[42, 44]': [42, 44],\n",
       "            '[44, 46]': [44, 46],\n",
       "            '[46, 48]': [46, 48],\n",
       "            '[48, 50]': [48, 50],\n",
       "            '[50, 52]': [50, 52],\n",
       "            '[52, 54]': [52, 54],\n",
       "            '[54, 56]': [54, 56],\n",
       "            '[56, 58]': [56, 58],\n",
       "            '[58, 60]': [58, 60],\n",
       "            '[62, 64]': [62, 64],\n",
       "            '[68, 70]': [68, 70],\n",
       "            '[70, 72]': [70, 72],\n",
       "            '[74, 75]': [74, 75]},\n",
       "           'fav_class_percent': 79.0,\n",
       "           'value': [26, 75]}]},\n",
       "        'minority': {'total_fav_percent': 84.0,\n",
       "         'total_rows_percent': 50.0,\n",
       "         'values': [{'distribution': {'[18, 19]': [{'count': 68,\n",
       "              'is_favourable': True,\n",
       "              'label': 'No Risk'},\n",
       "             {'count': 12, 'is_favourable': False, 'label': 'Risk'}],\n",
       "            '[19, 20]': [{'count': 11,\n",
       "              'is_favourable': True,\n",
       "              'label': 'No Risk'}],\n",
       "            '[20, 22]': [{'count': 28,\n",
       "              'is_favourable': True,\n",
       "              'label': 'No Risk'},\n",
       "             {'count': 10, 'is_favourable': False, 'label': 'Risk'}],\n",
       "            '[22, 24]': [{'count': 34,\n",
       "              'is_favourable': True,\n",
       "              'label': 'No Risk'},\n",
       "             {'count': 8, 'is_favourable': False, 'label': 'Risk'}],\n",
       "            '[24, 25]': [{'count': 27,\n",
       "              'is_favourable': True,\n",
       "              'label': 'No Risk'},\n",
       "             {'count': 2, 'is_favourable': False, 'label': 'Risk'}]},\n",
       "           'distribution_ranges': {'[18, 19]': [18, 19],\n",
       "            '[19, 20]': [19, 20],\n",
       "            '[20, 22]': [20, 22],\n",
       "            '[22, 24]': [22, 24],\n",
       "            '[24, 25]': [24, 25]},\n",
       "           'fairness_value': 1.063,\n",
       "           'fav_class_percent': 84.0,\n",
       "           'is_biased': False,\n",
       "           'value': [18, 25]}]},\n",
       "        'records_evaluated': {'additional_records': 0,\n",
       "         'newest_timestamp': '2019-09-16T22:25:59.080Z',\n",
       "         'number_of_records': 200,\n",
       "         'oldest_timestamp': '2019-09-16T22:25:59.080Z',\n",
       "         'perturbed_records': 200}}],\n",
       "      'perturbed_data_size': 400,\n",
       "      'response_time': '2.711762',\n",
       "      'rows_analyzed': 200,\n",
       "      'score_type': 'desperate impact'}},\n",
       "    {'issues': 1,\n",
       "     'metric_type': 'fairness',\n",
       "     'timestamp': '2019-09-17T21:26:52.100516Z',\n",
       "     'value': {'manual_labelling_store': 'Manual_Labeling_7106529b-7e5f-41c3-bcb2-9bb4929348ba',\n",
       "      'metrics': [{'fairness_threshold': 0.95,\n",
       "        'feature': 'Sex',\n",
       "        'majority': {'total_fav_percent': 80.5,\n",
       "         'total_rows_percent': 50.0,\n",
       "         'values': [{'distribution': {'male': [{'count': 91,\n",
       "              'is_favourable': True,\n",
       "              'label': 'No Risk'},\n",
       "             {'count': 35, 'is_favourable': False, 'label': 'Risk'}]},\n",
       "           'fav_class_percent': 80.5,\n",
       "           'payload_perturb_distribution': {'male': [{'count': 161,\n",
       "              'is_favourable': True,\n",
       "              'label': 'No Risk'},\n",
       "             {'count': 39, 'is_favourable': False, 'label': 'Risk'}]},\n",
       "           'value': 'male'}]},\n",
       "        'minority': {'total_fav_percent': 72.5,\n",
       "         'total_rows_percent': 50.0,\n",
       "         'values': [{'distribution': {'female': [{'count': 67,\n",
       "              'is_favourable': True,\n",
       "              'label': 'No Risk'},\n",
       "             {'count': 7, 'is_favourable': False, 'label': 'Risk'}]},\n",
       "           'fairness_value': 0.901,\n",
       "           'fav_class_percent': 72.5,\n",
       "           'is_biased': True,\n",
       "           'payload_perturb_distribution': {'female': [{'count': 145,\n",
       "              'is_favourable': True,\n",
       "              'label': 'No Risk'},\n",
       "             {'count': 55, 'is_favourable': False, 'label': 'Risk'}]},\n",
       "           'value': 'female'}]},\n",
       "        'records_evaluated': {'additional_records': 0,\n",
       "         'newest_timestamp': '2019-09-16T22:25:59.080Z',\n",
       "         'number_of_records': 200,\n",
       "         'oldest_timestamp': '2019-09-16T22:25:59.080Z',\n",
       "         'perturbed_records': 200}},\n",
       "       {'bias_source': {'values': []},\n",
       "        'fairness_threshold': 0.95,\n",
       "        'feature': 'Age',\n",
       "        'majority': {'total_fav_percent': 79.0,\n",
       "         'total_rows_percent': 50.0,\n",
       "         'values': [{'distribution': {'[26, 28]': [{'count': 25,\n",
       "              'is_favourable': True,\n",
       "              'label': 'No Risk'}],\n",
       "            '[28, 30]': [{'count': 10,\n",
       "              'is_favourable': True,\n",
       "              'label': 'No Risk'}],\n",
       "            '[30, 32]': [{'count': 9,\n",
       "              'is_favourable': True,\n",
       "              'label': 'No Risk'}],\n",
       "            '[32, 34]': [{'count': 13,\n",
       "              'is_favourable': True,\n",
       "              'label': 'No Risk'}],\n",
       "            '[34, 36]': [{'count': 8,\n",
       "              'is_favourable': True,\n",
       "              'label': 'No Risk'}],\n",
       "            '[36, 38]': [{'count': 9,\n",
       "              'is_favourable': True,\n",
       "              'label': 'No Risk'},\n",
       "             {'count': 2, 'is_favourable': False, 'label': 'Risk'}],\n",
       "            '[38, 40]': [{'count': 12,\n",
       "              'is_favourable': True,\n",
       "              'label': 'No Risk'},\n",
       "             {'count': 3, 'is_favourable': False, 'label': 'Risk'}],\n",
       "            '[40, 42]': [{'count': 11,\n",
       "              'is_favourable': True,\n",
       "              'label': 'No Risk'},\n",
       "             {'count': 4, 'is_favourable': False, 'label': 'Risk'}],\n",
       "            '[42, 44]': [{'count': 8,\n",
       "              'is_favourable': True,\n",
       "              'label': 'No Risk'},\n",
       "             {'count': 4, 'is_favourable': False, 'label': 'Risk'}],\n",
       "            '[44, 46]': [{'count': 5,\n",
       "              'is_favourable': True,\n",
       "              'label': 'No Risk'},\n",
       "             {'count': 6, 'is_favourable': False, 'label': 'Risk'}],\n",
       "            '[46, 48]': [{'count': 1,\n",
       "              'is_favourable': True,\n",
       "              'label': 'No Risk'},\n",
       "             {'count': 4, 'is_favourable': False, 'label': 'Risk'}],\n",
       "            '[48, 50]': [{'count': 1,\n",
       "              'is_favourable': True,\n",
       "              'label': 'No Risk'},\n",
       "             {'count': 4, 'is_favourable': False, 'label': 'Risk'}],\n",
       "            '[50, 52]': [{'count': 1,\n",
       "              'is_favourable': True,\n",
       "              'label': 'No Risk'},\n",
       "             {'count': 7, 'is_favourable': False, 'label': 'Risk'}],\n",
       "            '[52, 54]': [{'count': 2,\n",
       "              'is_favourable': False,\n",
       "              'label': 'Risk'}],\n",
       "            '[54, 56]': [{'count': 1,\n",
       "              'is_favourable': False,\n",
       "              'label': 'Risk'}],\n",
       "            '[56, 58]': [{'count': 1,\n",
       "              'is_favourable': False,\n",
       "              'label': 'Risk'}],\n",
       "            '[58, 60]': [{'count': 2,\n",
       "              'is_favourable': False,\n",
       "              'label': 'Risk'}],\n",
       "            '[62, 64]': [{'count': 1,\n",
       "              'is_favourable': False,\n",
       "              'label': 'Risk'}],\n",
       "            '[68, 70]': [{'count': 1,\n",
       "              'is_favourable': False,\n",
       "              'label': 'Risk'}]},\n",
       "           'distribution_ranges': {'[26, 28]': [26, 28],\n",
       "            '[28, 30]': [28, 30],\n",
       "            '[30, 32]': [30, 32],\n",
       "            '[32, 34]': [32, 34],\n",
       "            '[34, 36]': [34, 36],\n",
       "            '[36, 38]': [36, 38],\n",
       "            '[38, 40]': [38, 40],\n",
       "            '[40, 42]': [40, 42],\n",
       "            '[42, 44]': [42, 44],\n",
       "            '[44, 46]': [44, 46],\n",
       "            '[46, 48]': [46, 48],\n",
       "            '[48, 50]': [48, 50],\n",
       "            '[50, 52]': [50, 52],\n",
       "            '[52, 54]': [52, 54],\n",
       "            '[54, 56]': [54, 56],\n",
       "            '[56, 58]': [56, 58],\n",
       "            '[58, 60]': [58, 60],\n",
       "            '[62, 64]': [62, 64],\n",
       "            '[68, 70]': [68, 70],\n",
       "            '[70, 72]': [70, 72],\n",
       "            '[74, 75]': [74, 75]},\n",
       "           'fav_class_percent': 79.0,\n",
       "           'payload_perturb_distribution': {'[26, 28]': [{'count': 25,\n",
       "              'is_favourable': True,\n",
       "              'label': 'No Risk'}],\n",
       "            '[28, 30]': [{'count': 10,\n",
       "              'is_favourable': True,\n",
       "              'label': 'No Risk'}],\n",
       "            '[30, 32]': [{'count': 9,\n",
       "              'is_favourable': True,\n",
       "              'label': 'No Risk'}],\n",
       "            '[32, 34]': [{'count': 14,\n",
       "              'is_favourable': True,\n",
       "              'label': 'No Risk'}],\n",
       "            '[34, 36]': [{'count': 13,\n",
       "              'is_favourable': True,\n",
       "              'label': 'No Risk'}],\n",
       "            '[36, 38]': [{'count': 9,\n",
       "              'is_favourable': True,\n",
       "              'label': 'No Risk'},\n",
       "             {'count': 2, 'is_favourable': False, 'label': 'Risk'}],\n",
       "            '[38, 40]': [{'count': 12,\n",
       "              'is_favourable': True,\n",
       "              'label': 'No Risk'},\n",
       "             {'count': 3, 'is_favourable': False, 'label': 'Risk'}],\n",
       "            '[40, 42]': [{'count': 11,\n",
       "              'is_favourable': True,\n",
       "              'label': 'No Risk'},\n",
       "             {'count': 4, 'is_favourable': False, 'label': 'Risk'}],\n",
       "            '[42, 44]': [{'count': 8,\n",
       "              'is_favourable': True,\n",
       "              'label': 'No Risk'},\n",
       "             {'count': 4, 'is_favourable': False, 'label': 'Risk'}],\n",
       "            '[44, 46]': [{'count': 5,\n",
       "              'is_favourable': True,\n",
       "              'label': 'No Risk'},\n",
       "             {'count': 6, 'is_favourable': False, 'label': 'Risk'}],\n",
       "            '[46, 48]': [{'count': 1,\n",
       "              'is_favourable': True,\n",
       "              'label': 'No Risk'},\n",
       "             {'count': 4, 'is_favourable': False, 'label': 'Risk'}],\n",
       "            '[48, 50]': [{'count': 8,\n",
       "              'is_favourable': True,\n",
       "              'label': 'No Risk'},\n",
       "             {'count': 4, 'is_favourable': False, 'label': 'Risk'}],\n",
       "            '[50, 52]': [{'count': 1,\n",
       "              'is_favourable': True,\n",
       "              'label': 'No Risk'},\n",
       "             {'count': 7, 'is_favourable': False, 'label': 'Risk'}],\n",
       "            '[52, 54]': [{'count': 2,\n",
       "              'is_favourable': False,\n",
       "              'label': 'Risk'}],\n",
       "            '[54, 56]': [{'count': 1,\n",
       "              'is_favourable': False,\n",
       "              'label': 'Risk'}],\n",
       "            '[56, 58]': [{'count': 1,\n",
       "              'is_favourable': False,\n",
       "              'label': 'Risk'}],\n",
       "            '[58, 60]': [{'count': 2,\n",
       "              'is_favourable': False,\n",
       "              'label': 'Risk'}],\n",
       "            '[62, 64]': [{'count': 1,\n",
       "              'is_favourable': False,\n",
       "              'label': 'Risk'}],\n",
       "            '[68, 70]': [{'count': 25,\n",
       "              'is_favourable': True,\n",
       "              'label': 'No Risk'},\n",
       "             {'count': 1, 'is_favourable': False, 'label': 'Risk'}],\n",
       "            '[70, 72]': [{'count': 3,\n",
       "              'is_favourable': True,\n",
       "              'label': 'No Risk'}],\n",
       "            '[74, 75]': [{'count': 4,\n",
       "              'is_favourable': True,\n",
       "              'label': 'No Risk'}]},\n",
       "           'value': [26, 75]}]},\n",
       "        'minority': {'total_fav_percent': 84.0,\n",
       "         'total_rows_percent': 50.0,\n",
       "         'values': [{'distribution': {'[18, 19]': [{'count': 25,\n",
       "              'is_favourable': True,\n",
       "              'label': 'No Risk'}],\n",
       "            '[19, 20]': [{'count': 2,\n",
       "              'is_favourable': True,\n",
       "              'label': 'No Risk'}],\n",
       "            '[20, 22]': [{'count': 6,\n",
       "              'is_favourable': True,\n",
       "              'label': 'No Risk'}],\n",
       "            '[22, 24]': [{'count': 5,\n",
       "              'is_favourable': True,\n",
       "              'label': 'No Risk'}],\n",
       "            '[24, 25]': [{'count': 7,\n",
       "              'is_favourable': True,\n",
       "              'label': 'No Risk'}]},\n",
       "           'distribution_ranges': {'[18, 19]': [18, 19],\n",
       "            '[19, 20]': [19, 20],\n",
       "            '[20, 22]': [20, 22],\n",
       "            '[22, 24]': [22, 24],\n",
       "            '[24, 25]': [24, 25]},\n",
       "           'fairness_value': 1.063,\n",
       "           'fav_class_percent': 84.0,\n",
       "           'is_biased': False,\n",
       "           'payload_perturb_distribution': {'[18, 19]': [{'count': 68,\n",
       "              'is_favourable': True,\n",
       "              'label': 'No Risk'},\n",
       "             {'count': 12, 'is_favourable': False, 'label': 'Risk'}],\n",
       "            '[19, 20]': [{'count': 11,\n",
       "              'is_favourable': True,\n",
       "              'label': 'No Risk'}],\n",
       "            '[20, 22]': [{'count': 28,\n",
       "              'is_favourable': True,\n",
       "              'label': 'No Risk'},\n",
       "             {'count': 10, 'is_favourable': False, 'label': 'Risk'}],\n",
       "            '[22, 24]': [{'count': 34,\n",
       "              'is_favourable': True,\n",
       "              'label': 'No Risk'},\n",
       "             {'count': 8, 'is_favourable': False, 'label': 'Risk'}],\n",
       "            '[24, 25]': [{'count': 27,\n",
       "              'is_favourable': True,\n",
       "              'label': 'No Risk'},\n",
       "             {'count': 2, 'is_favourable': False, 'label': 'Risk'}]},\n",
       "           'value': [18, 25]}]},\n",
       "        'records_evaluated': {'additional_records': 0,\n",
       "         'newest_timestamp': '2019-09-16T22:25:59.080Z',\n",
       "         'number_of_records': 200,\n",
       "         'oldest_timestamp': '2019-09-16T22:25:59.080Z',\n",
       "         'perturbed_records': 200}}],\n",
       "      'perturbed_data_size': 400,\n",
       "      'response_time': '2.307142',\n",
       "      'rows_analyzed': 200,\n",
       "      'score_type': 'desperate impact'}},\n",
       "    {'issues': 1,\n",
       "     'metric_type': 'quality',\n",
       "     'timestamp': '2019-09-17T21:23:27.435Z',\n",
       "     'value': {'metrics': [{'name': 'true_positive_rate',\n",
       "        'value': 0.3939393939393939},\n",
       "       {'name': 'area_under_roc', 'value': 0.6815850815850817},\n",
       "       {'name': 'precision', 'value': 0.8666666666666667},\n",
       "       {'name': 'f1_measure', 'value': 0.5416666666666666},\n",
       "       {'name': 'accuracy', 'value': 0.7755102040816326},\n",
       "       {'name': 'log_loss', 'value': 0.4283291212637346},\n",
       "       {'name': 'false_positive_rate', 'value': 0.03076923076923077},\n",
       "       {'name': 'area_under_pr', 'value': 0.7060812203669347},\n",
       "       {'name': 'recall', 'value': 0.3939393939393939}],\n",
       "      'quality': 0.6815850815850817,\n",
       "      'threshold': 0.7}}],\n",
       "   'subscription': {'subscription_id': '7106529b-7e5f-41c3-bcb2-9bb4929348ba',\n",
       "    'url': '/v1/data_marts/00000000-0000-0000-0000-000000000000/service_bindings/999/subscriptions/7106529b-7e5f-41c3-bcb2-9bb4929348ba'}},\n",
       "  {'asset': {'asset_id': '8e6bfe5d-85ee-46ca-8af0-5d2558bc5fad',\n",
       "    'asset_type': 'model',\n",
       "    'created_at': '2019-09-17T22:00:05.562Z',\n",
       "    'name': 'my_nameCredit Risk Model',\n",
       "    'url': 'http://ai-open-scale-ibm-aios-nginx-internal/v3/wml_instances/999/published_models/8e6bfe5d-85ee-46ca-8af0-5d2558bc5fad'},\n",
       "   'deployment': {'created_at': '2019-09-17T22:00:05.630Z',\n",
       "    'deployment_id': '1a5394df-4560-4e16-b21a-093269a5cc9d',\n",
       "    'deployment_rn': '',\n",
       "    'deployment_type': 'online',\n",
       "    'name': 'my_name Credit Risk Deployment - Final',\n",
       "    'scoring_endpoint': {'request_headers': {'Content-Type': 'application/json'},\n",
       "     'url': 'http://ai-open-scale-ibm-aios-nginx-internal/v3/scoring/online/1a5394df-4560-4e16-b21a-093269a5cc9d'},\n",
       "    'url': 'http://ai-open-scale-ibm-aios-nginx-internal/v3/wml_instances/999/deployments/1a5394df-4560-4e16-b21a-093269a5cc9d'},\n",
       "   'metrics': [{'issues': 1,\n",
       "     'metric_type': 'quality',\n",
       "     'timestamp': '2019-09-17T22:00:40.968Z',\n",
       "     'value': {'metrics': [{'name': 'true_positive_rate',\n",
       "        'value': 0.42424242424242425},\n",
       "       {'name': 'area_under_roc', 'value': 0.689044289044289},\n",
       "       {'name': 'precision', 'value': 0.8235294117647058},\n",
       "       {'name': 'f1_measure', 'value': 0.5599999999999999},\n",
       "       {'name': 'accuracy', 'value': 0.7755102040816326},\n",
       "       {'name': 'log_loss', 'value': 0.42970919513286193},\n",
       "       {'name': 'false_positive_rate', 'value': 0.046153846153846156},\n",
       "       {'name': 'area_under_pr', 'value': 0.6833915384335552},\n",
       "       {'name': 'recall', 'value': 0.42424242424242425}],\n",
       "      'quality': 0.689044289044289,\n",
       "      'threshold': 0.7}}],\n",
       "   'subscription': {'subscription_id': 'f44a976d-f6f7-4586-ad79-6fb91f36092b',\n",
       "    'url': '/v1/data_marts/00000000-0000-0000-0000-000000000000/service_bindings/999/subscriptions/f44a976d-f6f7-4586-ad79-6fb91f36092b'}}]}"
      ]
     },
     "execution_count": 42,
     "metadata": {},
     "output_type": "execute_result"
    }
   ],
   "source": [
    "ai_client.data_mart.get_deployment_metrics()"
   ]
  },
  {
   "cell_type": "markdown",
   "metadata": {},
   "source": [
    "# 5.0 Fairness monitoring and explanations <a name=\"fairness\"></a>"
   ]
  },
  {
   "cell_type": "markdown",
   "metadata": {},
   "source": [
    "The code below configures fairness monitoring for our model. It turns on monitoring for two features, Sex and Age. In each case, we must specify:\n",
    "  * Which model feature to monitor\n",
    "  * One or more **majority** groups, which are values of that feature that we expect to receive a higher percentage of favorable outcomes\n",
    "  * One or more **minority** groups, which are values of that feature that we expect to receive a higher percentage of unfavorable outcomes\n",
    "  * The threshold at which we would like OpenScale to display an alert if the fairness measurement falls below (in this case, 95%)\n",
    "\n",
    "Additionally, we must specify which outcomes from the model are favourable outcomes, and which are unfavourable. We must also provide the number of records OpenScale will use to calculate the fairness score. In this case, OpenScale's fairness monitor will run hourly, but will not calculate a new fairness rating until at least 200 records have been added. Finally, to calculate fairness, OpenScale must perform some calculations on the training data, so we provide the dataframe containing the data."
   ]
  },
  {
   "cell_type": "code",
   "execution_count": 43,
   "metadata": {
    "scrolled": true
   },
   "outputs": [],
   "source": [
    "subscription.fairness_monitoring.enable(\n",
    "            features=[\n",
    "                Feature(\"Sex\", majority=['male'], minority=['female'], threshold=0.95),\n",
    "                Feature(\"Age\", majority=[[26,75]], minority=[[18,25]], threshold=0.95)\n",
    "            ],\n",
    "            favourable_classes=['No Risk'],\n",
    "            unfavourable_classes=['Risk'],\n",
    "            min_records=200,\n",
    "            training_data=pd_data\n",
    "        )"
   ]
  },
  {
   "cell_type": "markdown",
   "metadata": {},
   "source": [
    "## 5.1 Score the model again now that monitoring is configured"
   ]
  },
  {
   "cell_type": "markdown",
   "metadata": {},
   "source": [
    "This next section randomly selects 200 records from the data feed and sends those records to the model for predictions. This is enough to exceed the minimum threshold for records set in the previous section, which allows OpenScale to begin calculating fairness."
   ]
  },
  {
   "cell_type": "code",
   "execution_count": 44,
   "metadata": {},
   "outputs": [
    {
     "name": "stdout",
     "output_type": "stream",
     "text": [
      "--2019-09-17 22:01:00--  https://raw.githubusercontent.com/pmservice/ai-openscale-tutorials/master/assets/historical_data/german_credit_risk/wml/german_credit_feed.json\n",
      "Resolving raw.githubusercontent.com (raw.githubusercontent.com)... 199.232.8.133\n",
      "Connecting to raw.githubusercontent.com (raw.githubusercontent.com)|199.232.8.133|:443... connected.\n",
      "HTTP request sent, awaiting response... 200 OK\n",
      "Length: 3076547 (2.9M) [text/plain]\n",
      "Saving to: ‘german_credit_feed.json’\n",
      "\n",
      "100%[======================================>] 3,076,547   --.-K/s   in 0.07s   \n",
      "\n",
      "2019-09-17 22:01:00 (40.1 MB/s) - ‘german_credit_feed.json’ saved [3076547/3076547]\n",
      "\n"
     ]
    }
   ],
   "source": [
    "!rm german_credit_feed.json\n",
    "!wget https://raw.githubusercontent.com/pmservice/ai-openscale-tutorials/master/assets/historical_data/german_credit_risk/wml/german_credit_feed.json"
   ]
  },
  {
   "cell_type": "markdown",
   "metadata": {},
   "source": [
    "Score 200 randomly chosen records"
   ]
  },
  {
   "cell_type": "code",
   "execution_count": 45,
   "metadata": {},
   "outputs": [],
   "source": [
    "import random\n",
    "\n",
    "with open('german_credit_feed.json', 'r') as scoring_file:\n",
    "    scoring_data = json.load(scoring_file)\n",
    "\n",
    "fields = scoring_data['fields']\n",
    "values = []\n",
    "for _ in range(200):\n",
    "    values.append(random.choice(scoring_data['values']))\n",
    "payload_scoring = {\"fields\": fields, \"values\": values}\n",
    "\n",
    "scoring_response = wml_client.deployments.score(credit_risk_scoring_endpoint, payload_scoring)"
   ]
  },
  {
   "cell_type": "markdown",
   "metadata": {},
   "source": [
    "## 5.2 Run fairness monitor"
   ]
  },
  {
   "cell_type": "markdown",
   "metadata": {},
   "source": [
    "Kick off a fairness monitor run on current data. The monitor runs hourly, but can be manually initiated using the Python client, the REST API, or the graphical user interface."
   ]
  },
  {
   "cell_type": "code",
   "execution_count": 46,
   "metadata": {
    "scrolled": true
   },
   "outputs": [
    {
     "name": "stdout",
     "output_type": "stream",
     "text": [
      "\n",
      "\n",
      "=======================================================================\n",
      "\n",
      " Counting bias for deployment_uid=1a5394df-4560-4e16-b21a-093269a5cc9d \n",
      "\n",
      "=======================================================================\n",
      "\n",
      "\n",
      "\n",
      "RUNNING.......\n",
      "FINISHED\n",
      "\n",
      "---------------------------\n",
      " Successfully finished run \n",
      "---------------------------\n",
      "\n",
      "\n"
     ]
    }
   ],
   "source": [
    "time.sleep(5)\n",
    "\n",
    "run_details = subscription.fairness_monitoring.run(background_mode=False)"
   ]
  },
  {
   "cell_type": "code",
   "execution_count": 47,
   "metadata": {},
   "outputs": [
    {
     "data": {
      "text/html": [
       "<HTML>\n",
       "        <body>\n",
       "            <h3>FairnessMetrics (binding_id=999, subscription_id=f44a976d-f6f7-4586-ad79-6fb91f36092b)</h3>\n",
       "            <table style='border: 1px solid #dddddd; font-family: Courier'>\n",
       "                <th style='border: 1px solid #dddddd'>ts</th><th style='border: 1px solid #dddddd'>feature</th><th style='border: 1px solid #dddddd'>feature_value</th><th style='border: 1px solid #dddddd'>fairness_biased</th><th style='border: 1px solid #dddddd'>fairness_value</th><th style='border: 1px solid #dddddd'>fairness_fav_class</th><th style='border: 1px solid #dddddd'>binding_id</th><th style='border: 1px solid #dddddd'>subscription_id</th><th style='border: 1px solid #dddddd'>asset_revision</th><th style='border: 1px solid #dddddd'>deployment_id</th><th style='border: 1px solid #dddddd'>process</th>\n",
       "                <tr><td style='border: 1px solid #dddddd'>2019-09-17 22:02:00.672544+00:00</td><td style='border: 1px solid #dddddd'>Sex</td><td style='border: 1px solid #dddddd'>female</td><td style='border: 1px solid #dddddd'>True</td><td style='border: 1px solid #dddddd'>0.934</td><td style='border: 1px solid #dddddd'>71.0</td><td style='border: 1px solid #dddddd'>999</td><td style='border: 1px solid #dddddd'>f44a976d-f6f7-4586-ad79-6fb91f36092b</td><td style='border: 1px solid #dddddd'>f44a976d-f6f7-4586-ad79-6fb91f36092b</td><td style='border: 1px solid #dddddd'>1a5394df-4560-4e16-b21a-093269a5cc9d</td><td style='border: 1px solid #dddddd'></td></tr><tr><td style='border: 1px solid #dddddd'>2019-09-17 22:02:00.672544+00:00</td><td style='border: 1px solid #dddddd'>Age</td><td style='border: 1px solid #dddddd'>[18, 25]</td><td style='border: 1px solid #dddddd'>False</td><td style='border: 1px solid #dddddd'>1.121</td><td style='border: 1px solid #dddddd'>83.5</td><td style='border: 1px solid #dddddd'>999</td><td style='border: 1px solid #dddddd'>f44a976d-f6f7-4586-ad79-6fb91f36092b</td><td style='border: 1px solid #dddddd'>f44a976d-f6f7-4586-ad79-6fb91f36092b</td><td style='border: 1px solid #dddddd'>1a5394df-4560-4e16-b21a-093269a5cc9d</td><td style='border: 1px solid #dddddd'></td></tr><tr><td style='border: 1px solid #dddddd'>2019-09-17 22:01:09.372809+00:00</td><td style='border: 1px solid #dddddd'>Sex</td><td style='border: 1px solid #dddddd'>female</td><td style='border: 1px solid #dddddd'>True</td><td style='border: 1px solid #dddddd'>0.934</td><td style='border: 1px solid #dddddd'>71.0</td><td style='border: 1px solid #dddddd'>999</td><td style='border: 1px solid #dddddd'>f44a976d-f6f7-4586-ad79-6fb91f36092b</td><td style='border: 1px solid #dddddd'>f44a976d-f6f7-4586-ad79-6fb91f36092b</td><td style='border: 1px solid #dddddd'>1a5394df-4560-4e16-b21a-093269a5cc9d</td><td style='border: 1px solid #dddddd'></td></tr><tr><td style='border: 1px solid #dddddd'>2019-09-17 22:01:09.372809+00:00</td><td style='border: 1px solid #dddddd'>Age</td><td style='border: 1px solid #dddddd'>[18, 25]</td><td style='border: 1px solid #dddddd'>False</td><td style='border: 1px solid #dddddd'>1.121</td><td style='border: 1px solid #dddddd'>83.5</td><td style='border: 1px solid #dddddd'>999</td><td style='border: 1px solid #dddddd'>f44a976d-f6f7-4586-ad79-6fb91f36092b</td><td style='border: 1px solid #dddddd'>f44a976d-f6f7-4586-ad79-6fb91f36092b</td><td style='border: 1px solid #dddddd'>1a5394df-4560-4e16-b21a-093269a5cc9d</td><td style='border: 1px solid #dddddd'></td></tr>\n",
       "            </table>\n",
       "        </body>\n",
       "        </HTML>"
      ],
      "text/plain": [
       "<IPython.core.display.HTML object>"
      ]
     },
     "metadata": {},
     "output_type": "display_data"
    }
   ],
   "source": [
    "time.sleep(5)\n",
    "\n",
    "subscription.fairness_monitoring.show_table()"
   ]
  },
  {
   "cell_type": "markdown",
   "metadata": {},
   "source": [
    "## 5.3 Configure Explainability"
   ]
  },
  {
   "cell_type": "markdown",
   "metadata": {},
   "source": [
    "Finally, we provide OpenScale with the training data to enable and configure the explainability features."
   ]
  },
  {
   "cell_type": "code",
   "execution_count": 48,
   "metadata": {
    "scrolled": true
   },
   "outputs": [],
   "source": [
    "from ibm_ai_openscale.supporting_classes import *\n",
    "subscription.explainability.enable(training_data=pd_data)"
   ]
  },
  {
   "cell_type": "code",
   "execution_count": 49,
   "metadata": {
    "scrolled": true
   },
   "outputs": [],
   "source": [
    "explainability_details = subscription.explainability.get_details()"
   ]
  },
  {
   "cell_type": "markdown",
   "metadata": {},
   "source": [
    "## 5.4 Run explanation for sample record"
   ]
  },
  {
   "cell_type": "code",
   "execution_count": 50,
   "metadata": {},
   "outputs": [
    {
     "name": "stdout",
     "output_type": "stream",
     "text": [
      "5c975ada-4b2c-4ab8-b407-967c0d4b46a8-1\n"
     ]
    }
   ],
   "source": [
    "transaction_id = subscription.payload_logging.get_table_content(limit=1)['scoring_id'].values[0]\n",
    "\n",
    "print(transaction_id)"
   ]
  },
  {
   "cell_type": "code",
   "execution_count": 51,
   "metadata": {},
   "outputs": [
    {
     "name": "stdout",
     "output_type": "stream",
     "text": [
      "\n",
      "\n",
      "====================================================================\n",
      "\n",
      " Looking for explanation for 5c975ada-4b2c-4ab8-b407-967c0d4b46a8-1 \n",
      "\n",
      "====================================================================\n",
      "\n",
      "\n",
      "\n",
      "in_progress.............\n",
      "finished\n",
      "\n",
      "---------------------------\n",
      " Successfully finished run \n",
      "---------------------------\n",
      "\n",
      "\n"
     ]
    }
   ],
   "source": [
    "explain_run = subscription.explainability.run(transaction_id=transaction_id, background_mode=False)"
   ]
  },
  {
   "cell_type": "code",
   "execution_count": 52,
   "metadata": {},
   "outputs": [
    {
     "data": {
      "image/png": "[encoded data removed]",
      "text/plain": [
       "<matplotlib.figure.Figure at 0x7f305b11ccf8>"
      ]
     },
     "metadata": {
      "needs_background": "light"
     },
     "output_type": "display_data"
    }
   ],
   "source": [
    "explain_result = pd.DataFrame.from_dict(explain_run['entity']['predictions'][0]['explanation_features'])\n",
    "explain_result.plot.barh(x='feature_name', y='weight', color='g', alpha=0.8);"
   ]
  },
  {
   "cell_type": "markdown",
   "metadata": {},
   "source": [
    "# 6.0 Custom monitors and metrics <a name=\"custom\"></a>"
   ]
  },
  {
   "cell_type": "markdown",
   "metadata": {},
   "source": [
    "## 6.1 Register custom monitor"
   ]
  },
  {
   "cell_type": "code",
   "execution_count": 53,
   "metadata": {},
   "outputs": [],
   "source": [
    "def get_definition(monitor_name):\n",
    "    monitors_definitions = ai_client.data_mart.monitors.get_details()['monitor_definitions']\n",
    "    \n",
    "    for definition in monitors_definitions:\n",
    "        if monitor_name == definition['entity']['name']:\n",
    "            return definition\n",
    "    \n",
    "    return None"
   ]
  },
  {
   "cell_type": "code",
   "execution_count": 54,
   "metadata": {},
   "outputs": [],
   "source": [
    "from ibm_ai_openscale.supporting_classes import Metric, Tag\n",
    "\n",
    "monitor_name = 'my model performance'\n",
    "metrics = [Metric(name='sensitivity', lower_limit_default=0.8), Metric(name='specificity', lower_limit_default=0.75)]\n",
    "tags = [Tag(name='region', description='customer geographical region')]\n",
    "\n",
    "existing_definition = get_definition(monitor_name)\n",
    "\n",
    "if existing_definition is None:\n",
    "    my_monitor = ai_client.data_mart.monitors.add(name=monitor_name, metrics=metrics, tags=tags)\n",
    "else:\n",
    "    my_monitor = existing_definition"
   ]
  },
  {
   "cell_type": "markdown",
   "metadata": {},
   "source": [
    "### 6.1.1 Get monitors uids and details"
   ]
  },
  {
   "cell_type": "code",
   "execution_count": 55,
   "metadata": {},
   "outputs": [
    {
     "name": "stdout",
     "output_type": "stream",
     "text": [
      "my_model_performance\n"
     ]
    }
   ],
   "source": [
    "monitor_uid = my_monitor['metadata']['guid']\n",
    "\n",
    "print(monitor_uid)"
   ]
  },
  {
   "cell_type": "code",
   "execution_count": 56,
   "metadata": {},
   "outputs": [
    {
     "name": "stdout",
     "output_type": "stream",
     "text": [
      "monitor definition details {'entity': {'metrics': [{'id': 'sensitivity', 'name': 'sensitivity', 'required': True, 'thresholds': [{'default': 0.8, 'type': 'lower_limit'}]}, {'id': 'specificity', 'name': 'specificity', 'required': True, 'thresholds': [{'default': 0.75, 'type': 'lower_limit'}]}], 'name': 'my model performance', 'tags': [{'description': 'customer geographical region', 'id': 'region', 'name': 'region', 'required': True}]}, 'metadata': {'guid': 'my_model_performance', 'url': '/v1/data_marts/00000000-0000-0000-0000-000000000000/monitor_definitions/my_model_performance', 'created_at': '2019-09-16T22:30:48.003Z'}}\n"
     ]
    }
   ],
   "source": [
    "my_monitor = ai_client.data_mart.monitors.get_details(monitor_uid=monitor_uid)\n",
    "print('monitor definition details', my_monitor)"
   ]
  },
  {
   "cell_type": "markdown",
   "metadata": {},
   "source": [
    "## 6.2 Enable custom monitor for subscription"
   ]
  },
  {
   "cell_type": "code",
   "execution_count": 57,
   "metadata": {},
   "outputs": [],
   "source": [
    "from ibm_ai_openscale.supporting_classes import Threshold\n",
    "\n",
    "thresholds = [Threshold(metric_uid='sensitivity', lower_limit=0.9)]\n",
    "subscription.monitoring.enable(monitor_uid=monitor_uid, thresholds=thresholds)"
   ]
  },
  {
   "cell_type": "markdown",
   "metadata": {},
   "source": [
    "### 6.2.1 Get monitor configuration details"
   ]
  },
  {
   "cell_type": "code",
   "execution_count": 58,
   "metadata": {},
   "outputs": [
    {
     "data": {
      "text/plain": [
       "{'enabled': True,\n",
       " 'monitor_definition': {'entity': {'metrics': [{'id': 'sensitivity',\n",
       "     'name': 'sensitivity',\n",
       "     'required': True,\n",
       "     'thresholds': [{'default': 0.9, 'type': 'lower_limit'}]},\n",
       "    {'id': 'specificity', 'name': 'specificity', 'required': True}],\n",
       "   'name': 'my model performance',\n",
       "   'tags': [{'description': 'customer geographical region',\n",
       "     'id': 'region',\n",
       "     'name': 'region',\n",
       "     'required': True}]},\n",
       "  'metadata': {'guid': 'my_model_performance',\n",
       "   'url': '/v1/data_marts/00000000-0000-0000-0000-000000000000/monitor_definitions/my_model_performance',\n",
       "   'created_at': '2019-09-16T22:30:48.003Z'}},\n",
       " 'thresholds': [{'metric_id': 'sensitivity',\n",
       "   'type': 'lower_limit',\n",
       "   'value': 0.9}]}"
      ]
     },
     "execution_count": 58,
     "metadata": {},
     "output_type": "execute_result"
    }
   ],
   "source": [
    "subscription.monitoring.get_details(monitor_uid=monitor_uid)"
   ]
  },
  {
   "cell_type": "markdown",
   "metadata": {},
   "source": [
    "## 6.3 Storing custom metrics"
   ]
  },
  {
   "cell_type": "code",
   "execution_count": 59,
   "metadata": {},
   "outputs": [
    {
     "data": {
      "text/plain": [
       "[{'asset_id': '8e6bfe5d-85ee-46ca-8af0-5d2558bc5fad',\n",
       "  'binding_id': '999',\n",
       "  'measurement_id': '5830d974-7a0c-453c-9b78-e8bf6ed02df0',\n",
       "  'metrics': [{'region': 'us-south',\n",
       "    'sensitivity': 0.67,\n",
       "    'specificity': 0.78}],\n",
       "  'monitor_definition_id': 'my_model_performance',\n",
       "  'subscription_id': 'f44a976d-f6f7-4586-ad79-6fb91f36092b',\n",
       "  'timestamp': '2019-09-17T22:03:38.197402Z'}]"
      ]
     },
     "execution_count": 59,
     "metadata": {},
     "output_type": "execute_result"
    }
   ],
   "source": [
    "metrics = {\"specificity\": 0.78, \"sensitivity\": 0.67, \"region\": \"us-south\"}\n",
    "\n",
    "subscription.monitoring.store_metrics(monitor_uid=monitor_uid, metrics=metrics)"
   ]
  },
  {
   "cell_type": "markdown",
   "metadata": {},
   "source": [
    "### 6.3.1 List and get custom metrics"
   ]
  },
  {
   "cell_type": "code",
   "execution_count": 60,
   "metadata": {},
   "outputs": [
    {
     "data": {
      "text/html": [
       "<HTML>\n",
       "        <body>\n",
       "            <h3>CustomMetrics (binding_id=999, subscription_id=f44a976d-f6f7-4586-ad79-6fb91f36092b)</h3>\n",
       "            <table style='border: 1px solid #dddddd; font-family: Courier'>\n",
       "                <th style='border: 1px solid #dddddd'>ts</th><th style='border: 1px solid #dddddd'>id</th><th style='border: 1px solid #dddddd'>measurement_id</th><th style='border: 1px solid #dddddd'>value</th><th style='border: 1px solid #dddddd'>lower limit</th><th style='border: 1px solid #dddddd'>upper limit</th><th style='border: 1px solid #dddddd'>tags</th><th style='border: 1px solid #dddddd'>binding_id</th><th style='border: 1px solid #dddddd'>subscription_id</th><th style='border: 1px solid #dddddd'>deployment_id</th>\n",
       "                \n",
       "            </table>\n",
       "        </body>\n",
       "        </HTML>"
      ],
      "text/plain": [
       "<IPython.core.display.HTML object>"
      ]
     },
     "metadata": {},
     "output_type": "display_data"
    }
   ],
   "source": [
    "subscription.monitoring.show_table(monitor_uid=monitor_uid)"
   ]
  },
  {
   "cell_type": "code",
   "execution_count": 61,
   "metadata": {},
   "outputs": [
    {
     "data": {
      "text/plain": [
       "[]"
      ]
     },
     "execution_count": 61,
     "metadata": {},
     "output_type": "execute_result"
    }
   ],
   "source": [
    "custom_metrics = subscription.monitoring.get_metrics(monitor_uid=monitor_uid, deployment_uid='credit')\n",
    "custom_metrics"
   ]
  },
  {
   "cell_type": "code",
   "execution_count": 62,
   "metadata": {},
   "outputs": [
    {
     "data": {
      "image/png": "[encoded data removed]",
      "text/plain": [
       "<matplotlib.figure.Figure at 0x7f305b0f8518>"
      ]
     },
     "metadata": {
      "needs_background": "light"
     },
     "output_type": "display_data"
    }
   ],
   "source": [
    "custom_metrics_pandas = subscription.monitoring.get_table_content(monitor_uid=monitor_uid)\n",
    "\n",
    "%matplotlib inline\n",
    "custom_metrics_pandas.plot.barh(x='id', y='value');"
   ]
  },
  {
   "cell_type": "markdown",
   "metadata": {},
   "source": [
    "# 7.0 Payload analytics <a name=\"analytics\"></a>"
   ]
  },
  {
   "cell_type": "markdown",
   "metadata": {},
   "source": [
    "## 7.1 Run data distributions calculation"
   ]
  },
  {
   "cell_type": "code",
   "execution_count": 63,
   "metadata": {},
   "outputs": [
    {
     "name": "stdout",
     "output_type": "stream",
     "text": [
      "\n",
      "\n",
      "===============================================================================\n",
      "\n",
      " Waiting for end of data distribution run ba395e80-6bd1-4010-85ab-0095a42caaab \n",
      "\n",
      "===============================================================================\n",
      "\n",
      "\n",
      "\n",
      "running..\n",
      "completed\n",
      "\n",
      "---------------------------\n",
      " Successfully finished run \n",
      "---------------------------\n",
      "\n",
      "\n"
     ]
    }
   ],
   "source": [
    "from datetime import datetime\n",
    "\n",
    "start_date = \"2018-01-01T00:00:00.00Z\"\n",
    "end_date = datetime.utcnow().isoformat() + \"Z\"\n",
    "\n",
    "sex_distribution = subscription.payload_logging.data_distribution.run(\n",
    "            start_date=start_date,\n",
    "            end_date=end_date,\n",
    "            group=['predictedLabel', 'Sex'],\n",
    "            agg=['count'])"
   ]
  },
  {
   "cell_type": "markdown",
   "metadata": {},
   "source": [
    "## 7.2 Get data distributions as pandas dataframe"
   ]
  },
  {
   "cell_type": "code",
   "execution_count": 64,
   "metadata": {},
   "outputs": [
    {
     "data": {
      "text/html": [
       "<div>\n",
       "<style scoped>\n",
       "    .dataframe tbody tr th:only-of-type {\n",
       "        vertical-align: middle;\n",
       "    }\n",
       "\n",
       "    .dataframe tbody tr th {\n",
       "        vertical-align: top;\n",
       "    }\n",
       "\n",
       "    .dataframe thead th {\n",
       "        text-align: right;\n",
       "    }\n",
       "</style>\n",
       "<table border=\"1\" class=\"dataframe\">\n",
       "  <thead>\n",
       "    <tr style=\"text-align: right;\">\n",
       "      <th></th>\n",
       "      <th>predictedLabel</th>\n",
       "      <th>Sex</th>\n",
       "      <th>count</th>\n",
       "    </tr>\n",
       "  </thead>\n",
       "  <tbody>\n",
       "    <tr>\n",
       "      <th>0</th>\n",
       "      <td>No Risk</td>\n",
       "      <td>female</td>\n",
       "      <td>61</td>\n",
       "    </tr>\n",
       "    <tr>\n",
       "      <th>1</th>\n",
       "      <td>No Risk</td>\n",
       "      <td>male</td>\n",
       "      <td>95</td>\n",
       "    </tr>\n",
       "    <tr>\n",
       "      <th>2</th>\n",
       "      <td>Risk</td>\n",
       "      <td>female</td>\n",
       "      <td>4</td>\n",
       "    </tr>\n",
       "    <tr>\n",
       "      <th>3</th>\n",
       "      <td>Risk</td>\n",
       "      <td>male</td>\n",
       "      <td>48</td>\n",
       "    </tr>\n",
       "  </tbody>\n",
       "</table>\n",
       "</div>"
      ],
      "text/plain": [
       "  predictedLabel     Sex  count\n",
       "0        No Risk  female     61\n",
       "1        No Risk    male     95\n",
       "2           Risk  female      4\n",
       "3           Risk    male     48"
      ]
     },
     "execution_count": 64,
     "metadata": {},
     "output_type": "execute_result"
    }
   ],
   "source": [
    "sex_distribution_run_uid = sex_distribution['id']\n",
    "distributions_pd = subscription.payload_logging.data_distribution.get_run_result(run_id=sex_distribution_run_uid, format='pandas')\n",
    "distributions_pd"
   ]
  },
  {
   "cell_type": "code",
   "execution_count": 65,
   "metadata": {},
   "outputs": [
    {
     "data": {
      "image/png": "[encoded data removed]",
      "text/plain": [
       "<matplotlib.figure.Figure at 0x7f305aff1978>"
      ]
     },
     "metadata": {
      "needs_background": "light"
     },
     "output_type": "display_data"
    }
   ],
   "source": [
    "subscription.payload_logging.data_distribution.show_chart(sex_distribution_run_uid);"
   ]
  },
  {
   "cell_type": "code",
   "execution_count": 66,
   "metadata": {},
   "outputs": [
    {
     "name": "stdout",
     "output_type": "stream",
     "text": [
      "\n",
      "\n",
      "===============================================================================\n",
      "\n",
      " Waiting for end of data distribution run 31475b8a-8a6f-44fa-8bf7-e0e29e9bd5ca \n",
      "\n",
      "===============================================================================\n",
      "\n",
      "\n",
      "\n",
      "running.\n",
      "completed\n",
      "\n",
      "---------------------------\n",
      " Successfully finished run \n",
      "---------------------------\n",
      "\n",
      "\n"
     ]
    }
   ],
   "source": [
    "credit_history_distribution = subscription.payload_logging.data_distribution.run(\n",
    "            start_date=start_date,\n",
    "            end_date=end_date,\n",
    "            group=['predictedLabel', 'CreditHistory'],\n",
    "            agg=['count'])"
   ]
  },
  {
   "cell_type": "code",
   "execution_count": 67,
   "metadata": {},
   "outputs": [
    {
     "data": {
      "image/png": "[encoded data removed]",
      "text/plain": [
       "<matplotlib.figure.Figure at 0x7f305afd74a8>"
      ]
     },
     "metadata": {
      "needs_background": "light"
     },
     "output_type": "display_data"
    }
   ],
   "source": [
    "credit_history_distribution_run_uid = credit_history_distribution['id']\n",
    "\n",
    "subscription.payload_logging.data_distribution.show_chart(credit_history_distribution_run_uid);"
   ]
  },
  {
   "cell_type": "markdown",
   "metadata": {},
   "source": [
    "# 8.0 Historical data <a name=\"historical\"></a>"
   ]
  },
  {
   "cell_type": "markdown",
   "metadata": {},
   "source": [
    " ## 8.1 Insert historical payloads"
   ]
  },
  {
   "cell_type": "markdown",
   "metadata": {},
   "source": [
    "The next section of the notebook downloads and writes historical data to the payload and measurement tables to simulate a production model that has been monitored and receiving regular traffic for the last seven days. This historical data can be viewed in the Watson OpenScale user interface. The code uses the Python and REST APIs to write this data."
   ]
  },
  {
   "cell_type": "code",
   "execution_count": 68,
   "metadata": {
    "scrolled": false
   },
   "outputs": [
    {
     "name": "stdout",
     "output_type": "stream",
     "text": [
      "--2019-09-17 22:04:17--  https://raw.githubusercontent.com/pmservice/ai-openscale-tutorials/master/assets/historical_data/german_credit_risk/wml/history_payloads_0.json\n",
      "Resolving raw.githubusercontent.com (raw.githubusercontent.com)... 199.232.8.133\n",
      "Connecting to raw.githubusercontent.com (raw.githubusercontent.com)|199.232.8.133|:443... connected.\n",
      "HTTP request sent, awaiting response... 200 OK\n",
      "Length: 5018899 (4.8M) [text/plain]\n",
      "Saving to: ‘history_payloads_0.json’\n",
      "\n",
      "100%[======================================>] 5,018,899   --.-K/s   in 0.1s    \n",
      "\n",
      "2019-09-17 22:04:18 (38.6 MB/s) - ‘history_payloads_0.json’ saved [5018899/5018899]\n",
      "\n",
      "--2019-09-17 22:04:19--  https://raw.githubusercontent.com/pmservice/ai-openscale-tutorials/master/assets/historical_data/german_credit_risk/wml/history_payloads_1.json\n",
      "Resolving raw.githubusercontent.com (raw.githubusercontent.com)... 151.101.48.133\n",
      "Connecting to raw.githubusercontent.com (raw.githubusercontent.com)|151.101.48.133|:443... connected.\n",
      "HTTP request sent, awaiting response... 200 OK\n",
      "Length: 5016854 (4.8M) [text/plain]\n",
      "Saving to: ‘history_payloads_1.json’\n",
      "\n",
      "100%[======================================>] 5,016,854   --.-K/s   in 0.1s    \n",
      "\n",
      "2019-09-17 22:04:19 (42.1 MB/s) - ‘history_payloads_1.json’ saved [5016854/5016854]\n",
      "\n",
      "--2019-09-17 22:04:20--  https://raw.githubusercontent.com/pmservice/ai-openscale-tutorials/master/assets/historical_data/german_credit_risk/wml/history_payloads_2.json\n",
      "Resolving raw.githubusercontent.com (raw.githubusercontent.com)... 199.232.8.133\n",
      "Connecting to raw.githubusercontent.com (raw.githubusercontent.com)|199.232.8.133|:443... connected.\n",
      "HTTP request sent, awaiting response... 200 OK\n",
      "Length: 5019688 (4.8M) [text/plain]\n",
      "Saving to: ‘history_payloads_2.json’\n",
      "\n",
      "100%[======================================>] 5,019,688   --.-K/s   in 0.1s    \n",
      "\n",
      "2019-09-17 22:04:20 (40.3 MB/s) - ‘history_payloads_2.json’ saved [5019688/5019688]\n",
      "\n",
      "--2019-09-17 22:04:21--  https://raw.githubusercontent.com/pmservice/ai-openscale-tutorials/master/assets/historical_data/german_credit_risk/wml/history_payloads_3.json\n",
      "Resolving raw.githubusercontent.com (raw.githubusercontent.com)... 151.101.48.133\n",
      "Connecting to raw.githubusercontent.com (raw.githubusercontent.com)|151.101.48.133|:443... connected.\n",
      "HTTP request sent, awaiting response... 200 OK\n",
      "Length: 5019821 (4.8M) [text/plain]\n",
      "Saving to: ‘history_payloads_3.json’\n",
      "\n",
      "100%[======================================>] 5,019,821   --.-K/s   in 0.1s    \n",
      "\n",
      "2019-09-17 22:04:22 (41.3 MB/s) - ‘history_payloads_3.json’ saved [5019821/5019821]\n",
      "\n",
      "--2019-09-17 22:04:22--  https://raw.githubusercontent.com/pmservice/ai-openscale-tutorials/master/assets/historical_data/german_credit_risk/wml/history_payloads_4.json\n",
      "Resolving raw.githubusercontent.com (raw.githubusercontent.com)... 151.101.48.133\n",
      "Connecting to raw.githubusercontent.com (raw.githubusercontent.com)|151.101.48.133|:443... connected.\n",
      "HTTP request sent, awaiting response... 200 OK\n",
      "Length: 5018809 (4.8M) [text/plain]\n",
      "Saving to: ‘history_payloads_4.json’\n",
      "\n",
      "100%[======================================>] 5,018,809   --.-K/s   in 0.1s    \n",
      "\n",
      "2019-09-17 22:04:23 (39.3 MB/s) - ‘history_payloads_4.json’ saved [5018809/5018809]\n",
      "\n",
      "--2019-09-17 22:04:23--  https://raw.githubusercontent.com/pmservice/ai-openscale-tutorials/master/assets/historical_data/german_credit_risk/wml/history_payloads_5.json\n",
      "Resolving raw.githubusercontent.com (raw.githubusercontent.com)... 151.101.48.133\n",
      "Connecting to raw.githubusercontent.com (raw.githubusercontent.com)|151.101.48.133|:443... connected.\n",
      "HTTP request sent, awaiting response... 200 OK\n",
      "Length: 5020223 (4.8M) [text/plain]\n",
      "Saving to: ‘history_payloads_5.json’\n",
      "\n",
      "100%[======================================>] 5,020,223   --.-K/s   in 0.1s    \n",
      "\n",
      "2019-09-17 22:04:24 (40.0 MB/s) - ‘history_payloads_5.json’ saved [5020223/5020223]\n",
      "\n",
      "--2019-09-17 22:04:25--  https://raw.githubusercontent.com/pmservice/ai-openscale-tutorials/master/assets/historical_data/german_credit_risk/wml/history_payloads_6.json\n",
      "Resolving raw.githubusercontent.com (raw.githubusercontent.com)... 199.232.8.133\n",
      "Connecting to raw.githubusercontent.com (raw.githubusercontent.com)|199.232.8.133|:443... connected.\n",
      "HTTP request sent, awaiting response... 200 OK\n",
      "Length: 5019217 (4.8M) [text/plain]\n",
      "Saving to: ‘history_payloads_6.json’\n",
      "\n",
      "100%[======================================>] 5,019,217   --.-K/s   in 0.1s    \n",
      "\n",
      "2019-09-17 22:04:25 (38.6 MB/s) - ‘history_payloads_6.json’ saved [5019217/5019217]\n",
      "\n"
     ]
    }
   ],
   "source": [
    "!rm history_payloads*.json\n",
    "!wget https://raw.githubusercontent.com/pmservice/ai-openscale-tutorials/master/assets/historical_data/german_credit_risk/wml/history_payloads_0.json\n",
    "!wget https://raw.githubusercontent.com/pmservice/ai-openscale-tutorials/master/assets/historical_data/german_credit_risk/wml/history_payloads_1.json\n",
    "!wget https://raw.githubusercontent.com/pmservice/ai-openscale-tutorials/master/assets/historical_data/german_credit_risk/wml/history_payloads_2.json\n",
    "!wget https://raw.githubusercontent.com/pmservice/ai-openscale-tutorials/master/assets/historical_data/german_credit_risk/wml/history_payloads_3.json\n",
    "!wget https://raw.githubusercontent.com/pmservice/ai-openscale-tutorials/master/assets/historical_data/german_credit_risk/wml/history_payloads_4.json\n",
    "!wget https://raw.githubusercontent.com/pmservice/ai-openscale-tutorials/master/assets/historical_data/german_credit_risk/wml/history_payloads_5.json\n",
    "!wget https://raw.githubusercontent.com/pmservice/ai-openscale-tutorials/master/assets/historical_data/german_credit_risk/wml/history_payloads_6.json"
   ]
  },
  {
   "cell_type": "code",
   "execution_count": 69,
   "metadata": {
    "scrolled": true
   },
   "outputs": [],
   "source": [
    "historyDays = 7"
   ]
  },
  {
   "cell_type": "code",
   "execution_count": 70,
   "metadata": {
    "scrolled": false
   },
   "outputs": [
    {
     "name": "stdout",
     "output_type": "stream",
     "text": [
      "Loading day 1\n",
      "Loading day 2\n",
      "Loading day 3\n",
      "Loading day 4\n",
      "Loading day 5\n",
      "Loading day 6\n",
      "Loading day 7\n",
      "Finished\n"
     ]
    }
   ],
   "source": [
    "from ibm_ai_openscale.supporting_classes import PayloadRecord, Feature\n",
    "import datetime\n",
    "import time\n",
    "\n",
    "for day in range(historyDays):\n",
    "    print('Loading day {}'.format(day + 1))\n",
    "    history_file = 'history_payloads_' + str(day) + '.json'\n",
    "    with open(history_file) as f:\n",
    "        payloads = json.load(f)\n",
    "        hourly_records = int(len(payloads) / 24)\n",
    "        index = 0\n",
    "        for hour in range(24):\n",
    "            recordsList = []\n",
    "            for i in range(hourly_records):\n",
    "                score_time = str(datetime.datetime.utcnow() + datetime.timedelta(hours=(-(24*day + hour + 1))))\n",
    "                recordsList.append(PayloadRecord(request=payloads[index]['request'], response=payloads[index]['response'], scoring_timestamp=score_time))\n",
    "                index += 1\n",
    "            subscription.payload_logging.store(records=recordsList)\n",
    "print('Finished')"
   ]
  },
  {
   "cell_type": "code",
   "execution_count": 71,
   "metadata": {
    "scrolled": true
   },
   "outputs": [
    {
     "name": "stdout",
     "output_type": "stream",
     "text": [
      "00000000-0000-0000-0000-000000000000\n"
     ]
    }
   ],
   "source": [
    "data_mart_id = subscription.get_details()['metadata']['url'].split('/service_bindings')[0].split('marts/')[1]\n",
    "print(data_mart_id)"
   ]
  },
  {
   "cell_type": "code",
   "execution_count": 72,
   "metadata": {
    "scrolled": true
   },
   "outputs": [
    {
     "name": "stdout",
     "output_type": "stream",
     "text": [
      "https://169.54.164.135:31843/v1/data_marts/00000000-0000-0000-0000-000000000000/metrics\n"
     ]
    }
   ],
   "source": [
    "performance_metrics_url = WOS_CREDENTIALS['url'] + subscription.get_details()['metadata']['url'].split('/service_bindings')[0] + '/metrics'\n",
    "print(performance_metrics_url)"
   ]
  },
  {
   "cell_type": "markdown",
   "metadata": {},
   "source": [
    "## 8.2 Insert historical fairness metrics"
   ]
  },
  {
   "cell_type": "code",
   "execution_count": 73,
   "metadata": {},
   "outputs": [
    {
     "name": "stdout",
     "output_type": "stream",
     "text": [
      "--2019-09-17 22:06:37--  https://raw.githubusercontent.com/pmservice/ai-openscale-tutorials/master/assets/historical_data/german_credit_risk/wml/history_fairness.json\n",
      "Resolving raw.githubusercontent.com (raw.githubusercontent.com)... 199.232.8.133\n",
      "Connecting to raw.githubusercontent.com (raw.githubusercontent.com)|199.232.8.133|:443... connected.\n",
      "HTTP request sent, awaiting response... 200 OK\n",
      "Length: 562458 (549K) [text/plain]\n",
      "Saving to: ‘history_fairness.json’\n",
      "\n",
      "100%[======================================>] 562,458     --.-K/s   in 0.02s   \n",
      "\n",
      "2019-09-17 22:06:37 (21.9 MB/s) - ‘history_fairness.json’ saved [562458/562458]\n",
      "\n"
     ]
    }
   ],
   "source": [
    "!rm history_fairness.json\n",
    "!wget https://raw.githubusercontent.com/pmservice/ai-openscale-tutorials/master/assets/historical_data/german_credit_risk/wml/history_fairness.json"
   ]
  },
  {
   "cell_type": "code",
   "execution_count": 74,
   "metadata": {},
   "outputs": [],
   "source": [
    "from requests.auth import HTTPBasicAuth\n",
    "\n",
    "def create_token():\n",
    "    header = {\n",
    "                    \"Content-Type\": \"application/x-www-form-urlencoded\",\n",
    "                    \"Accept\": \"application/json\"\n",
    "    }\n",
    "\n",
    "    response = requests_session.get(\n",
    "            WOS_CREDENTIALS['url'] + '/v1/preauth/validateAuth',\n",
    "            headers=header,\n",
    "            auth=HTTPBasicAuth(\n",
    "                WOS_CREDENTIALS['username'],\n",
    "                WOS_CREDENTIALS['password']\n",
    "            ),\n",
    "            verify=False)\n",
    "\n",
    "    response = handle_response(200, 'access token', response, True)\n",
    "    token = response['accessToken']\n",
    "\n",
    "    return token"
   ]
  },
  {
   "cell_type": "code",
   "execution_count": 75,
   "metadata": {
    "scrolled": true
   },
   "outputs": [
    {
     "name": "stdout",
     "output_type": "stream",
     "text": [
      "Loading day 1\n",
      "Loading day 2\n",
      "Loading day 3\n",
      "Loading day 4\n",
      "Loading day 5\n",
      "Loading day 6\n",
      "Loading day 7\n",
      "Finished\n"
     ]
    }
   ],
   "source": [
    "iam_token = create_token()\n",
    "iam_headers = {\n",
    "    'Content-Type': 'application/json',\n",
    "    'Authorization': 'Bearer %s' % iam_token\n",
    "}\n",
    "\n",
    "with open('history_fairness.json', 'r') as history_file:\n",
    "    payloads = json.load(history_file)\n",
    "\n",
    "for day in range(historyDays):\n",
    "    print('Loading day', day + 1)\n",
    "    for hour in range(24):\n",
    "        score_time = (datetime.datetime.utcnow() + datetime.timedelta(hours=(-(24*day + hour + 1)))).strftime('%Y-%m-%dT%H:%M:%SZ')\n",
    "        index = (day * 24 + hour) % len(payloads) # wrap around and reuse values if needed\n",
    "        \n",
    "        qualityMetric = {\n",
    "            'metric_type': 'fairness',\n",
    "            'binding_id': binding_uid,\n",
    "            'timestamp': score_time,\n",
    "            'subscription_id': model_uid,\n",
    "            'asset_revision': model_uid,\n",
    "            'deployment_id': deployment_uid,\n",
    "            'value': payloads[index]\n",
    "        }\n",
    "\n",
    "        response = requests.post(performance_metrics_url, json=[qualityMetric], headers=iam_headers, verify=False)\n",
    "\n",
    "print('Finished')"
   ]
  },
  {
   "cell_type": "markdown",
   "metadata": {},
   "source": [
    "## 8.3 Insert historical debias metrics"
   ]
  },
  {
   "cell_type": "code",
   "execution_count": 76,
   "metadata": {},
   "outputs": [
    {
     "name": "stdout",
     "output_type": "stream",
     "text": [
      "--2019-09-17 22:06:56--  https://raw.githubusercontent.com/pmservice/ai-openscale-tutorials/master/assets/historical_data/german_credit_risk/wml/history_debias.json\n",
      "Resolving raw.githubusercontent.com (raw.githubusercontent.com)... 199.232.8.133\n",
      "Connecting to raw.githubusercontent.com (raw.githubusercontent.com)|199.232.8.133|:443... connected.\n",
      "HTTP request sent, awaiting response... 200 OK\n",
      "Length: 565971 (553K) [text/plain]\n",
      "Saving to: ‘history_debias.json’\n",
      "\n",
      "100%[======================================>] 565,971     --.-K/s   in 0.02s   \n",
      "\n",
      "2019-09-17 22:06:56 (33.4 MB/s) - ‘history_debias.json’ saved [565971/565971]\n",
      "\n"
     ]
    }
   ],
   "source": [
    "!rm history_debias.json\n",
    "!wget https://raw.githubusercontent.com/pmservice/ai-openscale-tutorials/master/assets/historical_data/german_credit_risk/wml/history_debias.json"
   ]
  },
  {
   "cell_type": "code",
   "execution_count": 77,
   "metadata": {},
   "outputs": [
    {
     "name": "stdout",
     "output_type": "stream",
     "text": [
      "Loading day 1\n",
      "Loading day 2\n",
      "Loading day 3\n",
      "Loading day 4\n",
      "Loading day 5\n",
      "Loading day 6\n",
      "Loading day 7\n",
      "Finished\n"
     ]
    }
   ],
   "source": [
    "iam_token = create_token()\n",
    "iam_headers = {\n",
    "    'Content-Type': 'application/json',\n",
    "    'Authorization': 'Bearer %s' % iam_token\n",
    "}\n",
    "\n",
    "with open('history_debias.json', 'r') as history_file:\n",
    "    payloads = json.load(history_file)\n",
    "\n",
    "for day in range(historyDays):\n",
    "    print('Loading day', day + 1)\n",
    "    for hour in range(24):\n",
    "        score_time = (datetime.datetime.utcnow() + datetime.timedelta(hours=(-(24*day + hour + 1)))).strftime('%Y-%m-%dT%H:%M:%SZ')\n",
    "        index = (day * 24 + hour) % len(payloads) # wrap around and reuse values if needed\n",
    "\n",
    "        qualityMetric = {\n",
    "            'metric_type': 'debiased_fairness',\n",
    "            'binding_id': binding_uid,\n",
    "            'timestamp': score_time,\n",
    "            'subscription_id': model_uid,\n",
    "            'asset_revision': model_uid,\n",
    "            'deployment_id': deployment_uid,\n",
    "            'value': payloads[index]\n",
    "        }\n",
    "\n",
    "        response = requests.post(performance_metrics_url, json=[qualityMetric], headers=iam_headers, verify=False)\n",
    "print('Finished')"
   ]
  },
  {
   "cell_type": "markdown",
   "metadata": {},
   "source": [
    "## 8.4 Insert historical quality metrics"
   ]
  },
  {
   "cell_type": "code",
   "execution_count": 78,
   "metadata": {
    "scrolled": true
   },
   "outputs": [
    {
     "name": "stdout",
     "output_type": "stream",
     "text": [
      "Day 1\n",
      "Day 2\n",
      "Day 3\n",
      "Day 4\n",
      "Day 5\n",
      "Day 6\n",
      "Day 7\n",
      "Finished\n"
     ]
    }
   ],
   "source": [
    "iam_token = create_token()\n",
    "iam_headers = {\n",
    "    'Content-Type': 'application/json',\n",
    "    'Authorization': 'Bearer %s' % iam_token\n",
    "}\n",
    "\n",
    "measurements = [0.76, 0.78, 0.68, 0.72, 0.73, 0.77, 0.80]\n",
    "for day in range(historyDays):\n",
    "    print('Day', day + 1)\n",
    "    for hour in range(24):\n",
    "        score_time = (datetime.datetime.utcnow() + datetime.timedelta(hours=(-(24*day + hour + 1)))).strftime('%Y-%m-%dT%H:%M:%SZ')\n",
    "        qualityMetric = {\n",
    "            'metric_type': 'quality',\n",
    "            'binding_id': binding_uid,\n",
    "            'timestamp': score_time,\n",
    "            'subscription_id': model_uid,\n",
    "            'asset_revision': model_uid,\n",
    "            'deployment_id': deployment_uid,\n",
    "            'value': {\n",
    "                'quality': measurements[day],\n",
    "                'threshold': 0.7,\n",
    "                'metrics': [\n",
    "                    {\n",
    "                        'name': 'auroc',\n",
    "                        'value': measurements[day],\n",
    "                        'threshold': 0.7\n",
    "                    }\n",
    "                ]\n",
    "            }\n",
    "        }\n",
    "\n",
    "        response = requests.post(performance_metrics_url, json=[qualityMetric], headers=iam_headers, verify=False)\n",
    "print('Finished')"
   ]
  },
  {
   "cell_type": "markdown",
   "metadata": {},
   "source": [
    "## 8.5 Insert historical confusion matrixes"
   ]
  },
  {
   "cell_type": "code",
   "execution_count": 79,
   "metadata": {},
   "outputs": [
    {
     "name": "stdout",
     "output_type": "stream",
     "text": [
      "--2019-09-17 22:07:24--  https://raw.githubusercontent.com/pmservice/ai-openscale-tutorials/master/assets/historical_data/german_credit_risk/wml/history_quality_metrics.json\n",
      "Resolving raw.githubusercontent.com (raw.githubusercontent.com)... 199.232.8.133\n",
      "Connecting to raw.githubusercontent.com (raw.githubusercontent.com)|199.232.8.133|:443... connected.\n",
      "HTTP request sent, awaiting response... 200 OK\n",
      "Length: 80099 (78K) [text/plain]\n",
      "Saving to: ‘history_quality_metrics.json’\n",
      "\n",
      "100%[======================================>] 80,099      --.-K/s   in 0.004s  \n",
      "\n",
      "2019-09-17 22:07:24 (21.5 MB/s) - ‘history_quality_metrics.json’ saved [80099/80099]\n",
      "\n"
     ]
    }
   ],
   "source": [
    "!rm history_quality_metrics.json\n",
    "!wget https://raw.githubusercontent.com/pmservice/ai-openscale-tutorials/master/assets/historical_data/german_credit_risk/wml/history_quality_metrics.json"
   ]
  },
  {
   "cell_type": "code",
   "execution_count": 80,
   "metadata": {},
   "outputs": [
    {
     "name": "stdout",
     "output_type": "stream",
     "text": [
      "https://169.54.164.135:31843/v1/data_marts/00000000-0000-0000-0000-000000000000/measurements\n"
     ]
    }
   ],
   "source": [
    "measurements_url = WOS_CREDENTIALS['url'] + subscription.get_details()['metadata']['url'].split('/service_bindings')[0] + '/measurements'\n",
    "print(measurements_url)"
   ]
  },
  {
   "cell_type": "code",
   "execution_count": 81,
   "metadata": {},
   "outputs": [
    {
     "name": "stdout",
     "output_type": "stream",
     "text": [
      "Day 1\n",
      "Day 2\n",
      "Day 3\n",
      "Day 4\n",
      "Day 5\n",
      "Day 6\n",
      "Day 7\n",
      "Finished\n"
     ]
    }
   ],
   "source": [
    "with open('history_quality_metrics.json') as json_file:\n",
    "    records = json.load(json_file)\n",
    "    \n",
    "for day in range(historyDays):\n",
    "    index = 0\n",
    "    measurments = []\n",
    "    print('Day', day + 1)\n",
    "    \n",
    "    for hour in range(24):\n",
    "        score_time = (datetime.datetime.utcnow() + datetime.timedelta(hours=(-(24*day + hour + 1)))).strftime('%Y-%m-%dT%H:%M:%SZ')\n",
    "\n",
    "        measurement = {\n",
    "            \"monitor_definition_id\": 'quality',\n",
    "            \"binding_id\": subscription.binding_uid,\n",
    "            \"subscription_id\": subscription.uid,\n",
    "            \"asset_id\": subscription.source_uid,\n",
    "            'metrics': [records[index]['metrics']],\n",
    "            'sources': [records[index]['sources']],\n",
    "            'timestamp': score_time\n",
    "        }\n",
    "\n",
    "        measurments.append(measurement)\n",
    "        index+=1\n",
    "\n",
    "\n",
    "    response = requests.post(measurements_url, json=measurments, headers=ai_client._get_headers(), verify=False)\n",
    "\n",
    "print('Finished')"
   ]
  },
  {
   "cell_type": "markdown",
   "metadata": {},
   "source": [
    "## 8.6 Insert historical performance metrics"
   ]
  },
  {
   "cell_type": "code",
   "execution_count": 82,
   "metadata": {},
   "outputs": [
    {
     "name": "stdout",
     "output_type": "stream",
     "text": [
      "Day 1\n",
      "Day 2\n",
      "Day 3\n",
      "Day 4\n",
      "Day 5\n",
      "Day 6\n",
      "Day 7\n",
      "Finished\n"
     ]
    }
   ],
   "source": [
    "iam_token = create_token()\n",
    "iam_headers = {\n",
    "    'Content-Type': 'application/json',\n",
    "    'Authorization': 'Bearer %s' % iam_token\n",
    "}\n",
    "\n",
    "for day in range(historyDays):\n",
    "    print('Day', day + 1)\n",
    "    for hour in range(24):\n",
    "        score_time = (datetime.datetime.utcnow() + datetime.timedelta(hours=(-(24*day + hour + 1)))).strftime('%Y-%m-%dT%H:%M:%SZ')\n",
    "        score_count = random.randint(60, 600)\n",
    "        score_resp = random.uniform(60, 300)\n",
    "\n",
    "        performanceMetric = {\n",
    "            'metric_type': 'performance',\n",
    "            'binding_id': binding_uid,\n",
    "            'timestamp': score_time,\n",
    "            'subscription_id': model_uid,\n",
    "            'asset_revision': model_uid,\n",
    "            'deployment_id': deployment_uid,\n",
    "            'value': {\n",
    "                'response_time': score_resp,\n",
    "                'records': score_count\n",
    "            }\n",
    "        }\n",
    "\n",
    "        response = requests.post(performance_metrics_url, json=[performanceMetric], headers=iam_headers, verify=False)\n",
    "print('Finished')"
   ]
  },
  {
   "cell_type": "markdown",
   "metadata": {},
   "source": [
    "## 8.7 Insert historical manual labeling"
   ]
  },
  {
   "cell_type": "code",
   "execution_count": 83,
   "metadata": {},
   "outputs": [
    {
     "name": "stdout",
     "output_type": "stream",
     "text": [
      "https://169.54.164.135:31843/v1/data_marts/00000000-0000-0000-0000-000000000000/manual_labelings\n"
     ]
    }
   ],
   "source": [
    "manual_labeling_url = WOS_CREDENTIALS['url'] + subscription.get_details()['metadata']['url'].split('/service_bindings')[0] + '/manual_labelings'\n",
    "print(manual_labeling_url)"
   ]
  },
  {
   "cell_type": "code",
   "execution_count": 84,
   "metadata": {},
   "outputs": [
    {
     "name": "stdout",
     "output_type": "stream",
     "text": [
      "--2019-09-17 22:07:38--  https://raw.githubusercontent.com/pmservice/ai-openscale-tutorials/master/assets/historical_data/german_credit_risk/wml/history_manual_labeling.json\n",
      "Resolving raw.githubusercontent.com (raw.githubusercontent.com)... 199.232.8.133\n",
      "Connecting to raw.githubusercontent.com (raw.githubusercontent.com)|199.232.8.133|:443... connected.\n",
      "HTTP request sent, awaiting response... 200 OK\n",
      "Length: 947956 (926K) [text/plain]\n",
      "Saving to: ‘history_manual_labeling.json’\n",
      "\n",
      "100%[======================================>] 947,956     --.-K/s   in 0.03s   \n",
      "\n",
      "2019-09-17 22:07:39 (35.0 MB/s) - ‘history_manual_labeling.json’ saved [947956/947956]\n",
      "\n"
     ]
    }
   ],
   "source": [
    "!rm history_manual_labeling.json\n",
    "!wget https://raw.githubusercontent.com/pmservice/ai-openscale-tutorials/master/assets/historical_data/german_credit_risk/wml/history_manual_labeling.json"
   ]
  },
  {
   "cell_type": "code",
   "execution_count": 85,
   "metadata": {},
   "outputs": [
    {
     "name": "stdout",
     "output_type": "stream",
     "text": [
      "Loading day 1\n",
      "Loading day 2\n",
      "Loading day 3\n",
      "Loading day 4\n",
      "Loading day 5\n",
      "Loading day 6\n",
      "Loading day 7\n",
      "Finished\n"
     ]
    }
   ],
   "source": [
    "iam_token = create_token()\n",
    "iam_headers = {\n",
    "    'Content-Type': 'application/json',\n",
    "    'Authorization': 'Bearer %s' % iam_token\n",
    "}\n",
    "\n",
    "with open('history_manual_labeling.json', 'r') as history_file:\n",
    "    records = json.load(history_file)\n",
    "\n",
    "for day in range(historyDays):\n",
    "    print('Loading day', day + 1)\n",
    "    record_json = []\n",
    "    for hour in range(24):\n",
    "        for record in records:\n",
    "            if record['fastpath_history_day'] == day and record['fastpath_history_hour'] == hour:\n",
    "                record['binding_id'] = binding_uid\n",
    "                record['subscription_id'] = model_uid\n",
    "                record['asset_revision'] = model_uid\n",
    "                record['deployment_id'] = deployment_uid\n",
    "                record['scoring_timestamp'] = (datetime.datetime.utcnow() + datetime.timedelta(hours=(-(24*day + hour + 1)))).strftime('%Y-%m-%dT%H:%M:%SZ')\n",
    "                record_json.append(record)\n",
    "    response = requests.post(manual_labeling_url, json=record_json, headers=iam_headers, verify=False)\n",
    "\n",
    "print('Finished')"
   ]
  },
  {
   "cell_type": "markdown",
   "metadata": {},
   "source": [
    "## 8.8 Additional data to help debugging"
   ]
  },
  {
   "cell_type": "code",
   "execution_count": 86,
   "metadata": {
    "scrolled": true
   },
   "outputs": [
    {
     "name": "stdout",
     "output_type": "stream",
     "text": [
      "Datamart: 00000000-0000-0000-0000-000000000000\n",
      "Model: 8e6bfe5d-85ee-46ca-8af0-5d2558bc5fad\n",
      "Deployment: 1a5394df-4560-4e16-b21a-093269a5cc9d\n",
      "Binding: 999\n",
      "Scoring URL: https://169.54.164.135:31843/v3/scoring/online/1a5394df-4560-4e16-b21a-093269a5cc9d\n"
     ]
    }
   ],
   "source": [
    "print('Datamart:', data_mart_id)\n",
    "print('Model:', model_uid)\n",
    "print('Deployment:', deployment_uid)\n",
    "print('Binding:', binding_uid)\n",
    "print('Scoring URL:', credit_risk_scoring_endpoint)"
   ]
  },
  {
   "cell_type": "markdown",
   "metadata": {},
   "source": [
    "## 8.9 Identify transactions for Explainability"
   ]
  },
  {
   "cell_type": "markdown",
   "metadata": {},
   "source": [
    "Transaction IDs identified by the cells below can be copied and pasted into the Explainability tab of the OpenScale dashboard."
   ]
  },
  {
   "cell_type": "code",
   "execution_count": 87,
   "metadata": {},
   "outputs": [
    {
     "data": {
      "text/html": [
       "<div>\n",
       "<style scoped>\n",
       "    .dataframe tbody tr th:only-of-type {\n",
       "        vertical-align: middle;\n",
       "    }\n",
       "\n",
       "    .dataframe tbody tr th {\n",
       "        vertical-align: top;\n",
       "    }\n",
       "\n",
       "    .dataframe thead th {\n",
       "        text-align: right;\n",
       "    }\n",
       "</style>\n",
       "<table border=\"1\" class=\"dataframe\">\n",
       "  <thead>\n",
       "    <tr style=\"text-align: right;\">\n",
       "      <th></th>\n",
       "      <th>scoring_id</th>\n",
       "      <th>predictedLabel</th>\n",
       "      <th>probability</th>\n",
       "    </tr>\n",
       "  </thead>\n",
       "  <tbody>\n",
       "    <tr>\n",
       "      <th>0</th>\n",
       "      <td>5c975ada-4b2c-4ab8-b407-967c0d4b46a8-1</td>\n",
       "      <td>No Risk</td>\n",
       "      <td>[0.5543447696179451, 0.44565523038205496]</td>\n",
       "    </tr>\n",
       "    <tr>\n",
       "      <th>1</th>\n",
       "      <td>5c975ada-4b2c-4ab8-b407-967c0d4b46a8-2</td>\n",
       "      <td>No Risk</td>\n",
       "      <td>[0.8192524685386946, 0.18074753146130532]</td>\n",
       "    </tr>\n",
       "    <tr>\n",
       "      <th>2</th>\n",
       "      <td>5c975ada-4b2c-4ab8-b407-967c0d4b46a8-3</td>\n",
       "      <td>Risk</td>\n",
       "      <td>[0.12120336089416128, 0.8787966391058386]</td>\n",
       "    </tr>\n",
       "    <tr>\n",
       "      <th>3</th>\n",
       "      <td>5c975ada-4b2c-4ab8-b407-967c0d4b46a8-4</td>\n",
       "      <td>Risk</td>\n",
       "      <td>[0.4620888509109868, 0.5379111490890133]</td>\n",
       "    </tr>\n",
       "    <tr>\n",
       "      <th>4</th>\n",
       "      <td>5c975ada-4b2c-4ab8-b407-967c0d4b46a8-5</td>\n",
       "      <td>No Risk</td>\n",
       "      <td>[0.7780817383228049, 0.22191826167719514]</td>\n",
       "    </tr>\n",
       "    <tr>\n",
       "      <th>5</th>\n",
       "      <td>5c975ada-4b2c-4ab8-b407-967c0d4b46a8-6</td>\n",
       "      <td>No Risk</td>\n",
       "      <td>[0.6244952154422047, 0.37550478455779535]</td>\n",
       "    </tr>\n",
       "    <tr>\n",
       "      <th>6</th>\n",
       "      <td>5c975ada-4b2c-4ab8-b407-967c0d4b46a8-7</td>\n",
       "      <td>No Risk</td>\n",
       "      <td>[0.9568883646299076, 0.0431116353700924]</td>\n",
       "    </tr>\n",
       "    <tr>\n",
       "      <th>7</th>\n",
       "      <td>5c975ada-4b2c-4ab8-b407-967c0d4b46a8-8</td>\n",
       "      <td>Risk</td>\n",
       "      <td>[0.41679162425987243, 0.5832083757401276]</td>\n",
       "    </tr>\n",
       "    <tr>\n",
       "      <th>8</th>\n",
       "      <td>5c975ada-4b2c-4ab8-b407-967c0d4b46a8-9</td>\n",
       "      <td>No Risk</td>\n",
       "      <td>[0.9884778562344003, 0.01152214376559961]</td>\n",
       "    </tr>\n",
       "    <tr>\n",
       "      <th>9</th>\n",
       "      <td>5c975ada-4b2c-4ab8-b407-967c0d4b46a8-10</td>\n",
       "      <td>No Risk</td>\n",
       "      <td>[0.7901476819220368, 0.20985231807796323]</td>\n",
       "    </tr>\n",
       "    <tr>\n",
       "      <th>10</th>\n",
       "      <td>5c975ada-4b2c-4ab8-b407-967c0d4b46a8-11</td>\n",
       "      <td>No Risk</td>\n",
       "      <td>[0.984972323930098, 0.015027676069901949]</td>\n",
       "    </tr>\n",
       "    <tr>\n",
       "      <th>11</th>\n",
       "      <td>5c975ada-4b2c-4ab8-b407-967c0d4b46a8-12</td>\n",
       "      <td>No Risk</td>\n",
       "      <td>[0.7162837392761777, 0.2837162607238223]</td>\n",
       "    </tr>\n",
       "    <tr>\n",
       "      <th>12</th>\n",
       "      <td>5c975ada-4b2c-4ab8-b407-967c0d4b46a8-13</td>\n",
       "      <td>Risk</td>\n",
       "      <td>[0.49657770531815804, 0.5034222946818421]</td>\n",
       "    </tr>\n",
       "    <tr>\n",
       "      <th>13</th>\n",
       "      <td>5c975ada-4b2c-4ab8-b407-967c0d4b46a8-14</td>\n",
       "      <td>No Risk</td>\n",
       "      <td>[0.6884338624711471, 0.3115661375288528]</td>\n",
       "    </tr>\n",
       "    <tr>\n",
       "      <th>14</th>\n",
       "      <td>5c975ada-4b2c-4ab8-b407-967c0d4b46a8-15</td>\n",
       "      <td>No Risk</td>\n",
       "      <td>[0.9318243049719888, 0.06817569502801121]</td>\n",
       "    </tr>\n",
       "    <tr>\n",
       "      <th>15</th>\n",
       "      <td>5c975ada-4b2c-4ab8-b407-967c0d4b46a8-16</td>\n",
       "      <td>No Risk</td>\n",
       "      <td>[0.9193790406677105, 0.08062095933228963]</td>\n",
       "    </tr>\n",
       "    <tr>\n",
       "      <th>16</th>\n",
       "      <td>5c975ada-4b2c-4ab8-b407-967c0d4b46a8-17</td>\n",
       "      <td>No Risk</td>\n",
       "      <td>[0.8346550800394938, 0.16534491996050624]</td>\n",
       "    </tr>\n",
       "    <tr>\n",
       "      <th>17</th>\n",
       "      <td>5c975ada-4b2c-4ab8-b407-967c0d4b46a8-18</td>\n",
       "      <td>No Risk</td>\n",
       "      <td>[0.7362528775342283, 0.2637471224657717]</td>\n",
       "    </tr>\n",
       "    <tr>\n",
       "      <th>18</th>\n",
       "      <td>5c975ada-4b2c-4ab8-b407-967c0d4b46a8-19</td>\n",
       "      <td>No Risk</td>\n",
       "      <td>[0.5209729969424888, 0.4790270030575113]</td>\n",
       "    </tr>\n",
       "    <tr>\n",
       "      <th>19</th>\n",
       "      <td>5c975ada-4b2c-4ab8-b407-967c0d4b46a8-20</td>\n",
       "      <td>No Risk</td>\n",
       "      <td>[0.8477139197128011, 0.15228608028719892]</td>\n",
       "    </tr>\n",
       "    <tr>\n",
       "      <th>20</th>\n",
       "      <td>5c975ada-4b2c-4ab8-b407-967c0d4b46a8-21</td>\n",
       "      <td>No Risk</td>\n",
       "      <td>[0.98604744130099, 0.013952558699009928]</td>\n",
       "    </tr>\n",
       "    <tr>\n",
       "      <th>21</th>\n",
       "      <td>5c975ada-4b2c-4ab8-b407-967c0d4b46a8-22</td>\n",
       "      <td>No Risk</td>\n",
       "      <td>[0.6975147793931702, 0.3024852206068298]</td>\n",
       "    </tr>\n",
       "    <tr>\n",
       "      <th>22</th>\n",
       "      <td>5c975ada-4b2c-4ab8-b407-967c0d4b46a8-23</td>\n",
       "      <td>No Risk</td>\n",
       "      <td>[0.7908581893298106, 0.20914181067018936]</td>\n",
       "    </tr>\n",
       "    <tr>\n",
       "      <th>23</th>\n",
       "      <td>5c975ada-4b2c-4ab8-b407-967c0d4b46a8-24</td>\n",
       "      <td>Risk</td>\n",
       "      <td>[0.4606163697397946, 0.5393836302602053]</td>\n",
       "    </tr>\n",
       "    <tr>\n",
       "      <th>24</th>\n",
       "      <td>5c975ada-4b2c-4ab8-b407-967c0d4b46a8-25</td>\n",
       "      <td>Risk</td>\n",
       "      <td>[0.22799909619194655, 0.7720009038080535]</td>\n",
       "    </tr>\n",
       "    <tr>\n",
       "      <th>25</th>\n",
       "      <td>5c975ada-4b2c-4ab8-b407-967c0d4b46a8-26</td>\n",
       "      <td>No Risk</td>\n",
       "      <td>[0.8967589427751484, 0.10324105722485158]</td>\n",
       "    </tr>\n",
       "    <tr>\n",
       "      <th>26</th>\n",
       "      <td>5c975ada-4b2c-4ab8-b407-967c0d4b46a8-27</td>\n",
       "      <td>No Risk</td>\n",
       "      <td>[0.8544290505644124, 0.1455709494355876]</td>\n",
       "    </tr>\n",
       "    <tr>\n",
       "      <th>27</th>\n",
       "      <td>5c975ada-4b2c-4ab8-b407-967c0d4b46a8-28</td>\n",
       "      <td>No Risk</td>\n",
       "      <td>[0.9587708872616773, 0.04122911273832275]</td>\n",
       "    </tr>\n",
       "    <tr>\n",
       "      <th>28</th>\n",
       "      <td>5c975ada-4b2c-4ab8-b407-967c0d4b46a8-29</td>\n",
       "      <td>Risk</td>\n",
       "      <td>[0.08215338682829723, 0.9178466131717028]</td>\n",
       "    </tr>\n",
       "    <tr>\n",
       "      <th>29</th>\n",
       "      <td>5c975ada-4b2c-4ab8-b407-967c0d4b46a8-30</td>\n",
       "      <td>Risk</td>\n",
       "      <td>[0.058849386927137384, 0.9411506130728625]</td>\n",
       "    </tr>\n",
       "    <tr>\n",
       "      <th>30</th>\n",
       "      <td>5c975ada-4b2c-4ab8-b407-967c0d4b46a8-31</td>\n",
       "      <td>No Risk</td>\n",
       "      <td>[0.9331131483061645, 0.0668868516938355]</td>\n",
       "    </tr>\n",
       "    <tr>\n",
       "      <th>31</th>\n",
       "      <td>5c975ada-4b2c-4ab8-b407-967c0d4b46a8-32</td>\n",
       "      <td>No Risk</td>\n",
       "      <td>[0.9644175601025028, 0.03558243989749716]</td>\n",
       "    </tr>\n",
       "    <tr>\n",
       "      <th>32</th>\n",
       "      <td>5c975ada-4b2c-4ab8-b407-967c0d4b46a8-33</td>\n",
       "      <td>No Risk</td>\n",
       "      <td>[0.9748061715332395, 0.025193828466760642]</td>\n",
       "    </tr>\n",
       "    <tr>\n",
       "      <th>33</th>\n",
       "      <td>5c975ada-4b2c-4ab8-b407-967c0d4b46a8-34</td>\n",
       "      <td>No Risk</td>\n",
       "      <td>[0.8462451648359525, 0.15375483516404756]</td>\n",
       "    </tr>\n",
       "    <tr>\n",
       "      <th>34</th>\n",
       "      <td>5c975ada-4b2c-4ab8-b407-967c0d4b46a8-35</td>\n",
       "      <td>Risk</td>\n",
       "      <td>[0.45632855347191226, 0.5436714465280877]</td>\n",
       "    </tr>\n",
       "    <tr>\n",
       "      <th>35</th>\n",
       "      <td>5c975ada-4b2c-4ab8-b407-967c0d4b46a8-36</td>\n",
       "      <td>Risk</td>\n",
       "      <td>[0.38972227882519367, 0.6102777211748064]</td>\n",
       "    </tr>\n",
       "    <tr>\n",
       "      <th>36</th>\n",
       "      <td>5c975ada-4b2c-4ab8-b407-967c0d4b46a8-37</td>\n",
       "      <td>No Risk</td>\n",
       "      <td>[0.9464103961449304, 0.05358960385506962]</td>\n",
       "    </tr>\n",
       "    <tr>\n",
       "      <th>37</th>\n",
       "      <td>5c975ada-4b2c-4ab8-b407-967c0d4b46a8-38</td>\n",
       "      <td>No Risk</td>\n",
       "      <td>[0.9846389905967647, 0.015361009403235287]</td>\n",
       "    </tr>\n",
       "    <tr>\n",
       "      <th>38</th>\n",
       "      <td>5c975ada-4b2c-4ab8-b407-967c0d4b46a8-39</td>\n",
       "      <td>No Risk</td>\n",
       "      <td>[0.8157698883473703, 0.18423011165262973]</td>\n",
       "    </tr>\n",
       "    <tr>\n",
       "      <th>39</th>\n",
       "      <td>5c975ada-4b2c-4ab8-b407-967c0d4b46a8-40</td>\n",
       "      <td>No Risk</td>\n",
       "      <td>[0.6318067557367593, 0.36819324426324074]</td>\n",
       "    </tr>\n",
       "    <tr>\n",
       "      <th>40</th>\n",
       "      <td>5c975ada-4b2c-4ab8-b407-967c0d4b46a8-41</td>\n",
       "      <td>No Risk</td>\n",
       "      <td>[0.8995347317771392, 0.10046526822286077]</td>\n",
       "    </tr>\n",
       "    <tr>\n",
       "      <th>41</th>\n",
       "      <td>5c975ada-4b2c-4ab8-b407-967c0d4b46a8-42</td>\n",
       "      <td>Risk</td>\n",
       "      <td>[0.3673935464715817, 0.6326064535284183]</td>\n",
       "    </tr>\n",
       "    <tr>\n",
       "      <th>42</th>\n",
       "      <td>5c975ada-4b2c-4ab8-b407-967c0d4b46a8-43</td>\n",
       "      <td>Risk</td>\n",
       "      <td>[0.4360334432705999, 0.5639665567294001]</td>\n",
       "    </tr>\n",
       "    <tr>\n",
       "      <th>43</th>\n",
       "      <td>5c975ada-4b2c-4ab8-b407-967c0d4b46a8-44</td>\n",
       "      <td>No Risk</td>\n",
       "      <td>[0.8692430920405778, 0.1307569079594222]</td>\n",
       "    </tr>\n",
       "    <tr>\n",
       "      <th>44</th>\n",
       "      <td>5c975ada-4b2c-4ab8-b407-967c0d4b46a8-45</td>\n",
       "      <td>No Risk</td>\n",
       "      <td>[0.766119583713994, 0.23388041628600592]</td>\n",
       "    </tr>\n",
       "    <tr>\n",
       "      <th>45</th>\n",
       "      <td>5c975ada-4b2c-4ab8-b407-967c0d4b46a8-46</td>\n",
       "      <td>No Risk</td>\n",
       "      <td>[0.7690587587163514, 0.23094124128364854]</td>\n",
       "    </tr>\n",
       "    <tr>\n",
       "      <th>46</th>\n",
       "      <td>5c975ada-4b2c-4ab8-b407-967c0d4b46a8-47</td>\n",
       "      <td>No Risk</td>\n",
       "      <td>[0.8295021859423745, 0.1704978140576256]</td>\n",
       "    </tr>\n",
       "    <tr>\n",
       "      <th>47</th>\n",
       "      <td>5c975ada-4b2c-4ab8-b407-967c0d4b46a8-48</td>\n",
       "      <td>No Risk</td>\n",
       "      <td>[0.6085092792488871, 0.3914907207511129]</td>\n",
       "    </tr>\n",
       "    <tr>\n",
       "      <th>48</th>\n",
       "      <td>5c975ada-4b2c-4ab8-b407-967c0d4b46a8-49</td>\n",
       "      <td>Risk</td>\n",
       "      <td>[0.43659357989414566, 0.5634064201058544]</td>\n",
       "    </tr>\n",
       "    <tr>\n",
       "      <th>49</th>\n",
       "      <td>5c975ada-4b2c-4ab8-b407-967c0d4b46a8-50</td>\n",
       "      <td>No Risk</td>\n",
       "      <td>[0.9432905429248384, 0.05670945707516163]</td>\n",
       "    </tr>\n",
       "    <tr>\n",
       "      <th>50</th>\n",
       "      <td>5c975ada-4b2c-4ab8-b407-967c0d4b46a8-51</td>\n",
       "      <td>No Risk</td>\n",
       "      <td>[0.5463016271249629, 0.4536983728750371]</td>\n",
       "    </tr>\n",
       "    <tr>\n",
       "      <th>51</th>\n",
       "      <td>5c975ada-4b2c-4ab8-b407-967c0d4b46a8-52</td>\n",
       "      <td>No Risk</td>\n",
       "      <td>[0.6021796081227069, 0.3978203918772932]</td>\n",
       "    </tr>\n",
       "    <tr>\n",
       "      <th>52</th>\n",
       "      <td>5c975ada-4b2c-4ab8-b407-967c0d4b46a8-53</td>\n",
       "      <td>Risk</td>\n",
       "      <td>[0.15845696865626804, 0.841543031343732]</td>\n",
       "    </tr>\n",
       "    <tr>\n",
       "      <th>53</th>\n",
       "      <td>5c975ada-4b2c-4ab8-b407-967c0d4b46a8-54</td>\n",
       "      <td>No Risk</td>\n",
       "      <td>[0.730037112910496, 0.269962887089504]</td>\n",
       "    </tr>\n",
       "    <tr>\n",
       "      <th>54</th>\n",
       "      <td>5c975ada-4b2c-4ab8-b407-967c0d4b46a8-55</td>\n",
       "      <td>Risk</td>\n",
       "      <td>[0.43423114664691653, 0.5657688533530834]</td>\n",
       "    </tr>\n",
       "    <tr>\n",
       "      <th>55</th>\n",
       "      <td>5c975ada-4b2c-4ab8-b407-967c0d4b46a8-56</td>\n",
       "      <td>No Risk</td>\n",
       "      <td>[0.5014777459795338, 0.4985222540204662]</td>\n",
       "    </tr>\n",
       "    <tr>\n",
       "      <th>56</th>\n",
       "      <td>5c975ada-4b2c-4ab8-b407-967c0d4b46a8-57</td>\n",
       "      <td>No Risk</td>\n",
       "      <td>[0.9846389905967647, 0.015361009403235287]</td>\n",
       "    </tr>\n",
       "    <tr>\n",
       "      <th>57</th>\n",
       "      <td>5c975ada-4b2c-4ab8-b407-967c0d4b46a8-58</td>\n",
       "      <td>No Risk</td>\n",
       "      <td>[0.98604744130099, 0.013952558699009928]</td>\n",
       "    </tr>\n",
       "    <tr>\n",
       "      <th>58</th>\n",
       "      <td>5c975ada-4b2c-4ab8-b407-967c0d4b46a8-59</td>\n",
       "      <td>No Risk</td>\n",
       "      <td>[0.7024546928346809, 0.29754530716531924]</td>\n",
       "    </tr>\n",
       "    <tr>\n",
       "      <th>59</th>\n",
       "      <td>5c975ada-4b2c-4ab8-b407-967c0d4b46a8-60</td>\n",
       "      <td>Risk</td>\n",
       "      <td>[0.3318421418701845, 0.6681578581298155]</td>\n",
       "    </tr>\n",
       "  </tbody>\n",
       "</table>\n",
       "</div>"
      ],
      "text/plain": [
       "                                 scoring_id predictedLabel  \\\n",
       "0    5c975ada-4b2c-4ab8-b407-967c0d4b46a8-1        No Risk   \n",
       "1    5c975ada-4b2c-4ab8-b407-967c0d4b46a8-2        No Risk   \n",
       "2    5c975ada-4b2c-4ab8-b407-967c0d4b46a8-3           Risk   \n",
       "3    5c975ada-4b2c-4ab8-b407-967c0d4b46a8-4           Risk   \n",
       "4    5c975ada-4b2c-4ab8-b407-967c0d4b46a8-5        No Risk   \n",
       "5    5c975ada-4b2c-4ab8-b407-967c0d4b46a8-6        No Risk   \n",
       "6    5c975ada-4b2c-4ab8-b407-967c0d4b46a8-7        No Risk   \n",
       "7    5c975ada-4b2c-4ab8-b407-967c0d4b46a8-8           Risk   \n",
       "8    5c975ada-4b2c-4ab8-b407-967c0d4b46a8-9        No Risk   \n",
       "9   5c975ada-4b2c-4ab8-b407-967c0d4b46a8-10        No Risk   \n",
       "10  5c975ada-4b2c-4ab8-b407-967c0d4b46a8-11        No Risk   \n",
       "11  5c975ada-4b2c-4ab8-b407-967c0d4b46a8-12        No Risk   \n",
       "12  5c975ada-4b2c-4ab8-b407-967c0d4b46a8-13           Risk   \n",
       "13  5c975ada-4b2c-4ab8-b407-967c0d4b46a8-14        No Risk   \n",
       "14  5c975ada-4b2c-4ab8-b407-967c0d4b46a8-15        No Risk   \n",
       "15  5c975ada-4b2c-4ab8-b407-967c0d4b46a8-16        No Risk   \n",
       "16  5c975ada-4b2c-4ab8-b407-967c0d4b46a8-17        No Risk   \n",
       "17  5c975ada-4b2c-4ab8-b407-967c0d4b46a8-18        No Risk   \n",
       "18  5c975ada-4b2c-4ab8-b407-967c0d4b46a8-19        No Risk   \n",
       "19  5c975ada-4b2c-4ab8-b407-967c0d4b46a8-20        No Risk   \n",
       "20  5c975ada-4b2c-4ab8-b407-967c0d4b46a8-21        No Risk   \n",
       "21  5c975ada-4b2c-4ab8-b407-967c0d4b46a8-22        No Risk   \n",
       "22  5c975ada-4b2c-4ab8-b407-967c0d4b46a8-23        No Risk   \n",
       "23  5c975ada-4b2c-4ab8-b407-967c0d4b46a8-24           Risk   \n",
       "24  5c975ada-4b2c-4ab8-b407-967c0d4b46a8-25           Risk   \n",
       "25  5c975ada-4b2c-4ab8-b407-967c0d4b46a8-26        No Risk   \n",
       "26  5c975ada-4b2c-4ab8-b407-967c0d4b46a8-27        No Risk   \n",
       "27  5c975ada-4b2c-4ab8-b407-967c0d4b46a8-28        No Risk   \n",
       "28  5c975ada-4b2c-4ab8-b407-967c0d4b46a8-29           Risk   \n",
       "29  5c975ada-4b2c-4ab8-b407-967c0d4b46a8-30           Risk   \n",
       "30  5c975ada-4b2c-4ab8-b407-967c0d4b46a8-31        No Risk   \n",
       "31  5c975ada-4b2c-4ab8-b407-967c0d4b46a8-32        No Risk   \n",
       "32  5c975ada-4b2c-4ab8-b407-967c0d4b46a8-33        No Risk   \n",
       "33  5c975ada-4b2c-4ab8-b407-967c0d4b46a8-34        No Risk   \n",
       "34  5c975ada-4b2c-4ab8-b407-967c0d4b46a8-35           Risk   \n",
       "35  5c975ada-4b2c-4ab8-b407-967c0d4b46a8-36           Risk   \n",
       "36  5c975ada-4b2c-4ab8-b407-967c0d4b46a8-37        No Risk   \n",
       "37  5c975ada-4b2c-4ab8-b407-967c0d4b46a8-38        No Risk   \n",
       "38  5c975ada-4b2c-4ab8-b407-967c0d4b46a8-39        No Risk   \n",
       "39  5c975ada-4b2c-4ab8-b407-967c0d4b46a8-40        No Risk   \n",
       "40  5c975ada-4b2c-4ab8-b407-967c0d4b46a8-41        No Risk   \n",
       "41  5c975ada-4b2c-4ab8-b407-967c0d4b46a8-42           Risk   \n",
       "42  5c975ada-4b2c-4ab8-b407-967c0d4b46a8-43           Risk   \n",
       "43  5c975ada-4b2c-4ab8-b407-967c0d4b46a8-44        No Risk   \n",
       "44  5c975ada-4b2c-4ab8-b407-967c0d4b46a8-45        No Risk   \n",
       "45  5c975ada-4b2c-4ab8-b407-967c0d4b46a8-46        No Risk   \n",
       "46  5c975ada-4b2c-4ab8-b407-967c0d4b46a8-47        No Risk   \n",
       "47  5c975ada-4b2c-4ab8-b407-967c0d4b46a8-48        No Risk   \n",
       "48  5c975ada-4b2c-4ab8-b407-967c0d4b46a8-49           Risk   \n",
       "49  5c975ada-4b2c-4ab8-b407-967c0d4b46a8-50        No Risk   \n",
       "50  5c975ada-4b2c-4ab8-b407-967c0d4b46a8-51        No Risk   \n",
       "51  5c975ada-4b2c-4ab8-b407-967c0d4b46a8-52        No Risk   \n",
       "52  5c975ada-4b2c-4ab8-b407-967c0d4b46a8-53           Risk   \n",
       "53  5c975ada-4b2c-4ab8-b407-967c0d4b46a8-54        No Risk   \n",
       "54  5c975ada-4b2c-4ab8-b407-967c0d4b46a8-55           Risk   \n",
       "55  5c975ada-4b2c-4ab8-b407-967c0d4b46a8-56        No Risk   \n",
       "56  5c975ada-4b2c-4ab8-b407-967c0d4b46a8-57        No Risk   \n",
       "57  5c975ada-4b2c-4ab8-b407-967c0d4b46a8-58        No Risk   \n",
       "58  5c975ada-4b2c-4ab8-b407-967c0d4b46a8-59        No Risk   \n",
       "59  5c975ada-4b2c-4ab8-b407-967c0d4b46a8-60           Risk   \n",
       "\n",
       "                                   probability  \n",
       "0    [0.5543447696179451, 0.44565523038205496]  \n",
       "1    [0.8192524685386946, 0.18074753146130532]  \n",
       "2    [0.12120336089416128, 0.8787966391058386]  \n",
       "3     [0.4620888509109868, 0.5379111490890133]  \n",
       "4    [0.7780817383228049, 0.22191826167719514]  \n",
       "5    [0.6244952154422047, 0.37550478455779535]  \n",
       "6     [0.9568883646299076, 0.0431116353700924]  \n",
       "7    [0.41679162425987243, 0.5832083757401276]  \n",
       "8    [0.9884778562344003, 0.01152214376559961]  \n",
       "9    [0.7901476819220368, 0.20985231807796323]  \n",
       "10   [0.984972323930098, 0.015027676069901949]  \n",
       "11    [0.7162837392761777, 0.2837162607238223]  \n",
       "12   [0.49657770531815804, 0.5034222946818421]  \n",
       "13    [0.6884338624711471, 0.3115661375288528]  \n",
       "14   [0.9318243049719888, 0.06817569502801121]  \n",
       "15   [0.9193790406677105, 0.08062095933228963]  \n",
       "16   [0.8346550800394938, 0.16534491996050624]  \n",
       "17    [0.7362528775342283, 0.2637471224657717]  \n",
       "18    [0.5209729969424888, 0.4790270030575113]  \n",
       "19   [0.8477139197128011, 0.15228608028719892]  \n",
       "20    [0.98604744130099, 0.013952558699009928]  \n",
       "21    [0.6975147793931702, 0.3024852206068298]  \n",
       "22   [0.7908581893298106, 0.20914181067018936]  \n",
       "23    [0.4606163697397946, 0.5393836302602053]  \n",
       "24   [0.22799909619194655, 0.7720009038080535]  \n",
       "25   [0.8967589427751484, 0.10324105722485158]  \n",
       "26    [0.8544290505644124, 0.1455709494355876]  \n",
       "27   [0.9587708872616773, 0.04122911273832275]  \n",
       "28   [0.08215338682829723, 0.9178466131717028]  \n",
       "29  [0.058849386927137384, 0.9411506130728625]  \n",
       "30    [0.9331131483061645, 0.0668868516938355]  \n",
       "31   [0.9644175601025028, 0.03558243989749716]  \n",
       "32  [0.9748061715332395, 0.025193828466760642]  \n",
       "33   [0.8462451648359525, 0.15375483516404756]  \n",
       "34   [0.45632855347191226, 0.5436714465280877]  \n",
       "35   [0.38972227882519367, 0.6102777211748064]  \n",
       "36   [0.9464103961449304, 0.05358960385506962]  \n",
       "37  [0.9846389905967647, 0.015361009403235287]  \n",
       "38   [0.8157698883473703, 0.18423011165262973]  \n",
       "39   [0.6318067557367593, 0.36819324426324074]  \n",
       "40   [0.8995347317771392, 0.10046526822286077]  \n",
       "41    [0.3673935464715817, 0.6326064535284183]  \n",
       "42    [0.4360334432705999, 0.5639665567294001]  \n",
       "43    [0.8692430920405778, 0.1307569079594222]  \n",
       "44    [0.766119583713994, 0.23388041628600592]  \n",
       "45   [0.7690587587163514, 0.23094124128364854]  \n",
       "46    [0.8295021859423745, 0.1704978140576256]  \n",
       "47    [0.6085092792488871, 0.3914907207511129]  \n",
       "48   [0.43659357989414566, 0.5634064201058544]  \n",
       "49   [0.9432905429248384, 0.05670945707516163]  \n",
       "50    [0.5463016271249629, 0.4536983728750371]  \n",
       "51    [0.6021796081227069, 0.3978203918772932]  \n",
       "52    [0.15845696865626804, 0.841543031343732]  \n",
       "53      [0.730037112910496, 0.269962887089504]  \n",
       "54   [0.43423114664691653, 0.5657688533530834]  \n",
       "55    [0.5014777459795338, 0.4985222540204662]  \n",
       "56  [0.9846389905967647, 0.015361009403235287]  \n",
       "57    [0.98604744130099, 0.013952558699009928]  \n",
       "58   [0.7024546928346809, 0.29754530716531924]  \n",
       "59    [0.3318421418701845, 0.6681578581298155]  "
      ]
     },
     "execution_count": 87,
     "metadata": {},
     "output_type": "execute_result"
    }
   ],
   "source": [
    "payload_data = subscription.payload_logging.get_table_content(limit=60)\n",
    "payload_data.filter(items=['scoring_id', 'predictedLabel', 'probability'])"
   ]
  },
  {
   "cell_type": "markdown",
   "metadata": {},
   "source": [
    "## Congratulations!\n",
    "\n",
    "You have finished the hands-on lab for IBM Watson OpenScale. You can now view the OpenScale dashboard by going to the ICP `Home` page, and clicking `Add-ons`. Choose the `OpenScale` tile and click the menu to `Open`. Click on the tile for the model you've created to see fairness, accuracy, and performance monitors. Click on the timeseries graph to get detailed information on transactions during a specific time window.\n",
    "\n",
    "## Next steps\n",
    "\n",
    "OpenScale shows model performance over time. You have two options to keep data flowing to your OpenScale graphs:\n",
    "  * Download, configure and schedule the [model feed notebook](https://raw.githubusercontent.com/emartensibm/german-credit/master/german_credit_scoring_feed.ipynb). This notebook can be set up with your WML credentials, and scheduled to provide a consistent flow of scoring requests to your model, which will appear in your OpenScale monitors.\n",
    "  * Re-run this notebook. Running this notebook from the beginning will delete and re-create the model and deployment, and re-create the historical data. Please note that the payload and measurement logs for the previous deployment will continue to be stored in your datamart, and can be deleted if necessary."
   ]
  },
  {
   "cell_type": "markdown",
   "metadata": {},
   "source": [
    "## Authors\n",
    "\n",
    "Eric Martens, is a technical specialist having expertise in analysis and description of business processes, and their translation into functional and non-functional IT requirements. He acts as the interpreter between the worlds of IT and business.\n",
    "\n",
    "Lukasz Cmielowski, PhD, is an Automation Architect and Data Scientist at IBM with a track record of developing enterprise-level applications that substantially increases clients' ability to turn data into actionable knowledge."
   ]
  }
 ],
 "metadata": {
  "kernelspec": {
   "display_name": "Python3.6",
   "language": "python",
   "name": "python3"
  },
  "language_info": {
   "codemirror_mode": {
    "name": "ipython",
    "version": 3
   },
   "file_extension": ".py",
   "mimetype": "text/x-python",
   "name": "python",
   "nbconvert_exporter": "python",
   "pygments_lexer": "ipython3",
   "version": "3.6.7"
  }
 },
 "nbformat": 4,
 "nbformat_minor": 1
}
