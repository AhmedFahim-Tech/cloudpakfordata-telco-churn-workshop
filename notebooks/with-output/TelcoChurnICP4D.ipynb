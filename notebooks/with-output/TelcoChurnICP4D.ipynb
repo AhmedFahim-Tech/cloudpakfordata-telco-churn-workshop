{
 "cells": [
  {
   "cell_type": "markdown",
   "metadata": {},
   "source": [
    "# Telco Customer Churn for ICP4D"
   ]
  },
  {
   "cell_type": "markdown",
   "metadata": {},
   "source": [
    "We'll use this notebook to create a machine learning model to predict customer churn."
   ]
  },
  {
   "cell_type": "markdown",
   "metadata": {},
   "source": [
    "# 1.0 Install required packages"
   ]
  },
  {
   "cell_type": "code",
   "execution_count": 1,
   "metadata": {},
   "outputs": [
    {
     "name": "stdout",
     "output_type": "stream",
     "text": [
      "absl-py==0.7.1\r\n",
      "alabaster==0.7.12\r\n",
      "anaconda-client==1.7.2\r\n",
      "anaconda-navigator==1.9.7\r\n",
      "anaconda-project==0.8.2\r\n",
      "asn1crypto==0.24.0\r\n",
      "astor==0.8.0\r\n",
      "astroid==2.2.5\r\n",
      "astropy==3.1.2\r\n",
      "astunparse==1.6.2\r\n",
      "atomicwrites==1.3.0\r\n",
      "attrs==19.1.0\r\n",
      "autovizwidget==0.12.9\r\n",
      "Babel==2.7.0\r\n",
      "backcall==0.1.0\r\n",
      "backports.os==0.1.1\r\n",
      "backports.shutil-get-terminal-size==1.0.0\r\n",
      "beautifulsoup4==4.7.1\r\n",
      "bitarray==0.9.3\r\n",
      "bkcharts==0.2\r\n",
      "blaze==0.11.3\r\n",
      "bleach==3.1.0\r\n",
      "blinker==1.4\r\n",
      "bokeh==1.2.0\r\n",
      "boto==2.49.0\r\n",
      "boto3==1.9.163\r\n",
      "botocore==1.12.163\r\n",
      "Bottleneck==1.2.1\r\n",
      "brunel==2.6.2\r\n",
      "bz2file==0.98\r\n",
      "cdsax-jupyter-extensions==0.1\r\n",
      "certifi==2019.3.9\r\n",
      "cffi==1.12.3\r\n",
      "chardet==3.0.4\r\n",
      "Click==7.0\r\n",
      "clickclick==1.2.2\r\n",
      "cloudpickle==1.1.1\r\n",
      "clyent==1.2.2\r\n",
      "cognitive-assistant==1.0.30\r\n",
      "colorama==0.4.1\r\n",
      "colorlover==0.3.0\r\n",
      "colour==0.1.5\r\n",
      "conda==4.6.14\r\n",
      "conda-build==3.18.2\r\n",
      "conda-package-handling==0+unknown\r\n",
      "conda-verify==3.1.1\r\n",
      "connexion==2.2.0\r\n",
      "contextlib2==0.5.5\r\n",
      "coverage==4.5.3\r\n",
      "cryptography==2.7\r\n",
      "cufflinks==0.15\r\n",
      "cx-Oracle==7.1.3\r\n",
      "cycler==0.10.0\r\n",
      "Cython==0.29.10\r\n",
      "cytoolz==0.9.0.1\r\n",
      "dask==1.2.2\r\n",
      "datashape==0.5.4\r\n",
      "decorator==4.4.0\r\n",
      "defusedxml==0.5.0\r\n",
      "dist-keras==0.2.1\r\n",
      "distributed==1.28.1\r\n",
      "docutils==0.14\r\n",
      "dsnparse==0.1.12\r\n",
      "dsx-core-utils==0.1\r\n",
      "dsx-ml==0.1\r\n",
      "elasticsearch==7.0.2\r\n",
      "entrypoints==0.3\r\n",
      "et-xmlfile==1.0.1\r\n",
      "extension-utils==0.1.31\r\n",
      "fastcache==1.1.0\r\n",
      "filelock==3.0.10\r\n",
      "Flask==1.0.3\r\n",
      "Flask-Cors==3.0.7\r\n",
      "future==0.17.1\r\n",
      "gast==0.2.2\r\n",
      "gdbn==0.1\r\n",
      "gensim==3.7.3\r\n",
      "geojson==2.4.1\r\n",
      "gevent==1.4.0\r\n",
      "Ghost.py==0.2.3\r\n",
      "gitdb2==2.0.5\r\n",
      "GitPython==2.1.11\r\n",
      "glob2==0.6\r\n",
      "gmpy2==2.0.8\r\n",
      "gnumpy==0.2\r\n",
      "graphviz==0.8.4\r\n",
      "greenlet==0.4.15\r\n",
      "grpcio==1.21.1\r\n",
      "h2o==3.14.0.6\r\n",
      "h5py==2.9.0\r\n",
      "hdijupyterutils==0.12.9\r\n",
      "heapdict==1.0.0\r\n",
      "html5lib==1.0.1\r\n",
      "ibm-cos-sdk==2.5.2\r\n",
      "ibm-cos-sdk-core==2.5.2\r\n",
      "ibm-cos-sdk-s3transfer==2.5.2\r\n",
      "ibm-db==2.0.8a0\r\n",
      "ibm-db-sa==0.3.5\r\n",
      "ibm-db-sa-py3==0.3.1.post1\r\n",
      "ibmdbpy==0.1.5\r\n",
      "idna==2.8\r\n",
      "imageio==2.5.0\r\n",
      "imagesize==1.1.0\r\n",
      "importlib-metadata==0.17\r\n",
      "inflection==0.3.1\r\n",
      "influxdb==5.2.2\r\n",
      "invoke==1.2.0\r\n",
      "ipydatawidgets==4.0.0\r\n",
      "ipykernel==5.1.1\r\n",
      "ipython==7.5.0\r\n",
      "ipython-genutils==0.2.0\r\n",
      "ipyvolume==0.5.1\r\n",
      "ipywebrtc==0.4.3\r\n",
      "ipywidgets==7.4.2\r\n",
      "isort==4.3.20\r\n",
      "itsdangerous==1.1.0\r\n",
      "JayDeBeApi==1.1.1\r\n",
      "jdcal==1.4.1\r\n",
      "jedi==0.13.3\r\n",
      "jeepney==0.4\r\n",
      "Jinja2==2.10.1\r\n",
      "jmespath==0.9.4\r\n",
      "joblib==0.13.2\r\n",
      "JPype1==0.6.3\r\n",
      "jsonschema==2.6.0\r\n",
      "jupyter==1.0.0\r\n",
      "jupyter-client==5.2.4\r\n",
      "jupyter-console==6.0.0\r\n",
      "jupyter-core==4.4.0\r\n",
      "jupyter-pip==0.3.1\r\n",
      "jupyterlab==0.35.6\r\n",
      "jupyterlab-launcher==0.13.1\r\n",
      "jupyterlab-server==0.2.0\r\n",
      "jwcrypto==0.6.0\r\n",
      "Keras==2.2.4\r\n",
      "Keras-Applications==1.0.8\r\n",
      "Keras-Preprocessing==1.1.0\r\n",
      "keyring==19.0.2\r\n",
      "kiwisolver==1.1.0\r\n",
      "Lasagne==0.2.dev1\r\n",
      "lazy==1.4\r\n",
      "lazy-object-proxy==1.4.1\r\n",
      "libarchive-c==2.8\r\n",
      "lief==0.9.0\r\n",
      "lightgbm==2.2.3\r\n",
      "llvmlite==0.28.0\r\n",
      "locket==0.2.0\r\n",
      "lomond==0.3.3\r\n",
      "lxml==4.3.3\r\n",
      "Markdown==3.1.1\r\n",
      "MarkupSafe==1.1.1\r\n",
      "matplotlib==3.1.0\r\n",
      "maven-artifact==0.2.0\r\n",
      "mccabe==0.6.1\r\n",
      "mistune==0.8.4\r\n",
      "mkl-fft==1.0.13\r\n",
      "mkl-random==1.0.4\r\n",
      "mkl-service==2.1.0\r\n",
      "ml-algorithms==0.1.0.post201704250259\r\n",
      "mock==3.0.5\r\n",
      "more-itertools==4.3.0\r\n",
      "mpld3==0.3\r\n",
      "mpmath==1.1.0\r\n",
      "msgpack==0.6.1\r\n",
      "multipledispatch==0.6.0\r\n",
      "mxnet==1.4.1\r\n",
      "navigator-updater==0.2.1\r\n",
      "nbbrowserpdf==0.2.0\r\n",
      "nbconvert==5.5.0\r\n",
      "nbdime==1.0.6\r\n",
      "nbformat==4.4.0\r\n",
      "-e git+https://github.com/jupyter/nbviewer.git@c1a65f15443b832aa96811c8003577a25d53f315#egg=nbviewer\r\n",
      "networkx==2.3\r\n",
      "newrelic==4.20.0.120\r\n",
      "nltk==3.2.5\r\n",
      "nolearn==0.6.0\r\n",
      "nose==1.3.7\r\n",
      "notebook==5.7.0\r\n",
      "numba==0.43.1\r\n",
      "numexpr==2.6.9\r\n",
      "numpy==1.14.6\r\n",
      "numpydoc==0.9.1\r\n",
      "oauthlib==3.0.1\r\n",
      "odo==0.5.1\r\n",
      "olefile==0.46\r\n",
      "openapi-spec-validator==0.2.7\r\n",
      "openpyxl==2.6.1\r\n",
      "packaging==19.0\r\n",
      "pandas==0.24.2\r\n",
      "pandocfilters==1.4.2\r\n",
      "parso==0.4.0\r\n",
      "partd==0.3.10\r\n",
      "path.py==12.0.1\r\n",
      "pathlib2==2.3.3\r\n",
      "patsy==0.5.1\r\n",
      "pep8==1.7.1\r\n",
      "percentcoding==0.1\r\n",
      "pexpect==4.7.0\r\n",
      "pickleshare==0.7.5\r\n",
      "Pillow==6.0.0\r\n",
      "pipeline==0.1.264\r\n",
      "pixiedust==1.1.17\r\n",
      "pkginfo==1.5.0.1\r\n",
      "plotly==3.10.0\r\n",
      "pluggy==0.12.0\r\n",
      "ply==3.11\r\n",
      "prometheus-client==0.6.0\r\n",
      "prompt-toolkit==2.0.9\r\n",
      "protobuf==3.8.0\r\n",
      "psutil==5.6.2\r\n",
      "ptyprocess==0.6.0\r\n",
      "py==1.8.0\r\n",
      "py4j==0.10.7\r\n",
      "pycodestyle==2.5.0\r\n",
      "pycosat==0.6.3\r\n",
      "pycparser==2.19\r\n",
      "pycrypto==2.6.1\r\n",
      "pycryptodome==3.8.2\r\n",
      "pycurl==7.43.0.2\r\n",
      "pyflakes==2.1.1\r\n",
      "Pygments==2.4.2\r\n",
      "PyJWT==1.7.1\r\n",
      "pykerberos==1.2.1\r\n",
      "pylibmc==1.6.0\r\n",
      "pylint==2.3.1\r\n",
      "pylru==1.2.0\r\n",
      "pymssql==2.1.4\r\n",
      "pyodbc==4.0.24\r\n",
      "pyOpenSSL==19.0.0\r\n",
      "pyparsing==2.4.0\r\n",
      "PyPDF2==1.26.0\r\n",
      "pypyodbc==1.3.4\r\n",
      "pyrsistent==0.15.2\r\n",
      "PySocks==1.7.0\r\n",
      "pyspark==2.3.2\r\n",
      "pytest==4.6.2\r\n",
      "pytest-arraydiff==0.3\r\n",
      "pytest-astropy==0.5.0\r\n",
      "pytest-doctestplus==0.3.0\r\n",
      "pytest-openfiles==0.3.1\r\n",
      "pytest-remotedata==0.3.1\r\n",
      "python-crfsuite==0.9.6\r\n",
      "python-dateutil==2.8.0\r\n",
      "pythreejs==2.0.2\r\n",
      "pytz==2019.1\r\n",
      "PyWavelets==1.0.3\r\n",
      "pywebhdfs==0.4.2.dev14\r\n",
      "PyYAML==5.1\r\n",
      "pyzmq==18.0.1\r\n",
      "QtAwesome==0.5.7\r\n",
      "qtconsole==4.5.1\r\n",
      "QtPy==1.7.1\r\n",
      "repository==0.1.999.post201709061126\r\n",
      "requests==2.22.0\r\n",
      "requests-kerberos==0.12.0\r\n",
      "requests-oauthlib==1.2.0\r\n",
      "retrying==1.3.3\r\n",
      "rope==0.14.0\r\n",
      "ruamel-yaml==0.15.71\r\n",
      "s3transfer==0.2.1\r\n",
      "scikit-image==0.15.0\r\n",
      "scikit-learn==0.21.2\r\n",
      "scipy==1.3.0\r\n",
      "seaborn==0.9.0\r\n",
      "SecretStorage==3.1.1\r\n",
      "Send2Trash==1.5.0\r\n",
      "simplegeneric==0.8.1\r\n",
      "singledispatch==3.4.0.3\r\n",
      "six==1.12.0\r\n",
      "sklearn-pandas==1.8.0\r\n",
      "smart-open==1.8.4\r\n",
      "smmap2==2.0.5\r\n",
      "snowballstemmer==1.2.1\r\n",
      "sortedcollections==1.1.2\r\n",
      "sortedcontainers==2.1.0\r\n",
      "soupsieve==1.9.1\r\n",
      "sparkmagic==0.12.9\r\n",
      "sparkts==0.2.0\r\n",
      "Sphinx==2.1.0\r\n",
      "sphinxcontrib-applehelp==1.0.1\r\n",
      "sphinxcontrib-devhelp==1.0.1\r\n",
      "sphinxcontrib-htmlhelp==1.0.2\r\n",
      "sphinxcontrib-jsmath==1.0.1\r\n",
      "sphinxcontrib-qthelp==1.0.2\r\n",
      "sphinxcontrib-serializinghtml==1.1.1\r\n",
      "sphinxcontrib-websupport==1.1.2\r\n",
      "spyder==3.3.4\r\n",
      "spyder-kernels==0.4.4\r\n",
      "SQLAlchemy==1.3.4\r\n",
      "statsd==3.3.0\r\n",
      "statsmodels==0.9.0\r\n",
      "sympy==1.4\r\n",
      "tables==3.5.2\r\n",
      "tabulate==0.8.3\r\n",
      "tblib==1.4.0\r\n",
      "tensorboard==1.13.1\r\n",
      "tensorflow==1.13.1\r\n",
      "tensorflow-estimator==1.13.0\r\n",
      "termcolor==1.1.0\r\n",
      "terminado==0.8.2\r\n",
      "testpath==0.4.2\r\n",
      "Theano==1.0.4\r\n",
      "tinydb==3.13.0\r\n",
      "tinyrecord==0.1.5\r\n",
      "toolz==0.9.0\r\n",
      "tornado==5.1.1\r\n",
      "tqdm==4.32.1\r\n",
      "traitlets==4.3.2\r\n",
      "traittypes==0.2.1\r\n",
      "transformation==0.1.28\r\n",
      "twython==3.7.0\r\n",
      "typed-ast==1.3.5\r\n",
      "typing==3.6.4\r\n",
      "unicodecsv==0.14.1\r\n",
      "urllib3==1.24.3\r\n",
      "util==0.1.25\r\n",
      "watson-machine-learning-client==1.0.371\r\n",
      "wcwidth==0.1.7\r\n",
      "webencodings==0.5.1\r\n",
      "Werkzeug==0.15.4\r\n",
      "widgetsnbextension==3.4.2\r\n",
      "wrapt==1.11.1\r\n",
      "wurlitzer==1.0.2\r\n",
      "xgboost==0.90\r\n",
      "xlrd==1.2.0\r\n",
      "XlsxWriter==1.1.8\r\n",
      "xlwt==1.3.0\r\n",
      "xmltodict==0.12.0\r\n",
      "zict==0.1.4\r\n",
      "zipp==0.5.1\r\n"
     ]
    }
   ],
   "source": [
    "!pip freeze"
   ]
  },
  {
   "cell_type": "code",
   "execution_count": 3,
   "metadata": {},
   "outputs": [
    {
     "name": "stdout",
     "output_type": "stream",
     "text": [
      "Successfully installed watson-machine-learning-client\n",
      "Requirement already satisfied, skipping upgrade: chardet<3.1.0,>=3.0.2 in /opt/conda3/lib/python3.6/site-packages (from requests->ibm-ai-openscale) (3.0.4)\n"
     ]
    }
   ],
   "source": [
    "!pip install --user watson-machine-learning-client --upgrade | tail -n 1"
   ]
  },
  {
   "cell_type": "markdown",
   "metadata": {},
   "source": [
    "# 2.0 Load and Clean data\n",
    "We'll load our data as a pandas data frame.\n",
    "\n",
    "* Highlight the cell below by clicking it.\n",
    "* Click the `10/01` \"Find data\" icon in the upper right of the notebook.\n",
    "* To load the virtualized data created in Exercise-1, choose the `Remote` tab.\n",
    "* Choose your virtualized data (i.e. User<xyz>.billingProductCustomers), click `Insert to code` and choose `Insert Pandas DataFrame`\n",
    "* The code to bring the data into the notebook environment and create a Pandas DataFrame will be added to the cell below.\n",
    "* Run the cell\n"
   ]
  },
  {
   "cell_type": "code",
   "execution_count": 4,
   "metadata": {},
   "outputs": [
    {
     "data": {
      "text/html": [
       "<div>\n",
       "<style scoped>\n",
       "    .dataframe tbody tr th:only-of-type {\n",
       "        vertical-align: middle;\n",
       "    }\n",
       "\n",
       "    .dataframe tbody tr th {\n",
       "        vertical-align: top;\n",
       "    }\n",
       "\n",
       "    .dataframe thead th {\n",
       "        text-align: right;\n",
       "    }\n",
       "</style>\n",
       "<table border=\"1\" class=\"dataframe\">\n",
       "  <thead>\n",
       "    <tr style=\"text-align: right;\">\n",
       "      <th></th>\n",
       "      <th>Churn</th>\n",
       "      <th>Contract</th>\n",
       "      <th>DeviceProtection</th>\n",
       "      <th>InternetService</th>\n",
       "      <th>MonthlyCharges</th>\n",
       "      <th>MultipleLines</th>\n",
       "      <th>OnlineBackup</th>\n",
       "      <th>OnlineSecurity</th>\n",
       "      <th>PaperlessBilling</th>\n",
       "      <th>PaymentMethod</th>\n",
       "      <th>...</th>\n",
       "      <th>StreamingMovies</th>\n",
       "      <th>StreamingTV</th>\n",
       "      <th>TechSupport</th>\n",
       "      <th>TotalCharges</th>\n",
       "      <th>customerID</th>\n",
       "      <th>Dependents</th>\n",
       "      <th>Partner</th>\n",
       "      <th>SeniorCitizen</th>\n",
       "      <th>gender</th>\n",
       "      <th>tenure</th>\n",
       "    </tr>\n",
       "  </thead>\n",
       "  <tbody>\n",
       "    <tr>\n",
       "      <th>0</th>\n",
       "      <td>Yes</td>\n",
       "      <td>Month-to-month</td>\n",
       "      <td>No</td>\n",
       "      <td>Fiber optic</td>\n",
       "      <td>94.40</td>\n",
       "      <td>Yes</td>\n",
       "      <td>No</td>\n",
       "      <td>No</td>\n",
       "      <td>No</td>\n",
       "      <td>Electronic check</td>\n",
       "      <td>...</td>\n",
       "      <td>Yes</td>\n",
       "      <td>Yes</td>\n",
       "      <td>No</td>\n",
       "      <td>857.25</td>\n",
       "      <td>5698-BQJOH</td>\n",
       "      <td>No</td>\n",
       "      <td>No</td>\n",
       "      <td>0</td>\n",
       "      <td>Female</td>\n",
       "      <td>9</td>\n",
       "    </tr>\n",
       "    <tr>\n",
       "      <th>1</th>\n",
       "      <td>No</td>\n",
       "      <td>Month-to-month</td>\n",
       "      <td>No</td>\n",
       "      <td>DSL</td>\n",
       "      <td>75.30</td>\n",
       "      <td>No</td>\n",
       "      <td>Yes</td>\n",
       "      <td>No</td>\n",
       "      <td>Yes</td>\n",
       "      <td>Electronic check</td>\n",
       "      <td>...</td>\n",
       "      <td>Yes</td>\n",
       "      <td>Yes</td>\n",
       "      <td>Yes</td>\n",
       "      <td>244.10</td>\n",
       "      <td>5122-CYFXA</td>\n",
       "      <td>No</td>\n",
       "      <td>No</td>\n",
       "      <td>0</td>\n",
       "      <td>Female</td>\n",
       "      <td>3</td>\n",
       "    </tr>\n",
       "    <tr>\n",
       "      <th>2</th>\n",
       "      <td>No</td>\n",
       "      <td>One year</td>\n",
       "      <td>No</td>\n",
       "      <td>Fiber optic</td>\n",
       "      <td>78.90</td>\n",
       "      <td>Yes</td>\n",
       "      <td>Yes</td>\n",
       "      <td>No</td>\n",
       "      <td>Yes</td>\n",
       "      <td>Electronic check</td>\n",
       "      <td>...</td>\n",
       "      <td>No</td>\n",
       "      <td>No</td>\n",
       "      <td>No</td>\n",
       "      <td>3650.35</td>\n",
       "      <td>8627-ZYGSZ</td>\n",
       "      <td>No</td>\n",
       "      <td>Yes</td>\n",
       "      <td>0</td>\n",
       "      <td>Male</td>\n",
       "      <td>47</td>\n",
       "    </tr>\n",
       "    <tr>\n",
       "      <th>3</th>\n",
       "      <td>No</td>\n",
       "      <td>Two year</td>\n",
       "      <td>Yes</td>\n",
       "      <td>DSL</td>\n",
       "      <td>79.20</td>\n",
       "      <td>No</td>\n",
       "      <td>Yes</td>\n",
       "      <td>No</td>\n",
       "      <td>No</td>\n",
       "      <td>Mailed check</td>\n",
       "      <td>...</td>\n",
       "      <td>Yes</td>\n",
       "      <td>Yes</td>\n",
       "      <td>Yes</td>\n",
       "      <td>2497.20</td>\n",
       "      <td>3410-YOQBQ</td>\n",
       "      <td>No</td>\n",
       "      <td>No</td>\n",
       "      <td>0</td>\n",
       "      <td>Female</td>\n",
       "      <td>31</td>\n",
       "    </tr>\n",
       "    <tr>\n",
       "      <th>4</th>\n",
       "      <td>No</td>\n",
       "      <td>Two year</td>\n",
       "      <td>No internet service</td>\n",
       "      <td>No</td>\n",
       "      <td>20.15</td>\n",
       "      <td>No</td>\n",
       "      <td>No internet service</td>\n",
       "      <td>No internet service</td>\n",
       "      <td>No</td>\n",
       "      <td>Bank transfer (automatic)</td>\n",
       "      <td>...</td>\n",
       "      <td>No internet service</td>\n",
       "      <td>No internet service</td>\n",
       "      <td>No internet service</td>\n",
       "      <td>930.90</td>\n",
       "      <td>3170-NMYVV</td>\n",
       "      <td>Yes</td>\n",
       "      <td>Yes</td>\n",
       "      <td>0</td>\n",
       "      <td>Female</td>\n",
       "      <td>50</td>\n",
       "    </tr>\n",
       "  </tbody>\n",
       "</table>\n",
       "<p>5 rows × 21 columns</p>\n",
       "</div>"
      ],
      "text/plain": [
       "  Churn        Contract     DeviceProtection InternetService  MonthlyCharges  \\\n",
       "0   Yes  Month-to-month                   No     Fiber optic           94.40   \n",
       "1    No  Month-to-month                   No             DSL           75.30   \n",
       "2    No        One year                   No     Fiber optic           78.90   \n",
       "3    No        Two year                  Yes             DSL           79.20   \n",
       "4    No        Two year  No internet service              No           20.15   \n",
       "\n",
       "  MultipleLines         OnlineBackup       OnlineSecurity PaperlessBilling  \\\n",
       "0           Yes                   No                   No               No   \n",
       "1            No                  Yes                   No              Yes   \n",
       "2           Yes                  Yes                   No              Yes   \n",
       "3            No                  Yes                   No               No   \n",
       "4            No  No internet service  No internet service               No   \n",
       "\n",
       "               PaymentMethod  ...      StreamingMovies          StreamingTV  \\\n",
       "0           Electronic check  ...                  Yes                  Yes   \n",
       "1           Electronic check  ...                  Yes                  Yes   \n",
       "2           Electronic check  ...                   No                   No   \n",
       "3               Mailed check  ...                  Yes                  Yes   \n",
       "4  Bank transfer (automatic)  ...  No internet service  No internet service   \n",
       "\n",
       "           TechSupport TotalCharges  customerID Dependents Partner  \\\n",
       "0                   No       857.25  5698-BQJOH         No      No   \n",
       "1                  Yes       244.10  5122-CYFXA         No      No   \n",
       "2                   No      3650.35  8627-ZYGSZ         No     Yes   \n",
       "3                  Yes      2497.20  3410-YOQBQ         No      No   \n",
       "4  No internet service       930.90  3170-NMYVV        Yes     Yes   \n",
       "\n",
       "  SeniorCitizen  gender tenure  \n",
       "0             0  Female      9  \n",
       "1             0  Female      3  \n",
       "2             0    Male     47  \n",
       "3             0  Female     31  \n",
       "4             0  Female     50  \n",
       "\n",
       "[5 rows x 21 columns]"
      ]
     },
     "execution_count": 4,
     "metadata": {},
     "output_type": "execute_result"
    }
   ],
   "source": [
    "# Place cursor below and insert the Pandas DataFrame for the Telco churn data\n",
    "# Make sure the variable is named `df1` for the line `df1 = pd.read_sql(query, con=conn)`\n",
    "\n",
    "import dsx_core_utils, requests, jaydebeapi, os, io, sys\n",
    "from pyspark.sql import SparkSession\n",
    "import pandas as pd\n",
    "df2 = None\n",
    "dataSet = dsx_core_utils.get_remote_data_set_info('USER999.billing+products+customer')\n",
    "dataSource = dsx_core_utils.get_data_source_info(dataSet['datasource'])\n",
    "if (sys.version_info >= (3, 0)):\n",
    "  conn = jaydebeapi.connect(dataSource['driver_class'], dataSource['URL'], [dataSource['user'], dataSource['password']])\n",
    "else:\n",
    "  conn = jaydebeapi.connect(dataSource['driver_class'], [dataSource['URL'], dataSource['user'], dataSource['password']])\n",
    "query = 'select * from \"' + (dataSet['schema'] + '\".\"' if (len(dataSet['schema'].strip()) != 0) else '') +  dataSet['table'] + '\"'\n",
    "\n",
    "if (dataSet['query']):\n",
    "    query = dataSet['query']\n",
    "df2 = pd.read_sql(query, con=conn)\n",
    "df2.head()\n"
   ]
  },
  {
   "cell_type": "markdown",
   "metadata": {},
   "source": [
    "We'll use the Pandas naming convention `df` for our DataFrame"
   ]
  },
  {
   "cell_type": "code",
   "execution_count": 5,
   "metadata": {},
   "outputs": [],
   "source": [
    "df = df2"
   ]
  },
  {
   "cell_type": "markdown",
   "metadata": {},
   "source": [
    "### 2.1 Drop CustomerID feature (column)"
   ]
  },
  {
   "cell_type": "code",
   "execution_count": 6,
   "metadata": {},
   "outputs": [
    {
     "data": {
      "text/html": [
       "<div>\n",
       "<style scoped>\n",
       "    .dataframe tbody tr th:only-of-type {\n",
       "        vertical-align: middle;\n",
       "    }\n",
       "\n",
       "    .dataframe tbody tr th {\n",
       "        vertical-align: top;\n",
       "    }\n",
       "\n",
       "    .dataframe thead th {\n",
       "        text-align: right;\n",
       "    }\n",
       "</style>\n",
       "<table border=\"1\" class=\"dataframe\">\n",
       "  <thead>\n",
       "    <tr style=\"text-align: right;\">\n",
       "      <th></th>\n",
       "      <th>Churn</th>\n",
       "      <th>Contract</th>\n",
       "      <th>DeviceProtection</th>\n",
       "      <th>InternetService</th>\n",
       "      <th>MonthlyCharges</th>\n",
       "      <th>MultipleLines</th>\n",
       "      <th>OnlineBackup</th>\n",
       "      <th>OnlineSecurity</th>\n",
       "      <th>PaperlessBilling</th>\n",
       "      <th>PaymentMethod</th>\n",
       "      <th>PhoneService</th>\n",
       "      <th>StreamingMovies</th>\n",
       "      <th>StreamingTV</th>\n",
       "      <th>TechSupport</th>\n",
       "      <th>TotalCharges</th>\n",
       "      <th>Dependents</th>\n",
       "      <th>Partner</th>\n",
       "      <th>SeniorCitizen</th>\n",
       "      <th>gender</th>\n",
       "      <th>tenure</th>\n",
       "    </tr>\n",
       "  </thead>\n",
       "  <tbody>\n",
       "    <tr>\n",
       "      <th>0</th>\n",
       "      <td>Yes</td>\n",
       "      <td>Month-to-month</td>\n",
       "      <td>No</td>\n",
       "      <td>Fiber optic</td>\n",
       "      <td>94.40</td>\n",
       "      <td>Yes</td>\n",
       "      <td>No</td>\n",
       "      <td>No</td>\n",
       "      <td>No</td>\n",
       "      <td>Electronic check</td>\n",
       "      <td>Yes</td>\n",
       "      <td>Yes</td>\n",
       "      <td>Yes</td>\n",
       "      <td>No</td>\n",
       "      <td>857.25</td>\n",
       "      <td>No</td>\n",
       "      <td>No</td>\n",
       "      <td>0</td>\n",
       "      <td>Female</td>\n",
       "      <td>9</td>\n",
       "    </tr>\n",
       "    <tr>\n",
       "      <th>1</th>\n",
       "      <td>No</td>\n",
       "      <td>Month-to-month</td>\n",
       "      <td>No</td>\n",
       "      <td>DSL</td>\n",
       "      <td>75.30</td>\n",
       "      <td>No</td>\n",
       "      <td>Yes</td>\n",
       "      <td>No</td>\n",
       "      <td>Yes</td>\n",
       "      <td>Electronic check</td>\n",
       "      <td>Yes</td>\n",
       "      <td>Yes</td>\n",
       "      <td>Yes</td>\n",
       "      <td>Yes</td>\n",
       "      <td>244.10</td>\n",
       "      <td>No</td>\n",
       "      <td>No</td>\n",
       "      <td>0</td>\n",
       "      <td>Female</td>\n",
       "      <td>3</td>\n",
       "    </tr>\n",
       "    <tr>\n",
       "      <th>2</th>\n",
       "      <td>No</td>\n",
       "      <td>One year</td>\n",
       "      <td>No</td>\n",
       "      <td>Fiber optic</td>\n",
       "      <td>78.90</td>\n",
       "      <td>Yes</td>\n",
       "      <td>Yes</td>\n",
       "      <td>No</td>\n",
       "      <td>Yes</td>\n",
       "      <td>Electronic check</td>\n",
       "      <td>Yes</td>\n",
       "      <td>No</td>\n",
       "      <td>No</td>\n",
       "      <td>No</td>\n",
       "      <td>3650.35</td>\n",
       "      <td>No</td>\n",
       "      <td>Yes</td>\n",
       "      <td>0</td>\n",
       "      <td>Male</td>\n",
       "      <td>47</td>\n",
       "    </tr>\n",
       "    <tr>\n",
       "      <th>3</th>\n",
       "      <td>No</td>\n",
       "      <td>Two year</td>\n",
       "      <td>Yes</td>\n",
       "      <td>DSL</td>\n",
       "      <td>79.20</td>\n",
       "      <td>No</td>\n",
       "      <td>Yes</td>\n",
       "      <td>No</td>\n",
       "      <td>No</td>\n",
       "      <td>Mailed check</td>\n",
       "      <td>Yes</td>\n",
       "      <td>Yes</td>\n",
       "      <td>Yes</td>\n",
       "      <td>Yes</td>\n",
       "      <td>2497.20</td>\n",
       "      <td>No</td>\n",
       "      <td>No</td>\n",
       "      <td>0</td>\n",
       "      <td>Female</td>\n",
       "      <td>31</td>\n",
       "    </tr>\n",
       "    <tr>\n",
       "      <th>4</th>\n",
       "      <td>No</td>\n",
       "      <td>Two year</td>\n",
       "      <td>No internet service</td>\n",
       "      <td>No</td>\n",
       "      <td>20.15</td>\n",
       "      <td>No</td>\n",
       "      <td>No internet service</td>\n",
       "      <td>No internet service</td>\n",
       "      <td>No</td>\n",
       "      <td>Bank transfer (automatic)</td>\n",
       "      <td>Yes</td>\n",
       "      <td>No internet service</td>\n",
       "      <td>No internet service</td>\n",
       "      <td>No internet service</td>\n",
       "      <td>930.90</td>\n",
       "      <td>Yes</td>\n",
       "      <td>Yes</td>\n",
       "      <td>0</td>\n",
       "      <td>Female</td>\n",
       "      <td>50</td>\n",
       "    </tr>\n",
       "  </tbody>\n",
       "</table>\n",
       "</div>"
      ],
      "text/plain": [
       "  Churn        Contract     DeviceProtection InternetService  MonthlyCharges  \\\n",
       "0   Yes  Month-to-month                   No     Fiber optic           94.40   \n",
       "1    No  Month-to-month                   No             DSL           75.30   \n",
       "2    No        One year                   No     Fiber optic           78.90   \n",
       "3    No        Two year                  Yes             DSL           79.20   \n",
       "4    No        Two year  No internet service              No           20.15   \n",
       "\n",
       "  MultipleLines         OnlineBackup       OnlineSecurity PaperlessBilling  \\\n",
       "0           Yes                   No                   No               No   \n",
       "1            No                  Yes                   No              Yes   \n",
       "2           Yes                  Yes                   No              Yes   \n",
       "3            No                  Yes                   No               No   \n",
       "4            No  No internet service  No internet service               No   \n",
       "\n",
       "               PaymentMethod PhoneService      StreamingMovies  \\\n",
       "0           Electronic check          Yes                  Yes   \n",
       "1           Electronic check          Yes                  Yes   \n",
       "2           Electronic check          Yes                   No   \n",
       "3               Mailed check          Yes                  Yes   \n",
       "4  Bank transfer (automatic)          Yes  No internet service   \n",
       "\n",
       "           StreamingTV          TechSupport  TotalCharges Dependents Partner  \\\n",
       "0                  Yes                   No        857.25         No      No   \n",
       "1                  Yes                  Yes        244.10         No      No   \n",
       "2                   No                   No       3650.35         No     Yes   \n",
       "3                  Yes                  Yes       2497.20         No      No   \n",
       "4  No internet service  No internet service        930.90        Yes     Yes   \n",
       "\n",
       "   SeniorCitizen  gender  tenure  \n",
       "0              0  Female       9  \n",
       "1              0  Female       3  \n",
       "2              0    Male      47  \n",
       "3              0  Female      31  \n",
       "4              0  Female      50  "
      ]
     },
     "execution_count": 6,
     "metadata": {},
     "output_type": "execute_result"
    }
   ],
   "source": [
    "df = df.drop('customerID', axis=1)\n",
    "df.head(5)"
   ]
  },
  {
   "cell_type": "markdown",
   "metadata": {},
   "source": [
    "### 2.2 Examine the data types of the features"
   ]
  },
  {
   "cell_type": "code",
   "execution_count": 7,
   "metadata": {},
   "outputs": [
    {
     "name": "stdout",
     "output_type": "stream",
     "text": [
      "<class 'pandas.core.frame.DataFrame'>\n",
      "RangeIndex: 7043 entries, 0 to 7042\n",
      "Data columns (total 20 columns):\n",
      "Churn               7043 non-null object\n",
      "Contract            7043 non-null object\n",
      "DeviceProtection    7043 non-null object\n",
      "InternetService     7043 non-null object\n",
      "MonthlyCharges      7043 non-null float64\n",
      "MultipleLines       7043 non-null object\n",
      "OnlineBackup        7043 non-null object\n",
      "OnlineSecurity      7043 non-null object\n",
      "PaperlessBilling    7043 non-null object\n",
      "PaymentMethod       7043 non-null object\n",
      "PhoneService        7043 non-null object\n",
      "StreamingMovies     7043 non-null object\n",
      "StreamingTV         7043 non-null object\n",
      "TechSupport         7043 non-null object\n",
      "TotalCharges        7032 non-null float64\n",
      "Dependents          7043 non-null object\n",
      "Partner             7043 non-null object\n",
      "SeniorCitizen       7043 non-null int64\n",
      "gender              7043 non-null object\n",
      "tenure              7043 non-null int64\n",
      "dtypes: float64(2), int64(2), object(16)\n",
      "memory usage: 1.1+ MB\n"
     ]
    }
   ],
   "source": [
    "df.info()"
   ]
  },
  {
   "cell_type": "markdown",
   "metadata": {},
   "source": [
    "### 2.3 Any NaN values should be removed to create a more accurate model. Prior examination shows NaN values for `TotalCharges`"
   ]
  },
  {
   "cell_type": "code",
   "execution_count": 8,
   "metadata": {},
   "outputs": [
    {
     "data": {
      "text/plain": [
       "True"
      ]
     },
     "execution_count": 8,
     "metadata": {},
     "output_type": "execute_result"
    }
   ],
   "source": [
    "# Check if we have any NaN values\n",
    "df.isnull().values.any()"
   ]
  },
  {
   "cell_type": "code",
   "execution_count": 13,
   "metadata": {},
   "outputs": [],
   "source": [
    "# Handle missing values for column 8, TotalCharges\n",
    "from sklearn.impute import SimpleImputer\n",
    "\n",
    "imp = SimpleImputer(missing_values=\"NaN\", strategy=\"most_frequent\")\n",
    "\n",
    "df.iloc[:, 8] = imp.fit_transform(df.iloc[:, 8].values.reshape(-1, 1))\n",
    "df.iloc[:, 8] = pd.Series(df.iloc[:, 8])"
   ]
  },
  {
   "cell_type": "code",
   "execution_count": 14,
   "metadata": {},
   "outputs": [
    {
     "data": {
      "text/plain": [
       "True"
      ]
     },
     "execution_count": 14,
     "metadata": {},
     "output_type": "execute_result"
    }
   ],
   "source": [
    "# Check if we have any NaN values\n",
    "df.isnull().values.any()"
   ]
  },
  {
   "cell_type": "markdown",
   "metadata": {},
   "source": [
    "# 3.0 Create a model"
   ]
  },
  {
   "cell_type": "code",
   "execution_count": 15,
   "metadata": {},
   "outputs": [
    {
     "data": {
      "text/plain": [
       "Row(Churn='Yes', Contract='Month-to-month', DeviceProtection='No', InternetService='Fiber optic', MonthlyCharges=94.4, MultipleLines='Yes', OnlineBackup='No', OnlineSecurity='No', PaperlessBilling='No', PaymentMethod='Electronic check', PhoneService='Yes', StreamingMovies='Yes', StreamingTV='Yes', TechSupport='No', TotalCharges=857.25, Dependents='No', Partner='No', SeniorCitizen=0, gender='Female', tenure=9)"
      ]
     },
     "execution_count": 15,
     "metadata": {},
     "output_type": "execute_result"
    }
   ],
   "source": [
    "from pyspark.sql import SparkSession\n",
    "import pandas as pd\n",
    "import json\n",
    "\n",
    "spark = SparkSession.builder.getOrCreate()\n",
    "df_data = spark.createDataFrame(df)\n",
    "df_data.head()"
   ]
  },
  {
   "cell_type": "markdown",
   "metadata": {},
   "source": [
    "### 3.1 Split the data into training and test sets"
   ]
  },
  {
   "cell_type": "code",
   "execution_count": 16,
   "metadata": {},
   "outputs": [
    {
     "name": "stdout",
     "output_type": "stream",
     "text": [
      "Number of records for training: 5631\n",
      "Number of records for evaluation: 1412\n"
     ]
    }
   ],
   "source": [
    "spark_df = df_data\n",
    "(train_data, test_data) = spark_df.randomSplit([0.8, 0.2], 24)\n",
    "\n",
    "print(\"Number of records for training: \" + str(train_data.count()))\n",
    "print(\"Number of records for evaluation: \" + str(test_data.count()))"
   ]
  },
  {
   "cell_type": "markdown",
   "metadata": {},
   "source": [
    "### 3.2 Examine the Spark DataFrame Schema\n",
    "Look at the data types to determine requirements for feature engineering"
   ]
  },
  {
   "cell_type": "code",
   "execution_count": 17,
   "metadata": {},
   "outputs": [
    {
     "name": "stdout",
     "output_type": "stream",
     "text": [
      "root\n",
      " |-- Churn: string (nullable = true)\n",
      " |-- Contract: string (nullable = true)\n",
      " |-- DeviceProtection: string (nullable = true)\n",
      " |-- InternetService: string (nullable = true)\n",
      " |-- MonthlyCharges: double (nullable = true)\n",
      " |-- MultipleLines: string (nullable = true)\n",
      " |-- OnlineBackup: string (nullable = true)\n",
      " |-- OnlineSecurity: string (nullable = true)\n",
      " |-- PaperlessBilling: string (nullable = true)\n",
      " |-- PaymentMethod: string (nullable = true)\n",
      " |-- PhoneService: string (nullable = true)\n",
      " |-- StreamingMovies: string (nullable = true)\n",
      " |-- StreamingTV: string (nullable = true)\n",
      " |-- TechSupport: string (nullable = true)\n",
      " |-- TotalCharges: double (nullable = true)\n",
      " |-- Dependents: string (nullable = true)\n",
      " |-- Partner: string (nullable = true)\n",
      " |-- SeniorCitizen: long (nullable = true)\n",
      " |-- gender: string (nullable = true)\n",
      " |-- tenure: long (nullable = true)\n",
      "\n"
     ]
    }
   ],
   "source": [
    "spark_df.printSchema()"
   ]
  },
  {
   "cell_type": "markdown",
   "metadata": {},
   "source": [
    "### 3.3 Use StringIndexer to encodes a string column of labels to a column of label indices"
   ]
  },
  {
   "cell_type": "code",
   "execution_count": 18,
   "metadata": {},
   "outputs": [],
   "source": [
    "from pyspark.ml.classification import RandomForestClassifier\n",
    "from pyspark.ml.feature import StringIndexer, IndexToString, VectorAssembler\n",
    "from pyspark.ml.evaluation import BinaryClassificationEvaluator\n",
    "from pyspark.ml import Pipeline, Model\n",
    "\n",
    "\n",
    "si_gender = StringIndexer(inputCol = 'gender', outputCol = 'gender_IX')\n",
    "si_Partner = StringIndexer(inputCol = 'Partner', outputCol = 'Partner_IX')\n",
    "si_Dependents = StringIndexer(inputCol = 'Dependents', outputCol = 'Dependents_IX')\n",
    "si_PhoneService = StringIndexer(inputCol = 'PhoneService', outputCol = 'PhoneService_IX')\n",
    "si_MultipleLines = StringIndexer(inputCol = 'MultipleLines', outputCol = 'MultipleLines_IX')\n",
    "si_InternetService = StringIndexer(inputCol = 'InternetService', outputCol = 'InternetService_IX')\n",
    "si_OnlineSecurity = StringIndexer(inputCol = 'OnlineSecurity', outputCol = 'OnlineSecurity_IX')\n",
    "si_OnlineBackup = StringIndexer(inputCol = 'OnlineBackup', outputCol = 'OnlineBackup_IX')\n",
    "si_DeviceProtection = StringIndexer(inputCol = 'DeviceProtection', outputCol = 'DeviceProtection_IX')\n",
    "si_TechSupport = StringIndexer(inputCol = 'TechSupport', outputCol = 'TechSupport_IX')\n",
    "si_StreamingTV = StringIndexer(inputCol = 'StreamingTV', outputCol = 'StreamingTV_IX')\n",
    "si_StreamingMovies = StringIndexer(inputCol = 'StreamingMovies', outputCol = 'StreamingMovies_IX')\n",
    "si_Contract = StringIndexer(inputCol = 'Contract', outputCol = 'Contract_IX')\n",
    "si_PaperlessBilling = StringIndexer(inputCol = 'PaperlessBilling', outputCol = 'PaperlessBilling_IX')\n",
    "si_PaymentMethod = StringIndexer(inputCol = 'PaymentMethod', outputCol = 'PaymentMethod_IX')\n"
   ]
  },
  {
   "cell_type": "code",
   "execution_count": 19,
   "metadata": {},
   "outputs": [],
   "source": [
    "si_Label = StringIndexer(inputCol=\"Churn\", outputCol=\"label\").fit(spark_df)\n",
    "label_converter = IndexToString(inputCol=\"prediction\", outputCol=\"predictedLabel\", labels=si_Label.labels)"
   ]
  },
  {
   "cell_type": "markdown",
   "metadata": {},
   "source": [
    "### 3.4 Create a single vector"
   ]
  },
  {
   "cell_type": "code",
   "execution_count": 20,
   "metadata": {},
   "outputs": [],
   "source": [
    "va_features = VectorAssembler(inputCols=['gender_IX',  'SeniorCitizen', 'Partner_IX', 'Dependents_IX', 'PhoneService_IX', 'MultipleLines_IX', 'InternetService_IX', \\\n",
    "                                         'OnlineSecurity_IX', 'OnlineBackup_IX', 'DeviceProtection_IX', 'TechSupport_IX', 'StreamingTV_IX', 'StreamingMovies_IX', \\\n",
    "                                         'Contract_IX', 'PaperlessBilling_IX', 'PaymentMethod_IX', 'TotalCharges', 'MonthlyCharges'], outputCol=\"features\")"
   ]
  },
  {
   "cell_type": "markdown",
   "metadata": {},
   "source": [
    "### 3.5 Create a pipeline, and fit a model using RandomForestClassifier \n",
    "Assemble all the stages into a pipeline. We don't expect a clean linear regression, so we'll use RandomForestClassifier to find the best decision tree for the data."
   ]
  },
  {
   "cell_type": "code",
   "execution_count": 21,
   "metadata": {},
   "outputs": [],
   "source": [
    "classifier = RandomForestClassifier(featuresCol=\"features\")\n",
    "\n",
    "pipeline = Pipeline(stages=[si_gender, si_Partner, si_Dependents, si_PhoneService, si_MultipleLines, si_InternetService, si_OnlineSecurity, si_OnlineBackup, si_DeviceProtection, \\\n",
    "                            si_TechSupport, si_StreamingTV, si_StreamingMovies, si_Contract, si_PaperlessBilling, si_PaymentMethod, si_Label, va_features, \\\n",
    "                            classifier, label_converter])\n",
    "\n",
    "model = pipeline.fit(train_data)"
   ]
  },
  {
   "cell_type": "code",
   "execution_count": 22,
   "metadata": {},
   "outputs": [
    {
     "name": "stdout",
     "output_type": "stream",
     "text": [
      "areaUnderROC = 0.698381\n"
     ]
    }
   ],
   "source": [
    "predictions = model.transform(test_data)\n",
    "evaluatorDT = BinaryClassificationEvaluator(rawPredictionCol=\"prediction\")\n",
    "area_under_curve = evaluatorDT.evaluate(predictions)\n",
    "\n",
    "#default evaluation is areaUnderROC\n",
    "print(\"areaUnderROC = %g\" % area_under_curve)"
   ]
  },
  {
   "cell_type": "markdown",
   "metadata": {},
   "source": [
    "# 4.0 Save the model to Cloud Pak for Data"
   ]
  },
  {
   "cell_type": "code",
   "execution_count": 23,
   "metadata": {},
   "outputs": [],
   "source": [
    "from dsx_ml.ml import save"
   ]
  },
  {
   "cell_type": "code",
   "execution_count": 24,
   "metadata": {},
   "outputs": [],
   "source": [
    "MODEL_NAME = \"telco churn model\""
   ]
  },
  {
   "cell_type": "code",
   "execution_count": 25,
   "metadata": {},
   "outputs": [
    {
     "name": "stderr",
     "output_type": "stream",
     "text": [
      "Using TensorFlow backend.\n"
     ]
    },
    {
     "data": {
      "text/plain": [
       "{'path': '/user-home/1004/DSX_Projects/Customer Churn Project/models/telco churn model/1',\n",
       " 'scoring_endpoint': 'https://dsxl-api/v3/project/score/Python36/spark-2.3/Customer%20Churn%20Project/telco%20churn%20model/1'}"
      ]
     },
     "execution_count": 25,
     "metadata": {},
     "output_type": "execute_result"
    }
   ],
   "source": [
    "save(name=MODEL_NAME,\n",
    "    model=model,\n",
    "    test_data = test_data,\n",
    "    algorithm_type='Classification',\n",
    "    description='This is a SparkML Model to Classify Telco Customer Churn Risk')"
   ]
  },
  {
   "cell_type": "markdown",
   "metadata": {},
   "source": [
    "### 4.1 Write the test data without label to a .csv so that we can later use it for batch scoring"
   ]
  },
  {
   "cell_type": "code",
   "execution_count": 26,
   "metadata": {},
   "outputs": [],
   "source": [
    "write_score_CSV=test_data.toPandas().drop(['Churn'], axis=1)\n",
    "write_score_CSV.to_csv('../datasets/TelcoCustomerSparkMLBatchScore.csv', sep=',', index=False)"
   ]
  },
  {
   "cell_type": "markdown",
   "metadata": {},
   "source": [
    "### 4.2 Write the test data to a .csv so that we can later use it for evaluation"
   ]
  },
  {
   "cell_type": "code",
   "execution_count": 27,
   "metadata": {},
   "outputs": [],
   "source": [
    "write_eval_CSV=test_data.toPandas()\n",
    "write_eval_CSV.to_csv('../datasets/TelcoCustomerSparkMLEval.csv', sep=',', index=False)"
   ]
  },
  {
   "cell_type": "markdown",
   "metadata": {},
   "source": [
    "# 5.0 Deploy the model to Watson Machine Learning"
   ]
  },
  {
   "cell_type": "markdown",
   "metadata": {},
   "source": [
    "### 5.1 Set up Watson Machine Learning client to communicate with Cloud Pak for Data"
   ]
  },
  {
   "cell_type": "code",
   "execution_count": 28,
   "metadata": {},
   "outputs": [],
   "source": [
    "from watson_machine_learning_client import WatsonMachineLearningAPIClient"
   ]
  },
  {
   "cell_type": "code",
   "execution_count": 30,
   "metadata": {},
   "outputs": [
    {
     "name": "stdout",
     "output_type": "stream",
     "text": [
      "<watson_machine_learning_client.client.WatsonMachineLearningAPIClient object at 0x7fe2c737abe0>\n"
     ]
    }
   ],
   "source": [
    "wml_credentials = {\n",
    "  \"url\": \"https://169.x.y.z\",\n",
    "  \"instance_id\": \"icp\",\n",
    "  \"username\": \"username\",\n",
    "  \"password\": \"password\"\n",
    "}\n",
    "\n",
    "client = WatsonMachineLearningAPIClient(wml_credentials)\n",
    "print(client)"
   ]
  },
  {
   "cell_type": "markdown",
   "metadata": {},
   "source": [
    "## 5.2 List existing deployments and models"
   ]
  },
  {
   "cell_type": "code",
   "execution_count": 31,
   "metadata": {},
   "outputs": [
    {
     "name": "stdout",
     "output_type": "stream",
     "text": [
      "------------------------------------  ------------------------  ------------------------  ---------\n",
      "GUID                                  NAME                      CREATED                   FRAMEWORK\n",
      "82eaa056-5cb2-421b-866f-1b15f1d5a6db  GermanCreditRiskModelICP  2019-09-12T15:54:52.494Z  mllib-2.3\n",
      "------------------------------------  ------------------------  ------------------------  ---------\n",
      "------------------------------------  ------------------------  ------  --------------  ------------------------  ---------  -------------\n",
      "GUID                                  NAME                      TYPE    STATE           CREATED                   FRAMEWORK  ARTIFACT TYPE\n",
      "4f74117f-d8be-4df6-b874-b57f5a5ea8e0  GermanCreditRiskModelICP  online  DEPLOY_SUCCESS  2019-09-12T15:54:59.360Z  mllib-2.3  model\n",
      "------------------------------------  ------------------------  ------  --------------  ------------------------  ---------  -------------\n"
     ]
    }
   ],
   "source": [
    "client.repository.list_models()\n",
    "client.deployments.list()"
   ]
  },
  {
   "cell_type": "markdown",
   "metadata": {},
   "source": [
    "### 5.3 Save model to Watson Machine Learning client"
   ]
  },
  {
   "cell_type": "code",
   "execution_count": 32,
   "metadata": {},
   "outputs": [],
   "source": [
    "model_props = {client.repository.ModelMetaNames.AUTHOR_NAME: \"IBM\",\n",
    "               client.repository.ModelMetaNames.NAME: MODEL_NAME}\n",
    "stored_model = client.repository.store_model(model=model, pipeline=pipeline, meta_props=model_props, training_data=train_data)"
   ]
  },
  {
   "cell_type": "markdown",
   "metadata": {},
   "source": [
    "### 5.4 Deploy the model to Watson Machine Learning"
   ]
  },
  {
   "cell_type": "code",
   "execution_count": 33,
   "metadata": {},
   "outputs": [
    {
     "name": "stdout",
     "output_type": "stream",
     "text": [
      "dc4ebfa4-5b58-4567-8936-2291e0b022e0\n"
     ]
    }
   ],
   "source": [
    "model_uid = client.repository.get_model_uid(stored_model)\n",
    "print(model_uid)"
   ]
  },
  {
   "cell_type": "code",
   "execution_count": null,
   "metadata": {},
   "outputs": [
    {
     "name": "stdout",
     "output_type": "stream",
     "text": [
      "\n",
      "\n",
      "#######################################################################################\n",
      "\n",
      "Synchronous deployment creation for uid: 'dc4ebfa4-5b58-4567-8936-2291e0b022e0' started\n",
      "\n",
      "#######################################################################################\n",
      "\n",
      "\n",
      "INITIALIZING\n",
      "DEPLOY_IN_PROGRESS"
     ]
    }
   ],
   "source": [
    "created_deployment = client.deployments.create(model_uid, name=MODEL_NAME + \" deployment\")\n",
    "client.repository.list_models()\n",
    "client.deployments.list()"
   ]
  },
  {
   "cell_type": "markdown",
   "metadata": {},
   "source": [
    "## Congratulations, you have created a model based on customer churn data, and deployed it to Watson Machine Learning!"
   ]
  }
 ],
 "metadata": {
  "kernelspec": {
   "display_name": "Python3.6",
   "language": "python",
   "name": "python3"
  },
  "language_info": {
   "codemirror_mode": {
    "name": "ipython",
    "version": 3
   },
   "file_extension": ".py",
   "mimetype": "text/x-python",
   "name": "python",
   "nbconvert_exporter": "python",
   "pygments_lexer": "ipython3",
   "version": "3.6.7"
  }
 },
 "nbformat": 4,
 "nbformat_minor": 1
}
