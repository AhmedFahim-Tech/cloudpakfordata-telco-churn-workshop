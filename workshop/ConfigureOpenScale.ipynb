{
    "nbformat_minor": 1, 
    "cells": [
        {
            "source": "<img src=\"https://github.com/pmservice/ai-openscale-tutorials/raw/master/notebooks/images/banner.png\" align=\"left\" alt=\"banner\">", 
            "cell_type": "markdown", 
            "metadata": {}
        }, 
        {
            "source": "# Working with Watson Machine Learning", 
            "cell_type": "markdown", 
            "metadata": {}
        }, 
        {
            "source": "This notebook should be run using with **Python 3.x with Spark** runtime environment. **If you are viewing this in Watson Studio and do not see Python 3.x with Spark in the upper right corner of your screen, please update the runtime now.** It requires service credentials for the following services:\n  * Watson OpenScale\n  * Watson Machine Learning\n  * DB2\n  \nThe notebook will train, create and deploy a German Credit Risk model, configure OpenScale to monitor that deployment, and inject seven days' worth of historical records and measurements for viewing in the OpenScale Insights dashboard.", 
            "cell_type": "markdown", 
            "metadata": {}
        }, 
        {
            "source": "### Contents\n\n- [Setup](#setup)\n- [Model building and deployment](#model)\n- [OpenScale configuration](#openscale)\n- [Quality monitor and feedback logging](#quality)\n- [Fairness monitoring and explanations](#fairness)\n- [Custom monitors and metrics](#custom)\n- [Payload analytics](#analytics)\n- [Historical data](#historical)", 
            "cell_type": "markdown", 
            "metadata": {}
        }, 
        {
            "source": "# Setup <a name=\"setup\"></a>", 
            "cell_type": "markdown", 
            "metadata": {}
        }, 
        {
            "source": "## Package installation", 
            "cell_type": "markdown", 
            "metadata": {
                "collapsed": true
            }
        }, 
        {
            "execution_count": 1, 
            "cell_type": "code", 
            "metadata": {}, 
            "outputs": [
                {
                    "output_type": "stream", 
                    "name": "stdout", 
                    "text": "Successfully installed ibm-ai-openscale psycopg2\n\u001b[31mtensorflow 1.11.0 has requirement setuptools<=39.1.0, but you'll have setuptools 40.8.0 which is incompatible.\u001b[0m\n\u001b[31mmxnet 1.3.0.post0 has requirement numpy<1.15.0,>=1.8.2, but you'll have numpy 1.16.2 which is incompatible.\u001b[0m\n\u001b[31mmxnet 1.3.0.post0 has requirement requests<2.19.0,>=2.18.4, but you'll have requests 2.21.0 which is incompatible.\u001b[0m\n\u001b[31mcufflinks 0.14.5 has requirement plotly>=3.0.0, but you'll have plotly 2.7.0 which is incompatible.\u001b[0m\n\u001b[33m  The scripts f2py, f2py3 and f2py3.6 are installed in '/user-home/999/.local/bin' which is not on PATH.\n  Consider adding this directory to PATH or, if you prefer to suppress this warning, use --no-warn-script-location.\u001b[0m\nSuccessfully installed numpy-1.16.2\nSuccessfully installed lime-0.1.1.33 matplotlib-2.1.0\nSuccessfully installed SciPy-1.2.1\nRequirement already satisfied: urllib3<1.25,>=1.21.1 in /opt/conda3/lib/python3.6/site-packages (from requests->pixiedust) (1.22)\n"
                }
            ], 
            "source": "!pip install --upgrade ibm-ai-openscale --no-cache --user | tail -n 1\n!pip install numpy --no-cache --user | tail -n 1\n!pip install lime --no-cache --user | tail -n 1\n!pip install upgrade SciPy --no-cache --user | tail -n 1\n!pip install pixiedust --user | tail -n 1"
        }, 
        {
            "source": "### Action: restart the kernel!", 
            "cell_type": "markdown", 
            "metadata": {}
        }, 
        {
            "source": "## Configure credentials", 
            "cell_type": "markdown", 
            "metadata": {}
        }, 
        {
            "source": "- WOS_CREDENTIALS (ICP)\n- WML_CREDENTIALS (ICP)\n- DATABASE_CREDENTIALS (DB2 on ICP)\n- SCHEMA_NAME", 
            "cell_type": "markdown", 
            "metadata": {
                "scrolled": true
            }
        }, 
        {
            "execution_count": 159, 
            "cell_type": "code", 
            "metadata": {}, 
            "outputs": [], 
            "source": "WOS_CREDENTIALS = {\n    \"url\": \"***\",\n    \"username\": \"***\",\n    \"password\": \"***\"\n}"
        }, 
        {
            "execution_count": 160, 
            "cell_type": "code", 
            "metadata": {}, 
            "outputs": [], 
            "source": "# The code was removed by Watson Studio for sharing."
        }, 
        {
            "execution_count": 161, 
            "cell_type": "code", 
            "metadata": {}, 
            "outputs": [], 
            "source": "WML_CREDENTIALS = WOS_CREDENTIALS.copy()\nWML_CREDENTIALS['instance_id']='icp'\nWML_CREDENTIALS['url'] = ':'.join(WOS_CREDENTIALS['url'].split(':')[0:-1]) if WOS_CREDENTIALS['url'].count(':') == 2 else WOS_CREDENTIALS['url']"
        }, 
        {
            "execution_count": 162, 
            "cell_type": "code", 
            "metadata": {}, 
            "outputs": [], 
            "source": "DATABASE_CREDENTIALS = {\n    \"jdbcurl\": \"***\",\n    \"hostname\": \"***\",\n    \"username\": \"***\",\n    \"password\": \"***\",\n    \"port\": 50000,\n    \"db\": \"***\",\n    \"dsn\": \"***\",\n    \"uri\": \"***\"\n}"
        }, 
        {
            "execution_count": 163, 
            "cell_type": "code", 
            "metadata": {}, 
            "outputs": [], 
            "source": "# The code was removed by Watson Studio for sharing."
        }, 
        {
            "source": "### Action: put created schema name below.", 
            "cell_type": "markdown", 
            "metadata": {}
        }, 
        {
            "execution_count": 164, 
            "cell_type": "code", 
            "metadata": {}, 
            "outputs": [], 
            "source": "SCHEMA_NAME = 'AIOSTEST3'"
        }, 
        {
            "source": "## Run the notebook\n\nAt this point, the notebook is ready to run. You can either run the cells one at a time, or click the **Kernel** option above and select **Restart and Run All** to run all the cells.", 
            "cell_type": "markdown", 
            "metadata": {}
        }, 
        {
            "source": "# Model building and deployment <a name=\"model\"></a>", 
            "cell_type": "markdown", 
            "metadata": {}
        }, 
        {
            "source": "In this section you will learn how to train Spark MLLib model and next deploy it as web-service using Watson Machine Learning service.", 
            "cell_type": "markdown", 
            "metadata": {}
        }, 
        {
            "source": "## Load the training data from github", 
            "cell_type": "markdown", 
            "metadata": {}
        }, 
        {
            "execution_count": 2, 
            "cell_type": "code", 
            "metadata": {
                "scrolled": true
            }, 
            "outputs": [
                {
                    "output_type": "stream", 
                    "name": "stdout", 
                    "text": "rm: cannot remove \u2018german_credit_data_biased_training.csv\u2019: No such file or directory\n--2019-06-03 14:57:59--  https://raw.githubusercontent.com/pmservice/ai-openscale-tutorials/master/assets/historical_data/german_credit_risk/wml/german_credit_data_biased_training.csv\nResolving raw.githubusercontent.com (raw.githubusercontent.com)... 199.232.8.133\nConnecting to raw.githubusercontent.com (raw.githubusercontent.com)|199.232.8.133|:443... connected.\nHTTP request sent, awaiting response... 200 OK\nLength: 689622 (673K) [text/plain]\nSaving to: \u2018german_credit_data_biased_training.csv\u2019\n\n100%[======================================>] 689,622     --.-K/s   in 0.03s   \n\n2019-06-03 14:58:00 (25.4 MB/s) - \u2018german_credit_data_biased_training.csv\u2019 saved [689622/689622]\n\n"
                }
            ], 
            "source": "!rm german_credit_data_biased_training.csv\n!wget https://raw.githubusercontent.com/pmservice/ai-openscale-tutorials/master/assets/historical_data/german_credit_risk/wml/german_credit_data_biased_training.csv"
        }, 
        {
            "execution_count": 60, 
            "cell_type": "code", 
            "metadata": {
                "scrolled": true
            }, 
            "outputs": [
                {
                    "execution_count": 60, 
                    "metadata": {}, 
                    "data": {
                        "text/plain": "Row(CheckingStatus='0_to_200', LoanDuration=31, CreditHistory='credits_paid_to_date', LoanPurpose='other', LoanAmount=1889, ExistingSavings='100_to_500', EmploymentDuration='less_1', InstallmentPercent=3, Sex='female', OthersOnLoan='none', CurrentResidenceDuration=3, OwnsProperty='savings_insurance', Age=32, InstallmentPlans='none', Housing='own', ExistingCreditsCount=1, Job='skilled', Dependents=1, Telephone='none', ForeignWorker='yes', Risk='No Risk')"
                    }, 
                    "output_type": "execute_result"
                }
            ], 
            "source": "from pyspark.sql import SparkSession\nimport pandas as pd\nimport json\n\nspark = SparkSession.builder.getOrCreate()\npd_data = pd.read_csv(\"german_credit_data_biased_training.csv\", sep=\",\", header=0)\ndf_data = spark.read.csv(path=\"german_credit_data_biased_training.csv\", sep=\",\", header=True, inferSchema=True)\ndf_data.head()"
        }, 
        {
            "source": "## Explore data", 
            "cell_type": "markdown", 
            "metadata": {}
        }, 
        {
            "execution_count": 61, 
            "cell_type": "code", 
            "metadata": {
                "scrolled": true
            }, 
            "outputs": [
                {
                    "output_type": "stream", 
                    "name": "stdout", 
                    "text": "root\n |-- CheckingStatus: string (nullable = true)\n |-- LoanDuration: integer (nullable = true)\n |-- CreditHistory: string (nullable = true)\n |-- LoanPurpose: string (nullable = true)\n |-- LoanAmount: integer (nullable = true)\n |-- ExistingSavings: string (nullable = true)\n |-- EmploymentDuration: string (nullable = true)\n |-- InstallmentPercent: integer (nullable = true)\n |-- Sex: string (nullable = true)\n |-- OthersOnLoan: string (nullable = true)\n |-- CurrentResidenceDuration: integer (nullable = true)\n |-- OwnsProperty: string (nullable = true)\n |-- Age: integer (nullable = true)\n |-- InstallmentPlans: string (nullable = true)\n |-- Housing: string (nullable = true)\n |-- ExistingCreditsCount: integer (nullable = true)\n |-- Job: string (nullable = true)\n |-- Dependents: integer (nullable = true)\n |-- Telephone: string (nullable = true)\n |-- ForeignWorker: string (nullable = true)\n |-- Risk: string (nullable = true)\n\n"
                }
            ], 
            "source": "df_data.printSchema()"
        }, 
        {
            "execution_count": 62, 
            "cell_type": "code", 
            "metadata": {
                "scrolled": true
            }, 
            "outputs": [
                {
                    "output_type": "stream", 
                    "name": "stdout", 
                    "text": "Number of records: 5000\n"
                }
            ], 
            "source": "print(\"Number of records: \" + str(df_data.count()))"
        }, 
        {
            "source": "## Visualize data with pixiedust", 
            "cell_type": "markdown", 
            "metadata": {}
        }, 
        {
            "execution_count": 63, 
            "cell_type": "code", 
            "metadata": {}, 
            "outputs": [], 
            "source": "import pixiedust"
        }, 
        {
            "execution_count": 64, 
            "cell_type": "code", 
            "metadata": {
                "pixiedust": {
                    "displayParams": {
                        "handlerId": "pieChart", 
                        "keyFields": "Risk", 
                        "rendererId": "bokeh", 
                        "chartsize": "50", 
                        "mpld3": "false", 
                        "aggregation": "COUNT"
                    }
                }
            }, 
            "outputs": [
                {
                    "output_type": "display_data", 
                    "data": {
                        "text/html": "<style type=\"text/css\">.pd_warning{display:none;}</style><div class=\"pd_warning\"><em>Hey, there's something awesome here! To see it, open this notebook outside GitHub, in a viewer like Jupyter</em></div>\n        <div class=\"pd_save is-viewer-good\" style=\"padding-right:10px;text-align: center;line-height:initial !important;font-size: xx-large;font-weight: 500;color: coral;\">\n            \n        </div>\n    <div id=\"chartFigure7af8d7c4\" class=\"pd_save is-viewer-good\" style=\"overflow-x:auto\">\n            \n                    \n                            <center><img style=\"max-width:initial !important\" src=\"data:image/png;base64,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\" class=\"pd_save\"></center>\n                        \n                    \n                \n        </div>", 
                        "text/plain": "<IPython.core.display.HTML object>"
                    }, 
                    "metadata": {}
                }
            ], 
            "source": "display(df_data)"
        }, 
        {
            "source": "## Create a model", 
            "cell_type": "markdown", 
            "metadata": {}
        }, 
        {
            "execution_count": 65, 
            "cell_type": "code", 
            "metadata": {
                "scrolled": true
            }, 
            "outputs": [
                {
                    "output_type": "stream", 
                    "name": "stdout", 
                    "text": "Number of records for training: 4016\nNumber of records for evaluation: 984\nroot\n |-- CheckingStatus: string (nullable = true)\n |-- LoanDuration: integer (nullable = true)\n |-- CreditHistory: string (nullable = true)\n |-- LoanPurpose: string (nullable = true)\n |-- LoanAmount: integer (nullable = true)\n |-- ExistingSavings: string (nullable = true)\n |-- EmploymentDuration: string (nullable = true)\n |-- InstallmentPercent: integer (nullable = true)\n |-- Sex: string (nullable = true)\n |-- OthersOnLoan: string (nullable = true)\n |-- CurrentResidenceDuration: integer (nullable = true)\n |-- OwnsProperty: string (nullable = true)\n |-- Age: integer (nullable = true)\n |-- InstallmentPlans: string (nullable = true)\n |-- Housing: string (nullable = true)\n |-- ExistingCreditsCount: integer (nullable = true)\n |-- Job: string (nullable = true)\n |-- Dependents: integer (nullable = true)\n |-- Telephone: string (nullable = true)\n |-- ForeignWorker: string (nullable = true)\n |-- Risk: string (nullable = true)\n\n"
                }
            ], 
            "source": "spark_df = df_data\n(train_data, test_data) = spark_df.randomSplit([0.8, 0.2], 24)\n\nMODEL_NAME = \"Spark German Risk Model - Final\"\nDEPLOYMENT_NAME = \"Spark German Risk Deployment - Final\"\n\nprint(\"Number of records for training: \" + str(train_data.count()))\nprint(\"Number of records for evaluation: \" + str(test_data.count()))\n\nspark_df.printSchema()"
        }, 
        {
            "source": "The code below creates a Random Forest Classifier with Spark, setting up string indexers for the categorical features and the label column. Finally, this notebook creates a pipeline including the indexers and the model, and does an initial Area Under ROC evaluation of the model.", 
            "cell_type": "markdown", 
            "metadata": {}
        }, 
        {
            "execution_count": 66, 
            "cell_type": "code", 
            "metadata": {
                "scrolled": true
            }, 
            "outputs": [], 
            "source": "from pyspark.ml.feature import OneHotEncoder, StringIndexer, IndexToString, VectorAssembler\nfrom pyspark.ml.evaluation import BinaryClassificationEvaluator\nfrom pyspark.ml import Pipeline, Model\n\nsi_CheckingStatus = StringIndexer(inputCol = 'CheckingStatus', outputCol = 'CheckingStatus_IX')\nsi_CreditHistory = StringIndexer(inputCol = 'CreditHistory', outputCol = 'CreditHistory_IX')\nsi_LoanPurpose = StringIndexer(inputCol = 'LoanPurpose', outputCol = 'LoanPurpose_IX')\nsi_ExistingSavings = StringIndexer(inputCol = 'ExistingSavings', outputCol = 'ExistingSavings_IX')\nsi_EmploymentDuration = StringIndexer(inputCol = 'EmploymentDuration', outputCol = 'EmploymentDuration_IX')\nsi_Sex = StringIndexer(inputCol = 'Sex', outputCol = 'Sex_IX')\nsi_OthersOnLoan = StringIndexer(inputCol = 'OthersOnLoan', outputCol = 'OthersOnLoan_IX')\nsi_OwnsProperty = StringIndexer(inputCol = 'OwnsProperty', outputCol = 'OwnsProperty_IX')\nsi_InstallmentPlans = StringIndexer(inputCol = 'InstallmentPlans', outputCol = 'InstallmentPlans_IX')\nsi_Housing = StringIndexer(inputCol = 'Housing', outputCol = 'Housing_IX')\nsi_Job = StringIndexer(inputCol = 'Job', outputCol = 'Job_IX')\nsi_Telephone = StringIndexer(inputCol = 'Telephone', outputCol = 'Telephone_IX')\nsi_ForeignWorker = StringIndexer(inputCol = 'ForeignWorker', outputCol = 'ForeignWorker_IX')"
        }, 
        {
            "execution_count": 67, 
            "cell_type": "code", 
            "metadata": {
                "scrolled": true
            }, 
            "outputs": [], 
            "source": "si_Label = StringIndexer(inputCol=\"Risk\", outputCol=\"label\").fit(spark_df)\nlabel_converter = IndexToString(inputCol=\"prediction\", outputCol=\"predictedLabel\", labels=si_Label.labels)"
        }, 
        {
            "execution_count": 68, 
            "cell_type": "code", 
            "metadata": {
                "scrolled": true
            }, 
            "outputs": [], 
            "source": "va_features = VectorAssembler(inputCols=[\"CheckingStatus_IX\", \"CreditHistory_IX\", \"LoanPurpose_IX\", \"ExistingSavings_IX\", \"EmploymentDuration_IX\", \"Sex_IX\", \\\n                                         \"OthersOnLoan_IX\", \"OwnsProperty_IX\", \"InstallmentPlans_IX\", \"Housing_IX\", \"Job_IX\", \"Telephone_IX\", \"ForeignWorker_IX\", \\\n                                         \"LoanDuration\", \"LoanAmount\", \"InstallmentPercent\", \"CurrentResidenceDuration\", \"LoanDuration\", \"Age\", \"ExistingCreditsCount\", \\\n                                         \"Dependents\"], outputCol=\"features\")"
        }, 
        {
            "execution_count": 69, 
            "cell_type": "code", 
            "metadata": {
                "scrolled": true
            }, 
            "outputs": [], 
            "source": "from pyspark.ml.classification import RandomForestClassifier\nclassifier = RandomForestClassifier(featuresCol=\"features\")\n\npipeline = Pipeline(stages=[si_CheckingStatus, si_CreditHistory, si_EmploymentDuration, si_ExistingSavings, si_ForeignWorker, si_Housing, si_InstallmentPlans, si_Job, si_LoanPurpose, si_OthersOnLoan,\\\n                               si_OwnsProperty, si_Sex, si_Telephone, si_Label, va_features, classifier, label_converter])\nmodel = pipeline.fit(train_data)"
        }, 
        {
            "execution_count": 70, 
            "cell_type": "code", 
            "metadata": {
                "scrolled": true
            }, 
            "outputs": [
                {
                    "output_type": "stream", 
                    "name": "stdout", 
                    "text": "areaUnderROC = 0.705884\n"
                }
            ], 
            "source": "predictions = model.transform(test_data)\nevaluatorDT = BinaryClassificationEvaluator(rawPredictionCol=\"prediction\")\narea_under_curve = evaluatorDT.evaluate(predictions)\n\n#default evaluation is areaUnderROC\nprint(\"areaUnderROC = %g\" % area_under_curve)"
        }, 
        {
            "source": "## Publish the model", 
            "cell_type": "markdown", 
            "metadata": {}
        }, 
        {
            "source": "In this section, the notebook uses Watson Machine Learning to save the model (including the pipeline) to the WML instance. Previous versions of the model are removed so that the notebook can be run again, resetting all data for another demo.", 
            "cell_type": "markdown", 
            "metadata": {}
        }, 
        {
            "execution_count": 71, 
            "cell_type": "code", 
            "metadata": {
                "scrolled": true
            }, 
            "outputs": [], 
            "source": "from watson_machine_learning_client import WatsonMachineLearningAPIClient\nimport json\n\nwml_client = WatsonMachineLearningAPIClient(WML_CREDENTIALS)"
        }, 
        {
            "source": "### Remove existing model and deployment", 
            "cell_type": "markdown", 
            "metadata": {}
        }, 
        {
            "execution_count": 72, 
            "cell_type": "code", 
            "metadata": {
                "scrolled": true
            }, 
            "outputs": [
                {
                    "output_type": "stream", 
                    "name": "stdout", 
                    "text": "Deleting deployment id c12f2011-67a1-4e97-a8bd-26d06df563ef\nDeleting model id 341dde30-7be0-49cb-ae8f-8a2e9489b9a4\n------------------------------------  ------------------------------------  ------------------------  -----------------\nGUID                                  NAME                                  CREATED                   FRAMEWORK\neb5464d4-2bf4-44fb-89c2-39f36c39c281  AIOS Xgboost Solar Model              2019-04-15T06:01:33.474Z  xgboost-0.80\nc32e6a1f-87ea-4ebf-8397-685b9a7af849  AIOS SPSS Customer Model              2019-04-15T05:49:10.155Z  spss-modeler-18.0\ndc3f7c7b-87e9-4cdf-888b-8346f1ef504b  AIOS Keras Poland house prices model  2019-04-15T05:20:05.840Z  tensorflow-1.5\nc548c69c-50e5-4a63-81d8-737b0d07e180  AIOS Keras Stack Overflow model       2019-04-15T05:16:03.844Z  tensorflow-1.5\n6f42de1e-0a94-4127-99c3-c7f1faab8c10  AIOS Keras mnist model                2019-04-15T05:12:52.736Z  tensorflow-1.5\n5c934976-90a5-4749-9ad1-e10ac4117eff  AIOS Keras iris model                 2019-04-15T05:08:50.062Z  tensorflow-1.5\nbbbc59cf-c08f-49e0-a3b7-080474d65cb0  Keras LSTM model                      2019-04-15T05:04:45.381Z  tensorflow-1.5\n8e82e98c-610e-4071-b688-fb576379b2ce  AIOS Keras spam model                 2019-04-15T05:01:04.491Z  tensorflow-1.5\n6d771591-cbb2-470f-a1f1-78d5d43191ce  AIOS Keras DogsAndCats model          2019-04-15T04:47:15.717Z  tensorflow-1.5\n410ebc83-0c38-4dba-9d64-0608f7295447  AIOS Xgboost Solar Model              2019-04-14T05:32:28.492Z  xgboost-0.80\ncb7bbfca-7f11-456b-8bde-2f275f35045e  AIOS SPSS Customer Model              2019-04-14T05:20:40.205Z  spss-modeler-18.0\n3ecb7d81-c3a2-441e-afc9-84b4c47496b3  AIOS Keras Poland house prices model  2019-04-14T04:50:51.284Z  tensorflow-1.5\nd7b5f87b-8537-43e3-8874-9e7ae65e7d0d  AIOS Keras Stack Overflow model       2019-04-14T04:46:58.072Z  tensorflow-1.5\nf15c1102-6c20-4a72-bf8d-ae2f046d6ead  AIOS Keras mnist model                2019-04-14T04:42:50.786Z  tensorflow-1.5\nc3beb4d7-92fd-4fb2-8a8b-b901aabe6d02  AIOS Keras iris model                 2019-04-14T04:39:18.799Z  tensorflow-1.5\n7284bd04-ff58-4a09-b232-413e65a2bc94  Keras LSTM model                      2019-04-14T04:29:04.030Z  tensorflow-1.5\n895db820-e36d-4a96-94d3-0bd8232a71bb  AIOS Keras spam model                 2019-04-14T04:25:45.070Z  tensorflow-1.5\naf714fe6-23d6-4625-891b-c1bebba581d6  AIOS Keras DogsAndCats model          2019-04-14T04:14:43.962Z  tensorflow-1.5\ncfa30703-189d-4cd8-992b-44b1d8f4b9c1  AIOS Xgboost Solar Model              2019-04-14T01:44:50.329Z  xgboost-0.80\ndb577ef4-0ef6-4151-98ea-2dda9860a50a  AIOS SPSS Customer Model              2019-04-14T01:32:33.155Z  spss-modeler-18.0\n962cfd15-9200-4c8b-88ea-4bd41fd5b9d7  AIOS Keras Poland house prices model  2019-04-14T01:01:27.063Z  tensorflow-1.5\nb84b27c7-fd85-45df-bd1d-adff8e2f1c99  AIOS Keras Stack Overflow model       2019-04-14T00:58:07.370Z  tensorflow-1.5\n30e81e15-eee8-472f-9122-4c44192e5cc6  AIOS Keras mnist model                2019-04-14T00:54:38.183Z  tensorflow-1.5\nd72cbda3-22a7-4925-9ca3-6e1b602a0c1f  AIOS Keras iris model                 2019-04-14T00:50:55.813Z  tensorflow-1.5\n51f5ae46-764e-4fb4-89ae-ac8368a38a10  Keras LSTM model                      2019-04-14T00:47:22.992Z  tensorflow-1.5\ned37f5dc-9dea-48e6-89c4-07e59c5d2790  AIOS Keras spam model                 2019-04-14T00:43:54.169Z  tensorflow-1.5\nd841f540-2985-4d9e-935d-241ee87a24e6  AIOS Keras DogsAndCats model          2019-04-14T00:33:25.637Z  tensorflow-1.5\n19e9d415-50f4-4fe6-96a6-2bf3e789fc09  AIOS Xgboost Solar Model              2019-04-13T22:12:13.478Z  xgboost-0.80\n0d975de3-fd80-4605-874b-336533a850d7  AIOS SPSS Customer Model              2019-04-13T22:00:13.671Z  spss-modeler-18.0\n4f992c8a-5272-4076-aff3-22204d647df2  AIOS Keras Poland house prices model  2019-04-13T21:29:48.096Z  tensorflow-1.5\nc25b032c-2264-4ad8-8c3e-085ac7034a4e  AIOS Keras Stack Overflow model       2019-04-13T21:25:23.618Z  tensorflow-1.5\naee7dfc2-463f-403a-8e6e-c5ea4e255ac6  AIOS Keras mnist model                2019-04-13T21:21:57.342Z  tensorflow-1.5\n394fb0f9-f719-4bfc-9353-05fe64347c46  AIOS Keras iris model                 2019-04-13T21:18:12.101Z  tensorflow-1.5\n15991dc3-5004-4948-8c6c-68b7885d2a48  Keras LSTM model                      2019-04-13T21:14:39.293Z  tensorflow-1.5\n99038e89-4df9-4fc6-ab99-7ea6695dd558  AIOS Keras spam model                 2019-04-13T21:11:14.779Z  tensorflow-1.5\n4f64eaa7-1eaa-4511-a964-3505c6c926a1  AIOS Keras DogsAndCats model          2019-04-13T21:01:04.828Z  tensorflow-1.5\ne2432fda-65e7-4932-9081-68561c42e453  AIOS Xgboost Solar Model              2019-04-13T18:52:00.615Z  xgboost-0.80\nbe1c7858-d365-430d-a885-e0b41956557d  AIOS SPSS Customer Model              2019-04-13T18:39:38.229Z  spss-modeler-18.0\n37ecb842-0dc9-4d8b-a42e-c264ad4329ac  AIOS Keras Poland house prices model  2019-04-13T18:10:50.830Z  tensorflow-1.5\n37dd1cff-c580-40d4-9da4-1006a5c503a0  AIOS Keras Stack Overflow model       2019-04-13T18:07:20.866Z  tensorflow-1.5\ndde0ad29-9457-4eb5-bd64-59d0d09e8776  AIOS Keras mnist model                2019-04-13T18:04:09.711Z  tensorflow-1.5\n4c35e92f-1a94-4536-a2b5-656df3ef06d4  AIOS Keras iris model                 2019-04-13T18:00:38.922Z  tensorflow-1.5\ne913762c-63b7-4329-a851-e6f3a63da0f2  Keras LSTM model                      2019-04-13T17:50:22.690Z  tensorflow-1.5\n87077c90-4f9a-4e24-b7e7-1fe2a8eb76c6  AIOS Xgboost Solar Model              2019-04-13T05:14:48.621Z  xgboost-0.80\na0e29c13-7af9-4b38-9a86-f02a8b8675c5  AIOS SPSS Customer Model              2019-04-13T05:02:18.997Z  spss-modeler-18.0\n195a1066-1355-4597-a2e9-1af28f6c33f7  AIOS Keras Poland house prices model  2019-04-13T04:33:27.632Z  tensorflow-1.5\n5d847efa-5f9d-4d05-8a40-7b48d03b1dbc  AIOS Keras Stack Overflow model       2019-04-13T04:30:09.224Z  tensorflow-1.5\n4e53915f-f8a9-4899-a6c5-caf1d441129f  AIOS Keras mnist model                2019-04-13T04:26:58.471Z  tensorflow-1.5\n400e1981-9dac-4ac1-8e53-de1430287e83  AIOS Keras iris model                 2019-04-13T04:23:29.504Z  tensorflow-1.5\nfc074d64-492d-4f6d-b158-9bcfaf16e466  Keras LSTM model                      2019-04-13T04:20:04.571Z  tensorflow-1.5\n------------------------------------  ------------------------------------  ------------------------  -----------------\nNote: Only first 50 records were displayed. To display more use 'limit' parameter.\n"
                }
            ], 
            "source": "model_deployment_ids = wml_client.deployments.get_uids()\nfor deployment_id in model_deployment_ids:\n    deployment = wml_client.deployments.get_details(deployment_id)\n    model_id = deployment['entity']['deployable_asset']['guid']\n    if deployment['entity']['name'] == DEPLOYMENT_NAME:\n        print('Deleting deployment id', deployment_id)\n        wml_client.deployments.delete(deployment_id)\n        print('Deleting model id', model_id)\n        wml_client.repository.delete(model_id)\nwml_client.repository.list_models()"
        }, 
        {
            "execution_count": 73, 
            "cell_type": "code", 
            "metadata": {
                "scrolled": true
            }, 
            "outputs": [], 
            "source": "model_props = {\n    wml_client.repository.ModelMetaNames.NAME: \"{}\".format(MODEL_NAME),\n    wml_client.repository.ModelMetaNames.EVALUATION_METHOD: \"binary\",\n    wml_client.repository.ModelMetaNames.EVALUATION_METRICS: [\n        {\n           \"name\": \"areaUnderROC\",\n           \"value\": area_under_curve,\n           \"threshold\": 0.7\n        }\n    ]\n}"
        }, 
        {
            "execution_count": 74, 
            "cell_type": "code", 
            "metadata": {
                "scrolled": true
            }, 
            "outputs": [
                {
                    "output_type": "stream", 
                    "name": "stdout", 
                    "text": "Storing model ...\nDone\n"
                }
            ], 
            "source": "wml_models = wml_client.repository.get_model_details()\nmodel_uid = None\n\nfor model_in in wml_models['resources']:\n    if MODEL_NAME == model_in['entity']['name']:\n        model_uid = model_in['metadata']['guid']\n        break\n\nif model_uid is None:\n    print(\"Storing model ...\")\n\n    published_model_details = wml_client.repository.store_model(model=model, meta_props=model_props, training_data=train_data, pipeline=pipeline)\n    model_uid = wml_client.repository.get_model_uid(published_model_details)\n    print(\"Done\")"
        }, 
        {
            "execution_count": 75, 
            "cell_type": "code", 
            "metadata": {
                "scrolled": true
            }, 
            "outputs": [
                {
                    "execution_count": 75, 
                    "metadata": {}, 
                    "data": {
                        "text/plain": "'378231b2-aab4-4516-a003-ffba422c90d8'"
                    }, 
                    "output_type": "execute_result"
                }
            ], 
            "source": "model_uid"
        }, 
        {
            "source": "## Deploy the model", 
            "cell_type": "markdown", 
            "metadata": {}
        }, 
        {
            "source": "The next section of the notebook deploys the model as a RESTful web service in Watson Machine Learning. The deployed model will have a scoring URL you can use to send data to the model for predictions.", 
            "cell_type": "markdown", 
            "metadata": {}
        }, 
        {
            "execution_count": 76, 
            "cell_type": "code", 
            "metadata": {
                "scrolled": true
            }, 
            "outputs": [
                {
                    "output_type": "stream", 
                    "name": "stdout", 
                    "text": "Deploying model...\n\n\n#######################################################################################\n\nSynchronous deployment creation for uid: '378231b2-aab4-4516-a003-ffba422c90d8' started\n\n#######################################################################################\n\n\nINITIALIZING\nDEPLOY_IN_PROGRESS\nDEPLOY_SUCCESS\n\n\n------------------------------------------------------------------------------------------------\nSuccessfully finished deployment creation, deployment_uid='cc1082a1-a1f3-40b9-9efd-184b46e97323'\n------------------------------------------------------------------------------------------------\n\n\nModel id: 378231b2-aab4-4516-a003-ffba422c90d8\nDeployment id: cc1082a1-a1f3-40b9-9efd-184b46e97323\n"
                }
            ], 
            "source": "wml_deployments = wml_client.deployments.get_details()\ndeployment_uid = None\nfor deployment in wml_deployments['resources']:\n    if DEPLOYMENT_NAME == deployment['entity']['name']:\n        deployment_uid = deployment['metadata']['guid']\n        break\n\nif deployment_uid is None:\n    print(\"Deploying model...\")\n\n    deployment = wml_client.deployments.create(artifact_uid=model_uid, name=DEPLOYMENT_NAME, asynchronous=False)\n    deployment_uid = wml_client.deployments.get_uid(deployment)\n    \nprint(\"Model id: {}\".format(model_uid))\nprint(\"Deployment id: {}\".format(deployment_uid))"
        }, 
        {
            "source": "# Configure OpenScale <a name=\"openscale\"></a>", 
            "cell_type": "markdown", 
            "metadata": {}
        }, 
        {
            "source": "The notebook will now import the necessary libraries and set up a Python OpenScale client.", 
            "cell_type": "markdown", 
            "metadata": {}
        }, 
        {
            "execution_count": 165, 
            "cell_type": "code", 
            "metadata": {
                "scrolled": true
            }, 
            "outputs": [], 
            "source": "from ibm_ai_openscale import APIClient4ICP\nfrom ibm_ai_openscale.engines import *\nfrom ibm_ai_openscale.utils import *\nfrom ibm_ai_openscale.supporting_classes import PayloadRecord, Feature\nfrom ibm_ai_openscale.supporting_classes.enums import *"
        }, 
        {
            "execution_count": 166, 
            "cell_type": "code", 
            "metadata": {
                "scrolled": true
            }, 
            "outputs": [
                {
                    "execution_count": 166, 
                    "metadata": {}, 
                    "data": {
                        "text/plain": "'2.1.6'"
                    }, 
                    "output_type": "execute_result"
                }
            ], 
            "source": "ai_client = APIClient4ICP(WOS_CREDENTIALS)\nai_client.version"
        }, 
        {
            "source": "## Create datamart", 
            "cell_type": "markdown", 
            "metadata": {}
        }, 
        {
            "source": "### Set up datamart", 
            "cell_type": "markdown", 
            "metadata": {}
        }, 
        {
            "source": "Watson OpenScale uses a database to store payload logs and calculated metrics. If an OpenScale datamart exists in Db2, the existing datamart will be used and no data will be overwritten.\n\nPrior instances of the German Credit model will be removed from OpenScale monitoring.", 
            "cell_type": "markdown", 
            "metadata": {}
        }, 
        {
            "execution_count": 84, 
            "cell_type": "code", 
            "metadata": {}, 
            "outputs": [
                {
                    "output_type": "stream", 
                    "name": "stdout", 
                    "text": "Setting up external datamart\n"
                }
            ], 
            "source": "try:\n    data_mart_details = ai_client.data_mart.get_details()\n    print('Using existing external datamart')\nexcept:\n    print('Setting up external datamart')\n    ai_client.data_mart.setup(db_credentials=DATABASE_CREDENTIALS, schema=SCHEMA_NAME)"
        }, 
        {
            "execution_count": 85, 
            "cell_type": "code", 
            "metadata": {
                "scrolled": true
            }, 
            "outputs": [], 
            "source": "data_mart_details = ai_client.data_mart.get_details()"
        }, 
        {
            "source": "## Bind machine learning engines", 
            "cell_type": "markdown", 
            "metadata": {}
        }, 
        {
            "source": "Watson OpenScale needs to be bound to the Watson Machine Learning instance to capture payload data into and out of the model. If this binding already exists, this code will output a warning message and use the existing binding.", 
            "cell_type": "markdown", 
            "metadata": {}
        }, 
        {
            "execution_count": 167, 
            "cell_type": "code", 
            "metadata": {
                "scrolled": false
            }, 
            "outputs": [
                {
                    "output_type": "stream", 
                    "name": "stdout", 
                    "text": "Warning during bind instance.\nStatus code: 409, body: {\"trace\":\"MTZhODUwZjktN2E1NC00NWYxLTkyOGMtZjVmZGVkYTNhNjc0\",\"errors\":[{\"code\":\"AIQCS0010W\",\"message\":\"Service Binding with this id is already defined\"}]}\n"
                }, 
                {
                    "output_type": "display_data", 
                    "data": {
                        "text/html": "<HTML>\n        <body>\n            <h3>Service bindings</h3>\n            <table style='border: 1px solid #dddddd; font-family: Courier'>\n                <th style='border: 1px solid #dddddd'>uid</th><th style='border: 1px solid #dddddd'>name</th><th style='border: 1px solid #dddddd'>service_type</th><th style='border: 1px solid #dddddd'>created</th>\n                <tr><td style='border: 1px solid #dddddd'>999</td><td style='border: 1px solid #dddddd'>WML instance</td><td style='border: 1px solid #dddddd'>watson_machine_learning</td><td style='border: 1px solid #dddddd'>2019-04-15T09:08:18.161Z</td></tr>\n            </table>\n        </body>\n        </HTML>", 
                        "text/plain": "<IPython.core.display.HTML object>"
                    }, 
                    "metadata": {}
                }
            ], 
            "source": "binding_uid = ai_client.data_mart.bindings.add('WML instance', WatsonMachineLearningInstance4ICP())\nif binding_uid is None:\n    binding_uid = ai_client.data_mart.bindings.get_details()['service_bindings'][0]['metadata']['guid']\nbindings_details = ai_client.data_mart.bindings.get_details()\nai_client.data_mart.bindings.list()"
        }, 
        {
            "execution_count": 168, 
            "cell_type": "code", 
            "metadata": {
                "scrolled": true
            }, 
            "outputs": [
                {
                    "output_type": "stream", 
                    "name": "stdout", 
                    "text": "999\n"
                }
            ], 
            "source": "print(binding_uid)"
        }, 
        {
            "execution_count": 88, 
            "cell_type": "code", 
            "metadata": {
                "scrolled": false
            }, 
            "outputs": [
                {
                    "output_type": "display_data", 
                    "data": {
                        "text/html": "<HTML>\n        <body>\n            <h3>Available assets</h3>\n            <table style='border: 1px solid #dddddd; font-family: Courier'>\n                <th style='border: 1px solid #dddddd'>source_uid</th><th style='border: 1px solid #dddddd'>name</th><th style='border: 1px solid #dddddd'>created</th><th style='border: 1px solid #dddddd'>type</th><th style='border: 1px solid #dddddd'>frameworks</th><th style='border: 1px solid #dddddd'>binding_uid</th><th style='border: 1px solid #dddddd'>is_subscribed</th>\n                <tr><td style='border: 1px solid #dddddd'>378231b2-aab4-4516-a003-ffba422c90d8</td><td style='border: 1px solid #dddddd'>Spark German Risk Model - Final</td><td style='border: 1px solid #dddddd'>2019-04-15T08:42:44.929Z</td><td style='border: 1px solid #dddddd'>model</td><td style='border: 1px solid #dddddd'>mllib-2.3</td><td style='border: 1px solid #dddddd'>999</td><td style='border: 1px solid #dddddd'>False</td></tr><tr><td style='border: 1px solid #dddddd'>eb5464d4-2bf4-44fb-89c2-39f36c39c281</td><td style='border: 1px solid #dddddd'>AIOS Xgboost Solar Model</td><td style='border: 1px solid #dddddd'>2019-04-15T06:01:37.269Z</td><td style='border: 1px solid #dddddd'>model</td><td style='border: 1px solid #dddddd'>xgboost-0.80</td><td style='border: 1px solid #dddddd'>999</td><td style='border: 1px solid #dddddd'>False</td></tr><tr><td style='border: 1px solid #dddddd'>c32e6a1f-87ea-4ebf-8397-685b9a7af849</td><td style='border: 1px solid #dddddd'>AIOS SPSS Customer Model</td><td style='border: 1px solid #dddddd'>2019-04-15T05:49:13.914Z</td><td style='border: 1px solid #dddddd'>model</td><td style='border: 1px solid #dddddd'>spss-modeler-18.0</td><td style='border: 1px solid #dddddd'>999</td><td style='border: 1px solid #dddddd'>False</td></tr><tr><td style='border: 1px solid #dddddd'>dc3f7c7b-87e9-4cdf-888b-8346f1ef504b</td><td style='border: 1px solid #dddddd'>AIOS Keras Poland house prices model</td><td style='border: 1px solid #dddddd'>2019-04-15T05:20:10.441Z</td><td style='border: 1px solid #dddddd'>model</td><td style='border: 1px solid #dddddd'>tensorflow-1.5</td><td style='border: 1px solid #dddddd'>999</td><td style='border: 1px solid #dddddd'>False</td></tr><tr><td style='border: 1px solid #dddddd'>c548c69c-50e5-4a63-81d8-737b0d07e180</td><td style='border: 1px solid #dddddd'>AIOS Keras Stack Overflow model</td><td style='border: 1px solid #dddddd'>2019-04-15T05:16:08.572Z</td><td style='border: 1px solid #dddddd'>model</td><td style='border: 1px solid #dddddd'>tensorflow-1.5</td><td style='border: 1px solid #dddddd'>999</td><td style='border: 1px solid #dddddd'>False</td></tr><tr><td style='border: 1px solid #dddddd'>6f42de1e-0a94-4127-99c3-c7f1faab8c10</td><td style='border: 1px solid #dddddd'>AIOS Keras mnist model</td><td style='border: 1px solid #dddddd'>2019-04-15T05:12:57.456Z</td><td style='border: 1px solid #dddddd'>model</td><td style='border: 1px solid #dddddd'>tensorflow-1.5</td><td style='border: 1px solid #dddddd'>999</td><td style='border: 1px solid #dddddd'>False</td></tr><tr><td style='border: 1px solid #dddddd'>5c934976-90a5-4749-9ad1-e10ac4117eff</td><td style='border: 1px solid #dddddd'>AIOS Keras iris model</td><td style='border: 1px solid #dddddd'>2019-04-15T05:08:54.403Z</td><td style='border: 1px solid #dddddd'>model</td><td style='border: 1px solid #dddddd'>tensorflow-1.5</td><td style='border: 1px solid #dddddd'>999</td><td style='border: 1px solid #dddddd'>False</td></tr><tr><td style='border: 1px solid #dddddd'>bbbc59cf-c08f-49e0-a3b7-080474d65cb0</td><td style='border: 1px solid #dddddd'>Keras LSTM model</td><td style='border: 1px solid #dddddd'>2019-04-15T05:04:49.331Z</td><td style='border: 1px solid #dddddd'>model</td><td style='border: 1px solid #dddddd'>tensorflow-1.5</td><td style='border: 1px solid #dddddd'>999</td><td style='border: 1px solid #dddddd'>False</td></tr><tr><td style='border: 1px solid #dddddd'>8e82e98c-610e-4071-b688-fb576379b2ce</td><td style='border: 1px solid #dddddd'>AIOS Keras spam model</td><td style='border: 1px solid #dddddd'>2019-04-15T05:01:09.446Z</td><td style='border: 1px solid #dddddd'>model</td><td style='border: 1px solid #dddddd'>tensorflow-1.5</td><td style='border: 1px solid #dddddd'>999</td><td style='border: 1px solid #dddddd'>False</td></tr><tr><td style='border: 1px solid #dddddd'>6d771591-cbb2-470f-a1f1-78d5d43191ce</td><td style='border: 1px solid #dddddd'>AIOS Keras DogsAndCats model</td><td style='border: 1px solid #dddddd'>2019-04-15T04:47:20.087Z</td><td style='border: 1px solid #dddddd'>model</td><td style='border: 1px solid #dddddd'>tensorflow-1.5</td><td style='border: 1px solid #dddddd'>999</td><td style='border: 1px solid #dddddd'>False</td></tr><tr><td style='border: 1px solid #dddddd'>410ebc83-0c38-4dba-9d64-0608f7295447</td><td style='border: 1px solid #dddddd'>AIOS Xgboost Solar Model</td><td style='border: 1px solid #dddddd'>2019-04-14T05:32:32.391Z</td><td style='border: 1px solid #dddddd'>model</td><td style='border: 1px solid #dddddd'>xgboost-0.80</td><td style='border: 1px solid #dddddd'>999</td><td style='border: 1px solid #dddddd'>False</td></tr><tr><td style='border: 1px solid #dddddd'>cb7bbfca-7f11-456b-8bde-2f275f35045e</td><td style='border: 1px solid #dddddd'>AIOS SPSS Customer Model</td><td style='border: 1px solid #dddddd'>2019-04-14T05:20:44.154Z</td><td style='border: 1px solid #dddddd'>model</td><td style='border: 1px solid #dddddd'>spss-modeler-18.0</td><td style='border: 1px solid #dddddd'>999</td><td style='border: 1px solid #dddddd'>False</td></tr><tr><td style='border: 1px solid #dddddd'>3ecb7d81-c3a2-441e-afc9-84b4c47496b3</td><td style='border: 1px solid #dddddd'>AIOS Keras Poland house prices model</td><td style='border: 1px solid #dddddd'>2019-04-14T04:50:55.809Z</td><td style='border: 1px solid #dddddd'>model</td><td style='border: 1px solid #dddddd'>tensorflow-1.5</td><td style='border: 1px solid #dddddd'>999</td><td style='border: 1px solid #dddddd'>False</td></tr><tr><td style='border: 1px solid #dddddd'>d7b5f87b-8537-43e3-8874-9e7ae65e7d0d</td><td style='border: 1px solid #dddddd'>AIOS Keras Stack Overflow model</td><td style='border: 1px solid #dddddd'>2019-04-14T04:47:02.918Z</td><td style='border: 1px solid #dddddd'>model</td><td style='border: 1px solid #dddddd'>tensorflow-1.5</td><td style='border: 1px solid #dddddd'>999</td><td style='border: 1px solid #dddddd'>False</td></tr><tr><td style='border: 1px solid #dddddd'>f15c1102-6c20-4a72-bf8d-ae2f046d6ead</td><td style='border: 1px solid #dddddd'>AIOS Keras mnist model</td><td style='border: 1px solid #dddddd'>2019-04-14T04:42:55.221Z</td><td style='border: 1px solid #dddddd'>model</td><td style='border: 1px solid #dddddd'>tensorflow-1.5</td><td style='border: 1px solid #dddddd'>999</td><td style='border: 1px solid #dddddd'>False</td></tr><tr><td style='border: 1px solid #dddddd'>c3beb4d7-92fd-4fb2-8a8b-b901aabe6d02</td><td style='border: 1px solid #dddddd'>AIOS Keras iris model</td><td style='border: 1px solid #dddddd'>2019-04-14T04:39:23.295Z</td><td style='border: 1px solid #dddddd'>model</td><td style='border: 1px solid #dddddd'>tensorflow-1.5</td><td style='border: 1px solid #dddddd'>999</td><td style='border: 1px solid #dddddd'>False</td></tr><tr><td style='border: 1px solid #dddddd'>7284bd04-ff58-4a09-b232-413e65a2bc94</td><td style='border: 1px solid #dddddd'>Keras LSTM model</td><td style='border: 1px solid #dddddd'>2019-04-14T04:29:08.354Z</td><td style='border: 1px solid #dddddd'>model</td><td style='border: 1px solid #dddddd'>tensorflow-1.5</td><td style='border: 1px solid #dddddd'>999</td><td style='border: 1px solid #dddddd'>False</td></tr><tr><td style='border: 1px solid #dddddd'>895db820-e36d-4a96-94d3-0bd8232a71bb</td><td style='border: 1px solid #dddddd'>AIOS Keras spam model</td><td style='border: 1px solid #dddddd'>2019-04-14T04:25:49.370Z</td><td style='border: 1px solid #dddddd'>model</td><td style='border: 1px solid #dddddd'>tensorflow-1.5</td><td style='border: 1px solid #dddddd'>999</td><td style='border: 1px solid #dddddd'>False</td></tr><tr><td style='border: 1px solid #dddddd'>af714fe6-23d6-4625-891b-c1bebba581d6</td><td style='border: 1px solid #dddddd'>AIOS Keras DogsAndCats model</td><td style='border: 1px solid #dddddd'>2019-04-14T04:14:48.457Z</td><td style='border: 1px solid #dddddd'>model</td><td style='border: 1px solid #dddddd'>tensorflow-1.5</td><td style='border: 1px solid #dddddd'>999</td><td style='border: 1px solid #dddddd'>False</td></tr><tr><td style='border: 1px solid #dddddd'>cfa30703-189d-4cd8-992b-44b1d8f4b9c1</td><td style='border: 1px solid #dddddd'>AIOS Xgboost Solar Model</td><td style='border: 1px solid #dddddd'>2019-04-14T01:44:54.537Z</td><td style='border: 1px solid #dddddd'>model</td><td style='border: 1px solid #dddddd'>xgboost-0.80</td><td style='border: 1px solid #dddddd'>999</td><td style='border: 1px solid #dddddd'>False</td></tr><tr><td style='border: 1px solid #dddddd'>db577ef4-0ef6-4151-98ea-2dda9860a50a</td><td style='border: 1px solid #dddddd'>AIOS SPSS Customer Model</td><td style='border: 1px solid #dddddd'>2019-04-14T01:32:37.125Z</td><td style='border: 1px solid #dddddd'>model</td><td style='border: 1px solid #dddddd'>spss-modeler-18.0</td><td style='border: 1px solid #dddddd'>999</td><td style='border: 1px solid #dddddd'>False</td></tr><tr><td style='border: 1px solid #dddddd'>962cfd15-9200-4c8b-88ea-4bd41fd5b9d7</td><td style='border: 1px solid #dddddd'>AIOS Keras Poland house prices model</td><td style='border: 1px solid #dddddd'>2019-04-14T01:01:31.518Z</td><td style='border: 1px solid #dddddd'>model</td><td style='border: 1px solid #dddddd'>tensorflow-1.5</td><td style='border: 1px solid #dddddd'>999</td><td style='border: 1px solid #dddddd'>False</td></tr><tr><td style='border: 1px solid #dddddd'>b84b27c7-fd85-45df-bd1d-adff8e2f1c99</td><td style='border: 1px solid #dddddd'>AIOS Keras Stack Overflow model</td><td style='border: 1px solid #dddddd'>2019-04-14T00:58:11.927Z</td><td style='border: 1px solid #dddddd'>model</td><td style='border: 1px solid #dddddd'>tensorflow-1.5</td><td style='border: 1px solid #dddddd'>999</td><td style='border: 1px solid #dddddd'>False</td></tr><tr><td style='border: 1px solid #dddddd'>30e81e15-eee8-472f-9122-4c44192e5cc6</td><td style='border: 1px solid #dddddd'>AIOS Keras mnist model</td><td style='border: 1px solid #dddddd'>2019-04-14T00:54:42.126Z</td><td style='border: 1px solid #dddddd'>model</td><td style='border: 1px solid #dddddd'>tensorflow-1.5</td><td style='border: 1px solid #dddddd'>999</td><td style='border: 1px solid #dddddd'>False</td></tr><tr><td style='border: 1px solid #dddddd'>d72cbda3-22a7-4925-9ca3-6e1b602a0c1f</td><td style='border: 1px solid #dddddd'>AIOS Keras iris model</td><td style='border: 1px solid #dddddd'>2019-04-14T00:51:00.096Z</td><td style='border: 1px solid #dddddd'>model</td><td style='border: 1px solid #dddddd'>tensorflow-1.5</td><td style='border: 1px solid #dddddd'>999</td><td style='border: 1px solid #dddddd'>False</td></tr><tr><td style='border: 1px solid #dddddd'>51f5ae46-764e-4fb4-89ae-ac8368a38a10</td><td style='border: 1px solid #dddddd'>Keras LSTM model</td><td style='border: 1px solid #dddddd'>2019-04-14T00:47:27.225Z</td><td style='border: 1px solid #dddddd'>model</td><td style='border: 1px solid #dddddd'>tensorflow-1.5</td><td style='border: 1px solid #dddddd'>999</td><td style='border: 1px solid #dddddd'>False</td></tr><tr><td style='border: 1px solid #dddddd'>ed37f5dc-9dea-48e6-89c4-07e59c5d2790</td><td style='border: 1px solid #dddddd'>AIOS Keras spam model</td><td style='border: 1px solid #dddddd'>2019-04-14T00:43:58.314Z</td><td style='border: 1px solid #dddddd'>model</td><td style='border: 1px solid #dddddd'>tensorflow-1.5</td><td style='border: 1px solid #dddddd'>999</td><td style='border: 1px solid #dddddd'>False</td></tr><tr><td style='border: 1px solid #dddddd'>d841f540-2985-4d9e-935d-241ee87a24e6</td><td style='border: 1px solid #dddddd'>AIOS Keras DogsAndCats model</td><td style='border: 1px solid #dddddd'>2019-04-14T00:33:29.826Z</td><td style='border: 1px solid #dddddd'>model</td><td style='border: 1px solid #dddddd'>tensorflow-1.5</td><td style='border: 1px solid #dddddd'>999</td><td style='border: 1px solid #dddddd'>False</td></tr><tr><td style='border: 1px solid #dddddd'>19e9d415-50f4-4fe6-96a6-2bf3e789fc09</td><td style='border: 1px solid #dddddd'>AIOS Xgboost Solar Model</td><td style='border: 1px solid #dddddd'>2019-04-13T22:12:17.375Z</td><td style='border: 1px solid #dddddd'>model</td><td style='border: 1px solid #dddddd'>xgboost-0.80</td><td style='border: 1px solid #dddddd'>999</td><td style='border: 1px solid #dddddd'>False</td></tr><tr><td style='border: 1px solid #dddddd'>0d975de3-fd80-4605-874b-336533a850d7</td><td style='border: 1px solid #dddddd'>AIOS SPSS Customer Model</td><td style='border: 1px solid #dddddd'>2019-04-13T22:00:17.973Z</td><td style='border: 1px solid #dddddd'>model</td><td style='border: 1px solid #dddddd'>spss-modeler-18.0</td><td style='border: 1px solid #dddddd'>999</td><td style='border: 1px solid #dddddd'>False</td></tr><tr><td style='border: 1px solid #dddddd'>4f992c8a-5272-4076-aff3-22204d647df2</td><td style='border: 1px solid #dddddd'>AIOS Keras Poland house prices model</td><td style='border: 1px solid #dddddd'>2019-04-13T21:29:52.214Z</td><td style='border: 1px solid #dddddd'>model</td><td style='border: 1px solid #dddddd'>tensorflow-1.5</td><td style='border: 1px solid #dddddd'>999</td><td style='border: 1px solid #dddddd'>False</td></tr><tr><td style='border: 1px solid #dddddd'>c25b032c-2264-4ad8-8c3e-085ac7034a4e</td><td style='border: 1px solid #dddddd'>AIOS Keras Stack Overflow model</td><td style='border: 1px solid #dddddd'>2019-04-13T21:25:28.466Z</td><td style='border: 1px solid #dddddd'>model</td><td style='border: 1px solid #dddddd'>tensorflow-1.5</td><td style='border: 1px solid #dddddd'>999</td><td style='border: 1px solid #dddddd'>False</td></tr><tr><td style='border: 1px solid #dddddd'>aee7dfc2-463f-403a-8e6e-c5ea4e255ac6</td><td style='border: 1px solid #dddddd'>AIOS Keras mnist model</td><td style='border: 1px solid #dddddd'>2019-04-13T21:22:01.511Z</td><td style='border: 1px solid #dddddd'>model</td><td style='border: 1px solid #dddddd'>tensorflow-1.5</td><td style='border: 1px solid #dddddd'>999</td><td style='border: 1px solid #dddddd'>False</td></tr><tr><td style='border: 1px solid #dddddd'>394fb0f9-f719-4bfc-9353-05fe64347c46</td><td style='border: 1px solid #dddddd'>AIOS Keras iris model</td><td style='border: 1px solid #dddddd'>2019-04-13T21:18:16.380Z</td><td style='border: 1px solid #dddddd'>model</td><td style='border: 1px solid #dddddd'>tensorflow-1.5</td><td style='border: 1px solid #dddddd'>999</td><td style='border: 1px solid #dddddd'>False</td></tr><tr><td style='border: 1px solid #dddddd'>15991dc3-5004-4948-8c6c-68b7885d2a48</td><td style='border: 1px solid #dddddd'>Keras LSTM model</td><td style='border: 1px solid #dddddd'>2019-04-13T21:14:43.463Z</td><td style='border: 1px solid #dddddd'>model</td><td style='border: 1px solid #dddddd'>tensorflow-1.5</td><td style='border: 1px solid #dddddd'>999</td><td style='border: 1px solid #dddddd'>False</td></tr><tr><td style='border: 1px solid #dddddd'>99038e89-4df9-4fc6-ab99-7ea6695dd558</td><td style='border: 1px solid #dddddd'>AIOS Keras spam model</td><td style='border: 1px solid #dddddd'>2019-04-13T21:11:19.041Z</td><td style='border: 1px solid #dddddd'>model</td><td style='border: 1px solid #dddddd'>tensorflow-1.5</td><td style='border: 1px solid #dddddd'>999</td><td style='border: 1px solid #dddddd'>False</td></tr><tr><td style='border: 1px solid #dddddd'>4f64eaa7-1eaa-4511-a964-3505c6c926a1</td><td style='border: 1px solid #dddddd'>AIOS Keras DogsAndCats model</td><td style='border: 1px solid #dddddd'>2019-04-13T21:01:09.092Z</td><td style='border: 1px solid #dddddd'>model</td><td style='border: 1px solid #dddddd'>tensorflow-1.5</td><td style='border: 1px solid #dddddd'>999</td><td style='border: 1px solid #dddddd'>False</td></tr><tr><td style='border: 1px solid #dddddd'>e2432fda-65e7-4932-9081-68561c42e453</td><td style='border: 1px solid #dddddd'>AIOS Xgboost Solar Model</td><td style='border: 1px solid #dddddd'>2019-04-13T18:52:04.456Z</td><td style='border: 1px solid #dddddd'>model</td><td style='border: 1px solid #dddddd'>xgboost-0.80</td><td style='border: 1px solid #dddddd'>999</td><td style='border: 1px solid #dddddd'>False</td></tr><tr><td style='border: 1px solid #dddddd'>be1c7858-d365-430d-a885-e0b41956557d</td><td style='border: 1px solid #dddddd'>AIOS SPSS Customer Model</td><td style='border: 1px solid #dddddd'>2019-04-13T18:39:41.956Z</td><td style='border: 1px solid #dddddd'>model</td><td style='border: 1px solid #dddddd'>spss-modeler-18.0</td><td style='border: 1px solid #dddddd'>999</td><td style='border: 1px solid #dddddd'>False</td></tr><tr><td style='border: 1px solid #dddddd'>37ecb842-0dc9-4d8b-a42e-c264ad4329ac</td><td style='border: 1px solid #dddddd'>AIOS Keras Poland house prices model</td><td style='border: 1px solid #dddddd'>2019-04-13T18:10:56.377Z</td><td style='border: 1px solid #dddddd'>model</td><td style='border: 1px solid #dddddd'>tensorflow-1.5</td><td style='border: 1px solid #dddddd'>999</td><td style='border: 1px solid #dddddd'>False</td></tr><tr><td style='border: 1px solid #dddddd'>37dd1cff-c580-40d4-9da4-1006a5c503a0</td><td style='border: 1px solid #dddddd'>AIOS Keras Stack Overflow model</td><td style='border: 1px solid #dddddd'>2019-04-13T18:07:28.336Z</td><td style='border: 1px solid #dddddd'>model</td><td style='border: 1px solid #dddddd'>tensorflow-1.5</td><td style='border: 1px solid #dddddd'>999</td><td style='border: 1px solid #dddddd'>False</td></tr><tr><td style='border: 1px solid #dddddd'>dde0ad29-9457-4eb5-bd64-59d0d09e8776</td><td style='border: 1px solid #dddddd'>AIOS Keras mnist model</td><td style='border: 1px solid #dddddd'>2019-04-13T18:04:15.510Z</td><td style='border: 1px solid #dddddd'>model</td><td style='border: 1px solid #dddddd'>tensorflow-1.5</td><td style='border: 1px solid #dddddd'>999</td><td style='border: 1px solid #dddddd'>False</td></tr><tr><td style='border: 1px solid #dddddd'>4c35e92f-1a94-4536-a2b5-656df3ef06d4</td><td style='border: 1px solid #dddddd'>AIOS Keras iris model</td><td style='border: 1px solid #dddddd'>2019-04-13T18:00:43.097Z</td><td style='border: 1px solid #dddddd'>model</td><td style='border: 1px solid #dddddd'>tensorflow-1.5</td><td style='border: 1px solid #dddddd'>999</td><td style='border: 1px solid #dddddd'>False</td></tr><tr><td style='border: 1px solid #dddddd'>e913762c-63b7-4329-a851-e6f3a63da0f2</td><td style='border: 1px solid #dddddd'>Keras LSTM model</td><td style='border: 1px solid #dddddd'>2019-04-13T17:50:27.713Z</td><td style='border: 1px solid #dddddd'>model</td><td style='border: 1px solid #dddddd'>tensorflow-1.5</td><td style='border: 1px solid #dddddd'>999</td><td style='border: 1px solid #dddddd'>False</td></tr><tr><td style='border: 1px solid #dddddd'>87077c90-4f9a-4e24-b7e7-1fe2a8eb76c6</td><td style='border: 1px solid #dddddd'>AIOS Xgboost Solar Model</td><td style='border: 1px solid #dddddd'>2019-04-13T05:14:52.167Z</td><td style='border: 1px solid #dddddd'>model</td><td style='border: 1px solid #dddddd'>xgboost-0.80</td><td style='border: 1px solid #dddddd'>999</td><td style='border: 1px solid #dddddd'>False</td></tr><tr><td style='border: 1px solid #dddddd'>a0e29c13-7af9-4b38-9a86-f02a8b8675c5</td><td style='border: 1px solid #dddddd'>AIOS SPSS Customer Model</td><td style='border: 1px solid #dddddd'>2019-04-13T05:02:22.632Z</td><td style='border: 1px solid #dddddd'>model</td><td style='border: 1px solid #dddddd'>spss-modeler-18.0</td><td style='border: 1px solid #dddddd'>999</td><td style='border: 1px solid #dddddd'>False</td></tr><tr><td style='border: 1px solid #dddddd'>195a1066-1355-4597-a2e9-1af28f6c33f7</td><td style='border: 1px solid #dddddd'>AIOS Keras Poland house prices model</td><td style='border: 1px solid #dddddd'>2019-04-13T04:33:31.653Z</td><td style='border: 1px solid #dddddd'>model</td><td style='border: 1px solid #dddddd'>tensorflow-1.5</td><td style='border: 1px solid #dddddd'>999</td><td style='border: 1px solid #dddddd'>False</td></tr><tr><td style='border: 1px solid #dddddd'>5d847efa-5f9d-4d05-8a40-7b48d03b1dbc</td><td style='border: 1px solid #dddddd'>AIOS Keras Stack Overflow model</td><td style='border: 1px solid #dddddd'>2019-04-13T04:30:13.484Z</td><td style='border: 1px solid #dddddd'>model</td><td style='border: 1px solid #dddddd'>tensorflow-1.5</td><td style='border: 1px solid #dddddd'>999</td><td style='border: 1px solid #dddddd'>False</td></tr><tr><td style='border: 1px solid #dddddd'>4e53915f-f8a9-4899-a6c5-caf1d441129f</td><td style='border: 1px solid #dddddd'>AIOS Keras mnist model</td><td style='border: 1px solid #dddddd'>2019-04-13T04:27:02.168Z</td><td style='border: 1px solid #dddddd'>model</td><td style='border: 1px solid #dddddd'>tensorflow-1.5</td><td style='border: 1px solid #dddddd'>999</td><td style='border: 1px solid #dddddd'>False</td></tr><tr><td style='border: 1px solid #dddddd'>400e1981-9dac-4ac1-8e53-de1430287e83</td><td style='border: 1px solid #dddddd'>AIOS Keras iris model</td><td style='border: 1px solid #dddddd'>2019-04-13T04:23:33.022Z</td><td style='border: 1px solid #dddddd'>model</td><td style='border: 1px solid #dddddd'>tensorflow-1.5</td><td style='border: 1px solid #dddddd'>999</td><td style='border: 1px solid #dddddd'>False</td></tr><tr><td style='border: 1px solid #dddddd'>fc074d64-492d-4f6d-b158-9bcfaf16e466</td><td style='border: 1px solid #dddddd'>Keras LSTM model</td><td style='border: 1px solid #dddddd'>2019-04-13T04:20:08.954Z</td><td style='border: 1px solid #dddddd'>model</td><td style='border: 1px solid #dddddd'>tensorflow-1.5</td><td style='border: 1px solid #dddddd'>999</td><td style='border: 1px solid #dddddd'>False</td></tr><tr><td style='border: 1px solid #dddddd'>54176584-5db4-4935-a50a-e351d76a458e</td><td style='border: 1px solid #dddddd'>AIOS Keras spam model</td><td style='border: 1px solid #dddddd'>2019-04-13T04:17:05.551Z</td><td style='border: 1px solid #dddddd'>model</td><td style='border: 1px solid #dddddd'>tensorflow-1.5</td><td style='border: 1px solid #dddddd'>999</td><td style='border: 1px solid #dddddd'>False</td></tr><tr><td style='border: 1px solid #dddddd'>a7bdfa4f-82d1-49ee-a435-3da1c06f20b0</td><td style='border: 1px solid #dddddd'>AIOS Keras DogsAndCats model</td><td style='border: 1px solid #dddddd'>2019-04-13T04:08:36.951Z</td><td style='border: 1px solid #dddddd'>model</td><td style='border: 1px solid #dddddd'>tensorflow-1.5</td><td style='border: 1px solid #dddddd'>999</td><td style='border: 1px solid #dddddd'>False</td></tr><tr><td style='border: 1px solid #dddddd'>05c39ec5-52b6-4843-b14a-9bab2cee09a5</td><td style='border: 1px solid #dddddd'>AIOS Xgboost Solar Model</td><td style='border: 1px solid #dddddd'>2019-04-13T01:55:50.575Z</td><td style='border: 1px solid #dddddd'>model</td><td style='border: 1px solid #dddddd'>xgboost-0.80</td><td style='border: 1px solid #dddddd'>999</td><td style='border: 1px solid #dddddd'>False</td></tr><tr><td style='border: 1px solid #dddddd'>64faf511-88c5-409c-a9d8-d8ea83fcd63c</td><td style='border: 1px solid #dddddd'>AIOS SPSS Customer Model</td><td style='border: 1px solid #dddddd'>2019-04-13T01:44:26.660Z</td><td style='border: 1px solid #dddddd'>model</td><td style='border: 1px solid #dddddd'>spss-modeler-18.0</td><td style='border: 1px solid #dddddd'>999</td><td style='border: 1px solid #dddddd'>False</td></tr><tr><td style='border: 1px solid #dddddd'>ef9e1771-5b45-4c9f-91e5-3da8f5ad9b40</td><td style='border: 1px solid #dddddd'>AIOS Keras Poland house prices model</td><td style='border: 1px solid #dddddd'>2019-04-13T01:14:40.087Z</td><td style='border: 1px solid #dddddd'>model</td><td style='border: 1px solid #dddddd'>tensorflow-1.5</td><td style='border: 1px solid #dddddd'>999</td><td style='border: 1px solid #dddddd'>False</td></tr><tr><td style='border: 1px solid #dddddd'>92cec03f-dd28-4ac0-a65e-8b094214269c</td><td style='border: 1px solid #dddddd'>AIOS Keras Stack Overflow model</td><td style='border: 1px solid #dddddd'>2019-04-13T01:10:25.908Z</td><td style='border: 1px solid #dddddd'>model</td><td style='border: 1px solid #dddddd'>tensorflow-1.5</td><td style='border: 1px solid #dddddd'>999</td><td style='border: 1px solid #dddddd'>False</td></tr><tr><td style='border: 1px solid #dddddd'>472de227-72a4-4e31-84c9-bb69dd02ab27</td><td style='border: 1px solid #dddddd'>AIOS Keras mnist model</td><td style='border: 1px solid #dddddd'>2019-04-13T01:05:57.326Z</td><td style='border: 1px solid #dddddd'>model</td><td style='border: 1px solid #dddddd'>tensorflow-1.5</td><td style='border: 1px solid #dddddd'>999</td><td style='border: 1px solid #dddddd'>False</td></tr><tr><td style='border: 1px solid #dddddd'>d1a8bc19-1db8-477e-b0bd-c636a398048a</td><td style='border: 1px solid #dddddd'>AIOS Keras iris model</td><td style='border: 1px solid #dddddd'>2019-04-13T01:01:59.220Z</td><td style='border: 1px solid #dddddd'>model</td><td style='border: 1px solid #dddddd'>tensorflow-1.5</td><td style='border: 1px solid #dddddd'>999</td><td style='border: 1px solid #dddddd'>False</td></tr><tr><td style='border: 1px solid #dddddd'>d55cd410-09d1-4178-8853-e1e0419a8b43</td><td style='border: 1px solid #dddddd'>Keras LSTM model</td><td style='border: 1px solid #dddddd'>2019-04-13T00:58:18.877Z</td><td style='border: 1px solid #dddddd'>model</td><td style='border: 1px solid #dddddd'>tensorflow-1.5</td><td style='border: 1px solid #dddddd'>999</td><td style='border: 1px solid #dddddd'>False</td></tr><tr><td style='border: 1px solid #dddddd'>c9d47535-10da-45f3-807f-541bfcde00c1</td><td style='border: 1px solid #dddddd'>AIOS Keras spam model</td><td style='border: 1px solid #dddddd'>2019-04-13T00:54:49.920Z</td><td style='border: 1px solid #dddddd'>model</td><td style='border: 1px solid #dddddd'>tensorflow-1.5</td><td style='border: 1px solid #dddddd'>999</td><td style='border: 1px solid #dddddd'>False</td></tr><tr><td style='border: 1px solid #dddddd'>adac3649-5b94-4d3e-a15d-adb4f8ae0638</td><td style='border: 1px solid #dddddd'>AIOS Keras DogsAndCats model</td><td style='border: 1px solid #dddddd'>2019-04-13T00:47:35.615Z</td><td style='border: 1px solid #dddddd'>model</td><td style='border: 1px solid #dddddd'>tensorflow-1.5</td><td style='border: 1px solid #dddddd'>999</td><td style='border: 1px solid #dddddd'>False</td></tr><tr><td style='border: 1px solid #dddddd'>59a39113-1eaa-49b3-ab0f-a95fbbc6e4ff</td><td style='border: 1px solid #dddddd'>AIOS Xgboost Solar Model</td><td style='border: 1px solid #dddddd'>2019-04-12T23:29:53.803Z</td><td style='border: 1px solid #dddddd'>model</td><td style='border: 1px solid #dddddd'>xgboost-0.80</td><td style='border: 1px solid #dddddd'>999</td><td style='border: 1px solid #dddddd'>False</td></tr><tr><td style='border: 1px solid #dddddd'>84cc3be2-50de-4664-bbd7-f1682cef6ddf</td><td style='border: 1px solid #dddddd'>AIOS SPSS Customer Model</td><td style='border: 1px solid #dddddd'>2019-04-12T23:17:57.780Z</td><td style='border: 1px solid #dddddd'>model</td><td style='border: 1px solid #dddddd'>spss-modeler-18.0</td><td style='border: 1px solid #dddddd'>999</td><td style='border: 1px solid #dddddd'>False</td></tr><tr><td style='border: 1px solid #dddddd'>ddb6eaca-d867-4158-866d-0ba9b5a9ad52</td><td style='border: 1px solid #dddddd'>AIOS Keras Poland house prices model</td><td style='border: 1px solid #dddddd'>2019-04-12T22:44:45.990Z</td><td style='border: 1px solid #dddddd'>model</td><td style='border: 1px solid #dddddd'>tensorflow-1.5</td><td style='border: 1px solid #dddddd'>999</td><td style='border: 1px solid #dddddd'>False</td></tr><tr><td style='border: 1px solid #dddddd'>b66d3963-7eba-42ba-a4d7-e9c6b715f6ee</td><td style='border: 1px solid #dddddd'>AIOS Keras Stack Overflow model</td><td style='border: 1px solid #dddddd'>2019-04-12T22:40:52.231Z</td><td style='border: 1px solid #dddddd'>model</td><td style='border: 1px solid #dddddd'>tensorflow-1.5</td><td style='border: 1px solid #dddddd'>999</td><td style='border: 1px solid #dddddd'>False</td></tr><tr><td style='border: 1px solid #dddddd'>43ce7aa7-b1a2-408c-ad24-66e5db883759</td><td style='border: 1px solid #dddddd'>AIOS Keras mnist model</td><td style='border: 1px solid #dddddd'>2019-04-12T22:37:11.578Z</td><td style='border: 1px solid #dddddd'>model</td><td style='border: 1px solid #dddddd'>tensorflow-1.5</td><td style='border: 1px solid #dddddd'>999</td><td style='border: 1px solid #dddddd'>False</td></tr><tr><td style='border: 1px solid #dddddd'>f9bdeb3b-c5e3-4aef-9e33-e0e9b09d830e</td><td style='border: 1px solid #dddddd'>AIOS Keras iris model</td><td style='border: 1px solid #dddddd'>2019-04-12T22:33:26.957Z</td><td style='border: 1px solid #dddddd'>model</td><td style='border: 1px solid #dddddd'>tensorflow-1.5</td><td style='border: 1px solid #dddddd'>999</td><td style='border: 1px solid #dddddd'>False</td></tr><tr><td style='border: 1px solid #dddddd'>9e960476-3882-450b-bd04-a69b956d8f91</td><td style='border: 1px solid #dddddd'>Keras LSTM model</td><td style='border: 1px solid #dddddd'>2019-04-12T22:29:26.992Z</td><td style='border: 1px solid #dddddd'>model</td><td style='border: 1px solid #dddddd'>tensorflow-1.5</td><td style='border: 1px solid #dddddd'>999</td><td style='border: 1px solid #dddddd'>False</td></tr><tr><td style='border: 1px solid #dddddd'>f679dd0e-e225-4e11-9624-32e27280164c</td><td style='border: 1px solid #dddddd'>AIOS Keras spam model</td><td style='border: 1px solid #dddddd'>2019-04-12T22:25:31.205Z</td><td style='border: 1px solid #dddddd'>model</td><td style='border: 1px solid #dddddd'>tensorflow-1.5</td><td style='border: 1px solid #dddddd'>999</td><td style='border: 1px solid #dddddd'>False</td></tr><tr><td style='border: 1px solid #dddddd'>aa20d5b8-5da5-40f6-9e80-70b0fa565eb9</td><td style='border: 1px solid #dddddd'>AIOS Keras DogsAndCats model</td><td style='border: 1px solid #dddddd'>2019-04-12T22:14:29.699Z</td><td style='border: 1px solid #dddddd'>model</td><td style='border: 1px solid #dddddd'>tensorflow-1.5</td><td style='border: 1px solid #dddddd'>999</td><td style='border: 1px solid #dddddd'>False</td></tr><tr><td style='border: 1px solid #dddddd'>e34e884c-1a8f-485e-8514-fd32a92367b4</td><td style='border: 1px solid #dddddd'>AIOS Xgboost Solar Model</td><td style='border: 1px solid #dddddd'>2019-04-12T20:34:23.116Z</td><td style='border: 1px solid #dddddd'>model</td><td style='border: 1px solid #dddddd'>xgboost-0.80</td><td style='border: 1px solid #dddddd'>999</td><td style='border: 1px solid #dddddd'>False</td></tr><tr><td style='border: 1px solid #dddddd'>c81ed649-cd1b-4e96-b735-11bb28fc64fd</td><td style='border: 1px solid #dddddd'>AIOS SPSS Customer Model</td><td style='border: 1px solid #dddddd'>2019-04-12T20:21:52.550Z</td><td style='border: 1px solid #dddddd'>model</td><td style='border: 1px solid #dddddd'>spss-modeler-18.0</td><td style='border: 1px solid #dddddd'>999</td><td style='border: 1px solid #dddddd'>False</td></tr><tr><td style='border: 1px solid #dddddd'>6fa5c9f1-f0f7-45f2-900f-c08cc12c537c</td><td style='border: 1px solid #dddddd'>AIOS Spark German Risk model</td><td style='border: 1px solid #dddddd'>2019-04-12T20:04:59.302Z</td><td style='border: 1px solid #dddddd'>model</td><td style='border: 1px solid #dddddd'>mllib-2.1</td><td style='border: 1px solid #dddddd'>999</td><td style='border: 1px solid #dddddd'>False</td></tr><tr><td style='border: 1px solid #dddddd'>801b046b-3e51-4482-9327-6bd258438b81</td><td style='border: 1px solid #dddddd'>AIOS Keras Poland house prices model</td><td style='border: 1px solid #dddddd'>2019-04-12T19:51:42.000Z</td><td style='border: 1px solid #dddddd'>model</td><td style='border: 1px solid #dddddd'>tensorflow-1.5</td><td style='border: 1px solid #dddddd'>999</td><td style='border: 1px solid #dddddd'>False</td></tr><tr><td style='border: 1px solid #dddddd'>4afe7f28-27e7-4bbb-8612-0a8f7dc566db</td><td style='border: 1px solid #dddddd'>AIOS Keras Stack Overflow model</td><td style='border: 1px solid #dddddd'>2019-04-12T19:48:01.704Z</td><td style='border: 1px solid #dddddd'>model</td><td style='border: 1px solid #dddddd'>tensorflow-1.5</td><td style='border: 1px solid #dddddd'>999</td><td style='border: 1px solid #dddddd'>False</td></tr><tr><td style='border: 1px solid #dddddd'>e59814c0-c8c5-4858-8e08-d92a965cb3ac</td><td style='border: 1px solid #dddddd'>AIOS Keras mnist model</td><td style='border: 1px solid #dddddd'>2019-04-12T19:44:18.741Z</td><td style='border: 1px solid #dddddd'>model</td><td style='border: 1px solid #dddddd'>tensorflow-1.5</td><td style='border: 1px solid #dddddd'>999</td><td style='border: 1px solid #dddddd'>False</td></tr><tr><td style='border: 1px solid #dddddd'>9d8189ce-d7b1-434c-8e38-3e54087c9d71</td><td style='border: 1px solid #dddddd'>AIOS Keras iris model</td><td style='border: 1px solid #dddddd'>2019-04-12T19:40:17.983Z</td><td style='border: 1px solid #dddddd'>model</td><td style='border: 1px solid #dddddd'>tensorflow-1.5</td><td style='border: 1px solid #dddddd'>999</td><td style='border: 1px solid #dddddd'>False</td></tr><tr><td style='border: 1px solid #dddddd'>6c1b023f-07fa-4b61-8863-8b68985d7ad8</td><td style='border: 1px solid #dddddd'>Keras LSTM model</td><td style='border: 1px solid #dddddd'>2019-04-12T19:36:21.005Z</td><td style='border: 1px solid #dddddd'>model</td><td style='border: 1px solid #dddddd'>tensorflow-1.5</td><td style='border: 1px solid #dddddd'>999</td><td style='border: 1px solid #dddddd'>False</td></tr><tr><td style='border: 1px solid #dddddd'>721401ef-26ac-4731-a953-6529ecd80c78</td><td style='border: 1px solid #dddddd'>AIOS Keras spam model</td><td style='border: 1px solid #dddddd'>2019-04-12T19:32:49.900Z</td><td style='border: 1px solid #dddddd'>model</td><td style='border: 1px solid #dddddd'>tensorflow-1.5</td><td style='border: 1px solid #dddddd'>999</td><td style='border: 1px solid #dddddd'>False</td></tr><tr><td style='border: 1px solid #dddddd'>7fa68137-d46a-4065-a714-1791094e140a</td><td style='border: 1px solid #dddddd'>AIOS Keras DogsAndCats model</td><td style='border: 1px solid #dddddd'>2019-04-12T19:22:41.804Z</td><td style='border: 1px solid #dddddd'>model</td><td style='border: 1px solid #dddddd'>tensorflow-1.5</td><td style='border: 1px solid #dddddd'>999</td><td style='border: 1px solid #dddddd'>False</td></tr><tr><td style='border: 1px solid #dddddd'>4728500d-3ff4-49e3-b43a-9c8ef961bcca</td><td style='border: 1px solid #dddddd'>AIOS Xgboost Solar Model</td><td style='border: 1px solid #dddddd'>2019-04-12T16:59:51.102Z</td><td style='border: 1px solid #dddddd'>model</td><td style='border: 1px solid #dddddd'>xgboost-0.80</td><td style='border: 1px solid #dddddd'>999</td><td style='border: 1px solid #dddddd'>False</td></tr><tr><td style='border: 1px solid #dddddd'>4b9ffa78-b784-4128-a48b-e248a809e23c</td><td style='border: 1px solid #dddddd'>AIOS SPSS Customer Model</td><td style='border: 1px solid #dddddd'>2019-04-12T16:47:00.870Z</td><td style='border: 1px solid #dddddd'>model</td><td style='border: 1px solid #dddddd'>spss-modeler-18.0</td><td style='border: 1px solid #dddddd'>999</td><td style='border: 1px solid #dddddd'>False</td></tr><tr><td style='border: 1px solid #dddddd'>25751978-8095-42de-a710-a084b927c684</td><td style='border: 1px solid #dddddd'>AIOS Keras Poland house prices model</td><td style='border: 1px solid #dddddd'>2019-04-12T16:11:20.678Z</td><td style='border: 1px solid #dddddd'>model</td><td style='border: 1px solid #dddddd'>tensorflow-1.5</td><td style='border: 1px solid #dddddd'>999</td><td style='border: 1px solid #dddddd'>False</td></tr><tr><td style='border: 1px solid #dddddd'>4eece7b2-173e-4c85-8db5-b6c6f6c80be7</td><td style='border: 1px solid #dddddd'>AIOS Keras Stack Overflow model</td><td style='border: 1px solid #dddddd'>2019-04-12T16:08:25.331Z</td><td style='border: 1px solid #dddddd'>model</td><td style='border: 1px solid #dddddd'>tensorflow-1.5</td><td style='border: 1px solid #dddddd'>999</td><td style='border: 1px solid #dddddd'>False</td></tr><tr><td style='border: 1px solid #dddddd'>854eecc4-2e68-4edd-a2d2-e3cf0c1c5bc1</td><td style='border: 1px solid #dddddd'>AIOS Keras mnist model</td><td style='border: 1px solid #dddddd'>2019-04-12T16:05:45.858Z</td><td style='border: 1px solid #dddddd'>model</td><td style='border: 1px solid #dddddd'>tensorflow-1.5</td><td style='border: 1px solid #dddddd'>999</td><td style='border: 1px solid #dddddd'>False</td></tr><tr><td style='border: 1px solid #dddddd'>6dd2aab7-607f-4e8e-bcd1-628d6f16fb55</td><td style='border: 1px solid #dddddd'>AIOS Keras iris model</td><td style='border: 1px solid #dddddd'>2019-04-12T16:03:02.445Z</td><td style='border: 1px solid #dddddd'>model</td><td style='border: 1px solid #dddddd'>tensorflow-1.5</td><td style='border: 1px solid #dddddd'>999</td><td style='border: 1px solid #dddddd'>False</td></tr><tr><td style='border: 1px solid #dddddd'>240635e2-0fec-4928-8cb1-163d7de5f62a</td><td style='border: 1px solid #dddddd'>Keras LSTM model</td><td style='border: 1px solid #dddddd'>2019-04-12T15:58:36.009Z</td><td style='border: 1px solid #dddddd'>model</td><td style='border: 1px solid #dddddd'>tensorflow-1.5</td><td style='border: 1px solid #dddddd'>999</td><td style='border: 1px solid #dddddd'>False</td></tr><tr><td style='border: 1px solid #dddddd'>d4255e0c-132e-45b4-8baa-ffaf894b56b2</td><td style='border: 1px solid #dddddd'>AIOS Keras spam model</td><td style='border: 1px solid #dddddd'>2019-04-12T15:54:50.576Z</td><td style='border: 1px solid #dddddd'>model</td><td style='border: 1px solid #dddddd'>tensorflow-1.5</td><td style='border: 1px solid #dddddd'>999</td><td style='border: 1px solid #dddddd'>False</td></tr><tr><td style='border: 1px solid #dddddd'>3e40bf5d-7eff-447a-91ed-a23ba9edaffd</td><td style='border: 1px solid #dddddd'>AIOS Keras DogsAndCats model</td><td style='border: 1px solid #dddddd'>2019-04-12T15:46:21.369Z</td><td style='border: 1px solid #dddddd'>model</td><td style='border: 1px solid #dddddd'>tensorflow-1.5</td><td style='border: 1px solid #dddddd'>999</td><td style='border: 1px solid #dddddd'>False</td></tr><tr><td style='border: 1px solid #dddddd'>c944817b-1d5a-4d56-8091-e0a9c82c89de</td><td style='border: 1px solid #dddddd'>AIOS Keras iris model</td><td style='border: 1px solid #dddddd'>2019-04-12T11:31:17.701Z</td><td style='border: 1px solid #dddddd'>model</td><td style='border: 1px solid #dddddd'>tensorflow-1.5</td><td style='border: 1px solid #dddddd'>999</td><td style='border: 1px solid #dddddd'>False</td></tr><tr><td style='border: 1px solid #dddddd'>b06beec7-9f4f-4e1b-9da2-070bfbafc30b</td><td style='border: 1px solid #dddddd'>AIOS Xgboost Solar Model</td><td style='border: 1px solid #dddddd'>2019-04-12T11:14:43.050Z</td><td style='border: 1px solid #dddddd'>model</td><td style='border: 1px solid #dddddd'>xgboost-0.80</td><td style='border: 1px solid #dddddd'>999</td><td style='border: 1px solid #dddddd'>False</td></tr><tr><td style='border: 1px solid #dddddd'>e979471c-c4a5-4b1b-b0fc-8bafcabd129d</td><td style='border: 1px solid #dddddd'>AIOS SPSS Customer Model</td><td style='border: 1px solid #dddddd'>2019-04-12T11:03:00.677Z</td><td style='border: 1px solid #dddddd'>model</td><td style='border: 1px solid #dddddd'>spss-modeler-18.0</td><td style='border: 1px solid #dddddd'>999</td><td style='border: 1px solid #dddddd'>False</td></tr><tr><td style='border: 1px solid #dddddd'>3fe770b6-6bd7-42bf-9348-5db4036ec4a5</td><td style='border: 1px solid #dddddd'>AIOS Keras Poland house prices model</td><td style='border: 1px solid #dddddd'>2019-04-12T10:33:00.356Z</td><td style='border: 1px solid #dddddd'>model</td><td style='border: 1px solid #dddddd'>tensorflow-1.5</td><td style='border: 1px solid #dddddd'>999</td><td style='border: 1px solid #dddddd'>False</td></tr><tr><td style='border: 1px solid #dddddd'>785f5a43-de2b-4df2-96dd-8f39c30593dc</td><td style='border: 1px solid #dddddd'>AIOS Keras Stack Overflow model</td><td style='border: 1px solid #dddddd'>2019-04-12T10:30:32.301Z</td><td style='border: 1px solid #dddddd'>model</td><td style='border: 1px solid #dddddd'>tensorflow-1.5</td><td style='border: 1px solid #dddddd'>999</td><td style='border: 1px solid #dddddd'>False</td></tr><tr><td style='border: 1px solid #dddddd'>1bff7cc4-9e9a-4585-8a82-476016d7f520</td><td style='border: 1px solid #dddddd'>AIOS Keras mnist model</td><td style='border: 1px solid #dddddd'>2019-04-12T10:27:53.915Z</td><td style='border: 1px solid #dddddd'>model</td><td style='border: 1px solid #dddddd'>tensorflow-1.5</td><td style='border: 1px solid #dddddd'>999</td><td style='border: 1px solid #dddddd'>False</td></tr><tr><td style='border: 1px solid #dddddd'>e872da53-d941-499b-bf52-a31bdb6d3433</td><td style='border: 1px solid #dddddd'>AIOS Keras iris model</td><td style='border: 1px solid #dddddd'>2019-04-12T10:25:17.882Z</td><td style='border: 1px solid #dddddd'>model</td><td style='border: 1px solid #dddddd'>tensorflow-1.5</td><td style='border: 1px solid #dddddd'>999</td><td style='border: 1px solid #dddddd'>False</td></tr><tr><td style='border: 1px solid #dddddd'>e036163c-c4a5-4d17-b955-afdd430bda3c</td><td style='border: 1px solid #dddddd'>Keras LSTM model</td><td style='border: 1px solid #dddddd'>2019-04-12T10:21:37.201Z</td><td style='border: 1px solid #dddddd'>model</td><td style='border: 1px solid #dddddd'>tensorflow-1.5</td><td style='border: 1px solid #dddddd'>999</td><td style='border: 1px solid #dddddd'>False</td></tr><tr><td style='border: 1px solid #dddddd'>2c0b035f-2a7f-41ff-a724-c2626de11157</td><td style='border: 1px solid #dddddd'>AIOS Keras spam model</td><td style='border: 1px solid #dddddd'>2019-04-12T10:18:26.178Z</td><td style='border: 1px solid #dddddd'>model</td><td style='border: 1px solid #dddddd'>tensorflow-1.5</td><td style='border: 1px solid #dddddd'>999</td><td style='border: 1px solid #dddddd'>False</td></tr><tr><td style='border: 1px solid #dddddd'>533a90a9-9e49-4b38-a09c-cec3d9b381bc</td><td style='border: 1px solid #dddddd'>AIOS Keras DogsAndCats model</td><td style='border: 1px solid #dddddd'>2019-04-12T10:07:41.950Z</td><td style='border: 1px solid #dddddd'>model</td><td style='border: 1px solid #dddddd'>tensorflow-1.5</td><td style='border: 1px solid #dddddd'>999</td><td style='border: 1px solid #dddddd'>False</td></tr>\n            </table>\n        </body>\n        </HTML>", 
                        "text/plain": "<IPython.core.display.HTML object>"
                    }, 
                    "metadata": {}
                }
            ], 
            "source": "ai_client.data_mart.bindings.list_assets()"
        }, 
        {
            "source": "## Subscriptions", 
            "cell_type": "markdown", 
            "metadata": {}
        }, 
        {
            "source": "### Remove existing credit risk subscriptions", 
            "cell_type": "markdown", 
            "metadata": {}
        }, 
        {
            "source": "This code removes previous subscriptions to the German Credit model to refresh the monitors with the new model and new data.", 
            "cell_type": "markdown", 
            "metadata": {}
        }, 
        {
            "execution_count": 169, 
            "cell_type": "code", 
            "metadata": {
                "scrolled": true
            }, 
            "outputs": [
                {
                    "output_type": "stream", 
                    "name": "stdout", 
                    "text": "Deleted existing subscription for Spark German Risk Model - Final\n"
                }
            ], 
            "source": "subscriptions_uids = ai_client.data_mart.subscriptions.get_uids()\nfor subscription in subscriptions_uids:\n    sub_name = ai_client.data_mart.subscriptions.get_details(subscription)['entity']['asset']['name']\n    if sub_name == MODEL_NAME:\n        ai_client.data_mart.subscriptions.delete(subscription)\n        print('Deleted existing subscription for', MODEL_NAME)"
        }, 
        {
            "source": "This code creates the model subscription in OpenScale using the Python client API. Note that we need to provide the model unique identifier, and some information about the model itself.", 
            "cell_type": "markdown", 
            "metadata": {}
        }, 
        {
            "execution_count": 170, 
            "cell_type": "code", 
            "metadata": {
                "scrolled": false
            }, 
            "outputs": [], 
            "source": "subscription = ai_client.data_mart.subscriptions.add(WatsonMachineLearningAsset(\n    model_uid,\n    problem_type=ProblemType.BINARY_CLASSIFICATION,\n    input_data_type=InputDataType.STRUCTURED,\n    label_column='Risk',\n    prediction_column='predictedLabel',\n    probability_column='probability',\n    feature_columns = [\"CheckingStatus\",\"LoanDuration\",\"CreditHistory\",\"LoanPurpose\",\"LoanAmount\",\"ExistingSavings\",\"EmploymentDuration\",\"InstallmentPercent\",\"Sex\",\"OthersOnLoan\",\"CurrentResidenceDuration\",\"OwnsProperty\",\"Age\",\"InstallmentPlans\",\"Housing\",\"ExistingCreditsCount\",\"Job\",\"Dependents\",\"Telephone\",\"ForeignWorker\"],\n    categorical_columns = [\"CheckingStatus\",\"CreditHistory\",\"LoanPurpose\",\"ExistingSavings\",\"EmploymentDuration\",\"Sex\",\"OthersOnLoan\",\"OwnsProperty\",\"InstallmentPlans\",\"Housing\",\"Job\",\"Telephone\",\"ForeignWorker\"]\n))\n\nif subscription is None:\n    print('Subscription already exists; get the existing one')\n    subscriptions_uids = ai_client.data_mart.subscriptions.get_uids()\n    for sub in subscriptions_uids:\n        if ai_client.data_mart.subscriptions.get_details(sub)['entity']['asset']['name'] == MODEL_NAME:\n            subscription = ai_client.data_mart.subscriptions.get(sub)"
        }, 
        {
            "source": "Get subscription list", 
            "cell_type": "markdown", 
            "metadata": {}
        }, 
        {
            "execution_count": 171, 
            "cell_type": "code", 
            "metadata": {
                "scrolled": true
            }, 
            "outputs": [
                {
                    "output_type": "display_data", 
                    "data": {
                        "text/html": "<HTML>\n        <body>\n            <h3>Subscriptions</h3>\n            <table style='border: 1px solid #dddddd; font-family: Courier'>\n                <th style='border: 1px solid #dddddd'>uid</th><th style='border: 1px solid #dddddd'>name</th><th style='border: 1px solid #dddddd'>type</th><th style='border: 1px solid #dddddd'>binding_uid</th><th style='border: 1px solid #dddddd'>created</th>\n                <tr><td style='border: 1px solid #dddddd'>378231b2-aab4-4516-a003-ffba422c90d8</td><td style='border: 1px solid #dddddd'>Spark German Risk Model - Final</td><td style='border: 1px solid #dddddd'>model</td><td style='border: 1px solid #dddddd'>999</td><td style='border: 1px solid #dddddd'>2019-04-15T12:04:14.145Z</td></tr>\n            </table>\n        </body>\n        </HTML>", 
                        "text/plain": "<IPython.core.display.HTML object>"
                    }, 
                    "metadata": {}
                }
            ], 
            "source": "subscriptions_uids = ai_client.data_mart.subscriptions.get_uids()\nai_client.data_mart.subscriptions.list()"
        }, 
        {
            "execution_count": 172, 
            "cell_type": "code", 
            "metadata": {
                "scrolled": false
            }, 
            "outputs": [], 
            "source": "subscription_details = subscription.get_details()"
        }, 
        {
            "source": "### Score the model so we can configure monitors", 
            "cell_type": "markdown", 
            "metadata": {}
        }, 
        {
            "source": "Now that the WML service has been bound and the subscription has been created, we need to send a request to the model before we configure OpenScale. This allows OpenScale to create a payload log in the datamart with the correct schema, so it can capture data coming into and out of the model. First, the code gets the model deployment's endpoint URL, and then sends a few records for predictions.", 
            "cell_type": "markdown", 
            "metadata": {}
        }, 
        {
            "execution_count": 173, 
            "cell_type": "code", 
            "metadata": {
                "scrolled": true
            }, 
            "outputs": [
                {
                    "output_type": "stream", 
                    "name": "stdout", 
                    "text": "cc1082a1-a1f3-40b9-9efd-184b46e97323\nhttps://9.30.180.36:32006/v3/scoring/online/cc1082a1-a1f3-40b9-9efd-184b46e97323\n"
                }
            ], 
            "source": "credit_risk_scoring_endpoint = None\nprint(deployment_uid)\n\nfor deployment in wml_client.deployments.get_details()['resources']:\n    if deployment_uid in deployment['metadata']['guid']:\n        credit_risk_scoring_endpoint = deployment['entity']['scoring_url']\n        \nprint(credit_risk_scoring_endpoint)"
        }, 
        {
            "execution_count": 174, 
            "cell_type": "code", 
            "metadata": {
                "scrolled": true
            }, 
            "outputs": [
                {
                    "output_type": "stream", 
                    "name": "stdout", 
                    "text": "Single record scoring result: \n fields: ['CheckingStatus', 'LoanDuration', 'CreditHistory', 'LoanPurpose', 'LoanAmount', 'ExistingSavings', 'EmploymentDuration', 'InstallmentPercent', 'Sex', 'OthersOnLoan', 'CurrentResidenceDuration', 'OwnsProperty', 'Age', 'InstallmentPlans', 'Housing', 'ExistingCreditsCount', 'Job', 'Dependents', 'Telephone', 'ForeignWorker', 'CheckingStatus_IX', 'CreditHistory_IX', 'EmploymentDuration_IX', 'ExistingSavings_IX', 'ForeignWorker_IX', 'Housing_IX', 'InstallmentPlans_IX', 'Job_IX', 'LoanPurpose_IX', 'OthersOnLoan_IX', 'OwnsProperty_IX', 'Sex_IX', 'Telephone_IX', 'features', 'rawPrediction', 'probability', 'prediction', 'predictedLabel'] \n values:  ['no_checking', 13, 'credits_paid_to_date', 'car_new', 1343, '100_to_500', '1_to_4', 2, 'female', 'none', 3, 'savings_insurance', 46, 'none', 'own', 2, 'skilled', 1, 'none', 'yes', 0.0, 1.0, 0.0, 1.0, 0.0, 0.0, 0.0, 0.0, 0.0, 0.0, 0.0, 1.0, 0.0, [21, [1, 3, 5, 13, 14, 15, 16, 17, 18, 19, 20], [1.0, 1.0, 1.0, 13.0, 1343.0, 2.0, 3.0, 13.0, 46.0, 2.0, 1.0]], [14.455840388300093, 5.544159611699911], [0.7227920194150045, 0.2772079805849955], 0.0, 'No Risk']\n"
                }
            ], 
            "source": "fields = [\"CheckingStatus\",\"LoanDuration\",\"CreditHistory\",\"LoanPurpose\",\"LoanAmount\",\"ExistingSavings\",\"EmploymentDuration\",\"InstallmentPercent\",\"Sex\",\"OthersOnLoan\",\"CurrentResidenceDuration\",\"OwnsProperty\",\"Age\",\"InstallmentPlans\",\"Housing\",\"ExistingCreditsCount\",\"Job\",\"Dependents\",\"Telephone\",\"ForeignWorker\"]\nvalues = [\n  [\"no_checking\",13,\"credits_paid_to_date\",\"car_new\",1343,\"100_to_500\",\"1_to_4\",2,\"female\",\"none\",3,\"savings_insurance\",46,\"none\",\"own\",2,\"skilled\",1,\"none\",\"yes\"],\n  [\"no_checking\",24,\"prior_payments_delayed\",\"furniture\",4567,\"500_to_1000\",\"1_to_4\",4,\"male\",\"none\",4,\"savings_insurance\",36,\"none\",\"free\",2,\"management_self-employed\",1,\"none\",\"yes\"],\n  [\"0_to_200\",26,\"all_credits_paid_back\",\"car_new\",863,\"less_100\",\"less_1\",2,\"female\",\"co-applicant\",2,\"real_estate\",38,\"none\",\"own\",1,\"skilled\",1,\"none\",\"yes\"],\n  [\"0_to_200\",14,\"no_credits\",\"car_new\",2368,\"less_100\",\"1_to_4\",3,\"female\",\"none\",3,\"real_estate\",29,\"none\",\"own\",1,\"skilled\",1,\"none\",\"yes\"],\n  [\"0_to_200\",4,\"no_credits\",\"car_new\",250,\"less_100\",\"unemployed\",2,\"female\",\"none\",3,\"real_estate\",23,\"none\",\"rent\",1,\"management_self-employed\",1,\"none\",\"yes\"],\n  [\"no_checking\",17,\"credits_paid_to_date\",\"car_new\",832,\"100_to_500\",\"1_to_4\",2,\"male\",\"none\",2,\"real_estate\",42,\"none\",\"own\",1,\"skilled\",1,\"none\",\"yes\"],\n  [\"no_checking\",33,\"outstanding_credit\",\"appliances\",5696,\"unknown\",\"greater_7\",4,\"male\",\"co-applicant\",4,\"unknown\",54,\"none\",\"free\",2,\"skilled\",1,\"yes\",\"yes\"],\n  [\"0_to_200\",13,\"prior_payments_delayed\",\"retraining\",1375,\"100_to_500\",\"4_to_7\",3,\"male\",\"none\",3,\"real_estate\",37,\"none\",\"own\",2,\"management_self-employed\",1,\"none\",\"yes\"]\n]\n\npayload_scoring = {\"fields\": fields,\"values\": values}\nscoring_response = wml_client.deployments.score(credit_risk_scoring_endpoint, payload_scoring)\n\nprint('Single record scoring result:', '\\n fields:', scoring_response['fields'], '\\n values: ', scoring_response['values'][0])"
        }, 
        {
            "source": "# Quality monitoring and feedback logging <a name=\"quality\"></a>", 
            "cell_type": "markdown", 
            "metadata": {}
        }, 
        {
            "source": "## Enable quality monitoring", 
            "cell_type": "markdown", 
            "metadata": {}
        }, 
        {
            "source": "The code below waits ten seconds to allow the payload logging table to be set up before it begins enabling monitors. First, it turns on the quality (accuracy) monitor and sets an alert threshold of 70%. OpenScale will show an alert on the dashboard if the model accuracy measurement (area under the curve, in the case of a binary classifier) falls below this threshold.\n\nThe second paramater supplied, min_records, specifies the minimum number of feedback records OpenScale needs before it calculates a new measurement. The quality monitor runs hourly, but the accuracy reading in the dashboard will not change until an additional 50 feedback records have been added, via the user interface, the Python client, or the supplied feedback endpoint.", 
            "cell_type": "markdown", 
            "metadata": {}
        }, 
        {
            "execution_count": 175, 
            "cell_type": "code", 
            "metadata": {
                "scrolled": true
            }, 
            "outputs": [], 
            "source": "time.sleep(10)\nsubscription.quality_monitoring.enable(threshold=0.7, min_records=50)"
        }, 
        {
            "source": "## Feedback logging", 
            "cell_type": "markdown", 
            "metadata": {}
        }, 
        {
            "source": "The code below downloads and stores enough feedback data to meet the minimum threshold so that OpenScale can calculate a new accuracy measurement. It then kicks off the accuracy monitor. The monitors run hourly, or can be initiated via the Python API, the REST API, or the graphical user interface.", 
            "cell_type": "markdown", 
            "metadata": {}
        }, 
        {
            "execution_count": 3, 
            "cell_type": "code", 
            "metadata": {}, 
            "outputs": [
                {
                    "output_type": "stream", 
                    "name": "stdout", 
                    "text": "rm: cannot remove \u2018additional_feedback_data.json\u2019: No such file or directory\n--2019-06-03 14:58:04--  https://raw.githubusercontent.com/pmservice/ai-openscale-tutorials/master/assets/historical_data/german_credit_risk/wml/additional_feedback_data.json\nResolving raw.githubusercontent.com (raw.githubusercontent.com)... 151.101.48.133\nConnecting to raw.githubusercontent.com (raw.githubusercontent.com)|151.101.48.133|:443... connected.\nHTTP request sent, awaiting response... 200 OK\nLength: 16506 (16K) [text/plain]\nSaving to: \u2018additional_feedback_data.json\u2019\n\n100%[======================================>] 16,506      --.-K/s   in 0.001s  \n\n2019-06-03 14:58:04 (14.1 MB/s) - \u2018additional_feedback_data.json\u2019 saved [16506/16506]\n\n"
                }
            ], 
            "source": "!rm additional_feedback_data.json\n!wget https://raw.githubusercontent.com/pmservice/ai-openscale-tutorials/master/assets/historical_data/german_credit_risk/wml/additional_feedback_data.json"
        }, 
        {
            "execution_count": 177, 
            "cell_type": "code", 
            "metadata": {}, 
            "outputs": [], 
            "source": "with open('additional_feedback_data.json') as feedback_file:\n    additional_feedback_data = json.load(feedback_file)\nsubscription.feedback_logging.store(additional_feedback_data['data'])"
        }, 
        {
            "execution_count": 178, 
            "cell_type": "code", 
            "metadata": {
                "scrolled": true
            }, 
            "outputs": [
                {
                    "output_type": "display_data", 
                    "data": {
                        "text/html": "<HTML>\n        <body>\n            <h3>Feedback_378231b2-aab4-4516-a003-ffba422c90d8 (binding_id=999, subscription_id=378231b2-aab4-4516-a003-ffba422c90d8)</h3>\n            <table style='border: 1px solid #dddddd; font-family: Courier'>\n                <th style='border: 1px solid #dddddd'>CheckingStatus</th><th style='border: 1px solid #dddddd'>LoanDuration</th><th style='border: 1px solid #dddddd'>CreditHistory</th><th style='border: 1px solid #dddddd'>LoanPurpose</th><th style='border: 1px solid #dddddd'>LoanAmount</th><th style='border: 1px solid #dddddd'>ExistingSavings</th><th style='border: 1px solid #dddddd'>EmploymentDuration</th><th style='border: 1px solid #dddddd'>InstallmentPercent</th><th style='border: 1px solid #dddddd'>Sex</th><th style='border: 1px solid #dddddd'>OthersOnLoan</th><th style='border: 1px solid #dddddd'>CurrentResidenceDuration</th><th style='border: 1px solid #dddddd'>OwnsProperty</th><th style='border: 1px solid #dddddd'>Age</th><th style='border: 1px solid #dddddd'>InstallmentPlans</th><th style='border: 1px solid #dddddd'>Housing</th><th style='border: 1px solid #dddddd'>ExistingCreditsCount</th><th style='border: 1px solid #dddddd'>Job</th><th style='border: 1px solid #dddddd'>Dependents</th><th style='border: 1px solid #dddddd'>Telephone</th><th style='border: 1px solid #dddddd'>ForeignWorker</th><th style='border: 1px solid #dddddd'>Risk</th><th style='border: 1px solid #dddddd'>_training</th>\n                <tr><td style='border: 1px solid #dddddd'>less_0</td><td style='border: 1px solid #dddddd'>10</td><td style='border: 1px solid #dddddd'>all_credits_paid_back</td><td style='border: 1px solid #dddddd'>car_new</td><td style='border: 1px solid #dddddd'>250</td><td style='border: 1px solid #dddddd'>500_to_1000</td><td style='border: 1px solid #dddddd'>4_to_7</td><td style='border: 1px solid #dddddd'>3</td><td style='border: 1px solid #dddddd'>male</td><td style='border: 1px solid #dddddd'>none</td><td style='border: 1px solid #dddddd'>2</td><td style='border: 1px solid #dddddd'>real_estate</td><td style='border: 1px solid #dddddd'>23</td><td style='border: 1px solid #dddddd'>none</td><td style='border: 1px solid #dddddd'>rent</td><td style='border: 1px solid #dddddd'>1</td><td style='border: 1px solid #dddddd'>skilled</td><td style='border: 1px solid #dddddd'>1</td><td style='border: 1px solid #dddddd'>none</td><td style='border: 1px solid #dddddd'>yes</td><td style='border: 1px solid #dddddd'>No Risk</td><td style='border: 1px solid #dddddd'>2019-04-15 09:09:02.804098+00:00</td></tr><tr><td style='border: 1px solid #dddddd'>no_checking</td><td style='border: 1px solid #dddddd'>23</td><td style='border: 1px solid #dddddd'>prior_payments_delayed</td><td style='border: 1px solid #dddddd'>appliances</td><td style='border: 1px solid #dddddd'>6964</td><td style='border: 1px solid #dddddd'>100_to_500</td><td style='border: 1px solid #dddddd'>4_to_7</td><td style='border: 1px solid #dddddd'>4</td><td style='border: 1px solid #dddddd'>female</td><td style='border: 1px solid #dddddd'>none</td><td style='border: 1px solid #dddddd'>3</td><td style='border: 1px solid #dddddd'>car_other</td><td style='border: 1px solid #dddddd'>39</td><td style='border: 1px solid #dddddd'>none</td><td style='border: 1px solid #dddddd'>own</td><td style='border: 1px solid #dddddd'>1</td><td style='border: 1px solid #dddddd'>skilled</td><td style='border: 1px solid #dddddd'>1</td><td style='border: 1px solid #dddddd'>none</td><td style='border: 1px solid #dddddd'>yes</td><td style='border: 1px solid #dddddd'>Risk</td><td style='border: 1px solid #dddddd'>2019-04-15 09:09:02.804358+00:00</td></tr><tr><td style='border: 1px solid #dddddd'>0_to_200</td><td style='border: 1px solid #dddddd'>30</td><td style='border: 1px solid #dddddd'>outstanding_credit</td><td style='border: 1px solid #dddddd'>appliances</td><td style='border: 1px solid #dddddd'>3464</td><td style='border: 1px solid #dddddd'>100_to_500</td><td style='border: 1px solid #dddddd'>greater_7</td><td style='border: 1px solid #dddddd'>3</td><td style='border: 1px solid #dddddd'>male</td><td style='border: 1px solid #dddddd'>guarantor</td><td style='border: 1px solid #dddddd'>4</td><td style='border: 1px solid #dddddd'>savings_insurance</td><td style='border: 1px solid #dddddd'>51</td><td style='border: 1px solid #dddddd'>stores</td><td style='border: 1px solid #dddddd'>free</td><td style='border: 1px solid #dddddd'>1</td><td style='border: 1px solid #dddddd'>skilled</td><td style='border: 1px solid #dddddd'>1</td><td style='border: 1px solid #dddddd'>yes</td><td style='border: 1px solid #dddddd'>yes</td><td style='border: 1px solid #dddddd'>Risk</td><td style='border: 1px solid #dddddd'>2019-04-15 09:09:02.804387+00:00</td></tr><tr><td style='border: 1px solid #dddddd'>no_checking</td><td style='border: 1px solid #dddddd'>23</td><td style='border: 1px solid #dddddd'>outstanding_credit</td><td style='border: 1px solid #dddddd'>car_used</td><td style='border: 1px solid #dddddd'>2681</td><td style='border: 1px solid #dddddd'>500_to_1000</td><td style='border: 1px solid #dddddd'>greater_7</td><td style='border: 1px solid #dddddd'>4</td><td style='border: 1px solid #dddddd'>male</td><td style='border: 1px solid #dddddd'>none</td><td style='border: 1px solid #dddddd'>3</td><td style='border: 1px solid #dddddd'>car_other</td><td style='border: 1px solid #dddddd'>33</td><td style='border: 1px solid #dddddd'>stores</td><td style='border: 1px solid #dddddd'>free</td><td style='border: 1px solid #dddddd'>1</td><td style='border: 1px solid #dddddd'>unskilled</td><td style='border: 1px solid #dddddd'>1</td><td style='border: 1px solid #dddddd'>yes</td><td style='border: 1px solid #dddddd'>yes</td><td style='border: 1px solid #dddddd'>No Risk</td><td style='border: 1px solid #dddddd'>2019-04-15 09:09:02.804404+00:00</td></tr><tr><td style='border: 1px solid #dddddd'>0_to_200</td><td style='border: 1px solid #dddddd'>18</td><td style='border: 1px solid #dddddd'>prior_payments_delayed</td><td style='border: 1px solid #dddddd'>furniture</td><td style='border: 1px solid #dddddd'>1673</td><td style='border: 1px solid #dddddd'>less_100</td><td style='border: 1px solid #dddddd'>1_to_4</td><td style='border: 1px solid #dddddd'>2</td><td style='border: 1px solid #dddddd'>male</td><td style='border: 1px solid #dddddd'>none</td><td style='border: 1px solid #dddddd'>3</td><td style='border: 1px solid #dddddd'>car_other</td><td style='border: 1px solid #dddddd'>30</td><td style='border: 1px solid #dddddd'>none</td><td style='border: 1px solid #dddddd'>own</td><td style='border: 1px solid #dddddd'>2</td><td style='border: 1px solid #dddddd'>skilled</td><td style='border: 1px solid #dddddd'>1</td><td style='border: 1px solid #dddddd'>none</td><td style='border: 1px solid #dddddd'>yes</td><td style='border: 1px solid #dddddd'>Risk</td><td style='border: 1px solid #dddddd'>2019-04-15 09:09:02.804435+00:00</td></tr><tr><td style='border: 1px solid #dddddd'>no_checking</td><td style='border: 1px solid #dddddd'>44</td><td style='border: 1px solid #dddddd'>outstanding_credit</td><td style='border: 1px solid #dddddd'>radio_tv</td><td style='border: 1px solid #dddddd'>3476</td><td style='border: 1px solid #dddddd'>unknown</td><td style='border: 1px solid #dddddd'>greater_7</td><td style='border: 1px solid #dddddd'>4</td><td style='border: 1px solid #dddddd'>male</td><td style='border: 1px solid #dddddd'>co-applicant</td><td style='border: 1px solid #dddddd'>4</td><td style='border: 1px solid #dddddd'>unknown</td><td style='border: 1px solid #dddddd'>60</td><td style='border: 1px solid #dddddd'>none</td><td style='border: 1px solid #dddddd'>free</td><td style='border: 1px solid #dddddd'>2</td><td style='border: 1px solid #dddddd'>skilled</td><td style='border: 1px solid #dddddd'>2</td><td style='border: 1px solid #dddddd'>yes</td><td style='border: 1px solid #dddddd'>yes</td><td style='border: 1px solid #dddddd'>Risk</td><td style='border: 1px solid #dddddd'>2019-04-15 09:09:02.804452+00:00</td></tr><tr><td style='border: 1px solid #dddddd'>less_0</td><td style='border: 1px solid #dddddd'>8</td><td style='border: 1px solid #dddddd'>no_credits</td><td style='border: 1px solid #dddddd'>education</td><td style='border: 1px solid #dddddd'>803</td><td style='border: 1px solid #dddddd'>less_100</td><td style='border: 1px solid #dddddd'>unemployed</td><td style='border: 1px solid #dddddd'>1</td><td style='border: 1px solid #dddddd'>male</td><td style='border: 1px solid #dddddd'>none</td><td style='border: 1px solid #dddddd'>1</td><td style='border: 1px solid #dddddd'>savings_insurance</td><td style='border: 1px solid #dddddd'>19</td><td style='border: 1px solid #dddddd'>stores</td><td style='border: 1px solid #dddddd'>rent</td><td style='border: 1px solid #dddddd'>1</td><td style='border: 1px solid #dddddd'>skilled</td><td style='border: 1px solid #dddddd'>1</td><td style='border: 1px solid #dddddd'>none</td><td style='border: 1px solid #dddddd'>yes</td><td style='border: 1px solid #dddddd'>No Risk</td><td style='border: 1px solid #dddddd'>2019-04-15 09:09:02.804476+00:00</td></tr><tr><td style='border: 1px solid #dddddd'>0_to_200</td><td style='border: 1px solid #dddddd'>7</td><td style='border: 1px solid #dddddd'>all_credits_paid_back</td><td style='border: 1px solid #dddddd'>car_new</td><td style='border: 1px solid #dddddd'>250</td><td style='border: 1px solid #dddddd'>less_100</td><td style='border: 1px solid #dddddd'>unemployed</td><td style='border: 1px solid #dddddd'>1</td><td style='border: 1px solid #dddddd'>male</td><td style='border: 1px solid #dddddd'>none</td><td style='border: 1px solid #dddddd'>1</td><td style='border: 1px solid #dddddd'>real_estate</td><td style='border: 1px solid #dddddd'>19</td><td style='border: 1px solid #dddddd'>stores</td><td style='border: 1px solid #dddddd'>rent</td><td style='border: 1px solid #dddddd'>1</td><td style='border: 1px solid #dddddd'>skilled</td><td style='border: 1px solid #dddddd'>1</td><td style='border: 1px solid #dddddd'>none</td><td style='border: 1px solid #dddddd'>yes</td><td style='border: 1px solid #dddddd'>No Risk</td><td style='border: 1px solid #dddddd'>2019-04-15 09:09:02.804492+00:00</td></tr><tr><td style='border: 1px solid #dddddd'>0_to_200</td><td style='border: 1px solid #dddddd'>33</td><td style='border: 1px solid #dddddd'>credits_paid_to_date</td><td style='border: 1px solid #dddddd'>radio_tv</td><td style='border: 1px solid #dddddd'>3548</td><td style='border: 1px solid #dddddd'>100_to_500</td><td style='border: 1px solid #dddddd'>1_to_4</td><td style='border: 1px solid #dddddd'>3</td><td style='border: 1px solid #dddddd'>male</td><td style='border: 1px solid #dddddd'>none</td><td style='border: 1px solid #dddddd'>4</td><td style='border: 1px solid #dddddd'>car_other</td><td style='border: 1px solid #dddddd'>28</td><td style='border: 1px solid #dddddd'>none</td><td style='border: 1px solid #dddddd'>own</td><td style='border: 1px solid #dddddd'>2</td><td style='border: 1px solid #dddddd'>skilled</td><td style='border: 1px solid #dddddd'>1</td><td style='border: 1px solid #dddddd'>yes</td><td style='border: 1px solid #dddddd'>yes</td><td style='border: 1px solid #dddddd'>Risk</td><td style='border: 1px solid #dddddd'>2019-04-15 09:09:02.804506+00:00</td></tr><tr><td style='border: 1px solid #dddddd'>no_checking</td><td style='border: 1px solid #dddddd'>24</td><td style='border: 1px solid #dddddd'>prior_payments_delayed</td><td style='border: 1px solid #dddddd'>retraining</td><td style='border: 1px solid #dddddd'>4158</td><td style='border: 1px solid #dddddd'>100_to_500</td><td style='border: 1px solid #dddddd'>greater_7</td><td style='border: 1px solid #dddddd'>3</td><td style='border: 1px solid #dddddd'>female</td><td style='border: 1px solid #dddddd'>none</td><td style='border: 1px solid #dddddd'>2</td><td style='border: 1px solid #dddddd'>savings_insurance</td><td style='border: 1px solid #dddddd'>35</td><td style='border: 1px solid #dddddd'>stores</td><td style='border: 1px solid #dddddd'>own</td><td style='border: 1px solid #dddddd'>1</td><td style='border: 1px solid #dddddd'>unskilled</td><td style='border: 1px solid #dddddd'>2</td><td style='border: 1px solid #dddddd'>none</td><td style='border: 1px solid #dddddd'>yes</td><td style='border: 1px solid #dddddd'>Risk</td><td style='border: 1px solid #dddddd'>2019-04-15 09:09:02.804525+00:00</td></tr>\n            </table>\n        </body>\n        </HTML>", 
                        "text/plain": "<IPython.core.display.HTML object>"
                    }, 
                    "metadata": {}
                }
            ], 
            "source": "subscription.feedback_logging.show_table()"
        }, 
        {
            "execution_count": 179, 
            "cell_type": "code", 
            "metadata": {
                "scrolled": true
            }, 
            "outputs": [
                {
                    "output_type": "stream", 
                    "name": "stdout", 
                    "text": "\n\n================================================================================\n\n Waiting for end of quality monitoring run de6719c6-dd8d-430e-a3d8-2e2863f4bb77 \n\n================================================================================\n\n\n\ninitializing\ncompleted\n\n---------------------------\n Successfully finished run \n---------------------------\n\n\n"
                }
            ], 
            "source": "run_details = subscription.quality_monitoring.run(background_mode=False)"
        }, 
        {
            "execution_count": 180, 
            "cell_type": "code", 
            "metadata": {
                "scrolled": true
            }, 
            "outputs": [
                {
                    "output_type": "display_data", 
                    "data": {
                        "text/html": "<HTML>\n        <body>\n            <h3>QualityMetrics (binding_id=999, subscription_id=378231b2-aab4-4516-a003-ffba422c90d8)</h3>\n            <table style='border: 1px solid #dddddd; font-family: Courier'>\n                <th style='border: 1px solid #dddddd'>ts</th><th style='border: 1px solid #dddddd'>id</th><th style='border: 1px solid #dddddd'>value</th><th style='border: 1px solid #dddddd'>lower limit</th><th style='border: 1px solid #dddddd'>upper limit</th><th style='border: 1px solid #dddddd'>tags</th><th style='border: 1px solid #dddddd'>binding_id</th><th style='border: 1px solid #dddddd'>subscription_id</th><th style='border: 1px solid #dddddd'>deployment_id</th>\n                <tr><td style='border: 1px solid #dddddd'>2019-04-15 12:04:33.416000+00:00</td><td style='border: 1px solid #dddddd'>true_positive_rate</td><td style='border: 1px solid #dddddd'>0.8125</td><td style='border: 1px solid #dddddd'></td><td style='border: 1px solid #dddddd'></td><td style='border: 1px solid #dddddd'>model_type: original</td><td style='border: 1px solid #dddddd'>999</td><td style='border: 1px solid #dddddd'>378231b2-aab4-4516-a003-ffba422c90d8</td><td style='border: 1px solid #dddddd'>cc1082a1-a1f3-40b9-9efd-184b46e97323</td></tr><tr><td style='border: 1px solid #dddddd'>2019-04-15 12:04:33.416000+00:00</td><td style='border: 1px solid #dddddd'>area_under_roc</td><td style='border: 1px solid #dddddd'>0.7842987804878049</td><td style='border: 1px solid #dddddd'>0.7</td><td style='border: 1px solid #dddddd'></td><td style='border: 1px solid #dddddd'>model_type: original</td><td style='border: 1px solid #dddddd'>999</td><td style='border: 1px solid #dddddd'>378231b2-aab4-4516-a003-ffba422c90d8</td><td style='border: 1px solid #dddddd'>cc1082a1-a1f3-40b9-9efd-184b46e97323</td></tr><tr><td style='border: 1px solid #dddddd'>2019-04-15 12:04:33.416000+00:00</td><td style='border: 1px solid #dddddd'>precision</td><td style='border: 1px solid #dddddd'>0.3939393939393939</td><td style='border: 1px solid #dddddd'></td><td style='border: 1px solid #dddddd'></td><td style='border: 1px solid #dddddd'>model_type: original</td><td style='border: 1px solid #dddddd'>999</td><td style='border: 1px solid #dddddd'>378231b2-aab4-4516-a003-ffba422c90d8</td><td style='border: 1px solid #dddddd'>cc1082a1-a1f3-40b9-9efd-184b46e97323</td></tr><tr><td style='border: 1px solid #dddddd'>2019-04-15 12:04:33.416000+00:00</td><td style='border: 1px solid #dddddd'>f1_measure</td><td style='border: 1px solid #dddddd'>0.5306122448979591</td><td style='border: 1px solid #dddddd'></td><td style='border: 1px solid #dddddd'></td><td style='border: 1px solid #dddddd'>model_type: original</td><td style='border: 1px solid #dddddd'>999</td><td style='border: 1px solid #dddddd'>378231b2-aab4-4516-a003-ffba422c90d8</td><td style='border: 1px solid #dddddd'>cc1082a1-a1f3-40b9-9efd-184b46e97323</td></tr><tr><td style='border: 1px solid #dddddd'>2019-04-15 12:04:33.416000+00:00</td><td style='border: 1px solid #dddddd'>accuracy</td><td style='border: 1px solid #dddddd'>0.7653061224489796</td><td style='border: 1px solid #dddddd'></td><td style='border: 1px solid #dddddd'></td><td style='border: 1px solid #dddddd'>model_type: original</td><td style='border: 1px solid #dddddd'>999</td><td style='border: 1px solid #dddddd'>378231b2-aab4-4516-a003-ffba422c90d8</td><td style='border: 1px solid #dddddd'>cc1082a1-a1f3-40b9-9efd-184b46e97323</td></tr><tr><td style='border: 1px solid #dddddd'>2019-04-15 12:04:33.416000+00:00</td><td style='border: 1px solid #dddddd'>log_loss</td><td style='border: 1px solid #dddddd'>0.44608052349937966</td><td style='border: 1px solid #dddddd'></td><td style='border: 1px solid #dddddd'></td><td style='border: 1px solid #dddddd'>model_type: original</td><td style='border: 1px solid #dddddd'>999</td><td style='border: 1px solid #dddddd'>378231b2-aab4-4516-a003-ffba422c90d8</td><td style='border: 1px solid #dddddd'>cc1082a1-a1f3-40b9-9efd-184b46e97323</td></tr><tr><td style='border: 1px solid #dddddd'>2019-04-15 12:04:33.416000+00:00</td><td style='border: 1px solid #dddddd'>false_positive_rate</td><td style='border: 1px solid #dddddd'>0.24390243902439024</td><td style='border: 1px solid #dddddd'></td><td style='border: 1px solid #dddddd'></td><td style='border: 1px solid #dddddd'>model_type: original</td><td style='border: 1px solid #dddddd'>999</td><td style='border: 1px solid #dddddd'>378231b2-aab4-4516-a003-ffba422c90d8</td><td style='border: 1px solid #dddddd'>cc1082a1-a1f3-40b9-9efd-184b46e97323</td></tr><tr><td style='border: 1px solid #dddddd'>2019-04-15 12:04:33.416000+00:00</td><td style='border: 1px solid #dddddd'>area_under_pr</td><td style='border: 1px solid #dddddd'>0.37231369820655535</td><td style='border: 1px solid #dddddd'></td><td style='border: 1px solid #dddddd'></td><td style='border: 1px solid #dddddd'>model_type: original</td><td style='border: 1px solid #dddddd'>999</td><td style='border: 1px solid #dddddd'>378231b2-aab4-4516-a003-ffba422c90d8</td><td style='border: 1px solid #dddddd'>cc1082a1-a1f3-40b9-9efd-184b46e97323</td></tr><tr><td style='border: 1px solid #dddddd'>2019-04-15 12:04:33.416000+00:00</td><td style='border: 1px solid #dddddd'>recall</td><td style='border: 1px solid #dddddd'>0.8125</td><td style='border: 1px solid #dddddd'></td><td style='border: 1px solid #dddddd'></td><td style='border: 1px solid #dddddd'>model_type: original</td><td style='border: 1px solid #dddddd'>999</td><td style='border: 1px solid #dddddd'>378231b2-aab4-4516-a003-ffba422c90d8</td><td style='border: 1px solid #dddddd'>cc1082a1-a1f3-40b9-9efd-184b46e97323</td></tr><tr><td style='border: 1px solid #dddddd'>2019-04-15 11:09:00.757000+00:00</td><td style='border: 1px solid #dddddd'>true_positive_rate</td><td style='border: 1px solid #dddddd'>0.8125</td><td style='border: 1px solid #dddddd'></td><td style='border: 1px solid #dddddd'></td><td style='border: 1px solid #dddddd'>model_type: original</td><td style='border: 1px solid #dddddd'>999</td><td style='border: 1px solid #dddddd'>378231b2-aab4-4516-a003-ffba422c90d8</td><td style='border: 1px solid #dddddd'>cc1082a1-a1f3-40b9-9efd-184b46e97323</td></tr>\n            </table>\n        </body>\n        </HTML>", 
                        "text/plain": "<IPython.core.display.HTML object>"
                    }, 
                    "metadata": {}
                }
            ], 
            "source": "subscription.quality_monitoring.show_table()"
        }, 
        {
            "execution_count": 181, 
            "cell_type": "code", 
            "metadata": {}, 
            "outputs": [
                {
                    "output_type": "display_data", 
                    "data": {
                        "image/png": "[encoded data removed]", 
                        "text/plain": "<matplotlib.figure.Figure at 0x7f9c8c75d358>"
                    }, 
                    "metadata": {
                        "needs_background": "light"
                    }
                }
            ], 
            "source": "%matplotlib inline\n\nquality_pd = subscription.quality_monitoring.get_table_content(format='pandas')\nquality_pd.plot.barh(x='id', y='value');"
        }, 
        {
            "execution_count": 182, 
            "cell_type": "code", 
            "metadata": {
                "scrolled": true
            }, 
            "outputs": [
                {
                    "execution_count": 182, 
                    "metadata": {}, 
                    "data": {
                        "text/plain": "{'deployment_metrics': [{'subscription': {'subscription_id': '378231b2-aab4-4516-a003-ffba422c90d8',\n    'url': '/v1/data_marts/00000000-0000-0000-0000-000000000000/service_bindings/999/subscriptions/378231b2-aab4-4516-a003-ffba422c90d8'},\n   'asset': {'name': 'Spark German Risk Model - Final',\n    'asset_id': '378231b2-aab4-4516-a003-ffba422c90d8',\n    'url': 'http://ai-open-scale-ibm-aios-nginx-internal/v3/wml_instances/999/published_models/378231b2-aab4-4516-a003-ffba422c90d8',\n    'asset_type': 'model',\n    'created_at': '2019-04-15T08:42:44.929Z'},\n   'deployment': {'name': 'Spark German Risk Deployment - Final',\n    'url': 'http://ai-open-scale-ibm-aios-nginx-internal/v3/wml_instances/999/deployments/cc1082a1-a1f3-40b9-9efd-184b46e97323',\n    'deployment_type': 'online',\n    'scoring_endpoint': {'url': 'http://ai-open-scale-ibm-aios-nginx-internal/v3/scoring/online/cc1082a1-a1f3-40b9-9efd-184b46e97323',\n     'request_headers': {'Content-Type': 'application/json'}},\n    'deployment_rn': '',\n    'created_at': '2019-04-15T08:42:45.042Z',\n    'deployment_id': 'cc1082a1-a1f3-40b9-9efd-184b46e97323'},\n   'metrics': [{'metric_type': 'quality',\n     'value': {'quality': 0.7842987804878049,\n      'threshold': 0.7,\n      'metrics': [{'name': 'true_positive_rate', 'value': 0.8125},\n       {'name': 'area_under_roc', 'value': 0.7842987804878049},\n       {'name': 'precision', 'value': 0.3939393939393939},\n       {'name': 'f1_measure', 'value': 0.5306122448979591},\n       {'name': 'accuracy', 'value': 0.7653061224489796},\n       {'name': 'log_loss', 'value': 0.44608052349937966},\n       {'name': 'false_positive_rate', 'value': 0.24390243902439024},\n       {'name': 'area_under_pr', 'value': 0.37231369820655535},\n       {'name': 'recall', 'value': 0.8125}]},\n     'issues': 0,\n     'timestamp': '2019-04-15T12:04:33.416Z'}]}]}"
                    }, 
                    "output_type": "execute_result"
                }
            ], 
            "source": "ai_client.data_mart.get_deployment_metrics()"
        }, 
        {
            "source": "# Fairness monitoring and explanations <a name=\"fairness\"></a>", 
            "cell_type": "markdown", 
            "metadata": {}
        }, 
        {
            "source": "The code below configures fairness monitoring for our model. It turns on monitoring for two features, Sex and Age. In each case, we must specify:\n  * Which model feature to monitor\n  * One or more **majority** groups, which are values of that feature that we expect to receive a higher percentage of favorable outcomes\n  * One or more **minority** groups, which are values of that feature that we expect to receive a higher percentage of unfavorable outcomes\n  * The threshold at which we would like OpenScale to display an alert if the fairness measurement falls below (in this case, 95%)\n\nAdditionally, we must specify which outcomes from the model are favourable outcomes, and which are unfavourable. We must also provide the number of records OpenScale will use to calculate the fairness score. In this case, OpenScale's fairness monitor will run hourly, but will not calculate a new fairness rating until at least 200 records have been added. Finally, to calculate fairness, OpenScale must perform some calculations on the training data, so we provide the dataframe containing the data.", 
            "cell_type": "markdown", 
            "metadata": {}
        }, 
        {
            "execution_count": 183, 
            "cell_type": "code", 
            "metadata": {
                "scrolled": true
            }, 
            "outputs": [], 
            "source": "subscription.fairness_monitoring.enable(\n            features=[\n                Feature(\"Sex\", majority=['male'], minority=['female'], threshold=0.95),\n                Feature(\"Age\", majority=[[26,75]], minority=[[18,25]], threshold=0.95)\n            ],\n            favourable_classes=['No Risk'],\n            unfavourable_classes=['Risk'],\n            min_records=200,\n            training_data=pd_data\n        )"
        }, 
        {
            "source": "## Score the model again now that monitoring is configured", 
            "cell_type": "markdown", 
            "metadata": {}
        }, 
        {
            "source": "This next section randomly selects 200 records from the data feed and sends those records to the model for predictions. This is enough to exceed the minimum threshold for records set in the previous section, which allows OpenScale to begin calculating fairness.", 
            "cell_type": "markdown", 
            "metadata": {}
        }, 
        {
            "execution_count": 4, 
            "cell_type": "code", 
            "metadata": {}, 
            "outputs": [
                {
                    "output_type": "stream", 
                    "name": "stdout", 
                    "text": "rm: cannot remove \u2018german_credit_feed.json\u2019: No such file or directory\n--2019-06-03 14:58:08--  https://raw.githubusercontent.com/pmservice/ai-openscale-tutorials/master/assets/historical_data/german_credit_risk/wml/german_credit_feed.json\nResolving raw.githubusercontent.com (raw.githubusercontent.com)... 199.232.8.133\nConnecting to raw.githubusercontent.com (raw.githubusercontent.com)|199.232.8.133|:443... connected.\nHTTP request sent, awaiting response... 200 OK\nLength: 3076547 (2.9M) [text/plain]\nSaving to: \u2018german_credit_feed.json\u2019\n\n100%[======================================>] 3,076,547   --.-K/s   in 0.07s   \n\n2019-06-03 14:58:09 (42.1 MB/s) - \u2018german_credit_feed.json\u2019 saved [3076547/3076547]\n\n"
                }
            ], 
            "source": "!rm german_credit_feed.json\n!wget https://raw.githubusercontent.com/pmservice/ai-openscale-tutorials/master/assets/historical_data/german_credit_risk/wml/german_credit_feed.json"
        }, 
        {
            "source": "Score 200 randomly chosen records", 
            "cell_type": "markdown", 
            "metadata": {}
        }, 
        {
            "execution_count": 185, 
            "cell_type": "code", 
            "metadata": {}, 
            "outputs": [], 
            "source": "import random\n\nwith open('german_credit_feed.json', 'r') as scoring_file:\n    scoring_data = json.load(scoring_file)\n\nfields = scoring_data['fields']\nvalues = []\nfor _ in range(200):\n    values.append(random.choice(scoring_data['values']))\npayload_scoring = {\"fields\": fields, \"values\": values}\n\nscoring_response = wml_client.deployments.score(credit_risk_scoring_endpoint, payload_scoring)"
        }, 
        {
            "source": "## Run fairness monitor", 
            "cell_type": "markdown", 
            "metadata": {}
        }, 
        {
            "source": "Kick off a fairness monitor run on current data. The monitor runs hourly, but can be manually initiated using the Python client, the REST API, or the graphical user interface.", 
            "cell_type": "markdown", 
            "metadata": {}
        }, 
        {
            "execution_count": 187, 
            "cell_type": "code", 
            "metadata": {
                "scrolled": true
            }, 
            "outputs": [
                {
                    "output_type": "stream", 
                    "name": "stdout", 
                    "text": "\n\n=======================================================================\n\n Counting bias for deployment_uid=cc1082a1-a1f3-40b9-9efd-184b46e97323 \n\n=======================================================================\n\n\n\nRUNNING..\nFINISHED\n\n---------------------------\n Successfully finished run \n---------------------------\n\n\n"
                }
            ], 
            "source": "time.sleep(5)\n\nrun_details = subscription.fairness_monitoring.run(background_mode=False)"
        }, 
        {
            "execution_count": 188, 
            "cell_type": "code", 
            "metadata": {}, 
            "outputs": [
                {
                    "output_type": "display_data", 
                    "data": {
                        "text/html": "<HTML>\n        <body>\n            <h3>FairnessMetrics (binding_id=999, subscription_id=378231b2-aab4-4516-a003-ffba422c90d8)</h3>\n            <table style='border: 1px solid #dddddd; font-family: Courier'>\n                <th style='border: 1px solid #dddddd'>ts</th><th style='border: 1px solid #dddddd'>feature</th><th style='border: 1px solid #dddddd'>feature_value</th><th style='border: 1px solid #dddddd'>fairness_biased</th><th style='border: 1px solid #dddddd'>fairness_value</th><th style='border: 1px solid #dddddd'>fairness_fav_class</th><th style='border: 1px solid #dddddd'>binding_id</th><th style='border: 1px solid #dddddd'>subscription_id</th><th style='border: 1px solid #dddddd'>asset_revision</th><th style='border: 1px solid #dddddd'>deployment_id</th><th style='border: 1px solid #dddddd'>process</th>\n                <tr><td style='border: 1px solid #dddddd'>2019-04-15 12:08:32.979414+00:00</td><td style='border: 1px solid #dddddd'>Sex</td><td style='border: 1px solid #dddddd'>female</td><td style='border: 1px solid #dddddd'>True</td><td style='border: 1px solid #dddddd'>0.906</td><td style='border: 1px solid #dddddd'>72.5</td><td style='border: 1px solid #dddddd'>999</td><td style='border: 1px solid #dddddd'>378231b2-aab4-4516-a003-ffba422c90d8</td><td style='border: 1px solid #dddddd'>378231b2-aab4-4516-a003-ffba422c90d8</td><td style='border: 1px solid #dddddd'>cc1082a1-a1f3-40b9-9efd-184b46e97323</td><td style='border: 1px solid #dddddd'></td></tr><tr><td style='border: 1px solid #dddddd'>2019-04-15 12:08:32.979414+00:00</td><td style='border: 1px solid #dddddd'>Age</td><td style='border: 1px solid #dddddd'>[18, 25]</td><td style='border: 1px solid #dddddd'>False</td><td style='border: 1px solid #dddddd'>0.978</td><td style='border: 1px solid #dddddd'>80.11049723756905</td><td style='border: 1px solid #dddddd'>999</td><td style='border: 1px solid #dddddd'>378231b2-aab4-4516-a003-ffba422c90d8</td><td style='border: 1px solid #dddddd'>378231b2-aab4-4516-a003-ffba422c90d8</td><td style='border: 1px solid #dddddd'>cc1082a1-a1f3-40b9-9efd-184b46e97323</td><td style='border: 1px solid #dddddd'></td></tr><tr><td style='border: 1px solid #dddddd'>2019-04-15 12:05:53.691332+00:00</td><td style='border: 1px solid #dddddd'>Sex</td><td style='border: 1px solid #dddddd'>female</td><td style='border: 1px solid #dddddd'>True</td><td style='border: 1px solid #dddddd'>0.906</td><td style='border: 1px solid #dddddd'>72.5</td><td style='border: 1px solid #dddddd'>999</td><td style='border: 1px solid #dddddd'>378231b2-aab4-4516-a003-ffba422c90d8</td><td style='border: 1px solid #dddddd'>378231b2-aab4-4516-a003-ffba422c90d8</td><td style='border: 1px solid #dddddd'>cc1082a1-a1f3-40b9-9efd-184b46e97323</td><td style='border: 1px solid #dddddd'></td></tr><tr><td style='border: 1px solid #dddddd'>2019-04-15 12:05:53.691332+00:00</td><td style='border: 1px solid #dddddd'>Age</td><td style='border: 1px solid #dddddd'>[18, 25]</td><td style='border: 1px solid #dddddd'>False</td><td style='border: 1px solid #dddddd'>0.978</td><td style='border: 1px solid #dddddd'>80.11049723756905</td><td style='border: 1px solid #dddddd'>999</td><td style='border: 1px solid #dddddd'>378231b2-aab4-4516-a003-ffba422c90d8</td><td style='border: 1px solid #dddddd'>378231b2-aab4-4516-a003-ffba422c90d8</td><td style='border: 1px solid #dddddd'>cc1082a1-a1f3-40b9-9efd-184b46e97323</td><td style='border: 1px solid #dddddd'></td></tr>\n            </table>\n        </body>\n        </HTML>", 
                        "text/plain": "<IPython.core.display.HTML object>"
                    }, 
                    "metadata": {}
                }
            ], 
            "source": "time.sleep(5)\n\nsubscription.fairness_monitoring.show_table()"
        }, 
        {
            "source": "## Configure Explainability", 
            "cell_type": "markdown", 
            "metadata": {}
        }, 
        {
            "source": "Finally, we provide OpenScale with the training data to enable and configure the explainability features.", 
            "cell_type": "markdown", 
            "metadata": {}
        }, 
        {
            "execution_count": 189, 
            "cell_type": "code", 
            "metadata": {
                "scrolled": true
            }, 
            "outputs": [], 
            "source": "from ibm_ai_openscale.supporting_classes import *\nsubscription.explainability.enable(training_data=pd_data)"
        }, 
        {
            "execution_count": 190, 
            "cell_type": "code", 
            "metadata": {
                "scrolled": true
            }, 
            "outputs": [], 
            "source": "explainability_details = subscription.explainability.get_details()"
        }, 
        {
            "source": "## Run explanation for sample record", 
            "cell_type": "markdown", 
            "metadata": {}
        }, 
        {
            "execution_count": 191, 
            "cell_type": "code", 
            "metadata": {}, 
            "outputs": [
                {
                    "output_type": "stream", 
                    "name": "stdout", 
                    "text": "9e7e6e46-c1d3-46d0-aad2-2fc489ba1b8c-1\n"
                }
            ], 
            "source": "transaction_id = subscription.payload_logging.get_table_content(limit=1)['scoring_id'].values[0]\n\nprint(transaction_id)"
        }, 
        {
            "execution_count": 192, 
            "cell_type": "code", 
            "metadata": {}, 
            "outputs": [
                {
                    "output_type": "stream", 
                    "name": "stdout", 
                    "text": "\n\n====================================================================\n\n Looking for explanation for 9e7e6e46-c1d3-46d0-aad2-2fc489ba1b8c-1 \n\n====================================================================\n\n\n\nin_progress............\nfinished\n\n---------------------------\n Successfully finished run \n---------------------------\n\n\n"
                }
            ], 
            "source": "explain_run = subscription.explainability.run(transaction_id=transaction_id, background_mode=False)"
        }, 
        {
            "execution_count": 193, 
            "cell_type": "code", 
            "metadata": {}, 
            "outputs": [
                {
                    "output_type": "display_data", 
                    "data": {
                        "image/png": "[encoded data removed]", 
                        "text/plain": "<matplotlib.figure.Figure at 0x7f9c8cb62e48>"
                    }, 
                    "metadata": {
                        "needs_background": "light"
                    }
                }
            ], 
            "source": "explain_result = pd.DataFrame.from_dict(explain_run['entity']['predictions'][0]['explanation_features'])\nexplain_result.plot.barh(x='feature_name', y='weight', color='g', alpha=0.8);"
        }, 
        {
            "source": "# Custom monitors and metrics <a name=\"custom\"></a>", 
            "cell_type": "markdown", 
            "metadata": {}
        }, 
        {
            "source": "## Register custom monitor", 
            "cell_type": "markdown", 
            "metadata": {}
        }, 
        {
            "execution_count": 194, 
            "cell_type": "code", 
            "metadata": {}, 
            "outputs": [], 
            "source": "def get_definition(monitor_name):\n    monitors_definitions = ai_client.data_mart.monitors.get_details()['monitor_definitions']\n    \n    for definition in monitors_definitions:\n        if monitor_name == definition['entity']['name']:\n            return definition\n    \n    return None"
        }, 
        {
            "execution_count": 195, 
            "cell_type": "code", 
            "metadata": {}, 
            "outputs": [], 
            "source": "from ibm_ai_openscale.supporting_classes import Metric, Tag\n\nmonitor_name = 'my model performance'\nmetrics = [Metric(name='sensitivity', lower_limit_default=0.8), Metric(name='specificity', lower_limit_default=0.75)]\ntags = [Tag(name='region', description='customer geographical region')]\n\nexisting_definition = get_definition(monitor_name)\n\nif existing_definition is None:\n    my_monitor = ai_client.data_mart.monitors.add(name=monitor_name, metrics=metrics, tags=tags)\nelse:\n    my_monitor = existing_definition"
        }, 
        {
            "source": "### List monitors", 
            "cell_type": "markdown", 
            "metadata": {}
        }, 
        {
            "source": "### Get monitors uids and details", 
            "cell_type": "markdown", 
            "metadata": {}
        }, 
        {
            "execution_count": 196, 
            "cell_type": "code", 
            "metadata": {}, 
            "outputs": [
                {
                    "output_type": "stream", 
                    "name": "stdout", 
                    "text": "my_model_performance\n"
                }
            ], 
            "source": "monitor_uid = my_monitor['metadata']['guid']\n\nprint(monitor_uid)"
        }, 
        {
            "execution_count": 197, 
            "cell_type": "code", 
            "metadata": {}, 
            "outputs": [
                {
                    "output_type": "stream", 
                    "name": "stdout", 
                    "text": "monitor definition details {'metadata': {'guid': 'my_model_performance', 'url': '/v1/data_marts/00000000-0000-0000-0000-000000000000/monitor_definitions/my_model_performance', 'created_at': '2019-04-15T09:13:23.737Z'}, 'entity': {'name': 'my model performance', 'metrics': [{'id': 'sensitivity', 'name': 'sensitivity', 'thresholds': [{'type': 'lower_limit', 'default': 0.8}], 'required': True}, {'id': 'specificity', 'name': 'specificity', 'thresholds': [{'type': 'lower_limit', 'default': 0.75}], 'required': True}], 'tags': [{'id': 'region', 'name': 'region', 'description': 'customer geographical region', 'required': True}]}}\n"
                }
            ], 
            "source": "my_monitor = ai_client.data_mart.monitors.get_details(monitor_uid=monitor_uid)\nprint('monitor definition details', my_monitor)"
        }, 
        {
            "source": "## Enable custom monitor for subscription", 
            "cell_type": "markdown", 
            "metadata": {}
        }, 
        {
            "execution_count": 119, 
            "cell_type": "code", 
            "metadata": {}, 
            "outputs": [], 
            "source": "from ibm_ai_openscale.supporting_classes import Threshold\n\nthresholds = [Threshold(metric_uid='sensitivity', lower_limit=0.9)]\nsubscription.monitoring.enable(monitor_uid=monitor_uid, thresholds=thresholds)"
        }, 
        {
            "source": "### Get monitor configuration details", 
            "cell_type": "markdown", 
            "metadata": {}
        }, 
        {
            "execution_count": 120, 
            "cell_type": "code", 
            "metadata": {}, 
            "outputs": [
                {
                    "execution_count": 120, 
                    "metadata": {}, 
                    "data": {
                        "text/plain": "{'enabled': True,\n 'thresholds': [{'metric_id': 'sensitivity',\n   'type': 'lower_limit',\n   'value': 0.9}],\n 'monitor_definition': {'metadata': {'guid': 'my_model_performance',\n   'url': '/v1/data_marts/00000000-0000-0000-0000-000000000000/monitor_definitions/my_model_performance',\n   'created_at': '2019-04-15T09:13:23.737Z'},\n  'entity': {'name': 'my model performance',\n   'metrics': [{'id': 'sensitivity',\n     'name': 'sensitivity',\n     'thresholds': [{'type': 'lower_limit', 'default': 0.9}],\n     'required': True},\n    {'id': 'specificity', 'name': 'specificity', 'required': True}],\n   'tags': [{'id': 'region',\n     'name': 'region',\n     'description': 'customer geographical region',\n     'required': True}]}}}"
                    }, 
                    "output_type": "execute_result"
                }
            ], 
            "source": "subscription.monitoring.get_details(monitor_uid=monitor_uid)"
        }, 
        {
            "source": "## Storing custom metrics", 
            "cell_type": "markdown", 
            "metadata": {}
        }, 
        {
            "execution_count": 121, 
            "cell_type": "code", 
            "metadata": {}, 
            "outputs": [], 
            "source": "metrics = {\"specificity\": 0.78, \"sensitivity\": 0.67, \"region\": \"us-south\"}\n\nsubscription.monitoring.store_metrics(monitor_uid=monitor_uid, metrics=metrics)"
        }, 
        {
            "source": "### List and get custom metrics", 
            "cell_type": "markdown", 
            "metadata": {}
        }, 
        {
            "execution_count": 122, 
            "cell_type": "code", 
            "metadata": {}, 
            "outputs": [
                {
                    "output_type": "display_data", 
                    "data": {
                        "text/html": "<HTML>\n        <body>\n            <h3>CustomMetrics (binding_id=999, subscription_id=378231b2-aab4-4516-a003-ffba422c90d8)</h3>\n            <table style='border: 1px solid #dddddd; font-family: Courier'>\n                <th style='border: 1px solid #dddddd'>ts</th><th style='border: 1px solid #dddddd'>id</th><th style='border: 1px solid #dddddd'>value</th><th style='border: 1px solid #dddddd'>lower limit</th><th style='border: 1px solid #dddddd'>upper limit</th><th style='border: 1px solid #dddddd'>tags</th><th style='border: 1px solid #dddddd'>binding_id</th><th style='border: 1px solid #dddddd'>subscription_id</th><th style='border: 1px solid #dddddd'>deployment_id</th>\n                <tr><td style='border: 1px solid #dddddd'>2019-04-15 09:13:30.510459+00:00</td><td style='border: 1px solid #dddddd'>sensitivity</td><td style='border: 1px solid #dddddd'>0.67</td><td style='border: 1px solid #dddddd'>0.9</td><td style='border: 1px solid #dddddd'></td><td style='border: 1px solid #dddddd'>region: us-south</td><td style='border: 1px solid #dddddd'>999</td><td style='border: 1px solid #dddddd'>378231b2-aab4-4516-a003-ffba422c90d8</td><td style='border: 1px solid #dddddd'>cc1082a1-a1f3-40b9-9efd-184b46e97323</td></tr><tr><td style='border: 1px solid #dddddd'>2019-04-15 09:13:30.510459+00:00</td><td style='border: 1px solid #dddddd'>specificity</td><td style='border: 1px solid #dddddd'>0.78</td><td style='border: 1px solid #dddddd'></td><td style='border: 1px solid #dddddd'></td><td style='border: 1px solid #dddddd'>region: us-south</td><td style='border: 1px solid #dddddd'>999</td><td style='border: 1px solid #dddddd'>378231b2-aab4-4516-a003-ffba422c90d8</td><td style='border: 1px solid #dddddd'>cc1082a1-a1f3-40b9-9efd-184b46e97323</td></tr>\n            </table>\n        </body>\n        </HTML>", 
                        "text/plain": "<IPython.core.display.HTML object>"
                    }, 
                    "metadata": {}
                }
            ], 
            "source": "subscription.monitoring.show_table(monitor_uid=monitor_uid)"
        }, 
        {
            "execution_count": 123, 
            "cell_type": "code", 
            "metadata": {}, 
            "outputs": [
                {
                    "execution_count": 123, 
                    "metadata": {}, 
                    "data": {
                        "text/plain": "[{'asset_id': '378231b2-aab4-4516-a003-ffba422c90d8',\n  'binding_id': '999',\n  'tags': [{'id': 'region', 'value': 'us-south'}],\n  'ts': '2019-04-15T09:13:30.510459Z',\n  'measurement_id': '696e7fe5-e98a-45be-b88b-dbfbd312bad0',\n  'monitor_definition_id': 'my_model_performance',\n  'subscription_id': '378231b2-aab4-4516-a003-ffba422c90d8',\n  'metrics': [{'lower_limit': 0.9, 'id': 'sensitivity', 'value': 0.67},\n   {'id': 'specificity', 'value': 0.78}]}]"
                    }, 
                    "output_type": "execute_result"
                }
            ], 
            "source": "custom_metrics = subscription.monitoring.get_metrics(monitor_uid=monitor_uid, deployment_uid='credit')\ncustom_metrics"
        }, 
        {
            "execution_count": 124, 
            "cell_type": "code", 
            "metadata": {}, 
            "outputs": [
                {
                    "output_type": "display_data", 
                    "data": {
                        "image/png": "[encoded data removed]", 
                        "text/plain": "<matplotlib.figure.Figure at 0x7f9c8c8f78d0>"
                    }, 
                    "metadata": {
                        "needs_background": "light"
                    }
                }
            ], 
            "source": "custom_metrics_pandas = subscription.monitoring.get_table_content(monitor_uid=monitor_uid)\n\n%matplotlib inline\ncustom_metrics_pandas.plot.barh(x='id', y='value');"
        }, 
        {
            "source": "# Payload analytics <a name=\"analytics\"></a>", 
            "cell_type": "markdown", 
            "metadata": {}
        }, 
        {
            "source": "## Run data distributions calculation", 
            "cell_type": "markdown", 
            "metadata": {}
        }, 
        {
            "execution_count": 125, 
            "cell_type": "code", 
            "metadata": {}, 
            "outputs": [
                {
                    "output_type": "stream", 
                    "name": "stdout", 
                    "text": "\n\n===============================================================================\n\n Waiting for end of data distribution run b1bdd23d-f094-40d5-8d38-2c648b4358e2 \n\n===============================================================================\n\n\n\nrunning.\ncompleted\n\n---------------------------\n Successfully finished run \n---------------------------\n\n\n"
                }
            ], 
            "source": "from datetime import datetime\n\nstart_date = \"2018-01-01T00:00:00.00Z\"\nend_date = datetime.utcnow().isoformat() + \"Z\"\n\nsex_distribution = subscription.payload_logging.data_distribution.run(\n            start_date=start_date,\n            end_date=end_date,\n            group=['predictedLabel', 'Sex'],\n            agg=['count'])"
        }, 
        {
            "source": "## Get data distributions as pandas dataframe", 
            "cell_type": "markdown", 
            "metadata": {}
        }, 
        {
            "execution_count": 126, 
            "cell_type": "code", 
            "metadata": {}, 
            "outputs": [
                {
                    "execution_count": 126, 
                    "metadata": {}, 
                    "data": {
                        "text/html": "<div>\n<style scoped>\n    .dataframe tbody tr th:only-of-type {\n        vertical-align: middle;\n    }\n\n    .dataframe tbody tr th {\n        vertical-align: top;\n    }\n\n    .dataframe thead th {\n        text-align: right;\n    }\n</style>\n<table border=\"1\" class=\"dataframe\">\n  <thead>\n    <tr style=\"text-align: right;\">\n      <th></th>\n      <th>predictedLabel</th>\n      <th>Sex</th>\n      <th>count</th>\n    </tr>\n  </thead>\n  <tbody>\n    <tr>\n      <th>0</th>\n      <td>No Risk</td>\n      <td>female</td>\n      <td>64</td>\n    </tr>\n    <tr>\n      <th>1</th>\n      <td>No Risk</td>\n      <td>male</td>\n      <td>93</td>\n    </tr>\n    <tr>\n      <th>2</th>\n      <td>Risk</td>\n      <td>female</td>\n      <td>7</td>\n    </tr>\n    <tr>\n      <th>3</th>\n      <td>Risk</td>\n      <td>male</td>\n      <td>44</td>\n    </tr>\n  </tbody>\n</table>\n</div>", 
                        "text/plain": "  predictedLabel     Sex  count\n0        No Risk  female     64\n1        No Risk    male     93\n2           Risk  female      7\n3           Risk    male     44"
                    }, 
                    "output_type": "execute_result"
                }
            ], 
            "source": "sex_distribution_run_uid = sex_distribution['id']\ndistributions_pd = subscription.payload_logging.data_distribution.get_run_result(run_id=sex_distribution_run_uid, format='pandas')\ndistributions_pd"
        }, 
        {
            "execution_count": 127, 
            "cell_type": "code", 
            "metadata": {}, 
            "outputs": [
                {
                    "output_type": "display_data", 
                    "data": {
                        "image/png": "[encoded data removed]", 
                        "text/plain": "<matplotlib.figure.Figure at 0x7f9c8cf82c88>"
                    }, 
                    "metadata": {
                        "needs_background": "light"
                    }
                }
            ], 
            "source": "subscription.payload_logging.data_distribution.show_chart(sex_distribution_run_uid);"
        }, 
        {
            "execution_count": 128, 
            "cell_type": "code", 
            "metadata": {}, 
            "outputs": [
                {
                    "output_type": "stream", 
                    "name": "stdout", 
                    "text": "\n\n===============================================================================\n\n Waiting for end of data distribution run 505c9768-a581-4fe2-ab80-2560a9436a34 \n\n===============================================================================\n\n\n\nrunning.\ncompleted\n\n---------------------------\n Successfully finished run \n---------------------------\n\n\n"
                }
            ], 
            "source": "credit_history_distribution = subscription.payload_logging.data_distribution.run(\n            start_date=start_date,\n            end_date=end_date,\n            group=['predictedLabel', 'CreditHistory'],\n            agg=['count'])"
        }, 
        {
            "execution_count": 129, 
            "cell_type": "code", 
            "metadata": {}, 
            "outputs": [
                {
                    "output_type": "display_data", 
                    "data": {
                        "image/png": "[encoded data removed]", 
                        "text/plain": "<matplotlib.figure.Figure at 0x7f9c84085588>"
                    }, 
                    "metadata": {
                        "needs_background": "light"
                    }
                }
            ], 
            "source": "credit_history_distribution_run_uid = credit_history_distribution['id']\n\nsubscription.payload_logging.data_distribution.show_chart(credit_history_distribution_run_uid);"
        }, 
        {
            "source": "# Historical data <a name=\"historical\"></a>", 
            "cell_type": "markdown", 
            "metadata": {}
        }, 
        {
            "source": " ## Insert historical payloads", 
            "cell_type": "markdown", 
            "metadata": {}
        }, 
        {
            "source": "The next section of the notebook downloads and writes historical data to the payload and measurement tables to simulate a production model that has been monitored and receiving regular traffic for the last seven days. This historical data can be viewed in the Watson OpenScale user interface. The code uses the Python and REST APIs to write this data.", 
            "cell_type": "markdown", 
            "metadata": {}
        }, 
        {
            "execution_count": 5, 
            "cell_type": "code", 
            "metadata": {
                "scrolled": false
            }, 
            "outputs": [
                {
                    "output_type": "stream", 
                    "name": "stdout", 
                    "text": "rm: cannot remove \u2018history_payloads*.json\u2019: No such file or directory\n--2019-06-03 14:58:13--  https://raw.githubusercontent.com/pmservice/ai-openscale-tutorials/master/assets/historical_data/german_credit_risk/wml/history_payloads_0.json\nResolving raw.githubusercontent.com (raw.githubusercontent.com)... 151.101.48.133\nConnecting to raw.githubusercontent.com (raw.githubusercontent.com)|151.101.48.133|:443... connected.\nHTTP request sent, awaiting response... 200 OK\nLength: 9569926 (9.1M) [text/plain]\nSaving to: \u2018history_payloads_0.json\u2019\n\n100%[======================================>] 9,569,926   --.-K/s   in 0.1s    \n\n2019-06-03 14:58:14 (67.0 MB/s) - \u2018history_payloads_0.json\u2019 saved [9569926/9569926]\n\n--2019-06-03 14:58:14--  https://raw.githubusercontent.com/pmservice/ai-openscale-tutorials/master/assets/historical_data/german_credit_risk/wml/history_payloads_1.json\nResolving raw.githubusercontent.com (raw.githubusercontent.com)... 199.232.8.133\nConnecting to raw.githubusercontent.com (raw.githubusercontent.com)|199.232.8.133|:443... connected.\nHTTP request sent, awaiting response... 200 OK\nLength: 9567447 (9.1M) [text/plain]\nSaving to: \u2018history_payloads_1.json\u2019\n\n100%[======================================>] 9,567,447   --.-K/s   in 0.1s    \n\n2019-06-03 14:58:15 (76.2 MB/s) - \u2018history_payloads_1.json\u2019 saved [9567447/9567447]\n\n--2019-06-03 14:58:15--  https://raw.githubusercontent.com/pmservice/ai-openscale-tutorials/master/assets/historical_data/german_credit_risk/wml/history_payloads_2.json\nResolving raw.githubusercontent.com (raw.githubusercontent.com)... 151.101.48.133\nConnecting to raw.githubusercontent.com (raw.githubusercontent.com)|151.101.48.133|:443... connected.\nHTTP request sent, awaiting response... 200 OK\nLength: 9571799 (9.1M) [text/plain]\nSaving to: \u2018history_payloads_2.json\u2019\n\n100%[======================================>] 9,571,799   --.-K/s   in 0.1s    \n\n2019-06-03 14:58:16 (73.0 MB/s) - \u2018history_payloads_2.json\u2019 saved [9571799/9571799]\n\n--2019-06-03 14:58:16--  https://raw.githubusercontent.com/pmservice/ai-openscale-tutorials/master/assets/historical_data/german_credit_risk/wml/history_payloads_3.json\nResolving raw.githubusercontent.com (raw.githubusercontent.com)... 151.101.48.133\nConnecting to raw.githubusercontent.com (raw.githubusercontent.com)|151.101.48.133|:443... connected.\nHTTP request sent, awaiting response... 200 OK\nLength: 9573282 (9.1M) [text/plain]\nSaving to: \u2018history_payloads_3.json\u2019\n\n100%[======================================>] 9,573,282   --.-K/s   in 0.1s    \n\n2019-06-03 14:58:17 (67.8 MB/s) - \u2018history_payloads_3.json\u2019 saved [9573282/9573282]\n\n--2019-06-03 14:58:17--  https://raw.githubusercontent.com/pmservice/ai-openscale-tutorials/master/assets/historical_data/german_credit_risk/wml/history_payloads_4.json\nResolving raw.githubusercontent.com (raw.githubusercontent.com)... 151.101.48.133\nConnecting to raw.githubusercontent.com (raw.githubusercontent.com)|151.101.48.133|:443... connected.\nHTTP request sent, awaiting response... 200 OK\nLength: 9568788 (9.1M) [text/plain]\nSaving to: \u2018history_payloads_4.json\u2019\n\n100%[======================================>] 9,568,788   --.-K/s   in 0.1s    \n\n2019-06-03 14:58:18 (86.1 MB/s) - \u2018history_payloads_4.json\u2019 saved [9568788/9568788]\n\n--2019-06-03 14:58:18--  https://raw.githubusercontent.com/pmservice/ai-openscale-tutorials/master/assets/historical_data/german_credit_risk/wml/history_payloads_5.json\nResolving raw.githubusercontent.com (raw.githubusercontent.com)... 151.101.48.133\nConnecting to raw.githubusercontent.com (raw.githubusercontent.com)|151.101.48.133|:443... connected.\nHTTP request sent, awaiting response... 200 OK\nLength: 9569249 (9.1M) [text/plain]\nSaving to: \u2018history_payloads_5.json\u2019\n\n100%[======================================>] 9,569,249   55.9MB/s   in 0.2s   \n\n2019-06-03 14:58:19 (55.9 MB/s) - \u2018history_payloads_5.json\u2019 saved [9569249/9569249]\n\n--2019-06-03 14:58:19--  https://raw.githubusercontent.com/pmservice/ai-openscale-tutorials/master/assets/historical_data/german_credit_risk/wml/history_payloads_6.json\nResolving raw.githubusercontent.com (raw.githubusercontent.com)... 151.101.48.133\nConnecting to raw.githubusercontent.com (raw.githubusercontent.com)|151.101.48.133|:443... connected.\nHTTP request sent, awaiting response... 200 OK\nLength: 9568623 (9.1M) [text/plain]\nSaving to: \u2018history_payloads_6.json\u2019\n\n100%[======================================>] 9,568,623   58.9MB/s   in 0.2s   \n\n2019-06-03 14:58:20 (58.9 MB/s) - \u2018history_payloads_6.json\u2019 saved [9568623/9568623]\n\n"
                }
            ], 
            "source": "!rm history_payloads*.json\n!wget https://raw.githubusercontent.com/pmservice/ai-openscale-tutorials/master/assets/historical_data/german_credit_risk/wml/history_payloads_0.json\n!wget https://raw.githubusercontent.com/pmservice/ai-openscale-tutorials/master/assets/historical_data/german_credit_risk/wml/history_payloads_1.json\n!wget https://raw.githubusercontent.com/pmservice/ai-openscale-tutorials/master/assets/historical_data/german_credit_risk/wml/history_payloads_2.json\n!wget https://raw.githubusercontent.com/pmservice/ai-openscale-tutorials/master/assets/historical_data/german_credit_risk/wml/history_payloads_3.json\n!wget https://raw.githubusercontent.com/pmservice/ai-openscale-tutorials/master/assets/historical_data/german_credit_risk/wml/history_payloads_4.json\n!wget https://raw.githubusercontent.com/pmservice/ai-openscale-tutorials/master/assets/historical_data/german_credit_risk/wml/history_payloads_5.json\n!wget https://raw.githubusercontent.com/pmservice/ai-openscale-tutorials/master/assets/historical_data/german_credit_risk/wml/history_payloads_6.json"
        }, 
        {
            "execution_count": 199, 
            "cell_type": "code", 
            "metadata": {
                "scrolled": true
            }, 
            "outputs": [], 
            "source": "historyDays = 7"
        }, 
        {
            "execution_count": 200, 
            "cell_type": "code", 
            "metadata": {
                "scrolled": false
            }, 
            "outputs": [
                {
                    "output_type": "stream", 
                    "name": "stdout", 
                    "text": "Loading day 1\nLoading day 2\nLoading day 3\nLoading day 4\nLoading day 5\nLoading day 6\nLoading day 7\nFinished\n"
                }
            ], 
            "source": "from ibm_ai_openscale.supporting_classes import PayloadRecord, Feature\nimport datetime\nimport time\n\nfor day in range(historyDays):\n    print('Loading day {}'.format(day + 1))\n    history_file = 'history_payloads_' + str(day) + '.json'\n    with open(history_file) as f:\n        payloads = json.load(f)\n        hourly_records = int(len(payloads) / 24)\n        index = 0\n        for hour in range(24):\n            recordsList = []\n            for i in range(hourly_records):\n                score_time = str(datetime.datetime.utcnow() + datetime.timedelta(hours=(-(24*day + hour + 1))))\n                recordsList.append(PayloadRecord(request=payloads[index]['request'], response=payloads[index]['response'], scoring_timestamp=score_time))\n                index += 1\n            subscription.payload_logging.store(records=recordsList)\nprint('Finished')"
        }, 
        {
            "execution_count": 201, 
            "cell_type": "code", 
            "metadata": {
                "scrolled": true
            }, 
            "outputs": [
                {
                    "output_type": "stream", 
                    "name": "stdout", 
                    "text": "00000000-0000-0000-0000-000000000000\n"
                }
            ], 
            "source": "data_mart_id = subscription.get_details()['metadata']['url'].split('/service_bindings')[0].split('marts/')[1]\nprint(data_mart_id)"
        }, 
        {
            "execution_count": 219, 
            "cell_type": "code", 
            "metadata": {
                "scrolled": true
            }, 
            "outputs": [
                {
                    "output_type": "stream", 
                    "name": "stdout", 
                    "text": "https://9.30.180.36:31843/v1/data_marts/00000000-0000-0000-0000-000000000000/metrics\n"
                }
            ], 
            "source": "performance_metrics_url = WOS_CREDENTIALS['url'] + subscription.get_details()['metadata']['url'].split('/service_bindings')[0] + '/metrics'\nprint(performance_metrics_url)"
        }, 
        {
            "source": "## Insert historical fairness metrics", 
            "cell_type": "markdown", 
            "metadata": {}
        }, 
        {
            "execution_count": 6, 
            "cell_type": "code", 
            "metadata": {}, 
            "outputs": [
                {
                    "output_type": "stream", 
                    "name": "stdout", 
                    "text": "rm: cannot remove \u2018history_fairness.json\u2019: No such file or directory\n--2019-06-03 14:58:23--  https://raw.githubusercontent.com/pmservice/ai-openscale-tutorials/master/assets/historical_data/german_credit_risk/wml/history_fairness.json\nResolving raw.githubusercontent.com (raw.githubusercontent.com)... 199.232.8.133\nConnecting to raw.githubusercontent.com (raw.githubusercontent.com)|199.232.8.133|:443... connected.\nHTTP request sent, awaiting response... 200 OK\nLength: 562458 (549K) [text/plain]\nSaving to: \u2018history_fairness.json\u2019\n\n100%[======================================>] 562,458     --.-K/s   in 0.02s   \n\n2019-06-03 14:58:24 (24.8 MB/s) - \u2018history_fairness.json\u2019 saved [562458/562458]\n\n"
                }
            ], 
            "source": "!rm history_fairness.json\n!wget https://raw.githubusercontent.com/pmservice/ai-openscale-tutorials/master/assets/historical_data/german_credit_risk/wml/history_fairness.json"
        }, 
        {
            "execution_count": 206, 
            "cell_type": "code", 
            "metadata": {}, 
            "outputs": [], 
            "source": "from requests.auth import HTTPBasicAuth\n\ndef create_token():\n    header = {\n                    \"Content-Type\": \"application/x-www-form-urlencoded\",\n                    \"Accept\": \"application/json\"\n    }\n\n    response = requests_session.get(\n            WOS_CREDENTIALS['url'] + '/v1/preauth/validateAuth',\n            headers=header,\n            auth=HTTPBasicAuth(\n                WOS_CREDENTIALS['username'],\n                WOS_CREDENTIALS['password']\n            ),\n            verify=False)\n\n    response = handle_response(200, 'access token', response, True)\n    token = response['accessToken']\n\n    return token"
        }, 
        {
            "execution_count": 221, 
            "cell_type": "code", 
            "metadata": {
                "scrolled": true
            }, 
            "outputs": [
                {
                    "output_type": "stream", 
                    "name": "stdout", 
                    "text": "Loading day 1\nLoading day 2\nLoading day 3\nLoading day 4\nLoading day 5\nLoading day 6\nLoading day 7\nFinished\n"
                }
            ], 
            "source": "iam_token = create_token()\niam_headers = {\n    'Content-Type': 'application/json',\n    'Authorization': 'Bearer %s' % iam_token\n}\n\nwith open('history_fairness.json', 'r') as history_file:\n    payloads = json.load(history_file)\n\nfor day in range(historyDays):\n    print('Loading day', day + 1)\n    for hour in range(24):\n        score_time = (datetime.datetime.utcnow() + datetime.timedelta(hours=(-(24*day + hour + 1)))).strftime('%Y-%m-%dT%H:%M:%SZ')\n        index = (day * 24 + hour) % len(payloads) # wrap around and reuse values if needed\n        \n        qualityMetric = {\n            'metric_type': 'fairness',\n            'binding_id': binding_uid,\n            'timestamp': score_time,\n            'subscription_id': model_uid,\n            'asset_revision': model_uid,\n            'deployment_id': deployment_uid,\n            'value': payloads[index]\n        }\n\n        response = requests.post(performance_metrics_url, json=[qualityMetric], headers=iam_headers, verify=False)\n\nprint('Finished')"
        }, 
        {
            "source": "## Insert historical debias metrics", 
            "cell_type": "markdown", 
            "metadata": {}
        }, 
        {
            "execution_count": 7, 
            "cell_type": "code", 
            "metadata": {}, 
            "outputs": [
                {
                    "output_type": "stream", 
                    "name": "stdout", 
                    "text": "rm: cannot remove \u2018history_debias.json\u2019: No such file or directory\n--2019-06-03 14:58:29--  https://raw.githubusercontent.com/pmservice/ai-openscale-tutorials/master/assets/historical_data/german_credit_risk/wml/history_debias.json\nResolving raw.githubusercontent.com (raw.githubusercontent.com)... 151.101.48.133\nConnecting to raw.githubusercontent.com (raw.githubusercontent.com)|151.101.48.133|:443... connected.\nHTTP request sent, awaiting response... 200 OK\nLength: 565971 (553K) [text/plain]\nSaving to: \u2018history_debias.json\u2019\n\n100%[======================================>] 565,971     --.-K/s   in 0.02s   \n\n2019-06-03 14:58:29 (24.6 MB/s) - \u2018history_debias.json\u2019 saved [565971/565971]\n\n"
                }
            ], 
            "source": "!rm history_debias.json\n!wget https://raw.githubusercontent.com/pmservice/ai-openscale-tutorials/master/assets/historical_data/german_credit_risk/wml/history_debias.json"
        }, 
        {
            "execution_count": 223, 
            "cell_type": "code", 
            "metadata": {}, 
            "outputs": [
                {
                    "output_type": "stream", 
                    "name": "stdout", 
                    "text": "Loading day 1\nLoading day 2\nLoading day 3\nLoading day 4\nLoading day 5\nLoading day 6\nLoading day 7\nFinished\n"
                }
            ], 
            "source": "iam_token = create_token()\niam_headers = {\n    'Content-Type': 'application/json',\n    'Authorization': 'Bearer %s' % iam_token\n}\n\nwith open('history_debias.json', 'r') as history_file:\n    payloads = json.load(history_file)\n\nfor day in range(historyDays):\n    print('Loading day', day + 1)\n    for hour in range(24):\n        score_time = (datetime.datetime.utcnow() + datetime.timedelta(hours=(-(24*day + hour + 1)))).strftime('%Y-%m-%dT%H:%M:%SZ')\n        index = (day * 24 + hour) % len(payloads) # wrap around and reuse values if needed\n\n        qualityMetric = {\n            'metric_type': 'debiased_fairness',\n            'binding_id': binding_uid,\n            'timestamp': score_time,\n            'subscription_id': model_uid,\n            'asset_revision': model_uid,\n            'deployment_id': deployment_uid,\n            'value': payloads[index]\n        }\n\n        response = requests.post(performance_metrics_url, json=[qualityMetric], headers=iam_headers, verify=False)\nprint('Finished')"
        }, 
        {
            "source": "## Insert historical quality metrics", 
            "cell_type": "markdown", 
            "metadata": {}
        }, 
        {
            "execution_count": 224, 
            "cell_type": "code", 
            "metadata": {
                "scrolled": true
            }, 
            "outputs": [
                {
                    "output_type": "stream", 
                    "name": "stdout", 
                    "text": "Day 1\nDay 2\nDay 3\nDay 4\nDay 5\nDay 6\nDay 7\nFinished\n"
                }
            ], 
            "source": "iam_token = create_token()\niam_headers = {\n    'Content-Type': 'application/json',\n    'Authorization': 'Bearer %s' % iam_token\n}\n\nmeasurements = [0.76, 0.78, 0.68, 0.72, 0.73, 0.77, 0.80]\nfor day in range(historyDays):\n    print('Day', day + 1)\n    for hour in range(24):\n        score_time = (datetime.datetime.utcnow() + datetime.timedelta(hours=(-(24*day + hour + 1)))).strftime('%Y-%m-%dT%H:%M:%SZ')\n        qualityMetric = {\n            'metric_type': 'quality',\n            'binding_id': binding_uid,\n            'timestamp': score_time,\n            'subscription_id': model_uid,\n            'asset_revision': model_uid,\n            'deployment_id': deployment_uid,\n            'value': {\n                'quality': measurements[day],\n                'threshold': 0.7,\n                'metrics': [\n                    {\n                        'name': 'auroc',\n                        'value': measurements[day],\n                        'threshold': 0.7\n                    }\n                ]\n            }\n        }\n\n        response = requests.post(performance_metrics_url, json=[qualityMetric], headers=iam_headers, verify=False)\nprint('Finished')"
        }, 
        {
            "source": "## Insert historical confusion matrixes", 
            "cell_type": "markdown", 
            "metadata": {}
        }, 
        {
            "execution_count": null, 
            "cell_type": "code", 
            "metadata": {}, 
            "outputs": [], 
            "source": "!rm history_quality_metrics.json\n!wget https://raw.githubusercontent.com/pmservice/ai-openscale-tutorials/master/assets/historical_data/german_credit_risk/wml/history_quality_metrics.json"
        }, 
        {
            "execution_count": null, 
            "cell_type": "code", 
            "metadata": {}, 
            "outputs": [], 
            "source": "measurements_url = WOS_CREDENTIALS['url'] + subscription.get_details()['metadata']['url'].split('/service_bindings')[0] + '/measurements'\nprint(measurements_url)"
        }, 
        {
            "execution_count": null, 
            "cell_type": "code", 
            "metadata": {}, 
            "outputs": [], 
            "source": "with open('history_quality_metrics.json') as json_file:\n    records = json.load(json_file)\n    \nfor day in range(historyDays):\n    index = 0\n    measurments = []\n    print('Day', day + 1)\n    \n    for hour in range(24):\n        score_time = (datetime.datetime.utcnow() + datetime.timedelta(hours=(-(24*day + hour + 1)))).strftime('%Y-%m-%dT%H:%M:%SZ')\n\n        measurement = {\n            \"monitor_definition_id\": 'quality',\n            \"binding_id\": subscription.binding_uid,\n            \"subscription_id\": subscription.uid,\n            \"asset_id\": subscription.source_uid,\n            'metrics': [records[index]['metrics']],\n            'sources': [records[index]['sources']],\n            'timestamp': score_time\n        }\n\n        measurments.append(measurement)\n        index+=1\n\n    response = requests.post(measurements_url, json=measurments, headers=ai_client._get_headers())\n\nprint('Finished')"
        }, 
        {
            "source": "## Insert historical performance metrics", 
            "cell_type": "markdown", 
            "metadata": {}
        }, 
        {
            "execution_count": 225, 
            "cell_type": "code", 
            "metadata": {}, 
            "outputs": [
                {
                    "output_type": "stream", 
                    "name": "stdout", 
                    "text": "Day 1\nDay 2\nDay 3\nDay 4\nDay 5\nDay 6\nDay 7\nFinished\n"
                }
            ], 
            "source": "iam_token = create_token()\niam_headers = {\n    'Content-Type': 'application/json',\n    'Authorization': 'Bearer %s' % iam_token\n}\n\nfor day in range(historyDays):\n    print('Day', day + 1)\n    for hour in range(24):\n        score_time = (datetime.datetime.utcnow() + datetime.timedelta(hours=(-(24*day + hour + 1)))).strftime('%Y-%m-%dT%H:%M:%SZ')\n        score_count = random.randint(60, 600)\n        score_resp = random.uniform(60, 300)\n\n        performanceMetric = {\n            'metric_type': 'performance',\n            'binding_id': binding_uid,\n            'timestamp': score_time,\n            'subscription_id': model_uid,\n            'asset_revision': model_uid,\n            'deployment_id': deployment_uid,\n            'value': {\n                'response_time': score_resp,\n                'records': score_count\n            }\n        }\n\n        response = requests.post(performance_metrics_url, json=[performanceMetric], headers=iam_headers, verify=False)\nprint('Finished')"
        }, 
        {
            "source": "## Insert historical manual labeling", 
            "cell_type": "markdown", 
            "metadata": {}
        }, 
        {
            "execution_count": 227, 
            "cell_type": "code", 
            "metadata": {}, 
            "outputs": [
                {
                    "output_type": "stream", 
                    "name": "stdout", 
                    "text": "https://9.30.180.36:31843/v1/data_marts/00000000-0000-0000-0000-000000000000/manual_labelings\n"
                }
            ], 
            "source": "manual_labeling_url = WOS_CREDENTIALS['url'] + subscription.get_details()['metadata']['url'].split('/service_bindings')[0] + '/manual_labelings'\nprint(manual_labeling_url)"
        }, 
        {
            "execution_count": 1, 
            "cell_type": "code", 
            "metadata": {}, 
            "outputs": [
                {
                    "output_type": "stream", 
                    "name": "stdout", 
                    "text": "rm: cannot remove \u2018history_manual_labeling.json\u2019: No such file or directory\n--2019-06-03 14:57:50--  https://raw.githubusercontent.com/pmservice/ai-openscale-tutorials/master/assets/historical_data/german_credit_risk/wml/history_manual_labeling.json\nResolving raw.githubusercontent.com (raw.githubusercontent.com)... 151.101.48.133\nConnecting to raw.githubusercontent.com (raw.githubusercontent.com)|151.101.48.133|:443... connected.\nHTTP request sent, awaiting response... 200 OK\nLength: 947956 (926K) [text/plain]\nSaving to: \u2018history_manual_labeling.json\u2019\n\n100%[======================================>] 947,956     --.-K/s   in 0.03s   \n\n2019-06-03 14:57:51 (31.3 MB/s) - \u2018history_manual_labeling.json\u2019 saved [947956/947956]\n\n"
                }
            ], 
            "source": "!rm history_manual_labeling.json\n!wget https://raw.githubusercontent.com/pmservice/ai-openscale-tutorials/master/assets/historical_data/german_credit_risk/wml/history_manual_labeling.json"
        }, 
        {
            "execution_count": 229, 
            "cell_type": "code", 
            "metadata": {}, 
            "outputs": [
                {
                    "output_type": "stream", 
                    "name": "stdout", 
                    "text": "Loading day 1\nLoading day 2\nLoading day 3\nLoading day 4\nLoading day 5\nLoading day 6\nLoading day 7\nFinished\n"
                }
            ], 
            "source": "iam_token = create_token()\niam_headers = {\n    'Content-Type': 'application/json',\n    'Authorization': 'Bearer %s' % iam_token\n}\n\nwith open('history_manual_labeling.json', 'r') as history_file:\n    records = json.load(history_file)\n\nfor day in range(historyDays):\n    print('Loading day', day + 1)\n    record_json = []\n    for hour in range(24):\n        for record in records:\n            if record['fastpath_history_day'] == day and record['fastpath_history_hour'] == hour:\n                record['binding_id'] = binding_uid\n                record['subscription_id'] = model_uid\n                record['asset_revision'] = model_uid\n                record['deployment_id'] = deployment_uid\n                record['scoring_timestamp'] = (datetime.datetime.utcnow() + datetime.timedelta(hours=(-(24*day + hour + 1)))).strftime('%Y-%m-%dT%H:%M:%SZ')\n                record_json.append(record)\n    response = requests.post(manual_labeling_url, json=record_json, headers=iam_headers, verify=False)\n\nprint('Finished')"
        }, 
        {
            "source": "## Additional data to help debugging", 
            "cell_type": "markdown", 
            "metadata": {}
        }, 
        {
            "execution_count": 230, 
            "cell_type": "code", 
            "metadata": {
                "scrolled": true
            }, 
            "outputs": [
                {
                    "output_type": "stream", 
                    "name": "stdout", 
                    "text": "Datamart: 00000000-0000-0000-0000-000000000000\nModel: 378231b2-aab4-4516-a003-ffba422c90d8\nDeployment: cc1082a1-a1f3-40b9-9efd-184b46e97323\nBinding: 999\nScoring URL: https://9.30.180.36:32006/v3/scoring/online/cc1082a1-a1f3-40b9-9efd-184b46e97323\n"
                }
            ], 
            "source": "print('Datamart:', data_mart_id)\nprint('Model:', model_uid)\nprint('Deployment:', deployment_uid)\nprint('Binding:', binding_uid)\nprint('Scoring URL:', credit_risk_scoring_endpoint)"
        }, 
        {
            "source": "## Identify transactions for Explainability", 
            "cell_type": "markdown", 
            "metadata": {}
        }, 
        {
            "source": "Transaction IDs identified by the cells below can be copied and pasted into the Explainability tab of the OpenScale dashboard.", 
            "cell_type": "markdown", 
            "metadata": {}
        }, 
        {
            "execution_count": 231, 
            "cell_type": "code", 
            "metadata": {}, 
            "outputs": [
                {
                    "execution_count": 231, 
                    "metadata": {}, 
                    "data": {
                        "text/html": "<div>\n<style scoped>\n    .dataframe tbody tr th:only-of-type {\n        vertical-align: middle;\n    }\n\n    .dataframe tbody tr th {\n        vertical-align: top;\n    }\n\n    .dataframe thead th {\n        text-align: right;\n    }\n</style>\n<table border=\"1\" class=\"dataframe\">\n  <thead>\n    <tr style=\"text-align: right;\">\n      <th></th>\n      <th>scoring_id</th>\n      <th>predictedLabel</th>\n      <th>probability</th>\n    </tr>\n  </thead>\n  <tbody>\n    <tr>\n      <th>0</th>\n      <td>9e7e6e46-c1d3-46d0-aad2-2fc489ba1b8c-1</td>\n      <td>No Risk</td>\n      <td>[0.9840637926263934, 0.015936207373606653]</td>\n    </tr>\n    <tr>\n      <th>1</th>\n      <td>9e7e6e46-c1d3-46d0-aad2-2fc489ba1b8c-10</td>\n      <td>No Risk</td>\n      <td>[0.933704752699551, 0.06629524730044889]</td>\n    </tr>\n    <tr>\n      <th>2</th>\n      <td>9e7e6e46-c1d3-46d0-aad2-2fc489ba1b8c-100</td>\n      <td>No Risk</td>\n      <td>[0.7022589971209743, 0.29774100287902566]</td>\n    </tr>\n    <tr>\n      <th>3</th>\n      <td>9e7e6e46-c1d3-46d0-aad2-2fc489ba1b8c-101</td>\n      <td>No Risk</td>\n      <td>[0.9513081059491848, 0.04869189405081516]</td>\n    </tr>\n    <tr>\n      <th>4</th>\n      <td>9e7e6e46-c1d3-46d0-aad2-2fc489ba1b8c-102</td>\n      <td>Risk</td>\n      <td>[0.40380550068132925, 0.5961944993186707]</td>\n    </tr>\n    <tr>\n      <th>5</th>\n      <td>9e7e6e46-c1d3-46d0-aad2-2fc489ba1b8c-103</td>\n      <td>No Risk</td>\n      <td>[0.531905236711369, 0.4680947632886311]</td>\n    </tr>\n    <tr>\n      <th>6</th>\n      <td>9e7e6e46-c1d3-46d0-aad2-2fc489ba1b8c-104</td>\n      <td>Risk</td>\n      <td>[0.3793651794772042, 0.6206348205227957]</td>\n    </tr>\n    <tr>\n      <th>7</th>\n      <td>9e7e6e46-c1d3-46d0-aad2-2fc489ba1b8c-105</td>\n      <td>No Risk</td>\n      <td>[0.6855153551215366, 0.3144846448784634]</td>\n    </tr>\n    <tr>\n      <th>8</th>\n      <td>9e7e6e46-c1d3-46d0-aad2-2fc489ba1b8c-106</td>\n      <td>No Risk</td>\n      <td>[0.7955531405648598, 0.20444685943514015]</td>\n    </tr>\n    <tr>\n      <th>9</th>\n      <td>9e7e6e46-c1d3-46d0-aad2-2fc489ba1b8c-107</td>\n      <td>Risk</td>\n      <td>[0.35035571765496615, 0.6496442823450338]</td>\n    </tr>\n    <tr>\n      <th>10</th>\n      <td>9e7e6e46-c1d3-46d0-aad2-2fc489ba1b8c-108</td>\n      <td>Risk</td>\n      <td>[0.27738720156801505, 0.722612798431985]</td>\n    </tr>\n    <tr>\n      <th>11</th>\n      <td>9e7e6e46-c1d3-46d0-aad2-2fc489ba1b8c-109</td>\n      <td>No Risk</td>\n      <td>[0.6653205994406661, 0.33467940055933376]</td>\n    </tr>\n    <tr>\n      <th>12</th>\n      <td>9e7e6e46-c1d3-46d0-aad2-2fc489ba1b8c-11</td>\n      <td>No Risk</td>\n      <td>[0.7598457237875185, 0.2401542762124815]</td>\n    </tr>\n    <tr>\n      <th>13</th>\n      <td>9e7e6e46-c1d3-46d0-aad2-2fc489ba1b8c-110</td>\n      <td>No Risk</td>\n      <td>[0.7826716951619277, 0.2173283048380724]</td>\n    </tr>\n    <tr>\n      <th>14</th>\n      <td>9e7e6e46-c1d3-46d0-aad2-2fc489ba1b8c-111</td>\n      <td>No Risk</td>\n      <td>[0.7874817431583896, 0.21251825684161033]</td>\n    </tr>\n    <tr>\n      <th>15</th>\n      <td>9e7e6e46-c1d3-46d0-aad2-2fc489ba1b8c-112</td>\n      <td>Risk</td>\n      <td>[0.07390532982227396, 0.9260946701777261]</td>\n    </tr>\n    <tr>\n      <th>16</th>\n      <td>9e7e6e46-c1d3-46d0-aad2-2fc489ba1b8c-113</td>\n      <td>No Risk</td>\n      <td>[0.5777188363058354, 0.4222811636941647]</td>\n    </tr>\n    <tr>\n      <th>17</th>\n      <td>9e7e6e46-c1d3-46d0-aad2-2fc489ba1b8c-114</td>\n      <td>No Risk</td>\n      <td>[0.553710659031414, 0.44628934096858586]</td>\n    </tr>\n    <tr>\n      <th>18</th>\n      <td>9e7e6e46-c1d3-46d0-aad2-2fc489ba1b8c-115</td>\n      <td>No Risk</td>\n      <td>[0.5475997586615362, 0.4524002413384638]</td>\n    </tr>\n    <tr>\n      <th>19</th>\n      <td>9e7e6e46-c1d3-46d0-aad2-2fc489ba1b8c-116</td>\n      <td>No Risk</td>\n      <td>[0.6589286296051442, 0.34107137039485574]</td>\n    </tr>\n    <tr>\n      <th>20</th>\n      <td>9e7e6e46-c1d3-46d0-aad2-2fc489ba1b8c-117</td>\n      <td>No Risk</td>\n      <td>[0.9848136788330917, 0.015186321166908217]</td>\n    </tr>\n    <tr>\n      <th>21</th>\n      <td>9e7e6e46-c1d3-46d0-aad2-2fc489ba1b8c-118</td>\n      <td>No Risk</td>\n      <td>[0.7391642983621937, 0.26083570163780634]</td>\n    </tr>\n    <tr>\n      <th>22</th>\n      <td>9e7e6e46-c1d3-46d0-aad2-2fc489ba1b8c-119</td>\n      <td>No Risk</td>\n      <td>[0.6242974136702019, 0.3757025863297981]</td>\n    </tr>\n    <tr>\n      <th>23</th>\n      <td>9e7e6e46-c1d3-46d0-aad2-2fc489ba1b8c-12</td>\n      <td>No Risk</td>\n      <td>[0.5611890329195032, 0.4388109670804968]</td>\n    </tr>\n    <tr>\n      <th>24</th>\n      <td>9e7e6e46-c1d3-46d0-aad2-2fc489ba1b8c-120</td>\n      <td>No Risk</td>\n      <td>[0.8899048693828217, 0.11009513061717831]</td>\n    </tr>\n    <tr>\n      <th>25</th>\n      <td>9e7e6e46-c1d3-46d0-aad2-2fc489ba1b8c-121</td>\n      <td>No Risk</td>\n      <td>[0.7968226590123573, 0.2031773409876428]</td>\n    </tr>\n    <tr>\n      <th>26</th>\n      <td>9e7e6e46-c1d3-46d0-aad2-2fc489ba1b8c-122</td>\n      <td>Risk</td>\n      <td>[0.41545514292378255, 0.5845448570762175]</td>\n    </tr>\n    <tr>\n      <th>27</th>\n      <td>9e7e6e46-c1d3-46d0-aad2-2fc489ba1b8c-123</td>\n      <td>No Risk</td>\n      <td>[0.7385262979756899, 0.2614737020243102]</td>\n    </tr>\n    <tr>\n      <th>28</th>\n      <td>9e7e6e46-c1d3-46d0-aad2-2fc489ba1b8c-124</td>\n      <td>No Risk</td>\n      <td>[0.9524575819862668, 0.04754241801373305]</td>\n    </tr>\n    <tr>\n      <th>29</th>\n      <td>9e7e6e46-c1d3-46d0-aad2-2fc489ba1b8c-125</td>\n      <td>Risk</td>\n      <td>[0.28875861228769456, 0.7112413877123054]</td>\n    </tr>\n    <tr>\n      <th>30</th>\n      <td>9e7e6e46-c1d3-46d0-aad2-2fc489ba1b8c-126</td>\n      <td>No Risk</td>\n      <td>[0.5672559965416001, 0.4327440034583999]</td>\n    </tr>\n    <tr>\n      <th>31</th>\n      <td>9e7e6e46-c1d3-46d0-aad2-2fc489ba1b8c-127</td>\n      <td>No Risk</td>\n      <td>[0.7687869117027268, 0.23121308829727322]</td>\n    </tr>\n    <tr>\n      <th>32</th>\n      <td>9e7e6e46-c1d3-46d0-aad2-2fc489ba1b8c-128</td>\n      <td>No Risk</td>\n      <td>[0.9102530383713416, 0.08974696162865844]</td>\n    </tr>\n    <tr>\n      <th>33</th>\n      <td>9e7e6e46-c1d3-46d0-aad2-2fc489ba1b8c-129</td>\n      <td>No Risk</td>\n      <td>[0.7687869117027268, 0.23121308829727322]</td>\n    </tr>\n    <tr>\n      <th>34</th>\n      <td>9e7e6e46-c1d3-46d0-aad2-2fc489ba1b8c-13</td>\n      <td>No Risk</td>\n      <td>[0.5338133402111293, 0.46618665978887075]</td>\n    </tr>\n    <tr>\n      <th>35</th>\n      <td>9e7e6e46-c1d3-46d0-aad2-2fc489ba1b8c-130</td>\n      <td>Risk</td>\n      <td>[0.14488056728975152, 0.8551194327102485]</td>\n    </tr>\n    <tr>\n      <th>36</th>\n      <td>9e7e6e46-c1d3-46d0-aad2-2fc489ba1b8c-131</td>\n      <td>No Risk</td>\n      <td>[0.5894621252622055, 0.41053787473779446]</td>\n    </tr>\n    <tr>\n      <th>37</th>\n      <td>9e7e6e46-c1d3-46d0-aad2-2fc489ba1b8c-132</td>\n      <td>No Risk</td>\n      <td>[0.8204115157350712, 0.17958848426492882]</td>\n    </tr>\n    <tr>\n      <th>38</th>\n      <td>9e7e6e46-c1d3-46d0-aad2-2fc489ba1b8c-133</td>\n      <td>No Risk</td>\n      <td>[0.6923701438138901, 0.30762985618610994]</td>\n    </tr>\n    <tr>\n      <th>39</th>\n      <td>9e7e6e46-c1d3-46d0-aad2-2fc489ba1b8c-134</td>\n      <td>Risk</td>\n      <td>[0.38235511940387173, 0.6176448805961282]</td>\n    </tr>\n    <tr>\n      <th>40</th>\n      <td>9e7e6e46-c1d3-46d0-aad2-2fc489ba1b8c-135</td>\n      <td>Risk</td>\n      <td>[0.4777092901179566, 0.5222907098820435]</td>\n    </tr>\n    <tr>\n      <th>41</th>\n      <td>9e7e6e46-c1d3-46d0-aad2-2fc489ba1b8c-136</td>\n      <td>No Risk</td>\n      <td>[0.8852993243807223, 0.11470067561927762]</td>\n    </tr>\n    <tr>\n      <th>42</th>\n      <td>9e7e6e46-c1d3-46d0-aad2-2fc489ba1b8c-137</td>\n      <td>No Risk</td>\n      <td>[0.5646107191681963, 0.43538928083180367]</td>\n    </tr>\n    <tr>\n      <th>43</th>\n      <td>9e7e6e46-c1d3-46d0-aad2-2fc489ba1b8c-138</td>\n      <td>No Risk</td>\n      <td>[0.9181620476354293, 0.08183795236457067]</td>\n    </tr>\n    <tr>\n      <th>44</th>\n      <td>9e7e6e46-c1d3-46d0-aad2-2fc489ba1b8c-139</td>\n      <td>No Risk</td>\n      <td>[0.678334616099602, 0.321665383900398]</td>\n    </tr>\n    <tr>\n      <th>45</th>\n      <td>9e7e6e46-c1d3-46d0-aad2-2fc489ba1b8c-14</td>\n      <td>No Risk</td>\n      <td>[0.5137115974726177, 0.48628840252738226]</td>\n    </tr>\n    <tr>\n      <th>46</th>\n      <td>9e7e6e46-c1d3-46d0-aad2-2fc489ba1b8c-140</td>\n      <td>No Risk</td>\n      <td>[0.8454034042115485, 0.1545965957884515]</td>\n    </tr>\n    <tr>\n      <th>47</th>\n      <td>9e7e6e46-c1d3-46d0-aad2-2fc489ba1b8c-141</td>\n      <td>No Risk</td>\n      <td>[0.9354425187618627, 0.06455748123813723]</td>\n    </tr>\n    <tr>\n      <th>48</th>\n      <td>9e7e6e46-c1d3-46d0-aad2-2fc489ba1b8c-142</td>\n      <td>No Risk</td>\n      <td>[0.600689945685281, 0.3993100543147191]</td>\n    </tr>\n    <tr>\n      <th>49</th>\n      <td>9e7e6e46-c1d3-46d0-aad2-2fc489ba1b8c-143</td>\n      <td>No Risk</td>\n      <td>[0.6864095518448833, 0.3135904481551168]</td>\n    </tr>\n    <tr>\n      <th>50</th>\n      <td>9e7e6e46-c1d3-46d0-aad2-2fc489ba1b8c-144</td>\n      <td>Risk</td>\n      <td>[0.1862014316240821, 0.8137985683759179]</td>\n    </tr>\n    <tr>\n      <th>51</th>\n      <td>9e7e6e46-c1d3-46d0-aad2-2fc489ba1b8c-145</td>\n      <td>No Risk</td>\n      <td>[0.7672454831601998, 0.23275451683980028]</td>\n    </tr>\n    <tr>\n      <th>52</th>\n      <td>9e7e6e46-c1d3-46d0-aad2-2fc489ba1b8c-146</td>\n      <td>Risk</td>\n      <td>[0.17125593575379613, 0.828744064246204]</td>\n    </tr>\n    <tr>\n      <th>53</th>\n      <td>9e7e6e46-c1d3-46d0-aad2-2fc489ba1b8c-147</td>\n      <td>No Risk</td>\n      <td>[0.5942894039637506, 0.40571059603624926]</td>\n    </tr>\n    <tr>\n      <th>54</th>\n      <td>9e7e6e46-c1d3-46d0-aad2-2fc489ba1b8c-148</td>\n      <td>No Risk</td>\n      <td>[0.9501046387051664, 0.04989536129483366]</td>\n    </tr>\n    <tr>\n      <th>55</th>\n      <td>9e7e6e46-c1d3-46d0-aad2-2fc489ba1b8c-149</td>\n      <td>No Risk</td>\n      <td>[0.9073956791559239, 0.09260432084407619]</td>\n    </tr>\n    <tr>\n      <th>56</th>\n      <td>9e7e6e46-c1d3-46d0-aad2-2fc489ba1b8c-15</td>\n      <td>No Risk</td>\n      <td>[0.9561531768403787, 0.04384682315962123]</td>\n    </tr>\n    <tr>\n      <th>57</th>\n      <td>9e7e6e46-c1d3-46d0-aad2-2fc489ba1b8c-150</td>\n      <td>No Risk</td>\n      <td>[0.575095331060272, 0.42490466893972806]</td>\n    </tr>\n    <tr>\n      <th>58</th>\n      <td>9e7e6e46-c1d3-46d0-aad2-2fc489ba1b8c-151</td>\n      <td>No Risk</td>\n      <td>[0.9793700518448288, 0.020629948155171163]</td>\n    </tr>\n    <tr>\n      <th>59</th>\n      <td>9e7e6e46-c1d3-46d0-aad2-2fc489ba1b8c-152</td>\n      <td>No Risk</td>\n      <td>[0.5137115974726177, 0.48628840252738226]</td>\n    </tr>\n  </tbody>\n</table>\n</div>", 
                        "text/plain": "                                  scoring_id predictedLabel  \\\n0     9e7e6e46-c1d3-46d0-aad2-2fc489ba1b8c-1        No Risk   \n1    9e7e6e46-c1d3-46d0-aad2-2fc489ba1b8c-10        No Risk   \n2   9e7e6e46-c1d3-46d0-aad2-2fc489ba1b8c-100        No Risk   \n3   9e7e6e46-c1d3-46d0-aad2-2fc489ba1b8c-101        No Risk   \n4   9e7e6e46-c1d3-46d0-aad2-2fc489ba1b8c-102           Risk   \n5   9e7e6e46-c1d3-46d0-aad2-2fc489ba1b8c-103        No Risk   \n6   9e7e6e46-c1d3-46d0-aad2-2fc489ba1b8c-104           Risk   \n7   9e7e6e46-c1d3-46d0-aad2-2fc489ba1b8c-105        No Risk   \n8   9e7e6e46-c1d3-46d0-aad2-2fc489ba1b8c-106        No Risk   \n9   9e7e6e46-c1d3-46d0-aad2-2fc489ba1b8c-107           Risk   \n10  9e7e6e46-c1d3-46d0-aad2-2fc489ba1b8c-108           Risk   \n11  9e7e6e46-c1d3-46d0-aad2-2fc489ba1b8c-109        No Risk   \n12   9e7e6e46-c1d3-46d0-aad2-2fc489ba1b8c-11        No Risk   \n13  9e7e6e46-c1d3-46d0-aad2-2fc489ba1b8c-110        No Risk   \n14  9e7e6e46-c1d3-46d0-aad2-2fc489ba1b8c-111        No Risk   \n15  9e7e6e46-c1d3-46d0-aad2-2fc489ba1b8c-112           Risk   \n16  9e7e6e46-c1d3-46d0-aad2-2fc489ba1b8c-113        No Risk   \n17  9e7e6e46-c1d3-46d0-aad2-2fc489ba1b8c-114        No Risk   \n18  9e7e6e46-c1d3-46d0-aad2-2fc489ba1b8c-115        No Risk   \n19  9e7e6e46-c1d3-46d0-aad2-2fc489ba1b8c-116        No Risk   \n20  9e7e6e46-c1d3-46d0-aad2-2fc489ba1b8c-117        No Risk   \n21  9e7e6e46-c1d3-46d0-aad2-2fc489ba1b8c-118        No Risk   \n22  9e7e6e46-c1d3-46d0-aad2-2fc489ba1b8c-119        No Risk   \n23   9e7e6e46-c1d3-46d0-aad2-2fc489ba1b8c-12        No Risk   \n24  9e7e6e46-c1d3-46d0-aad2-2fc489ba1b8c-120        No Risk   \n25  9e7e6e46-c1d3-46d0-aad2-2fc489ba1b8c-121        No Risk   \n26  9e7e6e46-c1d3-46d0-aad2-2fc489ba1b8c-122           Risk   \n27  9e7e6e46-c1d3-46d0-aad2-2fc489ba1b8c-123        No Risk   \n28  9e7e6e46-c1d3-46d0-aad2-2fc489ba1b8c-124        No Risk   \n29  9e7e6e46-c1d3-46d0-aad2-2fc489ba1b8c-125           Risk   \n30  9e7e6e46-c1d3-46d0-aad2-2fc489ba1b8c-126        No Risk   \n31  9e7e6e46-c1d3-46d0-aad2-2fc489ba1b8c-127        No Risk   \n32  9e7e6e46-c1d3-46d0-aad2-2fc489ba1b8c-128        No Risk   \n33  9e7e6e46-c1d3-46d0-aad2-2fc489ba1b8c-129        No Risk   \n34   9e7e6e46-c1d3-46d0-aad2-2fc489ba1b8c-13        No Risk   \n35  9e7e6e46-c1d3-46d0-aad2-2fc489ba1b8c-130           Risk   \n36  9e7e6e46-c1d3-46d0-aad2-2fc489ba1b8c-131        No Risk   \n37  9e7e6e46-c1d3-46d0-aad2-2fc489ba1b8c-132        No Risk   \n38  9e7e6e46-c1d3-46d0-aad2-2fc489ba1b8c-133        No Risk   \n39  9e7e6e46-c1d3-46d0-aad2-2fc489ba1b8c-134           Risk   \n40  9e7e6e46-c1d3-46d0-aad2-2fc489ba1b8c-135           Risk   \n41  9e7e6e46-c1d3-46d0-aad2-2fc489ba1b8c-136        No Risk   \n42  9e7e6e46-c1d3-46d0-aad2-2fc489ba1b8c-137        No Risk   \n43  9e7e6e46-c1d3-46d0-aad2-2fc489ba1b8c-138        No Risk   \n44  9e7e6e46-c1d3-46d0-aad2-2fc489ba1b8c-139        No Risk   \n45   9e7e6e46-c1d3-46d0-aad2-2fc489ba1b8c-14        No Risk   \n46  9e7e6e46-c1d3-46d0-aad2-2fc489ba1b8c-140        No Risk   \n47  9e7e6e46-c1d3-46d0-aad2-2fc489ba1b8c-141        No Risk   \n48  9e7e6e46-c1d3-46d0-aad2-2fc489ba1b8c-142        No Risk   \n49  9e7e6e46-c1d3-46d0-aad2-2fc489ba1b8c-143        No Risk   \n50  9e7e6e46-c1d3-46d0-aad2-2fc489ba1b8c-144           Risk   \n51  9e7e6e46-c1d3-46d0-aad2-2fc489ba1b8c-145        No Risk   \n52  9e7e6e46-c1d3-46d0-aad2-2fc489ba1b8c-146           Risk   \n53  9e7e6e46-c1d3-46d0-aad2-2fc489ba1b8c-147        No Risk   \n54  9e7e6e46-c1d3-46d0-aad2-2fc489ba1b8c-148        No Risk   \n55  9e7e6e46-c1d3-46d0-aad2-2fc489ba1b8c-149        No Risk   \n56   9e7e6e46-c1d3-46d0-aad2-2fc489ba1b8c-15        No Risk   \n57  9e7e6e46-c1d3-46d0-aad2-2fc489ba1b8c-150        No Risk   \n58  9e7e6e46-c1d3-46d0-aad2-2fc489ba1b8c-151        No Risk   \n59  9e7e6e46-c1d3-46d0-aad2-2fc489ba1b8c-152        No Risk   \n\n                                   probability  \n0   [0.9840637926263934, 0.015936207373606653]  \n1     [0.933704752699551, 0.06629524730044889]  \n2    [0.7022589971209743, 0.29774100287902566]  \n3    [0.9513081059491848, 0.04869189405081516]  \n4    [0.40380550068132925, 0.5961944993186707]  \n5      [0.531905236711369, 0.4680947632886311]  \n6     [0.3793651794772042, 0.6206348205227957]  \n7     [0.6855153551215366, 0.3144846448784634]  \n8    [0.7955531405648598, 0.20444685943514015]  \n9    [0.35035571765496615, 0.6496442823450338]  \n10    [0.27738720156801505, 0.722612798431985]  \n11   [0.6653205994406661, 0.33467940055933376]  \n12    [0.7598457237875185, 0.2401542762124815]  \n13    [0.7826716951619277, 0.2173283048380724]  \n14   [0.7874817431583896, 0.21251825684161033]  \n15   [0.07390532982227396, 0.9260946701777261]  \n16    [0.5777188363058354, 0.4222811636941647]  \n17    [0.553710659031414, 0.44628934096858586]  \n18    [0.5475997586615362, 0.4524002413384638]  \n19   [0.6589286296051442, 0.34107137039485574]  \n20  [0.9848136788330917, 0.015186321166908217]  \n21   [0.7391642983621937, 0.26083570163780634]  \n22    [0.6242974136702019, 0.3757025863297981]  \n23    [0.5611890329195032, 0.4388109670804968]  \n24   [0.8899048693828217, 0.11009513061717831]  \n25    [0.7968226590123573, 0.2031773409876428]  \n26   [0.41545514292378255, 0.5845448570762175]  \n27    [0.7385262979756899, 0.2614737020243102]  \n28   [0.9524575819862668, 0.04754241801373305]  \n29   [0.28875861228769456, 0.7112413877123054]  \n30    [0.5672559965416001, 0.4327440034583999]  \n31   [0.7687869117027268, 0.23121308829727322]  \n32   [0.9102530383713416, 0.08974696162865844]  \n33   [0.7687869117027268, 0.23121308829727322]  \n34   [0.5338133402111293, 0.46618665978887075]  \n35   [0.14488056728975152, 0.8551194327102485]  \n36   [0.5894621252622055, 0.41053787473779446]  \n37   [0.8204115157350712, 0.17958848426492882]  \n38   [0.6923701438138901, 0.30762985618610994]  \n39   [0.38235511940387173, 0.6176448805961282]  \n40    [0.4777092901179566, 0.5222907098820435]  \n41   [0.8852993243807223, 0.11470067561927762]  \n42   [0.5646107191681963, 0.43538928083180367]  \n43   [0.9181620476354293, 0.08183795236457067]  \n44      [0.678334616099602, 0.321665383900398]  \n45   [0.5137115974726177, 0.48628840252738226]  \n46    [0.8454034042115485, 0.1545965957884515]  \n47   [0.9354425187618627, 0.06455748123813723]  \n48     [0.600689945685281, 0.3993100543147191]  \n49    [0.6864095518448833, 0.3135904481551168]  \n50    [0.1862014316240821, 0.8137985683759179]  \n51   [0.7672454831601998, 0.23275451683980028]  \n52    [0.17125593575379613, 0.828744064246204]  \n53   [0.5942894039637506, 0.40571059603624926]  \n54   [0.9501046387051664, 0.04989536129483366]  \n55   [0.9073956791559239, 0.09260432084407619]  \n56   [0.9561531768403787, 0.04384682315962123]  \n57    [0.575095331060272, 0.42490466893972806]  \n58  [0.9793700518448288, 0.020629948155171163]  \n59   [0.5137115974726177, 0.48628840252738226]  "
                    }, 
                    "output_type": "execute_result"
                }
            ], 
            "source": "payload_data = subscription.payload_logging.get_table_content(limit=60)\npayload_data.filter(items=['scoring_id', 'predictedLabel', 'probability'])"
        }, 
        {
            "source": "## Congratulations!\n\nYou have finished the hands-on lab for IBM Watson OpenScale. You can now view the [OpenScale Dashboard](https://aiopenscale.cloud.ibm.com/). Click on the tile for the German Credit model to see fairness, accuracy, and performance monitors. Click on the timeseries graph to get detailed information on transactions during a specific time window.\n\n## Next steps\n\nOpenScale shows model performance over time. You have two options to keep data flowing to your OpenScale graphs:\n  * Download, configure and schedule the [model feed notebook](https://raw.githubusercontent.com/emartensibm/german-credit/master/german_credit_scoring_feed.ipynb). This notebook can be set up with your WML credentials, and scheduled to provide a consistent flow of scoring requests to your model, which will appear in your OpenScale monitors.\n  * Re-run this notebook. Running this notebook from the beginning will delete and re-create the model and deployment, and re-create the historical data. Please note that the payload and measurement logs for the previous deployment will continue to be stored in your datamart, and can be deleted if necessary.", 
            "cell_type": "markdown", 
            "metadata": {}
        }, 
        {
            "source": "## Authors\n\nEric Martens, is a technical specialist having expertise in analysis and description of business processes, and their translation into functional and non-functional IT requirements. He acts as the interpreter between the worlds of IT and business.\n\nLukasz Cmielowski, PhD, is an Automation Architect and Data Scientist at IBM with a track record of developing enterprise-level applications that substantially increases clients' ability to turn data into actionable knowledge.", 
            "cell_type": "markdown", 
            "metadata": {}
        }
    ], 
    "metadata": {
        "kernelspec": {
            "display_name": "Python 3.5", 
            "name": "python3", 
            "language": "python"
        }, 
        "language_info": {
            "mimetype": "text/x-python", 
            "nbconvert_exporter": "python", 
            "version": "3.5.5", 
            "name": "python", 
            "file_extension": ".py", 
            "pygments_lexer": "ipython3", 
            "codemirror_mode": {
                "version": 3, 
                "name": "ipython"
            }
        }
    }, 
    "nbformat": 4
}